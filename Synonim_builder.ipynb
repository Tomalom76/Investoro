{
 "cells": [
  {
   "cell_type": "code",
   "execution_count": 1,
   "id": "c579fdc9-822e-4d24-93de-62b66dfd84fe",
   "metadata": {},
   "outputs": [
    {
     "name": "stdout",
     "output_type": "stream",
     "text": [
      "--- Budowanie mapy synonimów dla dzielnic ---\n",
      "Mapa synonimów została zbudowana i zapisana do 'synonimy_dzielnic.pkl'.\n",
      "Znaleziono 210 mapowań.\n",
      "\n",
      "Przykład: Saska Kępa -> Praga-południe\n"
     ]
    }
   ],
   "source": [
    "import pandas as pd\n",
    "import pickle\n",
    "\n",
    "print(\"--- Budowanie mapy synonimów dla dzielnic ---\")\n",
    "\n",
    "# Wczytujemy plik z lokalizacjami\n",
    "df_lokalizacja_raw = pd.read_csv('lokalizacja.csv', sep=',', header=None, on_bad_lines='skip', low_memory=False)\n",
    "df_lokalizacja_raw.columns = ['LocationID', 'ParentId', 'Name', 'Type', 'Path']\n",
    "df_lokalizacja = df_lokalizacja_raw.dropna(subset=['LocationID', 'Name', 'Type', 'ParentId']).copy()\n",
    "\n",
    "# Konwersja ID na liczby\n",
    "for col in ['LocationID', 'ParentId']:\n",
    "    df_lokalizacja[col] = pd.to_numeric(df_lokalizacja[col], errors='coerce').fillna(0).astype(int)\n",
    "\n",
    "# Wyodrębniamy dzielnice i osiedla (części miasta)\n",
    "df_dzielnice = df_lokalizacja[df_lokalizacja['Type'] == 'Dzielnica'][['LocationID', 'Name']].rename(columns={'Name': 'Dzielnica_Name'})\n",
    "df_osiedla = df_lokalizacja[df_lokalizacja['Type'] == 'Część miasta'][['ParentId', 'Name']].rename(columns={'ParentId': 'LocationID', 'Name': 'Osiedle_Name'})\n",
    "\n",
    "# Łączymy osiedla z nazwami ich nadrzędnych dzielnic\n",
    "df_mapa = pd.merge(df_osiedla, df_dzielnice, on='LocationID', how='inner')\n",
    "\n",
    "# Tworzymy słownik: nazwa_osiedla -> nazwa_dzielnicy\n",
    "synonimy_map = pd.Series(df_mapa.Dzielnica_Name.values, index=df_mapa.Osiedle_Name.str.lower()).to_dict()\n",
    "\n",
    "# Zapisujemy słownik do pliku\n",
    "with open('synonimy_dzielnic.pkl', 'wb') as f:\n",
    "    pickle.dump(synonimy_map, f)\n",
    "\n",
    "print(f\"Mapa synonimów została zbudowana i zapisana do 'synonimy_dzielnic.pkl'.\")\n",
    "print(f\"Znaleziono {len(synonimy_map)} mapowań.\")\n",
    "print(\"\\nPrzykład: Saska Kępa ->\", synonimy_map.get('saska kępa'))"
   ]
  },
  {
   "cell_type": "code",
   "execution_count": null,
   "id": "146834c3-883a-4407-a084-c8cbf27e1633",
   "metadata": {},
   "outputs": [],
   "source": []
  }
 ],
 "metadata": {
  "kernelspec": {
   "display_name": "Python 3 (ipykernel)",
   "language": "python",
   "name": "python3"
  },
  "language_info": {
   "codemirror_mode": {
    "name": "ipython",
    "version": 3
   },
   "file_extension": ".py",
   "mimetype": "text/x-python",
   "name": "python",
   "nbconvert_exporter": "python",
   "pygments_lexer": "ipython3",
   "version": "3.11.11"
  }
 },
 "nbformat": 4,
 "nbformat_minor": 5
}
