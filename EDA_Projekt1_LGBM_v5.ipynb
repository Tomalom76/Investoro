{
 "cells": [
  {
   "cell_type": "markdown",
   "id": "d60d7850-65ad-49cc-899b-d2f8d0ef2dbd",
   "metadata": {},
   "source": [
    "# PROJEKT MODELU REGRESYJNEGO PRZEWIDYWANIA CEN MIESZKAŃ NA PODSTAWIE #"
   ]
  },
  {
   "cell_type": "markdown",
   "id": "6227290f-4c53-4631-87c2-0b50214059e9",
   "metadata": {},
   "source": [
    "# ALGORYTMU LGBM #"
   ]
  },
  {
   "cell_type": "markdown",
   "id": "ac6a9457-72c0-4a42-994b-3764bad0b8b4",
   "metadata": {},
   "source": [
    "  ## KWIECIEŃ 2025 ##"
   ]
  },
  {
   "cell_type": "code",
   "execution_count": null,
   "id": "2cc381d5-6d67-40d8-8bb8-82ffb690bb3c",
   "metadata": {},
   "outputs": [],
   "source": [
    "import pandas as pd\n",
    "import mlflow\n",
    "from pycaret.regression import setup, pull, compare_models, plot_model, load_model\n",
    "import pymysql\n",
    "from sqlalchemy import create_engine\n",
    "import numpy as np\n",
    "from scipy.stats import skewnorm\n",
    "import matplotlib.pyplot as plt\n",
    "import seaborn as sns\n",
    "from joblib import parallel_backend"
   ]
  },
  {
   "cell_type": "code",
   "execution_count": null,
   "id": "9c073934-09fc-465c-ba25-911d3235b73b",
   "metadata": {},
   "outputs": [],
   "source": [
    "# tą komórkę uruchom jeżeli bazie bierzesz np. z DBeaver\n",
    "# username = 'root'\n",
    "# password = '1234'\n",
    "# host = '127.0.0.1'\n",
    "# port = 3306  \n",
    "# database = 'projekt1'\n",
    "# engine = create_engine(f'mysql+pymysql://{username}:{password}@{host}:{port}/{database}')\n",
    "\n",
    "# df = pd.read_sql(\"SELECT * FROM saleflats\", con=engine)\n",
    "\n",
    "# engine.dispose()"
   ]
  },
  {
   "cell_type": "code",
   "execution_count": null,
   "id": "d8a6099c-45af-433a-ba42-9707c7857c60",
   "metadata": {},
   "outputs": [],
   "source": [
    "MLFLOW_EXPERIMENT_NAME = 'Investoro_Ceny'\n",
    "MLFLOW_TAGS = {'data': 'Investoro_ceny', 'library': 'pycaret'}\n",
    "\n",
    "mlflow.set_tracking_uri(\"http://localhost:5000\")"
   ]
  },
  {
   "cell_type": "code",
   "execution_count": null,
   "id": "ed3a3986-18f7-41af-af75-f55a2eb603db",
   "metadata": {},
   "outputs": [],
   "source": [
    "# tę komórkę uruchom jeśli czerpiesz dane z pliku .csv\n",
    "df = pd.read_csv('sale_2024_14.csv', sep=',')"
   ]
  },
  {
   "cell_type": "code",
   "execution_count": null,
   "id": "e4a438f6-6101-4fa6-8e94-57f58b77126e",
   "metadata": {},
   "outputs": [],
   "source": [
    "df"
   ]
  },
  {
   "cell_type": "code",
   "execution_count": null,
   "id": "beb387ca-0a12-465b-b2df-910fdab53ceb",
   "metadata": {},
   "outputs": [],
   "source": [
    "df.head(10)"
   ]
  },
  {
   "cell_type": "code",
   "execution_count": null,
   "id": "b55273e7-7e8a-4c0c-8fc3-157666a44383",
   "metadata": {},
   "outputs": [],
   "source": [
    "df.sample(10)"
   ]
  },
  {
   "cell_type": "code",
   "execution_count": null,
   "id": "1793515a-e3f6-4cf5-81c2-4f7110e0239a",
   "metadata": {},
   "outputs": [],
   "source": [
    "df.info"
   ]
  },
  {
   "cell_type": "code",
   "execution_count": null,
   "id": "bcea7f92-f9bc-49a8-85bd-f60d39b358d5",
   "metadata": {},
   "outputs": [],
   "source": [
    "df[df.duplicated()]"
   ]
  },
  {
   "cell_type": "code",
   "execution_count": null,
   "id": "7ad96f83-0401-451c-89b8-117e838c237c",
   "metadata": {},
   "outputs": [],
   "source": [
    "df.nunique()"
   ]
  },
  {
   "cell_type": "code",
   "execution_count": null,
   "id": "c25c261d-c45b-44f1-bb76-f7fc6dee01fe",
   "metadata": {},
   "outputs": [],
   "source": [
    "correlation_matrix = df[['Area', 'Price', 'BuiltYear', 'Floor', 'Floors', 'CommunityScore']].corr()"
   ]
  },
  {
   "cell_type": "code",
   "execution_count": null,
   "id": "647398a1-f587-4525-ba95-aa65882231b6",
   "metadata": {},
   "outputs": [],
   "source": [
    "plt.figure(figsize=(8, 6))\n",
    "sns.heatmap(correlation_matrix, annot=True, cmap='coolwarm', fmt=\".2f\")\n",
    "plt.title('Correlation Matrix of Price')"
   ]
  },
  {
   "cell_type": "code",
   "execution_count": null,
   "id": "4cd8578b-2b18-4a65-8d6c-7d5e2b2beab8",
   "metadata": {},
   "outputs": [],
   "source": [
    "df.isnull()"
   ]
  },
  {
   "cell_type": "code",
   "execution_count": null,
   "id": "688cc921-92bd-42ed-a19d-ebed090b7eaf",
   "metadata": {},
   "outputs": [],
   "source": [
    "df.isnull().sum()"
   ]
  },
  {
   "cell_type": "code",
   "execution_count": null,
   "id": "ac6cc547-4ba8-474e-9bc2-4c155fa186fe",
   "metadata": {},
   "outputs": [],
   "source": [
    "df_beznull_price = df.dropna(subset=['Area'])"
   ]
  },
  {
   "cell_type": "code",
   "execution_count": null,
   "id": "aeed5624-365f-4331-a1cb-5ee141ad0fad",
   "metadata": {},
   "outputs": [],
   "source": [
    "df_beznull_price.isnull().sum()"
   ]
  },
  {
   "cell_type": "code",
   "execution_count": null,
   "id": "fcfd7982-81ec-4ea6-b009-931a13e89435",
   "metadata": {},
   "outputs": [],
   "source": [
    "df_beznull_price"
   ]
  },
  {
   "cell_type": "code",
   "execution_count": null,
   "id": "dc55c11f-9bf2-49f9-ad3d-abb86c1366a7",
   "metadata": {},
   "outputs": [],
   "source": [
    "Q1 = df_beznull_price[\"Price\"].quantile(0.25)\n",
    "Q3 = df_beznull_price[\"Price\"].quantile(0.75)\n",
    "IQR = Q3 - Q1\n",
    "\n",
    "lower_bound = Q1 - 1.5 * IQR\n",
    "upper_bound = Q3 + 1.5 * IQR\n",
    "\n",
    "df_price_p = df_beznull_price[~((df_beznull_price[\"Price\"] < lower_bound) | (df_beznull_price[\"Price\"] > upper_bound))]"
   ]
  },
  {
   "cell_type": "code",
   "execution_count": null,
   "id": "23d7b8eb-214b-47ee-98e0-09879b533e79",
   "metadata": {},
   "outputs": [],
   "source": [
    "Q1 = df_price_p[\"PricePerSquareMeter\"].quantile(0.25)\n",
    "Q3 = df_price_p[\"PricePerSquareMeter\"].quantile(0.75)\n",
    "IQR = Q3 - Q1\n",
    "\n",
    "lower_bound = Q1 - 1.5 * IQR\n",
    "upper_bound = Q3 + 1.5 * IQR\n",
    "\n",
    "df_price_a = df_price_p[~((df_price_p[\"PricePerSquareMeter\"] < lower_bound) | (df_price_p[\"PricePerSquareMeter\"] > upper_bound))]\n"
   ]
  },
  {
   "cell_type": "code",
   "execution_count": null,
   "id": "82bb715e-9045-4468-839d-04570d568cf5",
   "metadata": {},
   "outputs": [],
   "source": [
    "Q1 = df_price_a[\"Area\"].quantile(0.25)\n",
    "Q3 = df_price_a[\"Area\"].quantile(0.75)\n",
    "IQR = Q3 - Q1\n",
    "\n",
    "lower_bound = Q1 - 1.5 * IQR\n",
    "upper_bound = Q3 + 1.5 * IQR\n",
    "\n",
    "df_price1 = df_price_a[~((df_price_a[\"Area\"] < lower_bound) | (df_price_a[\"Area\"] > upper_bound))]"
   ]
  },
  {
   "cell_type": "code",
   "execution_count": null,
   "id": "2d05abb7-5763-4f40-8594-b930dc370514",
   "metadata": {},
   "outputs": [],
   "source": [
    "df_beznull_price.describe().T"
   ]
  },
  {
   "cell_type": "code",
   "execution_count": null,
   "id": "1dd86da4-4114-429b-9b4f-8d05ddf5ed57",
   "metadata": {},
   "outputs": [],
   "source": [
    "df_price1.describe().T"
   ]
  },
  {
   "cell_type": "code",
   "execution_count": null,
   "id": "3b422403-0fc3-429c-b28a-f0de9cd28a9a",
   "metadata": {},
   "outputs": [],
   "source": [
    "df_price1[\"Price\"].value_counts(normalize=True)"
   ]
  },
  {
   "cell_type": "code",
   "execution_count": null,
   "id": "88701582-a74c-4593-bbc8-3215d8dcf296",
   "metadata": {},
   "outputs": [],
   "source": [
    "df_price1.sample(10)"
   ]
  },
  {
   "cell_type": "code",
   "execution_count": null,
   "id": "06f0bf9f-434a-4504-9c0a-d6f5444bba58",
   "metadata": {},
   "outputs": [],
   "source": [
    "df_price1.nunique()"
   ]
  },
  {
   "cell_type": "code",
   "execution_count": null,
   "id": "55ce0af9-c359-420d-b448-044b286ab7f1",
   "metadata": {},
   "outputs": [],
   "source": [
    "unique_btype=df_price1['BuildingType'].unique()\n",
    "\n",
    "unique_btype"
   ]
  },
  {
   "cell_type": "code",
   "execution_count": null,
   "id": "282508be-ff69-476d-8e5f-9e597bd472fd",
   "metadata": {},
   "outputs": [],
   "source": [
    "print(df_price1['Price'].nunique())"
   ]
  },
  {
   "cell_type": "code",
   "execution_count": null,
   "id": "d7787c2d-080a-487f-bd7d-67ca08fcc7d3",
   "metadata": {},
   "outputs": [],
   "source": [
    "print(df_price1['Price'].value_counts())"
   ]
  },
  {
   "cell_type": "code",
   "execution_count": null,
   "id": "53116713-9a0a-4705-aff9-dfdec520520f",
   "metadata": {},
   "outputs": [],
   "source": [
    "df_price1.isnull().sum()"
   ]
  },
  {
   "cell_type": "code",
   "execution_count": null,
   "id": "9815cb8d-fb19-4de8-842b-2979639add95",
   "metadata": {},
   "outputs": [],
   "source": [
    "df_price2 = df_price1.dropna(subset=['Price'])"
   ]
  },
  {
   "cell_type": "code",
   "execution_count": null,
   "id": "506956f8-3cd5-4db3-adf7-9152dbe4c8b8",
   "metadata": {},
   "outputs": [],
   "source": [
    "df_price2.isnull().sum()"
   ]
  },
  {
   "cell_type": "code",
   "execution_count": null,
   "id": "b5041d99-1427-43e6-b983-f2cbae14b595",
   "metadata": {},
   "outputs": [],
   "source": [
    "correlation_matrix = df_price2[['Area', 'Price', 'BuiltYear', 'Floor', 'Floors', 'CommunityScore']].corr()\n",
    "\n",
    "plt.figure(figsize=(8, 6))\n",
    "sns.heatmap(correlation_matrix, annot=True, cmap='coolwarm', fmt=\".2f\")\n",
    "plt.title('Correlation Matrix of Price')"
   ]
  },
  {
   "cell_type": "code",
   "execution_count": null,
   "id": "c686a646-39ea-4f5e-bd31-6027ddeda4b0",
   "metadata": {},
   "outputs": [],
   "source": [
    "sale_ids = df_price2['SaleId'].reset_index(drop=True)"
   ]
  },
  {
   "cell_type": "code",
   "execution_count": null,
   "id": "869c2b5e-56ff-4f3f-9bbe-9c673566fd9a",
   "metadata": {},
   "outputs": [],
   "source": [
    "train_df = df_price2.sample(frac=0.9, random_state=42)\n",
    "holdout_df = df_price2.drop(train_df.index)"
   ]
  },
  {
   "cell_type": "code",
   "execution_count": null,
   "id": "80a8d72e-91bb-40a7-a050-41822286a674",
   "metadata": {},
   "outputs": [],
   "source": [
    "'''\n",
    "exp = setup(\n",
    "    data=df_price2,\n",
    "    target='Price',\n",
    "    session_id=1122,\n",
    "    verbose=False,\n",
    "    categorical_features=[\n",
    "        'BuildingType',\n",
    "        'BuildingCondition',\n",
    "         ],\n",
    "    keep_features=[\n",
    "        'SaleId',\n",
    "        'Location',\n",
    "        'Area',\n",
    "         ],\n",
    "    ignore_features=[\n",
    "        'RealPriceAfterRenovation',\n",
    "        'OfferPrice',\n",
    "        'OriginalPrice',\n",
    "        'PricePerSquareMeter',\n",
    "        'OriginalId',\n",
    "        'PortalId',\n",
    "        'Title',\n",
    "        'Type',\n",
    "        'OfferFrom',\n",
    "        'TypeOfMarket',\n",
    "        'OwnerType',\n",
    "        'DateAddedToDatabase',\n",
    "        'DateAdded',\n",
    "        'DateLastModification',\n",
    "        'DateLastRaises',\n",
    "        'NewestDate',\n",
    "        'AvailableFrom',\n",
    "        'Link',\n",
    "        'Phone',\n",
    "        'MainImage',\n",
    "        'OtherImages',\n",
    "        'NumberOfDuplicates',\n",
    "        'NumberOfRaises',\n",
    "        'NumberOfModifications',\n",
    "        'IsDuplicatePriceLower',\n",
    "        'IsDuplicatePrivateOwner',\n",
    "        'Score',\n",
    "        'ScorePrecision',\n",
    "        'CommunityScore',\n",
    "        'NumberOfCommunityComments',\n",
    "        'NumberOfCommunityOpinions',\n",
    "        'Archive',\n",
    "        'VoivodeshipNumber',\n",
    "        'CountyNumber',\n",
    "        'CommunityNumber',\n",
    "        'RegionNumber',\n",
    "        'KindNumber',\n",
    "        'SubRegionNumber',\n",
    "        'StreetNumber',\n",
    "        'EncryptedId',\n",
    "        ],\n",
    "    ordinal_features={'BuildingType': ['Pozostałe', 'Blok', 'Apartametowiec', 'Kamienica'],\n",
    "                      'BuildingCondition': ['For_Renovation', 'Good', 'After_Renovation', 'Developer_State' ]},        \n",
    "       \n",
    ")\n",
    "exp.dataset_transformed.sample(10)\n",
    "'''"
   ]
  },
  {
   "cell_type": "code",
   "execution_count": null,
   "id": "81f37565-6b0e-4458-9b8a-a01c4720c479",
   "metadata": {},
   "outputs": [],
   "source": [
    "exp = setup(\n",
    "    data=df_price2,\n",
    "    target='Price',\n",
    "    verbose=False,\n",
    "    session_id=1122,\n",
    "    log_experiment=True,\n",
    "    log_plots=True,\n",
    "    experiment_name=MLFLOW_EXPERIMENT_NAME,\n",
    "    experiment_custom_tags=MLFLOW_TAGS,\n",
    "    categorical_features=[\n",
    "        'BuildingType',\n",
    "        'BuildingCondition',\n",
    "         ],\n",
    "    keep_features=[\n",
    "        'SaleId',\n",
    "        'Location',\n",
    "        'Area',\n",
    "         ],\n",
    "    ignore_features=[\n",
    "        'RealPriceAfterRenovation',\n",
    "        'OfferPrice',\n",
    "        'OriginalPrice',\n",
    "        'PricePerSquareMeter',\n",
    "        'OriginalId',\n",
    "        'PortalId',\n",
    "        'Title',\n",
    "        'Type',\n",
    "        'OfferFrom',\n",
    "        'TypeOfMarket',\n",
    "        'OwnerType',\n",
    "        'DateAddedToDatabase',\n",
    "        'DateAdded',\n",
    "        'DateLastModification',\n",
    "        'DateLastRaises',\n",
    "        'NewestDate',\n",
    "        'AvailableFrom',\n",
    "        'Link',\n",
    "        'Phone',\n",
    "        'MainImage',\n",
    "        'OtherImages',\n",
    "        'NumberOfDuplicates',\n",
    "        'NumberOfRaises',\n",
    "        'NumberOfModifications',\n",
    "        'IsDuplicatePriceLower',\n",
    "        'IsDuplicatePrivateOwner',\n",
    "        'Score',\n",
    "        'ScorePrecision',\n",
    "        'CommunityScore',\n",
    "        'NumberOfCommunityComments',\n",
    "        'NumberOfCommunityOpinions',\n",
    "        'Archive',\n",
    "        'VoivodeshipNumber',\n",
    "        'CountyNumber',\n",
    "        'CommunityNumber',\n",
    "        'RegionNumber',\n",
    "        'KindNumber',\n",
    "        'SubRegionNumber',\n",
    "        'StreetNumber',\n",
    "        'EncryptedId',\n",
    "        ],\n",
    "    ordinal_features={'BuildingType': ['Pozostałe', 'Blok', 'Apartametowiec', 'Kamienica'],\n",
    "                      'BuildingCondition': ['For_Renovation', 'Good', 'After_Renovation', 'Developer_State' ]},\n",
    ")\n",
    "best_unbalanced_model = unbalanced_exp.compare_models()\n",
    "unbalanced_metrics_df = pull()"
   ]
  },
  {
   "cell_type": "code",
   "execution_count": null,
   "id": "02ab2d4a-fb9f-40d4-b346-676d7b28de9f",
   "metadata": {},
   "outputs": [],
   "source": [
    "plt.figure(figsize=(12, 6))\n",
    "plt.barh(unbalanced_metrics_df['Model'], unbalanced_metrics_df['R2'], color='skyblue')\n",
    "plt.xlabel('R2')\n",
    "plt.title('Porównanie dokładności modeli')\n",
    "plt.gca().invert_yaxis()  # najlepszy model na górze\n",
    "plt.grid(True, linestyle='--', alpha=0.5)\n",
    "plt.tight_layout()\n",
    "plt.show()"
   ]
  },
  {
   "cell_type": "code",
   "execution_count": null,
   "id": "700d0e47-0304-48c0-9b02-de99b32118dd",
   "metadata": {},
   "outputs": [],
   "source": [
    "exp.plot_model(best_unbalanced_model, plot='error')"
   ]
  },
  {
   "cell_type": "code",
   "execution_count": null,
   "id": "e8be1d64-7d69-4809-a11b-c10d4ee63302",
   "metadata": {},
   "outputs": [],
   "source": [
    "exp.plot_model(best_unbalanced_model, plot='feature')"
   ]
  },
  {
   "cell_type": "code",
   "execution_count": null,
   "id": "19a2be0b-8d79-409b-9e8f-1ce0ed878a83",
   "metadata": {},
   "outputs": [],
   "source": [
    "tuned_model = exp.tune_model(best_unbalanced_model, n_iter=3, optimize='R2')"
   ]
  },
  {
   "cell_type": "code",
   "execution_count": null,
   "id": "142bb31a-18bf-4bbb-ac26-f564e4ef25ba",
   "metadata": {
    "scrolled": true
   },
   "outputs": [],
   "source": [
    "best_model = exp.compare_models([best_unbalanced_model, tuned_model])"
   ]
  },
  {
   "cell_type": "code",
   "execution_count": null,
   "id": "79849ac6-4d36-4298-8c7c-d6fa6f04996a",
   "metadata": {},
   "outputs": [],
   "source": [
    "exp.predict_model(best_unbalanced_model)"
   ]
  },
  {
   "cell_type": "code",
   "execution_count": null,
   "id": "9b371b22-6e00-4309-bc48-ebf3c714211f",
   "metadata": {},
   "outputs": [],
   "source": [
    "exp.plot_model(best_model, plot='error')"
   ]
  },
  {
   "cell_type": "code",
   "execution_count": null,
   "id": "e618c478-53c5-4a12-9135-d94ffc936183",
   "metadata": {},
   "outputs": [],
   "source": [
    "exp.plot_model(best_unbalanced_model, plot='feature')"
   ]
  },
  {
   "cell_type": "code",
   "execution_count": null,
   "id": "eb083d80-605b-4eb4-a51a-c57870dd7c0d",
   "metadata": {},
   "outputs": [],
   "source": [
    "best_tuned_model = exp.tune_model(\n",
    "    best_unbalanced_model,\n",
    "    optimize=\"R2\",\n",
    "    choose_better=True,\n",
    "    fold=5,\n",
    ")"
   ]
  },
  {
   "cell_type": "code",
   "execution_count": null,
   "id": "a9a77363-b384-49e7-be2f-f184e18b096b",
   "metadata": {},
   "outputs": [],
   "source": [
    "exp.predict_model(best_tuned_model).head(10)"
   ]
  },
  {
   "cell_type": "code",
   "execution_count": null,
   "id": "9e018870-d719-4835-b8f9-256308a0bc4d",
   "metadata": {},
   "outputs": [],
   "source": [
    "exp.plot_model(best_tuned_model, plot='error')"
   ]
  },
  {
   "cell_type": "code",
   "execution_count": null,
   "id": "b30aba62-73bb-4edd-8861-f3a44fe27579",
   "metadata": {},
   "outputs": [],
   "source": [
    "exp.plot_model(best_tuned_model, plot='feature')"
   ]
  },
  {
   "cell_type": "code",
   "execution_count": null,
   "id": "c81108f4-b6e5-41f0-8e5f-497bb971dcf4",
   "metadata": {},
   "outputs": [],
   "source": [
    "best_final_model = exp.finalize_model(best_unbalanced_model, experiment_custom_tags={\"step\": \"final\"})\n",
    "best_final_model"
   ]
  },
  {
   "cell_type": "code",
   "execution_count": null,
   "id": "be0701e4-a5ba-4392-9229-2f5db3a0f2cc",
   "metadata": {},
   "outputs": [],
   "source": [
    "exp.save_model(best_final_model, '0-basic-model')"
   ]
  },
  {
   "cell_type": "code",
   "execution_count": null,
   "id": "d868c288-53bc-4289-915c-1ebd0fdb7a59",
   "metadata": {},
   "outputs": [],
   "source": [
    "exp.plot_model(best_final_model, plot='error')"
   ]
  },
  {
   "cell_type": "code",
   "execution_count": null,
   "id": "41c89ec1-e90a-4c79-b6d9-6b8b0b058c94",
   "metadata": {},
   "outputs": [],
   "source": [
    "exp.predict_model(best_final_model, data=holdout_df)\n",
    "predict_holdout_df = exp.pull()"
   ]
  },
  {
   "cell_type": "code",
   "execution_count": null,
   "id": "9acac124-5bef-46dd-aa48-350d921af21e",
   "metadata": {},
   "outputs": [],
   "source": [
    "mlflow_exp = mlflow.get_experiment_by_name(MLFLOW_EXPERIMENT_NAME)\n",
    "runs_df = mlflow.search_runs([mlflow_exp.experiment_id], order_by=[\"start_time DESC\"])\n",
    "run_id = runs_df['run_id'].values[0]\n",
    "metrics = predict_holdout_df.drop(columns=[\"Model\"]).to_dict(orient='records')[0]\n",
    "\n",
    "with mlflow.start_run(run_id=run_id, nested=True):\n",
    "    for key, value in metrics.items():\n",
    "        mlflow.log_metric(key, value)"
   ]
  },
  {
   "cell_type": "code",
   "execution_count": null,
   "id": "042ec9e1-4d5e-45fc-984e-e6074eca27fb",
   "metadata": {},
   "outputs": [],
   "source": [
    "predictions = exp.predict_model(best_final_model)"
   ]
  },
  {
   "cell_type": "code",
   "execution_count": null,
   "id": "656a327c-8040-4a61-975d-1f078a58880c",
   "metadata": {},
   "outputs": [],
   "source": [
    "predicted_column = predictions['prediction_label']\n",
    "print(predicted_column)"
   ]
  },
  {
   "cell_type": "code",
   "execution_count": null,
   "id": "3d8706bb-9db2-4150-b45a-184b7bb15fb8",
   "metadata": {},
   "outputs": [],
   "source": [
    "print(predictions[['prediction_label']].applymap('{:,.0f}'.format))"
   ]
  },
  {
   "cell_type": "code",
   "execution_count": null,
   "id": "80d0bfce-3224-4922-8a07-7740b03c409e",
   "metadata": {},
   "outputs": [],
   "source": [
    "df_last=predictions[['prediction_label','Price', ]].applymap('{:,.0f}'.format)\n"
   ]
  },
  {
   "cell_type": "code",
   "execution_count": null,
   "id": "17d94b04-4d67-47de-995f-66adcfd58df2",
   "metadata": {},
   "outputs": [],
   "source": [
    "df_last.to_csv('0_new_prices.csv')"
   ]
  },
  {
   "cell_type": "code",
   "execution_count": null,
   "id": "53d2e029-5acf-4ad7-95d8-1b320eeaabb4",
   "metadata": {},
   "outputs": [],
   "source": [
    "print(df_last.columns)"
   ]
  },
  {
   "cell_type": "code",
   "execution_count": null,
   "id": "56a4afd9-dfd8-4b37-b4e4-e594d87df885",
   "metadata": {},
   "outputs": [],
   "source": [
    "print(df_last.head())"
   ]
  },
  {
   "cell_type": "code",
   "execution_count": null,
   "id": "af1bbbd1-7484-4e8f-b6cd-a04c0e78a391",
   "metadata": {},
   "outputs": [],
   "source": [
    "df_last = df_last.reset_index()  \n",
    "print(df_last.columns)  "
   ]
  },
  {
   "cell_type": "code",
   "execution_count": null,
   "id": "447fd9ee-233a-4bee-ae17-9c7126396166",
   "metadata": {},
   "outputs": [],
   "source": [
    "df_last.rename(columns={'index': 'SaleId'}, inplace=True)"
   ]
  },
  {
   "cell_type": "code",
   "execution_count": null,
   "id": "9f2a4578-d02d-445b-978f-014db91ca7f3",
   "metadata": {},
   "outputs": [],
   "source": [
    "saleflats_df = pd.read_csv('sale_2024_14.csv')"
   ]
  },
  {
   "cell_type": "code",
   "execution_count": null,
   "id": "38e65adb-3b28-48a7-a92e-6135d61477c9",
   "metadata": {},
   "outputs": [],
   "source": [
    "new_prices_df = pd.read_csv('0_new_prices.csv')"
   ]
  },
  {
   "cell_type": "code",
   "execution_count": null,
   "id": "a43bc76b-4776-40e9-b0f8-515f9d1c861e",
   "metadata": {},
   "outputs": [],
   "source": [
    "print(\"saleflats_df.columns:\", saleflats_df.columns.tolist())"
   ]
  },
  {
   "cell_type": "code",
   "execution_count": null,
   "id": "2971bf28-05c3-4593-968a-c2b3102c5961",
   "metadata": {},
   "outputs": [],
   "source": [
    "print(\"new_prices_df.columns:\", new_prices_df.columns.tolist())"
   ]
  },
  {
   "cell_type": "code",
   "execution_count": null,
   "id": "e6dbbf6e-d58e-4bda-b922-1629a7b0666f",
   "metadata": {},
   "outputs": [],
   "source": [
    "new_prices_df = new_prices_df.rename(columns={'Unnamed: 0': 'SaleID', 'Price': 'NewPrice'})"
   ]
  },
  {
   "cell_type": "code",
   "execution_count": null,
   "id": "383400cd-48ee-4091-a153-081412138e09",
   "metadata": {},
   "outputs": [],
   "source": [
    "print(\"new_prices_df.columns:\", new_prices_df.columns.tolist())"
   ]
  },
  {
   "cell_type": "code",
   "execution_count": null,
   "id": "2b5c1c33-adab-4af5-aba3-4983a16c237a",
   "metadata": {},
   "outputs": [],
   "source": [
    "print(new_prices_df.columns)"
   ]
  },
  {
   "cell_type": "code",
   "execution_count": null,
   "id": "050e3d13-d0bc-4ffb-bb85-9e797b7cfe6b",
   "metadata": {},
   "outputs": [],
   "source": [
    "print(saleflats_df.columns)"
   ]
  },
  {
   "cell_type": "code",
   "execution_count": null,
   "id": "7055aa7d-7f3b-4b28-9004-b59a4fde2312",
   "metadata": {},
   "outputs": [],
   "source": [
    "merged_df = pd.merge(\n",
    "    saleflats_df,\n",
    "    new_prices_df[['SaleID', 'NewPrice']],\n",
    "    left_on='SaleId',  # Kolumna w saleflats_df\n",
    "    right_on='SaleID',  # Kolumna w new_prices_df\n",
    "    how='left'\n",
    ")"
   ]
  },
  {
   "cell_type": "code",
   "execution_count": null,
   "id": "5e34f46f-4143-4228-89d2-4516fb0d0ed2",
   "metadata": {},
   "outputs": [],
   "source": [
    "merged_df"
   ]
  },
  {
   "cell_type": "code",
   "execution_count": null,
   "id": "44a06583-36da-4843-98c2-e6b69e5bc52f",
   "metadata": {},
   "outputs": [],
   "source": [
    "# Krok 2: usuwanie dodatkowej kolumny klucza (opcjonalnie, bo mamy już 'SaleId')\n",
    "merged_df.drop(columns=['SaleID'], inplace=True)\n",
    "\n",
    "# Krok 3: przestawienie kolumny 'NewPrice' obok 'Price'\n",
    "cols = merged_df.columns.tolist()\n",
    "\n",
    "# znajdź indeks kolumny 'Price'\n",
    "price_index = cols.index('Price')\n",
    "\n",
    "# usuń NewPrice z listy i dodaj ją zaraz po Price\n",
    "cols.remove('NewPrice')\n",
    "cols.insert(price_index + 1, 'NewPrice')\n",
    "\n",
    "# ustaw nową kolejność kolumn\n",
    "merged_df = merged_df[cols]"
   ]
  },
  {
   "cell_type": "code",
   "execution_count": null,
   "id": "67626b40-aff8-498c-991c-7415b97f554d",
   "metadata": {},
   "outputs": [],
   "source": [
    "merged_df"
   ]
  },
  {
   "cell_type": "code",
   "execution_count": null,
   "id": "b4dabebe-4bd9-4e64-9d96-923745a91ea3",
   "metadata": {},
   "outputs": [],
   "source": [
    "merged_df[merged_df.duplicated()]"
   ]
  },
  {
   "cell_type": "code",
   "execution_count": null,
   "id": "7b8e66ce-8784-4df4-a4e6-614bf6280c40",
   "metadata": {},
   "outputs": [],
   "source": [
    "prediction_df = merged_df.copy()"
   ]
  },
  {
   "cell_type": "code",
   "execution_count": null,
   "id": "a19a274f-2818-42a7-ae76-86b8346366fa",
   "metadata": {},
   "outputs": [],
   "source": [
    "from pycaret.regression import predict_model"
   ]
  },
  {
   "cell_type": "code",
   "execution_count": null,
   "id": "a1719344-4861-4bf4-acd4-1c3c1dc0d8cd",
   "metadata": {},
   "outputs": [],
   "source": [
    "prediction_df_clean = prediction_df.drop(columns=['Price'], errors='ignore')\n",
    "predictions = predict_model(best_final_model, data=prediction_df_clean)"
   ]
  },
  {
   "cell_type": "code",
   "execution_count": null,
   "id": "1c65374e-01a4-4723-80b5-46328448c3a4",
   "metadata": {},
   "outputs": [],
   "source": [
    "predictions['RealPrice'] = prediction_df['Price']"
   ]
  },
  {
   "cell_type": "code",
   "execution_count": null,
   "id": "73096153-a470-44f1-a1d9-d15282755e36",
   "metadata": {},
   "outputs": [],
   "source": [
    "merged_df['PredictedPrice'] = predictions['prediction_label']"
   ]
  },
  {
   "cell_type": "code",
   "execution_count": null,
   "id": "3f5c3029-94fb-4181-8058-45c94fa3cd0a",
   "metadata": {},
   "outputs": [],
   "source": [
    "predictions=predictions[['prediction_label',]].applymap('{:,.0f}'.format)"
   ]
  },
  {
   "cell_type": "code",
   "execution_count": null,
   "id": "0bf4333e-dea5-4eea-87bd-6fa3e5379189",
   "metadata": {},
   "outputs": [],
   "source": [
    "# Przenieś kolumnę 'PredictedPrice' za 'NewPrice'\n",
    "cols = list(merged_df.columns)\n",
    "new_price_index = cols.index('NewPrice')\n",
    "# Usuń z listy kolumn\n",
    "cols.remove('PredictedPrice')\n",
    "# Dodaj w odpowiednie miejsce\n",
    "cols.insert(new_price_index + 1, 'PredictedPrice')\n",
    "# Przekształć DataFrame\n",
    "merged_df = merged_df[cols]"
   ]
  },
  {
   "cell_type": "code",
   "execution_count": null,
   "id": "6e8ac3f9-e63b-419f-9cf6-c365dacc9fe6",
   "metadata": {},
   "outputs": [],
   "source": [
    "merged_df.to_csv('0_new_prices_full.csv')"
   ]
  },
  {
   "cell_type": "code",
   "execution_count": null,
   "id": "5dca5b40-ae17-4dcc-af57-1a15183d088c",
   "metadata": {},
   "outputs": [],
   "source": [
    "merged_df = pd.read_csv('0_new_prices_full.csv')"
   ]
  },
  {
   "cell_type": "code",
   "execution_count": null,
   "id": "3b902a32-8580-49ba-b100-677b11ad3f2c",
   "metadata": {},
   "outputs": [],
   "source": [
    "merged_df"
   ]
  },
  {
   "cell_type": "code",
   "execution_count": null,
   "id": "5e6976c6-533d-4a9d-9147-59062de9f224",
   "metadata": {},
   "outputs": [],
   "source": [
    "merged_df2=merged_df[['PredictedPrice',]].applymap('{:,.0f}'.format)"
   ]
  },
  {
   "cell_type": "code",
   "execution_count": null,
   "id": "f86ebdd0-03a5-40aa-96f9-c955626a6ee6",
   "metadata": {},
   "outputs": [],
   "source": [
    "merged_df2"
   ]
  },
  {
   "cell_type": "code",
   "execution_count": null,
   "id": "64f99c5c-75f3-4c0e-9443-dcae2bfa0e5a",
   "metadata": {},
   "outputs": [],
   "source": [
    "merged_df['PredictedPrice'] = merged_df2['PredictedPrice']"
   ]
  },
  {
   "cell_type": "code",
   "execution_count": null,
   "id": "070c7590-0add-4f10-b2d3-49950431e2be",
   "metadata": {},
   "outputs": [],
   "source": [
    "merged_df.drop(columns=['NewPrice'], inplace=True)"
   ]
  },
  {
   "cell_type": "code",
   "execution_count": null,
   "id": "486a7677-13b3-4062-8090-1fecb2bef4c9",
   "metadata": {},
   "outputs": [],
   "source": [
    "merged_df"
   ]
  },
  {
   "cell_type": "code",
   "execution_count": null,
   "id": "9a826a49-2f51-4f43-8361-4980b7546e09",
   "metadata": {},
   "outputs": [],
   "source": [
    "merged_df.to_csv('uzupelnione_mieszkania_ceny.csv')"
   ]
  },
  {
   "cell_type": "code",
   "execution_count": null,
   "id": "b2f8cd91-cd28-48e6-9cc7-8f08c819550c",
   "metadata": {},
   "outputs": [],
   "source": [
    "# df_p = pd.read_csv('sale_2024_6.csv')"
   ]
  },
  {
   "cell_type": "markdown",
   "id": "0139a12d-7413-4425-9424-939b759a92f7",
   "metadata": {},
   "source": [
    "# 1. Kopia oryginalnej dużej tabeli\n",
    "df = df_p.copy()\n",
    "\n",
    "# 2. Dopinamy kolumnę z predykcjami po SaleId\n",
    "if 'NewPrices' in merged_df.columns:\n",
    "    df = df.merge(merged_df[['SaleId', 'NewPrices']], on='SaleId', how='left')\n",
    "elif 'PredictedPrice' in merged_df.columns:\n",
    "    df = df.merge(merged_df[['SaleId', 'PredictedPrice']].rename(columns={'PredictedPrice': 'NewPrices'}), on='SaleId', how='left')\n",
    "else:\n",
    "    raise ValueError(\"W merged_df nie znaleziono kolumny 'NewPrices' ani 'PredictedPrice'\")\n",
    "\n",
    "# 3. Tam, gdzie jest dostępna cena ('Price'), kopiujemy ją do 'NewPrices'\n",
    "df.loc[df['Price'].notna(), 'NewPrices'] = df.loc[df['Price'].notna(), 'Price']\n",
    "\n",
    "# 4. Przenosimy kolumnę 'NewPrices' za 'Price'\n",
    "cols = df.columns.tolist()\n",
    "if 'NewPrices' in cols:\n",
    "    cols.remove('NewPrices')\n",
    "    price_idx = cols.index('Price')\n",
    "    cols.insert(price_idx + 1, 'NewPrices')\n",
    "    df = df[cols]\n",
    "\n",
    "# 5. Załaduj model z PyCaret\n",
    "model = load_model('6_best_price_modelLGBM')\n",
    "\n",
    "# 6. Przygotuj dane bez kolumny 'Price', by uniknąć błędu z NaN\n",
    "df_for_prediction = df.drop(columns=['Price'], errors='ignore')\n",
    "\n",
    "# 7. Przeprowadź predykcję\n",
    "predicted_df = predict_model(model, data=df_for_prediction)\n",
    "\n",
    "# 8. Powiąż wynik predykcji po SaleID\n",
    "df = df.merge(predicted_df[['SaleID', 'prediction_label']], on='SaleID', how='left', suffixes=('', '_new'))\n",
    "\n",
    "# 9. Nadpisz kolumnę 'NewPrices' nowymi przewidywaniami\n",
    "df['NewPrices'] = df['prediction_label']\n",
    "\n",
    "# 10. Przenosimy kolumnę 'NewPrices' za 'Price' (jeszcze raz)\n",
    "cols = df.columns.tolist()\n",
    "if 'NewPrices' in cols:\n",
    "    cols.remove('NewPrices')\n",
    "    price_idx = cols.index('Price')\n",
    "    cols.insert(price_idx + 1, 'NewPrices')\n",
    "    df = df[cols]\n",
    "\n",
    "# 11. Zaktualizuj saleflats_b\n",
    "saleflats_b = df"
   ]
  },
  {
   "cell_type": "markdown",
   "id": "886c3f1f-c0f4-40d6-a454-ae7e3ef5c7f2",
   "metadata": {},
   "source": [
    "df2=df[['NewPrices',]].applymap('{:,.0f}'.format)"
   ]
  },
  {
   "cell_type": "markdown",
   "id": "b61d110c-9df3-43f1-b5df-1be3009244e8",
   "metadata": {},
   "source": [
    "# Nadpisanie kolumny 'NewPrices' w df sformatowaną wersją\n",
    "df['NewPrices'] = df2['NewPrices']"
   ]
  },
  {
   "cell_type": "markdown",
   "id": "c22dfb14-913f-4eec-a39a-1b297ea066ee",
   "metadata": {},
   "source": [
    "df"
   ]
  },
  {
   "cell_type": "markdown",
   "id": "7fd415c2-0fc6-44ed-8e1c-27930fce321e",
   "metadata": {},
   "source": [
    "df.to_csv('6_new_prices_FULL2.csv')"
   ]
  },
  {
   "cell_type": "markdown",
   "id": "d63316ae-d951-428c-90f2-b8e7999d9656",
   "metadata": {},
   "source": [
    "df.sample(100)"
   ]
  },
  {
   "cell_type": "code",
   "execution_count": null,
   "id": "0e622efb-b7fb-4ff1-bcf2-9a387419dde9",
   "metadata": {},
   "outputs": [],
   "source": []
  }
 ],
 "metadata": {
  "kernelspec": {
   "display_name": "Python 3 (ipykernel)",
   "language": "python",
   "name": "python3"
  },
  "language_info": {
   "codemirror_mode": {
    "name": "ipython",
    "version": 3
   },
   "file_extension": ".py",
   "mimetype": "text/x-python",
   "name": "python",
   "nbconvert_exporter": "python",
   "pygments_lexer": "ipython3",
   "version": "3.11.11"
  }
 },
 "nbformat": 4,
 "nbformat_minor": 5
}
