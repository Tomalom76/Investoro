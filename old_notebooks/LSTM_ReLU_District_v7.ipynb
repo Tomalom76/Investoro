{
 "cells": [
  {
   "cell_type": "code",
   "execution_count": 1,
   "id": "91e152d3-0718-4f8b-a46b-6d6a65b37b6d",
   "metadata": {},
   "outputs": [
    {
     "name": "stderr",
     "output_type": "stream",
     "text": [
      "C:\\Users\\Ai\\.conda\\envs\\projekt1\\Lib\\site-packages\\h5py\\__init__.py:36: UserWarning: h5py is running against HDF5 1.14.6 when it was built against 1.14.5, this may cause problems\n",
      "  _warn((\"h5py is running against HDF5 {0} when it was built against {1}, \"\n"
     ]
    },
    {
     "name": "stdout",
     "output_type": "stream",
     "text": [
      "--- Wczytywanie danych ---\n",
      "Pliki wczytane pomyślnie.\n"
     ]
    }
   ],
   "source": [
    "# === SEKCJA 1: IMPORT I WCZYTANIE DANYCH ===\n",
    "import pandas as pd\n",
    "import numpy as np\n",
    "import re\n",
    "from IPython.display import display\n",
    "import pickle\n",
    "import os\n",
    "\n",
    "from tensorflow.keras.models import Model\n",
    "from tensorflow.keras.layers import Input, Embedding, LSTM, Concatenate, Dense, Dropout, BatchNormalization\n",
    "from tensorflow.keras.preprocessing.text import Tokenizer\n",
    "from tensorflow.keras.preprocessing.sequence import pad_sequences\n",
    "from tensorflow.keras.callbacks import EarlyStopping, ReduceLROnPlateau\n",
    "from tensorflow.keras.optimizers import Adam\n",
    "from sklearn.model_selection import train_test_split\n",
    "from sklearn.preprocessing import LabelEncoder, StandardScaler\n",
    "from sklearn.pipeline import Pipeline\n",
    "from sklearn.impute import SimpleImputer\n",
    "import matplotlib.pyplot as plt\n",
    "import warnings\n",
    "warnings.filterwarnings('ignore', category=pd.errors.DtypeWarning)\n",
    "\n",
    "print(\"--- Wczytywanie danych ---\")\n",
    "try:\n",
    "    df_main_raw = pd.read_csv('saleflats_mazowieckie_c.csv', sep=',', header=None, on_bad_lines='skip', low_memory=False)\n",
    "    # Wczytujemy nasz nowy, zweryfikowany słownik\n",
    "    df_slownik = pd.read_csv('slownik_finalny_z_hierarchia.csv', sep=';')\n",
    "    print(\"Pliki wczytane pomyślnie.\")\n",
    "except FileNotFoundError as e:\n",
    "    print(f\"BŁĄD: Nie znaleziono pliku: {e.filename}.\")\n",
    "    raise"
   ]
  },
  {
   "cell_type": "code",
   "execution_count": 2,
   "id": "bc6581b0-c975-4edc-876a-cae03c6e33b4",
   "metadata": {},
   "outputs": [
    {
     "name": "stdout",
     "output_type": "stream",
     "text": [
      "--- Przygotowanie danych do modelu ---\n",
      "\n",
      "Łączenie ofert z danymi ze słownika...\n",
      "Liczba ofert po połączeniu ze słownikiem: 9548\n",
      "Finalny zbiór danych gotowy. Wiersze: 9548\n",
      "\n",
      "Problem przygotowany do modelowania:\n",
      " - Liczba klas (dzielnice): 18 -> ['Bemowo' 'Białołęka' 'Bielany' 'Mokotów' 'Ochota']...\n",
      " - Liczba klas (ulice): 703\n",
      "\n",
      "Dane podzielone na zbiory treningowe i walidacyjne.\n"
     ]
    }
   ],
   "source": [
    "# === SEKCJA 2: PRZYGOTOWANIE DANYCH ---\n",
    "print(\"--- Przygotowanie danych do modelu ---\")\n",
    "\n",
    "# --- 2.1: Przygotowanie danych z ofert ---\n",
    "df_main = df_main_raw.copy()\n",
    "df_main.columns = [i for i in range(53)] + ['WojewodztwoID', 'PowiatID', 'GminaID', 'RodzajGminyID', 'MiastoID', 'DzielnicaID', 'UlicaID']\n",
    "main_cols_map = {0: 'SaleId', 4: 'Description', 5: 'Area', 6: 'Price', 17: 'NumberOfRooms', 35: 'Floor', 36: 'Floors'}\n",
    "df_main.rename(columns=main_cols_map, inplace=True)\n",
    "\n",
    "numeric_features = ['Area', 'Price', 'NumberOfRooms', 'Floor', 'Floors']\n",
    "id_features = ['UlicaID'] # Interesuje nas tylko UlicaID do połączenia\n",
    "for col in numeric_features + id_features:\n",
    "    df_main[col] = pd.to_numeric(df_main[col], errors='coerce')\n",
    "df_main.dropna(subset=['Description'] + numeric_features + id_features, inplace=True)\n",
    "df_main['UlicaID'] = df_main['UlicaID'].astype(int)\n",
    "\n",
    "# --- 2.2: Łączenie ofert ze słownikiem ---\n",
    "print(\"\\nŁączenie ofert z danymi ze słownika...\")\n",
    "# Łączymy po UlicaID, aby do każdej oferty dodać poprawną nazwę ulicy i dzielnicy\n",
    "df_merged = pd.merge(df_main, df_slownik, on='UlicaID', how='inner')\n",
    "print(f\"Liczba ofert po połączeniu ze słownikiem: {len(df_merged)}\")\n",
    "\n",
    "if len(df_merged) == 0:\n",
    "    raise ValueError(\"Połączenie danych nie dało żadnych wyników.\")\n",
    "\n",
    "# Nasz finalny zbiór to wszystko, co udało się połączyć\n",
    "df_model_ready = df_merged.copy()\n",
    "print(f\"Finalny zbiór danych gotowy. Wiersze: {len(df_model_ready)}\")\n",
    "\n",
    "# --- 2.3: Przygotowanie Danych Wejściowych (X) ---\n",
    "def clean_text(text): return re.sub(r'[^a-ząęółśżźćń ]', '', str(text).lower())\n",
    "df_model_ready['description_clean'] = df_model_ready['Description'].apply(clean_text)\n",
    "MAX_WORDS, MAX_LEN = 20000, 250\n",
    "tokenizer = Tokenizer(num_words=MAX_WORDS, oov_token=\"<unk>\")\n",
    "tokenizer.fit_on_texts(df_model_ready['description_clean'])\n",
    "X_text = pad_sequences(tokenizer.texts_to_sequences(df_model_ready['description_clean']), maxlen=MAX_LEN)\n",
    "\n",
    "df_model_ready['Price_per_sqm'] = df_model_ready['Price'] / df_model_ready['Area']\n",
    "df_model_ready['Price_per_sqm'].replace([np.inf, -np.inf], np.nan, inplace=True)\n",
    "numeric_features_cols = ['Area', 'Price', 'NumberOfRooms', 'Floor', 'Floors', 'Price_per_sqm']\n",
    "numeric_pipeline = Pipeline([('imputer', SimpleImputer(strategy='median')), ('scaler', StandardScaler())])\n",
    "X_numeric = numeric_pipeline.fit_transform(df_model_ready[numeric_features_cols])\n",
    "\n",
    "# --- 2.4: Przygotowanie Danych Wyjściowych (y) ---\n",
    "le_dzielnica = LabelEncoder()\n",
    "y_dzielnica = le_dzielnica.fit_transform(df_model_ready['Dzielnica_Name'])\n",
    "num_classes_dzielnica = len(le_dzielnica.classes_)\n",
    "\n",
    "le_ulica = LabelEncoder()\n",
    "y_ulica = le_ulica.fit_transform(df_model_ready['Ulica_Name'])\n",
    "num_classes_ulica = len(le_ulica.classes_)\n",
    "\n",
    "print(f\"\\nProblem przygotowany do modelowania:\")\n",
    "print(f\" - Liczba klas (dzielnice): {num_classes_dzielnica} -> {le_dzielnica.classes_[:5]}...\")\n",
    "print(f\" - Liczba klas (ulice): {num_classes_ulica}\")\n",
    "\n",
    "# --- 2.5: Podział na zbiory ---\n",
    "train_indices, val_indices = train_test_split(range(len(df_model_ready)), test_size=0.2, random_state=42, stratify=y_dzielnica)\n",
    "X_train_text, X_val_text = X_text[train_indices], X_text[val_indices]\n",
    "X_train_num, X_val_num = X_numeric[train_indices], X_numeric[val_indices]\n",
    "y_train_dzielnica, y_val_dzielnica = y_dzielnica[train_indices], y_dzielnica[val_indices]\n",
    "y_train_ulica, y_val_ulica = y_ulica[train_indices], y_ulica[val_indices]\n",
    "print(\"\\nDane podzielone na zbiory treningowe i walidacyjne.\")"
   ]
  },
  {
   "cell_type": "code",
   "execution_count": 3,
   "id": "d050d6a7-aa81-4891-8814-80bfb7a75e80",
   "metadata": {},
   "outputs": [
    {
     "data": {
      "text/html": [
       "<pre style=\"white-space:pre;overflow-x:auto;line-height:normal;font-family:Menlo,'DejaVu Sans Mono',consolas,'Courier New',monospace\"><span style=\"font-weight: bold\">Model: \"functional\"</span>\n",
       "</pre>\n"
      ],
      "text/plain": [
       "\u001b[1mModel: \"functional\"\u001b[0m\n"
      ]
     },
     "metadata": {},
     "output_type": "display_data"
    },
    {
     "data": {
      "text/html": [
       "<pre style=\"white-space:pre;overflow-x:auto;line-height:normal;font-family:Menlo,'DejaVu Sans Mono',consolas,'Courier New',monospace\">┏━━━━━━━━━━━━━━━━━━━━━━━━━━━━━━━┳━━━━━━━━━━━━━━━━━━━━━━━━━━━┳━━━━━━━━━━━━━━━━━┳━━━━━━━━━━━━━━━━━━━━━━━━━━━━┓\n",
       "┃<span style=\"font-weight: bold\"> Layer (type)                  </span>┃<span style=\"font-weight: bold\"> Output Shape              </span>┃<span style=\"font-weight: bold\">         Param # </span>┃<span style=\"font-weight: bold\"> Connected to               </span>┃\n",
       "┡━━━━━━━━━━━━━━━━━━━━━━━━━━━━━━━╇━━━━━━━━━━━━━━━━━━━━━━━━━━━╇━━━━━━━━━━━━━━━━━╇━━━━━━━━━━━━━━━━━━━━━━━━━━━━┩\n",
       "│ text_input (<span style=\"color: #0087ff; text-decoration-color: #0087ff\">InputLayer</span>)       │ (<span style=\"color: #00d7ff; text-decoration-color: #00d7ff\">None</span>, <span style=\"color: #00af00; text-decoration-color: #00af00\">250</span>)               │               <span style=\"color: #00af00; text-decoration-color: #00af00\">0</span> │ -                          │\n",
       "├───────────────────────────────┼───────────────────────────┼─────────────────┼────────────────────────────┤\n",
       "│ embedding (<span style=\"color: #0087ff; text-decoration-color: #0087ff\">Embedding</span>)         │ (<span style=\"color: #00d7ff; text-decoration-color: #00d7ff\">None</span>, <span style=\"color: #00af00; text-decoration-color: #00af00\">250</span>, <span style=\"color: #00af00; text-decoration-color: #00af00\">128</span>)          │       <span style=\"color: #00af00; text-decoration-color: #00af00\">2,560,000</span> │ text_input[<span style=\"color: #00af00; text-decoration-color: #00af00\">0</span>][<span style=\"color: #00af00; text-decoration-color: #00af00\">0</span>]           │\n",
       "├───────────────────────────────┼───────────────────────────┼─────────────────┼────────────────────────────┤\n",
       "│ lstm (<span style=\"color: #0087ff; text-decoration-color: #0087ff\">LSTM</span>)                   │ (<span style=\"color: #00d7ff; text-decoration-color: #00d7ff\">None</span>, <span style=\"color: #00af00; text-decoration-color: #00af00\">128</span>)               │         <span style=\"color: #00af00; text-decoration-color: #00af00\">131,584</span> │ embedding[<span style=\"color: #00af00; text-decoration-color: #00af00\">0</span>][<span style=\"color: #00af00; text-decoration-color: #00af00\">0</span>]            │\n",
       "├───────────────────────────────┼───────────────────────────┼─────────────────┼────────────────────────────┤\n",
       "│ numeric_input (<span style=\"color: #0087ff; text-decoration-color: #0087ff\">InputLayer</span>)    │ (<span style=\"color: #00d7ff; text-decoration-color: #00d7ff\">None</span>, <span style=\"color: #00af00; text-decoration-color: #00af00\">6</span>)                 │               <span style=\"color: #00af00; text-decoration-color: #00af00\">0</span> │ -                          │\n",
       "├───────────────────────────────┼───────────────────────────┼─────────────────┼────────────────────────────┤\n",
       "│ concatenate (<span style=\"color: #0087ff; text-decoration-color: #0087ff\">Concatenate</span>)     │ (<span style=\"color: #00d7ff; text-decoration-color: #00d7ff\">None</span>, <span style=\"color: #00af00; text-decoration-color: #00af00\">134</span>)               │               <span style=\"color: #00af00; text-decoration-color: #00af00\">0</span> │ lstm[<span style=\"color: #00af00; text-decoration-color: #00af00\">0</span>][<span style=\"color: #00af00; text-decoration-color: #00af00\">0</span>],                │\n",
       "│                               │                           │                 │ numeric_input[<span style=\"color: #00af00; text-decoration-color: #00af00\">0</span>][<span style=\"color: #00af00; text-decoration-color: #00af00\">0</span>]        │\n",
       "├───────────────────────────────┼───────────────────────────┼─────────────────┼────────────────────────────┤\n",
       "│ dense (<span style=\"color: #0087ff; text-decoration-color: #0087ff\">Dense</span>)                 │ (<span style=\"color: #00d7ff; text-decoration-color: #00d7ff\">None</span>, <span style=\"color: #00af00; text-decoration-color: #00af00\">128</span>)               │          <span style=\"color: #00af00; text-decoration-color: #00af00\">17,280</span> │ concatenate[<span style=\"color: #00af00; text-decoration-color: #00af00\">0</span>][<span style=\"color: #00af00; text-decoration-color: #00af00\">0</span>]          │\n",
       "├───────────────────────────────┼───────────────────────────┼─────────────────┼────────────────────────────┤\n",
       "│ dropout (<span style=\"color: #0087ff; text-decoration-color: #0087ff\">Dropout</span>)             │ (<span style=\"color: #00d7ff; text-decoration-color: #00d7ff\">None</span>, <span style=\"color: #00af00; text-decoration-color: #00af00\">128</span>)               │               <span style=\"color: #00af00; text-decoration-color: #00af00\">0</span> │ dense[<span style=\"color: #00af00; text-decoration-color: #00af00\">0</span>][<span style=\"color: #00af00; text-decoration-color: #00af00\">0</span>]                │\n",
       "├───────────────────────────────┼───────────────────────────┼─────────────────┼────────────────────────────┤\n",
       "│ dense_1 (<span style=\"color: #0087ff; text-decoration-color: #0087ff\">Dense</span>)               │ (<span style=\"color: #00d7ff; text-decoration-color: #00d7ff\">None</span>, <span style=\"color: #00af00; text-decoration-color: #00af00\">64</span>)                │           <span style=\"color: #00af00; text-decoration-color: #00af00\">8,256</span> │ dropout[<span style=\"color: #00af00; text-decoration-color: #00af00\">0</span>][<span style=\"color: #00af00; text-decoration-color: #00af00\">0</span>]              │\n",
       "├───────────────────────────────┼───────────────────────────┼─────────────────┼────────────────────────────┤\n",
       "│ dense_2 (<span style=\"color: #0087ff; text-decoration-color: #0087ff\">Dense</span>)               │ (<span style=\"color: #00d7ff; text-decoration-color: #00d7ff\">None</span>, <span style=\"color: #00af00; text-decoration-color: #00af00\">256</span>)               │          <span style=\"color: #00af00; text-decoration-color: #00af00\">33,024</span> │ dropout[<span style=\"color: #00af00; text-decoration-color: #00af00\">0</span>][<span style=\"color: #00af00; text-decoration-color: #00af00\">0</span>]              │\n",
       "├───────────────────────────────┼───────────────────────────┼─────────────────┼────────────────────────────┤\n",
       "│ output_dzielnica (<span style=\"color: #0087ff; text-decoration-color: #0087ff\">Dense</span>)      │ (<span style=\"color: #00d7ff; text-decoration-color: #00d7ff\">None</span>, <span style=\"color: #00af00; text-decoration-color: #00af00\">18</span>)                │           <span style=\"color: #00af00; text-decoration-color: #00af00\">1,170</span> │ dense_1[<span style=\"color: #00af00; text-decoration-color: #00af00\">0</span>][<span style=\"color: #00af00; text-decoration-color: #00af00\">0</span>]              │\n",
       "├───────────────────────────────┼───────────────────────────┼─────────────────┼────────────────────────────┤\n",
       "│ output_ulica (<span style=\"color: #0087ff; text-decoration-color: #0087ff\">Dense</span>)          │ (<span style=\"color: #00d7ff; text-decoration-color: #00d7ff\">None</span>, <span style=\"color: #00af00; text-decoration-color: #00af00\">703</span>)               │         <span style=\"color: #00af00; text-decoration-color: #00af00\">180,671</span> │ dense_2[<span style=\"color: #00af00; text-decoration-color: #00af00\">0</span>][<span style=\"color: #00af00; text-decoration-color: #00af00\">0</span>]              │\n",
       "└───────────────────────────────┴───────────────────────────┴─────────────────┴────────────────────────────┘\n",
       "</pre>\n"
      ],
      "text/plain": [
       "┏━━━━━━━━━━━━━━━━━━━━━━━━━━━━━━━┳━━━━━━━━━━━━━━━━━━━━━━━━━━━┳━━━━━━━━━━━━━━━━━┳━━━━━━━━━━━━━━━━━━━━━━━━━━━━┓\n",
       "┃\u001b[1m \u001b[0m\u001b[1mLayer (type)                 \u001b[0m\u001b[1m \u001b[0m┃\u001b[1m \u001b[0m\u001b[1mOutput Shape             \u001b[0m\u001b[1m \u001b[0m┃\u001b[1m \u001b[0m\u001b[1m        Param #\u001b[0m\u001b[1m \u001b[0m┃\u001b[1m \u001b[0m\u001b[1mConnected to              \u001b[0m\u001b[1m \u001b[0m┃\n",
       "┡━━━━━━━━━━━━━━━━━━━━━━━━━━━━━━━╇━━━━━━━━━━━━━━━━━━━━━━━━━━━╇━━━━━━━━━━━━━━━━━╇━━━━━━━━━━━━━━━━━━━━━━━━━━━━┩\n",
       "│ text_input (\u001b[38;5;33mInputLayer\u001b[0m)       │ (\u001b[38;5;45mNone\u001b[0m, \u001b[38;5;34m250\u001b[0m)               │               \u001b[38;5;34m0\u001b[0m │ -                          │\n",
       "├───────────────────────────────┼───────────────────────────┼─────────────────┼────────────────────────────┤\n",
       "│ embedding (\u001b[38;5;33mEmbedding\u001b[0m)         │ (\u001b[38;5;45mNone\u001b[0m, \u001b[38;5;34m250\u001b[0m, \u001b[38;5;34m128\u001b[0m)          │       \u001b[38;5;34m2,560,000\u001b[0m │ text_input[\u001b[38;5;34m0\u001b[0m][\u001b[38;5;34m0\u001b[0m]           │\n",
       "├───────────────────────────────┼───────────────────────────┼─────────────────┼────────────────────────────┤\n",
       "│ lstm (\u001b[38;5;33mLSTM\u001b[0m)                   │ (\u001b[38;5;45mNone\u001b[0m, \u001b[38;5;34m128\u001b[0m)               │         \u001b[38;5;34m131,584\u001b[0m │ embedding[\u001b[38;5;34m0\u001b[0m][\u001b[38;5;34m0\u001b[0m]            │\n",
       "├───────────────────────────────┼───────────────────────────┼─────────────────┼────────────────────────────┤\n",
       "│ numeric_input (\u001b[38;5;33mInputLayer\u001b[0m)    │ (\u001b[38;5;45mNone\u001b[0m, \u001b[38;5;34m6\u001b[0m)                 │               \u001b[38;5;34m0\u001b[0m │ -                          │\n",
       "├───────────────────────────────┼───────────────────────────┼─────────────────┼────────────────────────────┤\n",
       "│ concatenate (\u001b[38;5;33mConcatenate\u001b[0m)     │ (\u001b[38;5;45mNone\u001b[0m, \u001b[38;5;34m134\u001b[0m)               │               \u001b[38;5;34m0\u001b[0m │ lstm[\u001b[38;5;34m0\u001b[0m][\u001b[38;5;34m0\u001b[0m],                │\n",
       "│                               │                           │                 │ numeric_input[\u001b[38;5;34m0\u001b[0m][\u001b[38;5;34m0\u001b[0m]        │\n",
       "├───────────────────────────────┼───────────────────────────┼─────────────────┼────────────────────────────┤\n",
       "│ dense (\u001b[38;5;33mDense\u001b[0m)                 │ (\u001b[38;5;45mNone\u001b[0m, \u001b[38;5;34m128\u001b[0m)               │          \u001b[38;5;34m17,280\u001b[0m │ concatenate[\u001b[38;5;34m0\u001b[0m][\u001b[38;5;34m0\u001b[0m]          │\n",
       "├───────────────────────────────┼───────────────────────────┼─────────────────┼────────────────────────────┤\n",
       "│ dropout (\u001b[38;5;33mDropout\u001b[0m)             │ (\u001b[38;5;45mNone\u001b[0m, \u001b[38;5;34m128\u001b[0m)               │               \u001b[38;5;34m0\u001b[0m │ dense[\u001b[38;5;34m0\u001b[0m][\u001b[38;5;34m0\u001b[0m]                │\n",
       "├───────────────────────────────┼───────────────────────────┼─────────────────┼────────────────────────────┤\n",
       "│ dense_1 (\u001b[38;5;33mDense\u001b[0m)               │ (\u001b[38;5;45mNone\u001b[0m, \u001b[38;5;34m64\u001b[0m)                │           \u001b[38;5;34m8,256\u001b[0m │ dropout[\u001b[38;5;34m0\u001b[0m][\u001b[38;5;34m0\u001b[0m]              │\n",
       "├───────────────────────────────┼───────────────────────────┼─────────────────┼────────────────────────────┤\n",
       "│ dense_2 (\u001b[38;5;33mDense\u001b[0m)               │ (\u001b[38;5;45mNone\u001b[0m, \u001b[38;5;34m256\u001b[0m)               │          \u001b[38;5;34m33,024\u001b[0m │ dropout[\u001b[38;5;34m0\u001b[0m][\u001b[38;5;34m0\u001b[0m]              │\n",
       "├───────────────────────────────┼───────────────────────────┼─────────────────┼────────────────────────────┤\n",
       "│ output_dzielnica (\u001b[38;5;33mDense\u001b[0m)      │ (\u001b[38;5;45mNone\u001b[0m, \u001b[38;5;34m18\u001b[0m)                │           \u001b[38;5;34m1,170\u001b[0m │ dense_1[\u001b[38;5;34m0\u001b[0m][\u001b[38;5;34m0\u001b[0m]              │\n",
       "├───────────────────────────────┼───────────────────────────┼─────────────────┼────────────────────────────┤\n",
       "│ output_ulica (\u001b[38;5;33mDense\u001b[0m)          │ (\u001b[38;5;45mNone\u001b[0m, \u001b[38;5;34m703\u001b[0m)               │         \u001b[38;5;34m180,671\u001b[0m │ dense_2[\u001b[38;5;34m0\u001b[0m][\u001b[38;5;34m0\u001b[0m]              │\n",
       "└───────────────────────────────┴───────────────────────────┴─────────────────┴────────────────────────────┘\n"
      ]
     },
     "metadata": {},
     "output_type": "display_data"
    },
    {
     "data": {
      "text/html": [
       "<pre style=\"white-space:pre;overflow-x:auto;line-height:normal;font-family:Menlo,'DejaVu Sans Mono',consolas,'Courier New',monospace\"><span style=\"font-weight: bold\"> Total params: </span><span style=\"color: #00af00; text-decoration-color: #00af00\">2,931,985</span> (11.18 MB)\n",
       "</pre>\n"
      ],
      "text/plain": [
       "\u001b[1m Total params: \u001b[0m\u001b[38;5;34m2,931,985\u001b[0m (11.18 MB)\n"
      ]
     },
     "metadata": {},
     "output_type": "display_data"
    },
    {
     "data": {
      "text/html": [
       "<pre style=\"white-space:pre;overflow-x:auto;line-height:normal;font-family:Menlo,'DejaVu Sans Mono',consolas,'Courier New',monospace\"><span style=\"font-weight: bold\"> Trainable params: </span><span style=\"color: #00af00; text-decoration-color: #00af00\">2,931,985</span> (11.18 MB)\n",
       "</pre>\n"
      ],
      "text/plain": [
       "\u001b[1m Trainable params: \u001b[0m\u001b[38;5;34m2,931,985\u001b[0m (11.18 MB)\n"
      ]
     },
     "metadata": {},
     "output_type": "display_data"
    },
    {
     "data": {
      "text/html": [
       "<pre style=\"white-space:pre;overflow-x:auto;line-height:normal;font-family:Menlo,'DejaVu Sans Mono',consolas,'Courier New',monospace\"><span style=\"font-weight: bold\"> Non-trainable params: </span><span style=\"color: #00af00; text-decoration-color: #00af00\">0</span> (0.00 B)\n",
       "</pre>\n"
      ],
      "text/plain": [
       "\u001b[1m Non-trainable params: \u001b[0m\u001b[38;5;34m0\u001b[0m (0.00 B)\n"
      ]
     },
     "metadata": {},
     "output_type": "display_data"
    },
    {
     "name": "stdout",
     "output_type": "stream",
     "text": [
      "\n",
      "Rozpoczynam trening modelu hierarchicznego...\n",
      "Epoch 1/50\n",
      "\u001b[1m60/60\u001b[0m \u001b[32m━━━━━━━━━━━━━━━━━━━━\u001b[0m\u001b[37m\u001b[0m \u001b[1m27s\u001b[0m 394ms/step - loss: 5.5712 - output_dzielnica_accuracy: 0.2148 - output_dzielnica_loss: 2.6279 - output_ulica_accuracy: 0.1197 - output_ulica_loss: 5.8863 - val_loss: 4.4547 - val_output_dzielnica_accuracy: 0.3984 - val_output_dzielnica_loss: 1.9962 - val_output_ulica_accuracy: 0.1686 - val_output_ulica_loss: 4.9172 - learning_rate: 0.0010\n",
      "Epoch 2/50\n",
      "\u001b[1m60/60\u001b[0m \u001b[32m━━━━━━━━━━━━━━━━━━━━\u001b[0m\u001b[37m\u001b[0m \u001b[1m23s\u001b[0m 391ms/step - loss: 4.3098 - output_dzielnica_accuracy: 0.3955 - output_dzielnica_loss: 1.9676 - output_ulica_accuracy: 0.1896 - output_ulica_loss: 4.6843 - val_loss: 4.1301 - val_output_dzielnica_accuracy: 0.4403 - val_output_dzielnica_loss: 1.8329 - val_output_ulica_accuracy: 0.1963 - val_output_ulica_loss: 4.5954 - learning_rate: 0.0010\n",
      "Epoch 3/50\n",
      "\u001b[1m60/60\u001b[0m \u001b[32m━━━━━━━━━━━━━━━━━━━━\u001b[0m\u001b[37m\u001b[0m \u001b[1m24s\u001b[0m 396ms/step - loss: 3.9924 - output_dzielnica_accuracy: 0.4510 - output_dzielnica_loss: 1.7779 - output_ulica_accuracy: 0.2046 - output_ulica_loss: 4.4292 - val_loss: 3.8727 - val_output_dzielnica_accuracy: 0.4801 - val_output_dzielnica_loss: 1.6711 - val_output_ulica_accuracy: 0.2105 - val_output_ulica_loss: 4.4044 - learning_rate: 0.0010\n",
      "Epoch 4/50\n",
      "\u001b[1m60/60\u001b[0m \u001b[32m━━━━━━━━━━━━━━━━━━━━\u001b[0m\u001b[37m\u001b[0m \u001b[1m25s\u001b[0m 409ms/step - loss: 3.6847 - output_dzielnica_accuracy: 0.5059 - output_dzielnica_loss: 1.5872 - output_ulica_accuracy: 0.2156 - output_ulica_loss: 4.1952 - val_loss: 3.7215 - val_output_dzielnica_accuracy: 0.5073 - val_output_dzielnica_loss: 1.5861 - val_output_ulica_accuracy: 0.2272 - val_output_ulica_loss: 4.2723 - learning_rate: 0.0010\n",
      "Epoch 5/50\n",
      "\u001b[1m60/60\u001b[0m \u001b[32m━━━━━━━━━━━━━━━━━━━━\u001b[0m\u001b[37m\u001b[0m \u001b[1m25s\u001b[0m 409ms/step - loss: 3.4983 - output_dzielnica_accuracy: 0.5301 - output_dzielnica_loss: 1.4812 - output_ulica_accuracy: 0.2284 - output_ulica_loss: 4.0342 - val_loss: 3.6479 - val_output_dzielnica_accuracy: 0.5309 - val_output_dzielnica_loss: 1.5549 - val_output_ulica_accuracy: 0.2309 - val_output_ulica_loss: 4.1864 - learning_rate: 0.0010\n",
      "Epoch 6/50\n",
      "\u001b[1m60/60\u001b[0m \u001b[32m━━━━━━━━━━━━━━━━━━━━\u001b[0m\u001b[37m\u001b[0m \u001b[1m25s\u001b[0m 413ms/step - loss: 3.2547 - output_dzielnica_accuracy: 0.5769 - output_dzielnica_loss: 1.3503 - output_ulica_accuracy: 0.2490 - output_ulica_loss: 3.8085 - val_loss: 3.4169 - val_output_dzielnica_accuracy: 0.6026 - val_output_dzielnica_loss: 1.3855 - val_output_ulica_accuracy: 0.2419 - val_output_ulica_loss: 4.0641 - learning_rate: 0.0010\n",
      "Epoch 7/50\n",
      "\u001b[1m60/60\u001b[0m \u001b[32m━━━━━━━━━━━━━━━━━━━━\u001b[0m\u001b[37m\u001b[0m \u001b[1m25s\u001b[0m 417ms/step - loss: 2.9346 - output_dzielnica_accuracy: 0.6623 - output_dzielnica_loss: 1.1378 - output_ulica_accuracy: 0.2674 - output_ulica_loss: 3.5935 - val_loss: 3.2386 - val_output_dzielnica_accuracy: 0.6455 - val_output_dzielnica_loss: 1.2812 - val_output_ulica_accuracy: 0.2550 - val_output_ulica_loss: 3.9167 - learning_rate: 0.0010\n",
      "Epoch 8/50\n",
      "\u001b[1m60/60\u001b[0m \u001b[32m━━━━━━━━━━━━━━━━━━━━\u001b[0m\u001b[37m\u001b[0m \u001b[1m25s\u001b[0m 418ms/step - loss: 2.8167 - output_dzielnica_accuracy: 0.6758 - output_dzielnica_loss: 1.0698 - output_ulica_accuracy: 0.2603 - output_ulica_loss: 3.4938 - val_loss: 3.1964 - val_output_dzielnica_accuracy: 0.6361 - val_output_dzielnica_loss: 1.2476 - val_output_ulica_accuracy: 0.2607 - val_output_ulica_loss: 3.9002 - learning_rate: 0.0010\n",
      "Epoch 9/50\n",
      "\u001b[1m60/60\u001b[0m \u001b[32m━━━━━━━━━━━━━━━━━━━━\u001b[0m\u001b[37m\u001b[0m \u001b[1m25s\u001b[0m 424ms/step - loss: 2.6183 - output_dzielnica_accuracy: 0.7113 - output_dzielnica_loss: 0.9584 - output_ulica_accuracy: 0.2792 - output_ulica_loss: 3.3199 - val_loss: 3.0464 - val_output_dzielnica_accuracy: 0.6717 - val_output_dzielnica_loss: 1.1440 - val_output_ulica_accuracy: 0.2623 - val_output_ulica_loss: 3.8077 - learning_rate: 0.0010\n",
      "Epoch 10/50\n",
      "\u001b[1m60/60\u001b[0m \u001b[32m━━━━━━━━━━━━━━━━━━━━\u001b[0m\u001b[37m\u001b[0m \u001b[1m25s\u001b[0m 417ms/step - loss: 2.5205 - output_dzielnica_accuracy: 0.7326 - output_dzielnica_loss: 0.9104 - output_ulica_accuracy: 0.2861 - output_ulica_loss: 3.2203 - val_loss: 3.0661 - val_output_dzielnica_accuracy: 0.6691 - val_output_dzielnica_loss: 1.1558 - val_output_ulica_accuracy: 0.2644 - val_output_ulica_loss: 3.8234 - learning_rate: 0.0010\n",
      "Epoch 11/50\n",
      "\u001b[1m60/60\u001b[0m \u001b[32m━━━━━━━━━━━━━━━━━━━━\u001b[0m\u001b[37m\u001b[0m \u001b[1m24s\u001b[0m 402ms/step - loss: 2.3906 - output_dzielnica_accuracy: 0.7478 - output_dzielnica_loss: 0.8223 - output_ulica_accuracy: 0.2921 - output_ulica_loss: 3.1366 - val_loss: 2.9537 - val_output_dzielnica_accuracy: 0.6969 - val_output_dzielnica_loss: 1.0859 - val_output_ulica_accuracy: 0.2817 - val_output_ulica_loss: 3.7384 - learning_rate: 0.0010\n",
      "Epoch 12/50\n",
      "\u001b[1m60/60\u001b[0m \u001b[32m━━━━━━━━━━━━━━━━━━━━\u001b[0m\u001b[37m\u001b[0m \u001b[1m25s\u001b[0m 413ms/step - loss: 2.3514 - output_dzielnica_accuracy: 0.7552 - output_dzielnica_loss: 0.8112 - output_ulica_accuracy: 0.2943 - output_ulica_loss: 3.0803 - val_loss: 3.0470 - val_output_dzielnica_accuracy: 0.6691 - val_output_dzielnica_loss: 1.1449 - val_output_ulica_accuracy: 0.2764 - val_output_ulica_loss: 3.8060 - learning_rate: 0.0010\n",
      "Epoch 13/50\n",
      "\u001b[1m60/60\u001b[0m \u001b[32m━━━━━━━━━━━━━━━━━━━━\u001b[0m\u001b[37m\u001b[0m \u001b[1m25s\u001b[0m 417ms/step - loss: 2.2584 - output_dzielnica_accuracy: 0.7664 - output_dzielnica_loss: 0.7681 - output_ulica_accuracy: 0.2994 - output_ulica_loss: 2.9805 - val_loss: 3.1801 - val_output_dzielnica_accuracy: 0.6581 - val_output_dzielnica_loss: 1.2326 - val_output_ulica_accuracy: 0.2707 - val_output_ulica_loss: 3.8974 - learning_rate: 0.0010\n",
      "Epoch 14/50\n",
      "\u001b[1m60/60\u001b[0m \u001b[32m━━━━━━━━━━━━━━━━━━━━\u001b[0m\u001b[37m\u001b[0m \u001b[1m0s\u001b[0m 364ms/step - loss: 2.2375 - output_dzielnica_accuracy: 0.7762 - output_dzielnica_loss: 0.7453 - output_ulica_accuracy: 0.2966 - output_ulica_loss: 2.9844 \n",
      "Epoch 14: ReduceLROnPlateau reducing learning rate to 0.00010000000474974513.\n",
      "\u001b[1m60/60\u001b[0m \u001b[32m━━━━━━━━━━━━━━━━━━━━\u001b[0m\u001b[37m\u001b[0m \u001b[1m24s\u001b[0m 401ms/step - loss: 2.2371 - output_dzielnica_accuracy: 0.7762 - output_dzielnica_loss: 0.7451 - output_ulica_accuracy: 0.2967 - output_ulica_loss: 2.9841 - val_loss: 3.0986 - val_output_dzielnica_accuracy: 0.6791 - val_output_dzielnica_loss: 1.1728 - val_output_ulica_accuracy: 0.2817 - val_output_ulica_loss: 3.8545 - learning_rate: 0.0010\n",
      "Epoch 15/50\n",
      "\u001b[1m60/60\u001b[0m \u001b[32m━━━━━━━━━━━━━━━━━━━━\u001b[0m\u001b[37m\u001b[0m \u001b[1m24s\u001b[0m 392ms/step - loss: 2.0939 - output_dzielnica_accuracy: 0.8000 - output_dzielnica_loss: 0.6745 - output_ulica_accuracy: 0.3178 - output_ulica_loss: 2.8387 - val_loss: 2.9580 - val_output_dzielnica_accuracy: 0.7052 - val_output_dzielnica_loss: 1.0850 - val_output_ulica_accuracy: 0.2916 - val_output_ulica_loss: 3.7487 - learning_rate: 1.0000e-04\n",
      "Epoch 16/50\n",
      "\u001b[1m60/60\u001b[0m \u001b[32m━━━━━━━━━━━━━━━━━━━━\u001b[0m\u001b[37m\u001b[0m \u001b[1m24s\u001b[0m 392ms/step - loss: 1.9902 - output_dzielnica_accuracy: 0.8210 - output_dzielnica_loss: 0.6104 - output_ulica_accuracy: 0.3168 - output_ulica_loss: 2.7596 - val_loss: 2.9250 - val_output_dzielnica_accuracy: 0.7241 - val_output_dzielnica_loss: 1.0633 - val_output_ulica_accuracy: 0.3005 - val_output_ulica_loss: 3.7258 - learning_rate: 1.0000e-04\n",
      "Epoch 17/50\n",
      "\u001b[1m60/60\u001b[0m \u001b[32m━━━━━━━━━━━━━━━━━━━━\u001b[0m\u001b[37m\u001b[0m \u001b[1m24s\u001b[0m 393ms/step - loss: 1.9429 - output_dzielnica_accuracy: 0.8155 - output_dzielnica_loss: 0.5841 - output_ulica_accuracy: 0.3282 - output_ulica_loss: 2.7177 - val_loss: 2.9231 - val_output_dzielnica_accuracy: 0.7220 - val_output_dzielnica_loss: 1.0609 - val_output_ulica_accuracy: 0.3037 - val_output_ulica_loss: 3.7266 - learning_rate: 1.0000e-04\n",
      "Epoch 18/50\n",
      "\u001b[1m60/60\u001b[0m \u001b[32m━━━━━━━━━━━━━━━━━━━━\u001b[0m\u001b[37m\u001b[0m \u001b[1m24s\u001b[0m 398ms/step - loss: 1.8912 - output_dzielnica_accuracy: 0.8383 - output_dzielnica_loss: 0.5490 - output_ulica_accuracy: 0.3366 - output_ulica_loss: 2.6844 - val_loss: 2.9162 - val_output_dzielnica_accuracy: 0.7309 - val_output_dzielnica_loss: 1.0559 - val_output_ulica_accuracy: 0.2990 - val_output_ulica_loss: 3.7228 - learning_rate: 1.0000e-04\n",
      "Epoch 19/50\n",
      "\u001b[1m60/60\u001b[0m \u001b[32m━━━━━━━━━━━━━━━━━━━━\u001b[0m\u001b[37m\u001b[0m \u001b[1m24s\u001b[0m 399ms/step - loss: 1.8791 - output_dzielnica_accuracy: 0.8342 - output_dzielnica_loss: 0.5465 - output_ulica_accuracy: 0.3346 - output_ulica_loss: 2.6653 - val_loss: 2.9078 - val_output_dzielnica_accuracy: 0.7325 - val_output_dzielnica_loss: 1.0465 - val_output_ulica_accuracy: 0.3031 - val_output_ulica_loss: 3.7247 - learning_rate: 1.0000e-04\n",
      "Epoch 20/50\n",
      "\u001b[1m60/60\u001b[0m \u001b[32m━━━━━━━━━━━━━━━━━━━━\u001b[0m\u001b[37m\u001b[0m \u001b[1m24s\u001b[0m 397ms/step - loss: 1.8580 - output_dzielnica_accuracy: 0.8362 - output_dzielnica_loss: 0.5358 - output_ulica_accuracy: 0.3364 - output_ulica_loss: 2.6442 - val_loss: 2.9489 - val_output_dzielnica_accuracy: 0.7267 - val_output_dzielnica_loss: 1.0720 - val_output_ulica_accuracy: 0.2963 - val_output_ulica_loss: 3.7570 - learning_rate: 1.0000e-04\n",
      "Epoch 21/50\n",
      "\u001b[1m60/60\u001b[0m \u001b[32m━━━━━━━━━━━━━━━━━━━━\u001b[0m\u001b[37m\u001b[0m \u001b[1m24s\u001b[0m 398ms/step - loss: 1.8691 - output_dzielnica_accuracy: 0.8377 - output_dzielnica_loss: 0.5363 - output_ulica_accuracy: 0.3313 - output_ulica_loss: 2.6655 - val_loss: 2.9187 - val_output_dzielnica_accuracy: 0.7398 - val_output_dzielnica_loss: 1.0485 - val_output_ulica_accuracy: 0.3073 - val_output_ulica_loss: 3.7425 - learning_rate: 1.0000e-04\n",
      "Epoch 22/50\n",
      "\u001b[1m60/60\u001b[0m \u001b[32m━━━━━━━━━━━━━━━━━━━━\u001b[0m\u001b[37m\u001b[0m \u001b[1m0s\u001b[0m 359ms/step - loss: 1.8098 - output_dzielnica_accuracy: 0.8489 - output_dzielnica_loss: 0.5102 - output_ulica_accuracy: 0.3387 - output_ulica_loss: 2.5992 \n",
      "Epoch 22: ReduceLROnPlateau reducing learning rate to 1.0000000474974514e-05.\n",
      "\u001b[1m60/60\u001b[0m \u001b[32m━━━━━━━━━━━━━━━━━━━━\u001b[0m\u001b[37m\u001b[0m \u001b[1m24s\u001b[0m 395ms/step - loss: 1.8103 - output_dzielnica_accuracy: 0.8489 - output_dzielnica_loss: 0.5104 - output_ulica_accuracy: 0.3386 - output_ulica_loss: 2.5998 - val_loss: 2.9349 - val_output_dzielnica_accuracy: 0.7366 - val_output_dzielnica_loss: 1.0599 - val_output_ulica_accuracy: 0.3026 - val_output_ulica_loss: 3.7520 - learning_rate: 1.0000e-04\n",
      "Epoch 23/50\n",
      "\u001b[1m60/60\u001b[0m \u001b[32m━━━━━━━━━━━━━━━━━━━━\u001b[0m\u001b[37m\u001b[0m \u001b[1m24s\u001b[0m 396ms/step - loss: 1.8716 - output_dzielnica_accuracy: 0.8370 - output_dzielnica_loss: 0.5343 - output_ulica_accuracy: 0.3280 - output_ulica_loss: 2.6748 - val_loss: 2.9299 - val_output_dzielnica_accuracy: 0.7382 - val_output_dzielnica_loss: 1.0566 - val_output_ulica_accuracy: 0.3037 - val_output_ulica_loss: 3.7486 - learning_rate: 1.0000e-05\n",
      "Epoch 24/50\n",
      "\u001b[1m60/60\u001b[0m \u001b[32m━━━━━━━━━━━━━━━━━━━━\u001b[0m\u001b[37m\u001b[0m \u001b[1m24s\u001b[0m 400ms/step - loss: 1.7947 - output_dzielnica_accuracy: 0.8467 - output_dzielnica_loss: 0.4970 - output_ulica_accuracy: 0.3421 - output_ulica_loss: 2.5954 - val_loss: 2.9255 - val_output_dzielnica_accuracy: 0.7435 - val_output_dzielnica_loss: 1.0538 - val_output_ulica_accuracy: 0.3052 - val_output_ulica_loss: 3.7454 - learning_rate: 1.0000e-05\n",
      "Epoch 25/50\n",
      "\u001b[1m60/60\u001b[0m \u001b[32m━━━━━━━━━━━━━━━━━━━━\u001b[0m\u001b[37m\u001b[0m \u001b[1m0s\u001b[0m 367ms/step - loss: 1.8450 - output_dzielnica_accuracy: 0.8379 - output_dzielnica_loss: 0.5269 - output_ulica_accuracy: 0.3293 - output_ulica_loss: 2.6361 \n",
      "Epoch 25: ReduceLROnPlateau reducing learning rate to 1.0000000656873453e-06.\n",
      "\u001b[1m60/60\u001b[0m \u001b[32m━━━━━━━━━━━━━━━━━━━━\u001b[0m\u001b[37m\u001b[0m \u001b[1m24s\u001b[0m 403ms/step - loss: 1.8445 - output_dzielnica_accuracy: 0.8380 - output_dzielnica_loss: 0.5266 - output_ulica_accuracy: 0.3294 - output_ulica_loss: 2.6359 - val_loss: 2.9227 - val_output_dzielnica_accuracy: 0.7424 - val_output_dzielnica_loss: 1.0519 - val_output_ulica_accuracy: 0.3037 - val_output_ulica_loss: 3.7435 - learning_rate: 1.0000e-05\n",
      "Epoch 26/50\n",
      "\u001b[1m60/60\u001b[0m \u001b[32m━━━━━━━━━━━━━━━━━━━━\u001b[0m\u001b[37m\u001b[0m \u001b[1m24s\u001b[0m 403ms/step - loss: 1.8313 - output_dzielnica_accuracy: 0.8476 - output_dzielnica_loss: 0.5114 - output_ulica_accuracy: 0.3260 - output_ulica_loss: 2.6396 - val_loss: 2.9228 - val_output_dzielnica_accuracy: 0.7429 - val_output_dzielnica_loss: 1.0519 - val_output_ulica_accuracy: 0.3042 - val_output_ulica_loss: 3.7437 - learning_rate: 1.0000e-06\n",
      "Epoch 27/50\n",
      "\u001b[1m60/60\u001b[0m \u001b[32m━━━━━━━━━━━━━━━━━━━━\u001b[0m\u001b[37m\u001b[0m \u001b[1m24s\u001b[0m 404ms/step - loss: 1.7977 - output_dzielnica_accuracy: 0.8526 - output_dzielnica_loss: 0.4961 - output_ulica_accuracy: 0.3428 - output_ulica_loss: 2.6032 - val_loss: 2.9234 - val_output_dzielnica_accuracy: 0.7419 - val_output_dzielnica_loss: 1.0523 - val_output_ulica_accuracy: 0.3052 - val_output_ulica_loss: 3.7442 - learning_rate: 1.0000e-06\n",
      "Epoch 28/50\n",
      "\u001b[1m60/60\u001b[0m \u001b[32m━━━━━━━━━━━━━━━━━━━━\u001b[0m\u001b[37m\u001b[0m \u001b[1m0s\u001b[0m 360ms/step - loss: 1.7765 - output_dzielnica_accuracy: 0.8531 - output_dzielnica_loss: 0.4812 - output_ulica_accuracy: 0.3379 - output_ulica_loss: 2.5907 \n",
      "Epoch 28: ReduceLROnPlateau reducing learning rate to 1.0000001111620805e-07.\n",
      "\u001b[1m60/60\u001b[0m \u001b[32m━━━━━━━━━━━━━━━━━━━━\u001b[0m\u001b[37m\u001b[0m \u001b[1m24s\u001b[0m 396ms/step - loss: 1.7772 - output_dzielnica_accuracy: 0.8530 - output_dzielnica_loss: 0.4816 - output_ulica_accuracy: 0.3379 - output_ulica_loss: 2.5912 - val_loss: 2.9239 - val_output_dzielnica_accuracy: 0.7424 - val_output_dzielnica_loss: 1.0527 - val_output_ulica_accuracy: 0.3052 - val_output_ulica_loss: 3.7445 - learning_rate: 1.0000e-06\n",
      "Epoch 29/50\n",
      "\u001b[1m60/60\u001b[0m \u001b[32m━━━━━━━━━━━━━━━━━━━━\u001b[0m\u001b[37m\u001b[0m \u001b[1m24s\u001b[0m 402ms/step - loss: 1.7833 - output_dzielnica_accuracy: 0.8499 - output_dzielnica_loss: 0.4901 - output_ulica_accuracy: 0.3426 - output_ulica_loss: 2.5864 - val_loss: 2.9240 - val_output_dzielnica_accuracy: 0.7424 - val_output_dzielnica_loss: 1.0527 - val_output_ulica_accuracy: 0.3052 - val_output_ulica_loss: 3.7445 - learning_rate: 1.0000e-07\n",
      "Epoch 29: early stopping\n",
      "Restoring model weights from the end of the best epoch: 24.\n"
     ]
    }
   ],
   "source": [
    "# === SEKCJA 3: BUDOWA I TRENING MODELU HIERARCHICZNEGO ===\n",
    "\n",
    "# --- 3.1: Definicja architektury ---\n",
    "# Wejścia\n",
    "input_text = Input(shape=(MAX_LEN,), name='text_input')\n",
    "input_numeric = Input(shape=(X_numeric.shape[1],), name='numeric_input')\n",
    "\n",
    "# Wspólny trzon\n",
    "text_embedding = Embedding(input_dim=MAX_WORDS, output_dim=128)(input_text)\n",
    "lstm_out = LSTM(128, dropout=0.3)(text_embedding)\n",
    "concatenated = Concatenate()([lstm_out, input_numeric])\n",
    "common_dense = Dense(128, activation='relu')(concatenated)\n",
    "common_dense = Dropout(0.5)(common_dense)\n",
    "\n",
    "# Gałąź wyjściowa dla DZIELNICY\n",
    "dzielnica_branch = Dense(64, activation='relu')(common_dense)\n",
    "dzielnica_output = Dense(num_classes_dzielnica, activation='softmax', name='output_dzielnica')(dzielnica_branch)\n",
    "\n",
    "# Gałąź wyjściowa dla ULICY\n",
    "ulica_branch = Dense(256, activation='relu')(common_dense)\n",
    "ulica_output = Dense(num_classes_ulica, activation='softmax', name='output_ulica')(ulica_branch)\n",
    "\n",
    "# --- 3.2: Kompilacja modelu ---\n",
    "model = Model(inputs=[input_text, input_numeric], outputs=[dzielnica_output, ulica_output])\n",
    "\n",
    "# Definiujemy osobne straty dla każdego wyjścia\n",
    "losses = {\n",
    "    \"output_dzielnica\": \"sparse_categorical_crossentropy\",\n",
    "    \"output_ulica\": \"sparse_categorical_crossentropy\",\n",
    "}\n",
    "\n",
    "# Definiujemy wagi dla każdej ze strat\n",
    "loss_weights = {\n",
    "    \"output_dzielnica\": 1.0,\n",
    "    \"output_ulica\": 0.5\n",
    "}\n",
    "\n",
    "# POPRAWKA: Definiujemy metryki dla każdego wyjścia osobno\n",
    "metrics = {\n",
    "    \"output_dzielnica\": \"accuracy\",\n",
    "    \"output_ulica\": \"accuracy\"\n",
    "}\n",
    "\n",
    "model.compile(\n",
    "    optimizer='adam',\n",
    "    loss=losses,\n",
    "    loss_weights=loss_weights,\n",
    "    metrics=metrics  # Przekazujemy słownik metryk\n",
    ")\n",
    "model.summary()\n",
    "\n",
    "# --- 3.3: Trening ---\n",
    "X_train = [X_train_text, X_train_num]\n",
    "y_train = {'output_dzielnica': y_train_dzielnica, 'output_ulica': y_train_ulica}\n",
    "X_val = [X_val_text, X_val_num]\n",
    "y_val = {'output_dzielnica': y_val_dzielnica, 'output_ulica': y_val_ulica}\n",
    "\n",
    "callbacks = [\n",
    "    EarlyStopping(\n",
    "        monitor='val_output_dzielnica_accuracy', \n",
    "        patience=5, \n",
    "        restore_best_weights=True, \n",
    "        verbose=1,\n",
    "        mode='max'  # <-- DODAJ TĘ LINIĘ\n",
    "    ),\n",
    "    ReduceLROnPlateau(monitor='val_loss', patience=3, verbose=1)\n",
    "]\n",
    "\n",
    "print(\"\\nRozpoczynam trening modelu hierarchicznego...\")\n",
    "history = model.fit(\n",
    "    X_train, y_train,\n",
    "    validation_data=(X_val, y_val),\n",
    "    epochs=50,\n",
    "    batch_size=128,\n",
    "    callbacks=callbacks\n",
    ")"
   ]
  },
  {
   "cell_type": "code",
   "execution_count": 4,
   "id": "525a735d-3ee1-49c9-b051-4d743bc13d95",
   "metadata": {},
   "outputs": [
    {
     "name": "stdout",
     "output_type": "stream",
     "text": [
      "\n",
      "Wszystkie artefakty zostały zapisane w folderze: 'model_artifacts_final'\n"
     ]
    }
   ],
   "source": [
    "# === SEKCJA 4: ZAPIS ARTEFAKTÓW DO PRODUKCJI ===\n",
    "artifacts_dir = 'model_artifacts_final'\n",
    "os.makedirs(artifacts_dir, exist_ok=True)\n",
    "\n",
    "# 1. Zapis modelu\n",
    "model.save(os.path.join(artifacts_dir, 'final_hierarchical_model.keras'))\n",
    "\n",
    "# 2. Zapis Tokenizera\n",
    "with open(os.path.join(artifacts_dir, 'tokenizer.pkl'), 'wb') as f: pickle.dump(tokenizer, f)\n",
    "\n",
    "# 3. Zapis pipelinu numerycznego\n",
    "with open(os.path.join(artifacts_dir, 'numeric_pipeline.pkl'), 'wb') as f: pickle.dump(numeric_pipeline, f)\n",
    "\n",
    "# 4. Zapis koderów dla zmiennych celu\n",
    "with open(os.path.join(artifacts_dir, 'le_dzielnica.pkl'), 'wb') as f: pickle.dump(le_dzielnica, f)\n",
    "with open(os.path.join(artifacts_dir, 'le_ulica.pkl'), 'wb') as f: pickle.dump(le_ulica, f)\n",
    "\n",
    "print(f\"\\nWszystkie artefakty zostały zapisane w folderze: '{artifacts_dir}'\")"
   ]
  },
  {
   "cell_type": "code",
   "execution_count": null,
   "id": "4f13d09f-21eb-4420-9ed3-39549709795e",
   "metadata": {},
   "outputs": [],
   "source": []
  },
  {
   "cell_type": "code",
   "execution_count": null,
   "id": "3297b548-d7ee-41d2-bb61-eaa8c81926f7",
   "metadata": {},
   "outputs": [],
   "source": []
  },
  {
   "cell_type": "code",
   "execution_count": null,
   "id": "a3a2df07-2cb0-47a0-85ee-a78a2183713d",
   "metadata": {},
   "outputs": [],
   "source": []
  },
  {
   "cell_type": "code",
   "execution_count": null,
   "id": "e1a1d3d3-c4d7-4e5f-a46c-2f3a5b57baf8",
   "metadata": {},
   "outputs": [],
   "source": []
  },
  {
   "cell_type": "code",
   "execution_count": null,
   "id": "89c2d8c4-312b-4a0d-8848-6e324e238d37",
   "metadata": {},
   "outputs": [],
   "source": []
  },
  {
   "cell_type": "code",
   "execution_count": null,
   "id": "9e40df38-3984-4b1f-b3ad-93ceccdf8c3b",
   "metadata": {},
   "outputs": [],
   "source": []
  }
 ],
 "metadata": {
  "kernelspec": {
   "display_name": "Python 3 (ipykernel)",
   "language": "python",
   "name": "python3"
  },
  "language_info": {
   "codemirror_mode": {
    "name": "ipython",
    "version": 3
   },
   "file_extension": ".py",
   "mimetype": "text/x-python",
   "name": "python",
   "nbconvert_exporter": "python",
   "pygments_lexer": "ipython3",
   "version": "3.11.11"
  }
 },
 "nbformat": 4,
 "nbformat_minor": 5
}
