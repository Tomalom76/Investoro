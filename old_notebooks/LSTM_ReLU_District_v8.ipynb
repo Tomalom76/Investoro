{
 "cells": [
  {
   "cell_type": "code",
   "execution_count": 1,
   "id": "91e152d3-0718-4f8b-a46b-6d6a65b37b6d",
   "metadata": {},
   "outputs": [
    {
     "name": "stderr",
     "output_type": "stream",
     "text": [
      "C:\\Users\\Ai\\.conda\\envs\\projekt1\\Lib\\site-packages\\h5py\\__init__.py:36: UserWarning: h5py is running against HDF5 1.14.6 when it was built against 1.14.5, this may cause problems\n",
      "  _warn((\"h5py is running against HDF5 {0} when it was built against {1}, \"\n"
     ]
    },
    {
     "name": "stdout",
     "output_type": "stream",
     "text": [
      "--- Wczytywanie danych ---\n",
      "Pliki wczytane pomyślnie.\n"
     ]
    }
   ],
   "source": [
    "# === SEKCJA 1: IMPORT I WCZYTANIE DANYCH ===\n",
    "import pandas as pd\n",
    "import numpy as np\n",
    "import re\n",
    "from IPython.display import display\n",
    "import pickle\n",
    "import os\n",
    "\n",
    "from tensorflow.keras.models import Model\n",
    "from tensorflow.keras.layers import Input, Embedding, LSTM, Concatenate, Dense, Dropout, BatchNormalization\n",
    "from tensorflow.keras.preprocessing.text import Tokenizer\n",
    "from tensorflow.keras.preprocessing.sequence import pad_sequences\n",
    "from tensorflow.keras.callbacks import EarlyStopping, ReduceLROnPlateau\n",
    "from tensorflow.keras.optimizers import Adam\n",
    "from sklearn.model_selection import train_test_split\n",
    "from sklearn.preprocessing import LabelEncoder, StandardScaler\n",
    "from sklearn.pipeline import Pipeline\n",
    "from sklearn.impute import SimpleImputer\n",
    "import matplotlib.pyplot as plt\n",
    "import warnings\n",
    "warnings.filterwarnings('ignore', category=pd.errors.DtypeWarning)\n",
    "\n",
    "print(\"--- Wczytywanie danych ---\")\n",
    "try:\n",
    "    df_main_raw = pd.read_csv('saleflats_mazowieckie_c.csv', sep=',', header=None, on_bad_lines='skip', low_memory=False)\n",
    "    # Wczytujemy nasz nowy, zweryfikowany słownik\n",
    "    df_slownik = pd.read_csv('slownik_finalny_z_hierarchia.csv', sep=';')\n",
    "    print(\"Pliki wczytane pomyślnie.\")\n",
    "except FileNotFoundError as e:\n",
    "    print(f\"BŁĄD: Nie znaleziono pliku: {e.filename}.\")\n",
    "    raise"
   ]
  },
  {
   "cell_type": "code",
   "execution_count": 2,
   "id": "bc6581b0-c975-4edc-876a-cae03c6e33b4",
   "metadata": {},
   "outputs": [
    {
     "name": "stdout",
     "output_type": "stream",
     "text": [
      "--- Przygotowanie danych do modelu ---\n",
      "\n",
      "Łączenie ofert z danymi ze słownika...\n",
      "Liczba ofert po połączeniu ze słownikiem: 9548\n",
      "Finalny zbiór danych gotowy. Wiersze: 9548\n",
      "\n",
      "Wzbogacanie opisów o nazwy lokalizacji w celu wzmocnienia sygnału...\n",
      "\n",
      "Problem przygotowany do modelowania:\n",
      " - Liczba klas (dzielnice): 18 -> ['Bemowo' 'Białołęka' 'Bielany' 'Mokotów' 'Ochota']...\n",
      " - Liczba klas (ulice): 703\n",
      "\n",
      "Dane podzielone na zbiory treningowe i walidacyjne.\n"
     ]
    }
   ],
   "source": [
    "# === SEKCJA 2: PRZYGOTOWANIE DANYCH -- Z WZBOGACANIEM OPISU ===\n",
    "print(\"--- Przygotowanie danych do modelu ---\")\n",
    "\n",
    "# --- 2.1: Przygotowanie danych z ofert ---\n",
    "df_main = df_main_raw.copy()\n",
    "df_main.columns = [i for i in range(53)] + ['WojewodztwoID', 'PowiatID', 'GminaID', 'RodzajGminyID', 'MiastoID', 'DzielnicaID', 'UlicaID']\n",
    "main_cols_map = {0: 'SaleId', 4: 'Description', 5: 'Area', 6: 'Price', 17: 'NumberOfRooms', 35: 'Floor', 36: 'Floors'}\n",
    "df_main.rename(columns=main_cols_map, inplace=True)\n",
    "\n",
    "numeric_features = ['Area', 'Price', 'NumberOfRooms', 'Floor', 'Floors']\n",
    "id_features = ['UlicaID']\n",
    "for col in numeric_features + id_features:\n",
    "    df_main[col] = pd.to_numeric(df_main[col], errors='coerce')\n",
    "df_main.dropna(subset=['Description'] + numeric_features + id_features, inplace=True)\n",
    "df_main['UlicaID'] = df_main['UlicaID'].astype(int)\n",
    "\n",
    "# --- 2.2: Łączenie ofert ze słownikiem ---\n",
    "print(\"\\nŁączenie ofert z danymi ze słownika...\")\n",
    "df_merged = pd.merge(df_main, df_slownik, on='UlicaID', how='inner')\n",
    "print(f\"Liczba ofert po połączeniu ze słownikiem: {len(df_merged)}\")\n",
    "\n",
    "if len(df_merged) == 0:\n",
    "    raise ValueError(\"Połączenie danych nie dało żadnych wyników.\")\n",
    "\n",
    "df_model_ready = df_merged.copy()\n",
    "print(f\"Finalny zbiór danych gotowy. Wiersze: {len(df_model_ready)}\")\n",
    "\n",
    "\n",
    "# --- 2.3: Przygotowanie Danych Wejściowych (X) ---\n",
    "# ==============================================================================\n",
    "# === KLUCZOWA ZMIANA: WZBOGACANIE OPISU PRZED TOKENIZACJĄ ===\n",
    "# ==============================================================================\n",
    "print(\"\\nWzbogacanie opisów o nazwy lokalizacji w celu wzmocnienia sygnału...\")\n",
    "df_model_ready['description_enriched'] = df_model_ready['Description'] + \" \" + df_model_ready['Dzielnica_Name'] + \" \" + df_model_ready['Ulica_Name']\n",
    "\n",
    "def clean_text(text): return re.sub(r'[^a-ząęółśżźćń ]', '', str(text).lower())\n",
    "\n",
    "# Używamy teraz nowej, wzbogaconej kolumny do nauki tokenizera\n",
    "df_model_ready['description_clean'] = df_model_ready['description_enriched'].apply(clean_text)\n",
    "\n",
    "# ==============================================================================\n",
    "\n",
    "MAX_WORDS, MAX_LEN = 20000, 250\n",
    "tokenizer = Tokenizer(num_words=MAX_WORDS, oov_token=\"<unk>\")\n",
    "tokenizer.fit_on_texts(df_model_ready['description_clean'])\n",
    "X_text = pad_sequences(tokenizer.texts_to_sequences(df_model_ready['description_clean']), maxlen=MAX_LEN)\n",
    "\n",
    "df_model_ready['Price_per_sqm'] = df_model_ready['Price'] / df_model_ready['Area']\n",
    "df_model_ready['Price_per_sqm'].replace([np.inf, -np.inf], np.nan, inplace=True)\n",
    "numeric_features_cols = ['Area', 'Price', 'NumberOfRooms', 'Floor', 'Floors', 'Price_per_sqm']\n",
    "numeric_pipeline = Pipeline([('imputer', SimpleImputer(strategy='median')), ('scaler', StandardScaler())])\n",
    "X_numeric = numeric_pipeline.fit_transform(df_model_ready[numeric_features_cols])\n",
    "\n",
    "# --- 2.4: Przygotowanie Danych Wyjściowych (y) ---\n",
    "# ... (reszta komórki bez zmian) ...\n",
    "le_dzielnica = LabelEncoder()\n",
    "y_dzielnica = le_dzielnica.fit_transform(df_model_ready['Dzielnica_Name'])\n",
    "num_classes_dzielnica = len(le_dzielnica.classes_)\n",
    "le_ulica = LabelEncoder()\n",
    "y_ulica = le_ulica.fit_transform(df_model_ready['Ulica_Name'])\n",
    "num_classes_ulica = len(le_ulica.classes_)\n",
    "print(f\"\\nProblem przygotowany do modelowania:\")\n",
    "print(f\" - Liczba klas (dzielnice): {num_classes_dzielnica} -> {le_dzielnica.classes_[:5]}...\")\n",
    "print(f\" - Liczba klas (ulice): {num_classes_ulica}\")\n",
    "train_indices, val_indices = train_test_split(range(len(df_model_ready)), test_size=0.2, random_state=42, stratify=y_dzielnica)\n",
    "X_train_text, X_val_text = X_text[train_indices], X_text[val_indices]\n",
    "X_train_num, X_val_num = X_numeric[train_indices], X_numeric[val_indices]\n",
    "y_train_dzielnica, y_val_dzielnica = y_dzielnica[train_indices], y_dzielnica[val_indices]\n",
    "y_train_ulica, y_val_ulica = y_ulica[train_indices], y_ulica[val_indices]\n",
    "print(\"\\nDane podzielone na zbiory treningowe i walidacyjne.\")"
   ]
  },
  {
   "cell_type": "code",
   "execution_count": 3,
   "id": "d050d6a7-aa81-4891-8814-80bfb7a75e80",
   "metadata": {},
   "outputs": [
    {
     "data": {
      "text/html": [
       "<pre style=\"white-space:pre;overflow-x:auto;line-height:normal;font-family:Menlo,'DejaVu Sans Mono',consolas,'Courier New',monospace\"><span style=\"font-weight: bold\">Model: \"functional\"</span>\n",
       "</pre>\n"
      ],
      "text/plain": [
       "\u001b[1mModel: \"functional\"\u001b[0m\n"
      ]
     },
     "metadata": {},
     "output_type": "display_data"
    },
    {
     "data": {
      "text/html": [
       "<pre style=\"white-space:pre;overflow-x:auto;line-height:normal;font-family:Menlo,'DejaVu Sans Mono',consolas,'Courier New',monospace\">┏━━━━━━━━━━━━━━━━━━━━━━━━━━━━━━━┳━━━━━━━━━━━━━━━━━━━━━━━━━━━┳━━━━━━━━━━━━━━━━━┳━━━━━━━━━━━━━━━━━━━━━━━━━━━━┓\n",
       "┃<span style=\"font-weight: bold\"> Layer (type)                  </span>┃<span style=\"font-weight: bold\"> Output Shape              </span>┃<span style=\"font-weight: bold\">         Param # </span>┃<span style=\"font-weight: bold\"> Connected to               </span>┃\n",
       "┡━━━━━━━━━━━━━━━━━━━━━━━━━━━━━━━╇━━━━━━━━━━━━━━━━━━━━━━━━━━━╇━━━━━━━━━━━━━━━━━╇━━━━━━━━━━━━━━━━━━━━━━━━━━━━┩\n",
       "│ text_input (<span style=\"color: #0087ff; text-decoration-color: #0087ff\">InputLayer</span>)       │ (<span style=\"color: #00d7ff; text-decoration-color: #00d7ff\">None</span>, <span style=\"color: #00af00; text-decoration-color: #00af00\">250</span>)               │               <span style=\"color: #00af00; text-decoration-color: #00af00\">0</span> │ -                          │\n",
       "├───────────────────────────────┼───────────────────────────┼─────────────────┼────────────────────────────┤\n",
       "│ embedding (<span style=\"color: #0087ff; text-decoration-color: #0087ff\">Embedding</span>)         │ (<span style=\"color: #00d7ff; text-decoration-color: #00d7ff\">None</span>, <span style=\"color: #00af00; text-decoration-color: #00af00\">250</span>, <span style=\"color: #00af00; text-decoration-color: #00af00\">128</span>)          │       <span style=\"color: #00af00; text-decoration-color: #00af00\">2,560,000</span> │ text_input[<span style=\"color: #00af00; text-decoration-color: #00af00\">0</span>][<span style=\"color: #00af00; text-decoration-color: #00af00\">0</span>]           │\n",
       "├───────────────────────────────┼───────────────────────────┼─────────────────┼────────────────────────────┤\n",
       "│ lstm (<span style=\"color: #0087ff; text-decoration-color: #0087ff\">LSTM</span>)                   │ (<span style=\"color: #00d7ff; text-decoration-color: #00d7ff\">None</span>, <span style=\"color: #00af00; text-decoration-color: #00af00\">128</span>)               │         <span style=\"color: #00af00; text-decoration-color: #00af00\">131,584</span> │ embedding[<span style=\"color: #00af00; text-decoration-color: #00af00\">0</span>][<span style=\"color: #00af00; text-decoration-color: #00af00\">0</span>]            │\n",
       "├───────────────────────────────┼───────────────────────────┼─────────────────┼────────────────────────────┤\n",
       "│ numeric_input (<span style=\"color: #0087ff; text-decoration-color: #0087ff\">InputLayer</span>)    │ (<span style=\"color: #00d7ff; text-decoration-color: #00d7ff\">None</span>, <span style=\"color: #00af00; text-decoration-color: #00af00\">6</span>)                 │               <span style=\"color: #00af00; text-decoration-color: #00af00\">0</span> │ -                          │\n",
       "├───────────────────────────────┼───────────────────────────┼─────────────────┼────────────────────────────┤\n",
       "│ concatenate (<span style=\"color: #0087ff; text-decoration-color: #0087ff\">Concatenate</span>)     │ (<span style=\"color: #00d7ff; text-decoration-color: #00d7ff\">None</span>, <span style=\"color: #00af00; text-decoration-color: #00af00\">134</span>)               │               <span style=\"color: #00af00; text-decoration-color: #00af00\">0</span> │ lstm[<span style=\"color: #00af00; text-decoration-color: #00af00\">0</span>][<span style=\"color: #00af00; text-decoration-color: #00af00\">0</span>],                │\n",
       "│                               │                           │                 │ numeric_input[<span style=\"color: #00af00; text-decoration-color: #00af00\">0</span>][<span style=\"color: #00af00; text-decoration-color: #00af00\">0</span>]        │\n",
       "├───────────────────────────────┼───────────────────────────┼─────────────────┼────────────────────────────┤\n",
       "│ dense (<span style=\"color: #0087ff; text-decoration-color: #0087ff\">Dense</span>)                 │ (<span style=\"color: #00d7ff; text-decoration-color: #00d7ff\">None</span>, <span style=\"color: #00af00; text-decoration-color: #00af00\">128</span>)               │          <span style=\"color: #00af00; text-decoration-color: #00af00\">17,280</span> │ concatenate[<span style=\"color: #00af00; text-decoration-color: #00af00\">0</span>][<span style=\"color: #00af00; text-decoration-color: #00af00\">0</span>]          │\n",
       "├───────────────────────────────┼───────────────────────────┼─────────────────┼────────────────────────────┤\n",
       "│ dropout (<span style=\"color: #0087ff; text-decoration-color: #0087ff\">Dropout</span>)             │ (<span style=\"color: #00d7ff; text-decoration-color: #00d7ff\">None</span>, <span style=\"color: #00af00; text-decoration-color: #00af00\">128</span>)               │               <span style=\"color: #00af00; text-decoration-color: #00af00\">0</span> │ dense[<span style=\"color: #00af00; text-decoration-color: #00af00\">0</span>][<span style=\"color: #00af00; text-decoration-color: #00af00\">0</span>]                │\n",
       "├───────────────────────────────┼───────────────────────────┼─────────────────┼────────────────────────────┤\n",
       "│ dense_1 (<span style=\"color: #0087ff; text-decoration-color: #0087ff\">Dense</span>)               │ (<span style=\"color: #00d7ff; text-decoration-color: #00d7ff\">None</span>, <span style=\"color: #00af00; text-decoration-color: #00af00\">64</span>)                │           <span style=\"color: #00af00; text-decoration-color: #00af00\">8,256</span> │ dropout[<span style=\"color: #00af00; text-decoration-color: #00af00\">0</span>][<span style=\"color: #00af00; text-decoration-color: #00af00\">0</span>]              │\n",
       "├───────────────────────────────┼───────────────────────────┼─────────────────┼────────────────────────────┤\n",
       "│ dense_2 (<span style=\"color: #0087ff; text-decoration-color: #0087ff\">Dense</span>)               │ (<span style=\"color: #00d7ff; text-decoration-color: #00d7ff\">None</span>, <span style=\"color: #00af00; text-decoration-color: #00af00\">256</span>)               │          <span style=\"color: #00af00; text-decoration-color: #00af00\">33,024</span> │ dropout[<span style=\"color: #00af00; text-decoration-color: #00af00\">0</span>][<span style=\"color: #00af00; text-decoration-color: #00af00\">0</span>]              │\n",
       "├───────────────────────────────┼───────────────────────────┼─────────────────┼────────────────────────────┤\n",
       "│ output_dzielnica (<span style=\"color: #0087ff; text-decoration-color: #0087ff\">Dense</span>)      │ (<span style=\"color: #00d7ff; text-decoration-color: #00d7ff\">None</span>, <span style=\"color: #00af00; text-decoration-color: #00af00\">18</span>)                │           <span style=\"color: #00af00; text-decoration-color: #00af00\">1,170</span> │ dense_1[<span style=\"color: #00af00; text-decoration-color: #00af00\">0</span>][<span style=\"color: #00af00; text-decoration-color: #00af00\">0</span>]              │\n",
       "├───────────────────────────────┼───────────────────────────┼─────────────────┼────────────────────────────┤\n",
       "│ output_ulica (<span style=\"color: #0087ff; text-decoration-color: #0087ff\">Dense</span>)          │ (<span style=\"color: #00d7ff; text-decoration-color: #00d7ff\">None</span>, <span style=\"color: #00af00; text-decoration-color: #00af00\">703</span>)               │         <span style=\"color: #00af00; text-decoration-color: #00af00\">180,671</span> │ dense_2[<span style=\"color: #00af00; text-decoration-color: #00af00\">0</span>][<span style=\"color: #00af00; text-decoration-color: #00af00\">0</span>]              │\n",
       "└───────────────────────────────┴───────────────────────────┴─────────────────┴────────────────────────────┘\n",
       "</pre>\n"
      ],
      "text/plain": [
       "┏━━━━━━━━━━━━━━━━━━━━━━━━━━━━━━━┳━━━━━━━━━━━━━━━━━━━━━━━━━━━┳━━━━━━━━━━━━━━━━━┳━━━━━━━━━━━━━━━━━━━━━━━━━━━━┓\n",
       "┃\u001b[1m \u001b[0m\u001b[1mLayer (type)                 \u001b[0m\u001b[1m \u001b[0m┃\u001b[1m \u001b[0m\u001b[1mOutput Shape             \u001b[0m\u001b[1m \u001b[0m┃\u001b[1m \u001b[0m\u001b[1m        Param #\u001b[0m\u001b[1m \u001b[0m┃\u001b[1m \u001b[0m\u001b[1mConnected to              \u001b[0m\u001b[1m \u001b[0m┃\n",
       "┡━━━━━━━━━━━━━━━━━━━━━━━━━━━━━━━╇━━━━━━━━━━━━━━━━━━━━━━━━━━━╇━━━━━━━━━━━━━━━━━╇━━━━━━━━━━━━━━━━━━━━━━━━━━━━┩\n",
       "│ text_input (\u001b[38;5;33mInputLayer\u001b[0m)       │ (\u001b[38;5;45mNone\u001b[0m, \u001b[38;5;34m250\u001b[0m)               │               \u001b[38;5;34m0\u001b[0m │ -                          │\n",
       "├───────────────────────────────┼───────────────────────────┼─────────────────┼────────────────────────────┤\n",
       "│ embedding (\u001b[38;5;33mEmbedding\u001b[0m)         │ (\u001b[38;5;45mNone\u001b[0m, \u001b[38;5;34m250\u001b[0m, \u001b[38;5;34m128\u001b[0m)          │       \u001b[38;5;34m2,560,000\u001b[0m │ text_input[\u001b[38;5;34m0\u001b[0m][\u001b[38;5;34m0\u001b[0m]           │\n",
       "├───────────────────────────────┼───────────────────────────┼─────────────────┼────────────────────────────┤\n",
       "│ lstm (\u001b[38;5;33mLSTM\u001b[0m)                   │ (\u001b[38;5;45mNone\u001b[0m, \u001b[38;5;34m128\u001b[0m)               │         \u001b[38;5;34m131,584\u001b[0m │ embedding[\u001b[38;5;34m0\u001b[0m][\u001b[38;5;34m0\u001b[0m]            │\n",
       "├───────────────────────────────┼───────────────────────────┼─────────────────┼────────────────────────────┤\n",
       "│ numeric_input (\u001b[38;5;33mInputLayer\u001b[0m)    │ (\u001b[38;5;45mNone\u001b[0m, \u001b[38;5;34m6\u001b[0m)                 │               \u001b[38;5;34m0\u001b[0m │ -                          │\n",
       "├───────────────────────────────┼───────────────────────────┼─────────────────┼────────────────────────────┤\n",
       "│ concatenate (\u001b[38;5;33mConcatenate\u001b[0m)     │ (\u001b[38;5;45mNone\u001b[0m, \u001b[38;5;34m134\u001b[0m)               │               \u001b[38;5;34m0\u001b[0m │ lstm[\u001b[38;5;34m0\u001b[0m][\u001b[38;5;34m0\u001b[0m],                │\n",
       "│                               │                           │                 │ numeric_input[\u001b[38;5;34m0\u001b[0m][\u001b[38;5;34m0\u001b[0m]        │\n",
       "├───────────────────────────────┼───────────────────────────┼─────────────────┼────────────────────────────┤\n",
       "│ dense (\u001b[38;5;33mDense\u001b[0m)                 │ (\u001b[38;5;45mNone\u001b[0m, \u001b[38;5;34m128\u001b[0m)               │          \u001b[38;5;34m17,280\u001b[0m │ concatenate[\u001b[38;5;34m0\u001b[0m][\u001b[38;5;34m0\u001b[0m]          │\n",
       "├───────────────────────────────┼───────────────────────────┼─────────────────┼────────────────────────────┤\n",
       "│ dropout (\u001b[38;5;33mDropout\u001b[0m)             │ (\u001b[38;5;45mNone\u001b[0m, \u001b[38;5;34m128\u001b[0m)               │               \u001b[38;5;34m0\u001b[0m │ dense[\u001b[38;5;34m0\u001b[0m][\u001b[38;5;34m0\u001b[0m]                │\n",
       "├───────────────────────────────┼───────────────────────────┼─────────────────┼────────────────────────────┤\n",
       "│ dense_1 (\u001b[38;5;33mDense\u001b[0m)               │ (\u001b[38;5;45mNone\u001b[0m, \u001b[38;5;34m64\u001b[0m)                │           \u001b[38;5;34m8,256\u001b[0m │ dropout[\u001b[38;5;34m0\u001b[0m][\u001b[38;5;34m0\u001b[0m]              │\n",
       "├───────────────────────────────┼───────────────────────────┼─────────────────┼────────────────────────────┤\n",
       "│ dense_2 (\u001b[38;5;33mDense\u001b[0m)               │ (\u001b[38;5;45mNone\u001b[0m, \u001b[38;5;34m256\u001b[0m)               │          \u001b[38;5;34m33,024\u001b[0m │ dropout[\u001b[38;5;34m0\u001b[0m][\u001b[38;5;34m0\u001b[0m]              │\n",
       "├───────────────────────────────┼───────────────────────────┼─────────────────┼────────────────────────────┤\n",
       "│ output_dzielnica (\u001b[38;5;33mDense\u001b[0m)      │ (\u001b[38;5;45mNone\u001b[0m, \u001b[38;5;34m18\u001b[0m)                │           \u001b[38;5;34m1,170\u001b[0m │ dense_1[\u001b[38;5;34m0\u001b[0m][\u001b[38;5;34m0\u001b[0m]              │\n",
       "├───────────────────────────────┼───────────────────────────┼─────────────────┼────────────────────────────┤\n",
       "│ output_ulica (\u001b[38;5;33mDense\u001b[0m)          │ (\u001b[38;5;45mNone\u001b[0m, \u001b[38;5;34m703\u001b[0m)               │         \u001b[38;5;34m180,671\u001b[0m │ dense_2[\u001b[38;5;34m0\u001b[0m][\u001b[38;5;34m0\u001b[0m]              │\n",
       "└───────────────────────────────┴───────────────────────────┴─────────────────┴────────────────────────────┘\n"
      ]
     },
     "metadata": {},
     "output_type": "display_data"
    },
    {
     "data": {
      "text/html": [
       "<pre style=\"white-space:pre;overflow-x:auto;line-height:normal;font-family:Menlo,'DejaVu Sans Mono',consolas,'Courier New',monospace\"><span style=\"font-weight: bold\"> Total params: </span><span style=\"color: #00af00; text-decoration-color: #00af00\">2,931,985</span> (11.18 MB)\n",
       "</pre>\n"
      ],
      "text/plain": [
       "\u001b[1m Total params: \u001b[0m\u001b[38;5;34m2,931,985\u001b[0m (11.18 MB)\n"
      ]
     },
     "metadata": {},
     "output_type": "display_data"
    },
    {
     "data": {
      "text/html": [
       "<pre style=\"white-space:pre;overflow-x:auto;line-height:normal;font-family:Menlo,'DejaVu Sans Mono',consolas,'Courier New',monospace\"><span style=\"font-weight: bold\"> Trainable params: </span><span style=\"color: #00af00; text-decoration-color: #00af00\">2,931,985</span> (11.18 MB)\n",
       "</pre>\n"
      ],
      "text/plain": [
       "\u001b[1m Trainable params: \u001b[0m\u001b[38;5;34m2,931,985\u001b[0m (11.18 MB)\n"
      ]
     },
     "metadata": {},
     "output_type": "display_data"
    },
    {
     "data": {
      "text/html": [
       "<pre style=\"white-space:pre;overflow-x:auto;line-height:normal;font-family:Menlo,'DejaVu Sans Mono',consolas,'Courier New',monospace\"><span style=\"font-weight: bold\"> Non-trainable params: </span><span style=\"color: #00af00; text-decoration-color: #00af00\">0</span> (0.00 B)\n",
       "</pre>\n"
      ],
      "text/plain": [
       "\u001b[1m Non-trainable params: \u001b[0m\u001b[38;5;34m0\u001b[0m (0.00 B)\n"
      ]
     },
     "metadata": {},
     "output_type": "display_data"
    },
    {
     "name": "stdout",
     "output_type": "stream",
     "text": [
      "\n",
      "Rozpoczynam trening modelu hierarchicznego...\n",
      "Epoch 1/50\n",
      "\u001b[1m60/60\u001b[0m \u001b[32m━━━━━━━━━━━━━━━━━━━━\u001b[0m\u001b[37m\u001b[0m \u001b[1m27s\u001b[0m 392ms/step - loss: 5.2718 - output_dzielnica_accuracy: 0.3045 - output_dzielnica_loss: 2.3882 - output_ulica_accuracy: 0.1321 - output_ulica_loss: 5.7667 - val_loss: 3.0767 - val_output_dzielnica_accuracy: 0.7000 - val_output_dzielnica_loss: 1.0301 - val_output_ulica_accuracy: 0.2503 - val_output_ulica_loss: 4.0935 - learning_rate: 0.0010\n",
      "Epoch 2/50\n",
      "\u001b[1m60/60\u001b[0m \u001b[32m━━━━━━━━━━━━━━━━━━━━\u001b[0m\u001b[37m\u001b[0m \u001b[1m22s\u001b[0m 375ms/step - loss: 2.8236 - output_dzielnica_accuracy: 0.7298 - output_dzielnica_loss: 0.8677 - output_ulica_accuracy: 0.2481 - output_ulica_loss: 3.9117 - val_loss: 2.1762 - val_output_dzielnica_accuracy: 0.8524 - val_output_dzielnica_loss: 0.5005 - val_output_ulica_accuracy: 0.2796 - val_output_ulica_loss: 3.3513 - learning_rate: 0.0010\n",
      "Epoch 3/50\n",
      "\u001b[1m60/60\u001b[0m \u001b[32m━━━━━━━━━━━━━━━━━━━━\u001b[0m\u001b[37m\u001b[0m \u001b[1m23s\u001b[0m 380ms/step - loss: 2.1198 - output_dzielnica_accuracy: 0.8424 - output_dzielnica_loss: 0.4921 - output_ulica_accuracy: 0.3011 - output_ulica_loss: 3.2555 - val_loss: 1.7583 - val_output_dzielnica_accuracy: 0.8785 - val_output_dzielnica_loss: 0.3472 - val_output_ulica_accuracy: 0.3995 - val_output_ulica_loss: 2.8225 - learning_rate: 0.0010\n",
      "Epoch 4/50\n",
      "\u001b[1m60/60\u001b[0m \u001b[32m━━━━━━━━━━━━━━━━━━━━\u001b[0m\u001b[37m\u001b[0m \u001b[1m23s\u001b[0m 391ms/step - loss: 1.6834 - output_dzielnica_accuracy: 0.8885 - output_dzielnica_loss: 0.3335 - output_ulica_accuracy: 0.4027 - output_ulica_loss: 2.6998 - val_loss: 1.4139 - val_output_dzielnica_accuracy: 0.9450 - val_output_dzielnica_loss: 0.2012 - val_output_ulica_accuracy: 0.4728 - val_output_ulica_loss: 2.4258 - learning_rate: 0.0010\n",
      "Epoch 5/50\n",
      "\u001b[1m60/60\u001b[0m \u001b[32m━━━━━━━━━━━━━━━━━━━━\u001b[0m\u001b[37m\u001b[0m \u001b[1m25s\u001b[0m 410ms/step - loss: 1.3752 - output_dzielnica_accuracy: 0.9275 - output_dzielnica_loss: 0.2197 - output_ulica_accuracy: 0.4662 - output_ulica_loss: 2.3111 - val_loss: 1.1354 - val_output_dzielnica_accuracy: 0.9639 - val_output_dzielnica_loss: 0.1121 - val_output_ulica_accuracy: 0.5644 - val_output_ulica_loss: 2.0471 - learning_rate: 0.0010\n",
      "Epoch 6/50\n",
      "\u001b[1m60/60\u001b[0m \u001b[32m━━━━━━━━━━━━━━━━━━━━\u001b[0m\u001b[37m\u001b[0m \u001b[1m25s\u001b[0m 414ms/step - loss: 1.1004 - output_dzielnica_accuracy: 0.9551 - output_dzielnica_loss: 0.1322 - output_ulica_accuracy: 0.5351 - output_ulica_loss: 1.9364 - val_loss: 0.9334 - val_output_dzielnica_accuracy: 0.9806 - val_output_dzielnica_loss: 0.0662 - val_output_ulica_accuracy: 0.6534 - val_output_ulica_loss: 1.7347 - learning_rate: 0.0010\n",
      "Epoch 7/50\n",
      "\u001b[1m60/60\u001b[0m \u001b[32m━━━━━━━━━━━━━━━━━━━━\u001b[0m\u001b[37m\u001b[0m \u001b[1m25s\u001b[0m 421ms/step - loss: 0.9456 - output_dzielnica_accuracy: 0.9676 - output_dzielnica_loss: 0.0997 - output_ulica_accuracy: 0.5909 - output_ulica_loss: 1.6918 - val_loss: 0.8094 - val_output_dzielnica_accuracy: 0.9948 - val_output_dzielnica_loss: 0.0389 - val_output_ulica_accuracy: 0.6932 - val_output_ulica_loss: 1.5417 - learning_rate: 0.0010\n",
      "Epoch 8/50\n",
      "\u001b[1m60/60\u001b[0m \u001b[32m━━━━━━━━━━━━━━━━━━━━\u001b[0m\u001b[37m\u001b[0m \u001b[1m25s\u001b[0m 410ms/step - loss: 0.7843 - output_dzielnica_accuracy: 0.9790 - output_dzielnica_loss: 0.0707 - output_ulica_accuracy: 0.6409 - output_ulica_loss: 1.4274 - val_loss: 0.7454 - val_output_dzielnica_accuracy: 0.9963 - val_output_dzielnica_loss: 0.0367 - val_output_ulica_accuracy: 0.7236 - val_output_ulica_loss: 1.4178 - learning_rate: 0.0010\n",
      "Epoch 9/50\n",
      "\u001b[1m60/60\u001b[0m \u001b[32m━━━━━━━━━━━━━━━━━━━━\u001b[0m\u001b[37m\u001b[0m \u001b[1m24s\u001b[0m 406ms/step - loss: 0.7154 - output_dzielnica_accuracy: 0.9791 - output_dzielnica_loss: 0.0675 - output_ulica_accuracy: 0.6666 - output_ulica_loss: 1.2959 - val_loss: 0.6599 - val_output_dzielnica_accuracy: 0.9974 - val_output_dzielnica_loss: 0.0231 - val_output_ulica_accuracy: 0.7602 - val_output_ulica_loss: 1.2735 - learning_rate: 0.0010\n",
      "Epoch 10/50\n",
      "\u001b[1m60/60\u001b[0m \u001b[32m━━━━━━━━━━━━━━━━━━━━\u001b[0m\u001b[37m\u001b[0m \u001b[1m24s\u001b[0m 395ms/step - loss: 0.6221 - output_dzielnica_accuracy: 0.9875 - output_dzielnica_loss: 0.0497 - output_ulica_accuracy: 0.7026 - output_ulica_loss: 1.1450 - val_loss: 0.6044 - val_output_dzielnica_accuracy: 0.9963 - val_output_dzielnica_loss: 0.0245 - val_output_ulica_accuracy: 0.7901 - val_output_ulica_loss: 1.1595 - learning_rate: 0.0010\n",
      "Epoch 11/50\n",
      "\u001b[1m60/60\u001b[0m \u001b[32m━━━━━━━━━━━━━━━━━━━━\u001b[0m\u001b[37m\u001b[0m \u001b[1m24s\u001b[0m 393ms/step - loss: 0.5517 - output_dzielnica_accuracy: 0.9868 - output_dzielnica_loss: 0.0430 - output_ulica_accuracy: 0.7266 - output_ulica_loss: 1.0173 - val_loss: 0.5602 - val_output_dzielnica_accuracy: 0.9979 - val_output_dzielnica_loss: 0.0158 - val_output_ulica_accuracy: 0.8089 - val_output_ulica_loss: 1.0888 - learning_rate: 0.0010\n",
      "Epoch 12/50\n",
      "\u001b[1m60/60\u001b[0m \u001b[32m━━━━━━━━━━━━━━━━━━━━\u001b[0m\u001b[37m\u001b[0m \u001b[1m23s\u001b[0m 391ms/step - loss: 0.4904 - output_dzielnica_accuracy: 0.9917 - output_dzielnica_loss: 0.0356 - output_ulica_accuracy: 0.7494 - output_ulica_loss: 0.9096 - val_loss: 0.5314 - val_output_dzielnica_accuracy: 0.9984 - val_output_dzielnica_loss: 0.0102 - val_output_ulica_accuracy: 0.8251 - val_output_ulica_loss: 1.0421 - learning_rate: 0.0010\n",
      "Epoch 13/50\n",
      "\u001b[1m60/60\u001b[0m \u001b[32m━━━━━━━━━━━━━━━━━━━━\u001b[0m\u001b[37m\u001b[0m \u001b[1m24s\u001b[0m 395ms/step - loss: 0.4650 - output_dzielnica_accuracy: 0.9887 - output_dzielnica_loss: 0.0372 - output_ulica_accuracy: 0.7592 - output_ulica_loss: 0.8556 - val_loss: 0.5165 - val_output_dzielnica_accuracy: 0.9990 - val_output_dzielnica_loss: 0.0104 - val_output_ulica_accuracy: 0.8304 - val_output_ulica_loss: 1.0120 - learning_rate: 0.0010\n",
      "Epoch 14/50\n",
      "\u001b[1m60/60\u001b[0m \u001b[32m━━━━━━━━━━━━━━━━━━━━\u001b[0m\u001b[37m\u001b[0m \u001b[1m24s\u001b[0m 395ms/step - loss: 0.4316 - output_dzielnica_accuracy: 0.9920 - output_dzielnica_loss: 0.0295 - output_ulica_accuracy: 0.7771 - output_ulica_loss: 0.8041 - val_loss: 0.4881 - val_output_dzielnica_accuracy: 0.9984 - val_output_dzielnica_loss: 0.0091 - val_output_ulica_accuracy: 0.8539 - val_output_ulica_loss: 0.9580 - learning_rate: 0.0010\n",
      "Epoch 15/50\n",
      "\u001b[1m60/60\u001b[0m \u001b[32m━━━━━━━━━━━━━━━━━━━━\u001b[0m\u001b[37m\u001b[0m \u001b[1m24s\u001b[0m 393ms/step - loss: 0.3941 - output_dzielnica_accuracy: 0.9884 - output_dzielnica_loss: 0.0361 - output_ulica_accuracy: 0.7955 - output_ulica_loss: 0.7160 - val_loss: 0.4613 - val_output_dzielnica_accuracy: 0.9990 - val_output_dzielnica_loss: 0.0050 - val_output_ulica_accuracy: 0.8707 - val_output_ulica_loss: 0.9124 - learning_rate: 0.0010\n",
      "Epoch 16/50\n",
      "\u001b[1m60/60\u001b[0m \u001b[32m━━━━━━━━━━━━━━━━━━━━\u001b[0m\u001b[37m\u001b[0m \u001b[1m24s\u001b[0m 393ms/step - loss: 0.3507 - output_dzielnica_accuracy: 0.9929 - output_dzielnica_loss: 0.0254 - output_ulica_accuracy: 0.8112 - output_ulica_loss: 0.6505 - val_loss: 0.4557 - val_output_dzielnica_accuracy: 0.9990 - val_output_dzielnica_loss: 0.0053 - val_output_ulica_accuracy: 0.8712 - val_output_ulica_loss: 0.9004 - learning_rate: 0.0010\n",
      "Epoch 17/50\n",
      "\u001b[1m60/60\u001b[0m \u001b[32m━━━━━━━━━━━━━━━━━━━━\u001b[0m\u001b[37m\u001b[0m \u001b[1m23s\u001b[0m 390ms/step - loss: 0.3385 - output_dzielnica_accuracy: 0.9934 - output_dzielnica_loss: 0.0255 - output_ulica_accuracy: 0.8179 - output_ulica_loss: 0.6261 - val_loss: 0.4436 - val_output_dzielnica_accuracy: 0.9990 - val_output_dzielnica_loss: 0.0055 - val_output_ulica_accuracy: 0.8775 - val_output_ulica_loss: 0.8759 - learning_rate: 0.0010\n",
      "Epoch 18/50\n",
      "\u001b[1m60/60\u001b[0m \u001b[32m━━━━━━━━━━━━━━━━━━━━\u001b[0m\u001b[37m\u001b[0m \u001b[1m24s\u001b[0m 397ms/step - loss: 0.3377 - output_dzielnica_accuracy: 0.9891 - output_dzielnica_loss: 0.0365 - output_ulica_accuracy: 0.8259 - output_ulica_loss: 0.6023 - val_loss: 0.4471 - val_output_dzielnica_accuracy: 1.0000 - val_output_dzielnica_loss: 0.0039 - val_output_ulica_accuracy: 0.8885 - val_output_ulica_loss: 0.8862 - learning_rate: 0.0010\n",
      "Epoch 19/50\n",
      "\u001b[1m60/60\u001b[0m \u001b[32m━━━━━━━━━━━━━━━━━━━━\u001b[0m\u001b[37m\u001b[0m \u001b[1m24s\u001b[0m 404ms/step - loss: 0.2987 - output_dzielnica_accuracy: 0.9915 - output_dzielnica_loss: 0.0270 - output_ulica_accuracy: 0.8447 - output_ulica_loss: 0.5435 - val_loss: 0.4382 - val_output_dzielnica_accuracy: 0.9990 - val_output_dzielnica_loss: 0.0034 - val_output_ulica_accuracy: 0.8906 - val_output_ulica_loss: 0.8691 - learning_rate: 0.0010\n",
      "Epoch 20/50\n",
      "\u001b[1m60/60\u001b[0m \u001b[32m━━━━━━━━━━━━━━━━━━━━\u001b[0m\u001b[37m\u001b[0m \u001b[1m24s\u001b[0m 405ms/step - loss: 0.3044 - output_dzielnica_accuracy: 0.9901 - output_dzielnica_loss: 0.0302 - output_ulica_accuracy: 0.8332 - output_ulica_loss: 0.5484 - val_loss: 0.4225 - val_output_dzielnica_accuracy: 0.9995 - val_output_dzielnica_loss: 0.0029 - val_output_ulica_accuracy: 0.9005 - val_output_ulica_loss: 0.8387 - learning_rate: 0.0010\n",
      "Epoch 21/50\n",
      "\u001b[1m60/60\u001b[0m \u001b[32m━━━━━━━━━━━━━━━━━━━━\u001b[0m\u001b[37m\u001b[0m \u001b[1m24s\u001b[0m 404ms/step - loss: 0.2933 - output_dzielnica_accuracy: 0.9888 - output_dzielnica_loss: 0.0324 - output_ulica_accuracy: 0.8421 - output_ulica_loss: 0.5218 - val_loss: 0.4146 - val_output_dzielnica_accuracy: 0.9990 - val_output_dzielnica_loss: 0.0037 - val_output_ulica_accuracy: 0.9079 - val_output_ulica_loss: 0.8212 - learning_rate: 0.0010\n",
      "Epoch 22/50\n",
      "\u001b[1m60/60\u001b[0m \u001b[32m━━━━━━━━━━━━━━━━━━━━\u001b[0m\u001b[37m\u001b[0m \u001b[1m24s\u001b[0m 403ms/step - loss: 0.2639 - output_dzielnica_accuracy: 0.9916 - output_dzielnica_loss: 0.0312 - output_ulica_accuracy: 0.8624 - output_ulica_loss: 0.4655 - val_loss: 0.4124 - val_output_dzielnica_accuracy: 1.0000 - val_output_dzielnica_loss: 0.0030 - val_output_ulica_accuracy: 0.9168 - val_output_ulica_loss: 0.8185 - learning_rate: 0.0010\n",
      "Epoch 23/50\n",
      "\u001b[1m60/60\u001b[0m \u001b[32m━━━━━━━━━━━━━━━━━━━━\u001b[0m\u001b[37m\u001b[0m \u001b[1m24s\u001b[0m 401ms/step - loss: 0.2484 - output_dzielnica_accuracy: 0.9918 - output_dzielnica_loss: 0.0237 - output_ulica_accuracy: 0.8656 - output_ulica_loss: 0.4493 - val_loss: 0.4007 - val_output_dzielnica_accuracy: 0.9995 - val_output_dzielnica_loss: 0.0029 - val_output_ulica_accuracy: 0.9183 - val_output_ulica_loss: 0.7954 - learning_rate: 0.0010\n",
      "Epoch 23: early stopping\n",
      "Restoring model weights from the end of the best epoch: 18.\n"
     ]
    }
   ],
   "source": [
    "# === SEKCJA 3: BUDOWA I TRENING MODELU HIERARCHICZNEGO ===\n",
    "\n",
    "# --- 3.1: Definicja architektury ---\n",
    "# Wejścia\n",
    "input_text = Input(shape=(MAX_LEN,), name='text_input')\n",
    "input_numeric = Input(shape=(X_numeric.shape[1],), name='numeric_input')\n",
    "\n",
    "# Wspólny trzon\n",
    "text_embedding = Embedding(input_dim=MAX_WORDS, output_dim=128)(input_text)\n",
    "lstm_out = LSTM(128, dropout=0.3)(text_embedding)\n",
    "concatenated = Concatenate()([lstm_out, input_numeric])\n",
    "common_dense = Dense(128, activation='relu')(concatenated)\n",
    "common_dense = Dropout(0.5)(common_dense)\n",
    "\n",
    "# Gałąź wyjściowa dla DZIELNICY\n",
    "dzielnica_branch = Dense(64, activation='relu')(common_dense)\n",
    "dzielnica_output = Dense(num_classes_dzielnica, activation='softmax', name='output_dzielnica')(dzielnica_branch)\n",
    "\n",
    "# Gałąź wyjściowa dla ULICY\n",
    "ulica_branch = Dense(256, activation='relu')(common_dense)\n",
    "ulica_output = Dense(num_classes_ulica, activation='softmax', name='output_ulica')(ulica_branch)\n",
    "\n",
    "# --- 3.2: Kompilacja modelu ---\n",
    "model = Model(inputs=[input_text, input_numeric], outputs=[dzielnica_output, ulica_output])\n",
    "\n",
    "# Definiujemy osobne straty dla każdego wyjścia\n",
    "losses = {\n",
    "    \"output_dzielnica\": \"sparse_categorical_crossentropy\",\n",
    "    \"output_ulica\": \"sparse_categorical_crossentropy\",\n",
    "}\n",
    "\n",
    "# Definiujemy wagi dla każdej ze strat\n",
    "loss_weights = {\n",
    "    \"output_dzielnica\": 1.0,\n",
    "    \"output_ulica\": 0.5\n",
    "}\n",
    "\n",
    "# POPRAWKA: Definiujemy metryki dla każdego wyjścia osobno\n",
    "metrics = {\n",
    "    \"output_dzielnica\": \"accuracy\",\n",
    "    \"output_ulica\": \"accuracy\"\n",
    "}\n",
    "\n",
    "model.compile(\n",
    "    optimizer='adam',\n",
    "    loss=losses,\n",
    "    loss_weights=loss_weights,\n",
    "    metrics=metrics  # Przekazujemy słownik metryk\n",
    ")\n",
    "model.summary()\n",
    "\n",
    "# --- 3.3: Trening ---\n",
    "X_train = [X_train_text, X_train_num]\n",
    "y_train = {'output_dzielnica': y_train_dzielnica, 'output_ulica': y_train_ulica}\n",
    "X_val = [X_val_text, X_val_num]\n",
    "y_val = {'output_dzielnica': y_val_dzielnica, 'output_ulica': y_val_ulica}\n",
    "\n",
    "callbacks = [\n",
    "    EarlyStopping(\n",
    "        monitor='val_output_dzielnica_accuracy', \n",
    "        patience=5, \n",
    "        restore_best_weights=True, \n",
    "        verbose=1,\n",
    "        mode='max'  # <-- DODAJ TĘ LINIĘ\n",
    "    ),\n",
    "    ReduceLROnPlateau(monitor='val_loss', patience=3, verbose=1)\n",
    "]\n",
    "\n",
    "print(\"\\nRozpoczynam trening modelu hierarchicznego...\")\n",
    "history = model.fit(\n",
    "    X_train, y_train,\n",
    "    validation_data=(X_val, y_val),\n",
    "    epochs=50,\n",
    "    batch_size=128,\n",
    "    callbacks=callbacks\n",
    ")"
   ]
  },
  {
   "cell_type": "code",
   "execution_count": 4,
   "id": "525a735d-3ee1-49c9-b051-4d743bc13d95",
   "metadata": {},
   "outputs": [
    {
     "name": "stdout",
     "output_type": "stream",
     "text": [
      "\n",
      "Wszystkie artefakty zostały zapisane w folderze: 'model_artifacts_final'\n"
     ]
    }
   ],
   "source": [
    "# === SEKCJA 4: ZAPIS ARTEFAKTÓW DO PRODUKCJI ===\n",
    "artifacts_dir = 'model_artifacts_final'\n",
    "os.makedirs(artifacts_dir, exist_ok=True)\n",
    "\n",
    "# 1. Zapis modelu\n",
    "model.save(os.path.join(artifacts_dir, 'final_hierarchical_model.keras'))\n",
    "\n",
    "# 2. Zapis Tokenizera\n",
    "with open(os.path.join(artifacts_dir, 'tokenizer.pkl'), 'wb') as f: pickle.dump(tokenizer, f)\n",
    "\n",
    "# 3. Zapis pipelinu numerycznego\n",
    "with open(os.path.join(artifacts_dir, 'numeric_pipeline.pkl'), 'wb') as f: pickle.dump(numeric_pipeline, f)\n",
    "\n",
    "# 4. Zapis koderów dla zmiennych celu\n",
    "with open(os.path.join(artifacts_dir, 'le_dzielnica.pkl'), 'wb') as f: pickle.dump(le_dzielnica, f)\n",
    "with open(os.path.join(artifacts_dir, 'le_ulica.pkl'), 'wb') as f: pickle.dump(le_ulica, f)\n",
    "\n",
    "print(f\"\\nWszystkie artefakty zostały zapisane w folderze: '{artifacts_dir}'\")"
   ]
  },
  {
   "cell_type": "code",
   "execution_count": null,
   "id": "3297b548-d7ee-41d2-bb61-eaa8c81926f7",
   "metadata": {},
   "outputs": [],
   "source": []
  },
  {
   "cell_type": "code",
   "execution_count": null,
   "id": "a3a2df07-2cb0-47a0-85ee-a78a2183713d",
   "metadata": {},
   "outputs": [],
   "source": []
  },
  {
   "cell_type": "code",
   "execution_count": null,
   "id": "e1a1d3d3-c4d7-4e5f-a46c-2f3a5b57baf8",
   "metadata": {},
   "outputs": [],
   "source": []
  },
  {
   "cell_type": "code",
   "execution_count": null,
   "id": "89c2d8c4-312b-4a0d-8848-6e324e238d37",
   "metadata": {},
   "outputs": [],
   "source": []
  },
  {
   "cell_type": "code",
   "execution_count": null,
   "id": "9e40df38-3984-4b1f-b3ad-93ceccdf8c3b",
   "metadata": {},
   "outputs": [],
   "source": []
  }
 ],
 "metadata": {
  "kernelspec": {
   "display_name": "Python 3 (ipykernel)",
   "language": "python",
   "name": "python3"
  },
  "language_info": {
   "codemirror_mode": {
    "name": "ipython",
    "version": 3
   },
   "file_extension": ".py",
   "mimetype": "text/x-python",
   "name": "python",
   "nbconvert_exporter": "python",
   "pygments_lexer": "ipython3",
   "version": "3.11.11"
  }
 },
 "nbformat": 4,
 "nbformat_minor": 5
}
