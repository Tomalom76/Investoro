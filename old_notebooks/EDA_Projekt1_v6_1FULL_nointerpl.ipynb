{
 "cells": [
  {
   "cell_type": "markdown",
   "id": "d60d7850-65ad-49cc-899b-d2f8d0ef2dbd",
   "metadata": {},
   "source": [
    "# PROJEKT MODELU REGRESYJNEGO PRZEWIDYWANIA CEN MIESZKAŃ NA PODSTAWIE #"
   ]
  },
  {
   "cell_type": "markdown",
   "id": "6227290f-4c53-4631-87c2-0b50214059e9",
   "metadata": {},
   "source": [
    "# ALGORYTMU LGBM #"
   ]
  },
  {
   "cell_type": "markdown",
   "id": "ac6a9457-72c0-4a42-994b-3764bad0b8b4",
   "metadata": {},
   "source": [
    "  ## KWIECIEŃ 2025 ##"
   ]
  },
  {
   "cell_type": "code",
   "execution_count": null,
   "id": "2cc381d5-6d67-40d8-8bb8-82ffb690bb3c",
   "metadata": {},
   "outputs": [],
   "source": [
    "import pandas as pd\n",
    "import mlflow\n",
    "from pycaret.datasets import get_data\n",
    "from pycaret.regression import setup, pull, compare_models, plot_model, load_model\n",
    "import pymysql\n",
    "from sqlalchemy import create_engine\n",
    "import numpy as np\n",
    "from scipy.stats import skewnorm\n",
    "import matplotlib.pyplot as plt\n",
    "import seaborn as sns\n",
    "from joblib import parallel_backend"
   ]
  },
  {
   "cell_type": "code",
   "execution_count": null,
   "id": "9c073934-09fc-465c-ba25-911d3235b73b",
   "metadata": {},
   "outputs": [],
   "source": [
    "# tą komórkę uruchom jeżeli bazie bierzesz np. z DBeaver\n",
    "# username = 'root'\n",
    "# password = '1234'\n",
    "# host = '127.0.0.1'\n",
    "# port = 3306  \n",
    "# database = 'projekt1'\n",
    "# engine = create_engine(f'mysql+pymysql://{username}:{password}@{host}:{port}/{database}')\n",
    "\n",
    "# df = pd.read_sql(\"SELECT * FROM saleflats\", con=engine)\n",
    "\n",
    "# engine.dispose()"
   ]
  },
  {
   "cell_type": "code",
   "execution_count": null,
   "id": "d8a6099c-45af-433a-ba42-9707c7857c60",
   "metadata": {},
   "outputs": [],
   "source": [
    "MLFLOW_EXPERIMENT_NAME = 'Investoro_Ceny'\n",
    "MLFLOW_TAGS = {'data': 'Investoro_ceny', 'library': 'pycaret'}\n",
    "\n",
    "mlflow.set_tracking_uri(\"http://localhost:5000\")"
   ]
  },
  {
   "cell_type": "code",
   "execution_count": null,
   "id": "ed3a3986-18f7-41af-af75-f55a2eb603db",
   "metadata": {},
   "outputs": [],
   "source": [
    "# tę komórkę uruchom jeśli czerpiesz dane z pliku .csv\n",
    "df = pd.read_csv('sale_2024_0.csv', sep=',')"
   ]
  },
  {
   "cell_type": "code",
   "execution_count": null,
   "id": "e4a438f6-6101-4fa6-8e94-57f58b77126e",
   "metadata": {},
   "outputs": [],
   "source": [
    "df"
   ]
  },
  {
   "cell_type": "code",
   "execution_count": null,
   "id": "beb387ca-0a12-465b-b2df-910fdab53ceb",
   "metadata": {},
   "outputs": [],
   "source": [
    "df.head(10)"
   ]
  },
  {
   "cell_type": "code",
   "execution_count": null,
   "id": "b55273e7-7e8a-4c0c-8fc3-157666a44383",
   "metadata": {},
   "outputs": [],
   "source": [
    "df.sample(10)"
   ]
  },
  {
   "cell_type": "code",
   "execution_count": null,
   "id": "1793515a-e3f6-4cf5-81c2-4f7110e0239a",
   "metadata": {},
   "outputs": [],
   "source": [
    "df.info"
   ]
  },
  {
   "cell_type": "code",
   "execution_count": null,
   "id": "bcea7f92-f9bc-49a8-85bd-f60d39b358d5",
   "metadata": {},
   "outputs": [],
   "source": [
    "df[df.duplicated()]"
   ]
  },
  {
   "cell_type": "code",
   "execution_count": null,
   "id": "7ad96f83-0401-451c-89b8-117e838c237c",
   "metadata": {},
   "outputs": [],
   "source": [
    "df.nunique()"
   ]
  },
  {
   "cell_type": "code",
   "execution_count": null,
   "id": "c25c261d-c45b-44f1-bb76-f7fc6dee01fe",
   "metadata": {},
   "outputs": [],
   "source": [
    "correlation_matrix = df[['Area', 'Price', 'BuiltYear', 'Floor', 'Floors', 'CommunityScore', 'CountyNumber', 'CommunityNumber',\n",
    "                               'RegionNumber','KindNumber']].corr()"
   ]
  },
  {
   "cell_type": "code",
   "execution_count": null,
   "id": "647398a1-f587-4525-ba95-aa65882231b6",
   "metadata": {},
   "outputs": [],
   "source": [
    "plt.figure(figsize=(8, 6))\n",
    "sns.heatmap(correlation_matrix, annot=True, cmap='coolwarm', fmt=\".2f\")\n",
    "plt.title('Correlation Matrix of Price')"
   ]
  },
  {
   "cell_type": "code",
   "execution_count": null,
   "id": "4cd8578b-2b18-4a65-8d6c-7d5e2b2beab8",
   "metadata": {},
   "outputs": [],
   "source": [
    "df.isnull()"
   ]
  },
  {
   "cell_type": "code",
   "execution_count": null,
   "id": "688cc921-92bd-42ed-a19d-ebed090b7eaf",
   "metadata": {},
   "outputs": [],
   "source": [
    "df.isnull().sum()"
   ]
  },
  {
   "cell_type": "code",
   "execution_count": null,
   "id": "ac6cc547-4ba8-474e-9bc2-4c155fa186fe",
   "metadata": {},
   "outputs": [],
   "source": [
    "df_beznull_price = df.dropna(subset=['Area'])"
   ]
  },
  {
   "cell_type": "code",
   "execution_count": null,
   "id": "aeed5624-365f-4331-a1cb-5ee141ad0fad",
   "metadata": {},
   "outputs": [],
   "source": [
    "df_beznull_price.isnull().sum()"
   ]
  },
  {
   "cell_type": "code",
   "execution_count": null,
   "id": "2a8d32ba-8cb2-4519-849d-dab704a49fe4",
   "metadata": {},
   "outputs": [],
   "source": [
    "# df_beznull_price2 = df_beznull_price.sort_values('Area').interpolate()"
   ]
  },
  {
   "cell_type": "code",
   "execution_count": null,
   "id": "198be3d2-7266-4b83-b27e-258daf356a03",
   "metadata": {},
   "outputs": [],
   "source": [
    "df_beznull_price.head(20)"
   ]
  },
  {
   "cell_type": "code",
   "execution_count": null,
   "id": "dc55c11f-9bf2-49f9-ad3d-abb86c1366a7",
   "metadata": {},
   "outputs": [],
   "source": [
    "Q1 = df_beznull_price[\"Price\"].quantile(0.25)\n",
    "Q3 = df_beznull_price[\"Price\"].quantile(0.75)\n",
    "IQR = Q3 - Q1\n",
    "\n",
    "lower_bound = Q1 - 1.5 * IQR\n",
    "upper_bound = Q3 + 1.5 * IQR\n",
    "\n",
    "df_price_p = df_beznull_price[~((df_beznull_price[\"Price\"] < lower_bound) | (df_beznull_price[\"Price\"] > upper_bound))]"
   ]
  },
  {
   "cell_type": "code",
   "execution_count": null,
   "id": "23d7b8eb-214b-47ee-98e0-09879b533e79",
   "metadata": {},
   "outputs": [],
   "source": [
    "Q1 = df_price_p[\"PricePerSquareMeter\"].quantile(0.25)\n",
    "Q3 = df_price_p[\"PricePerSquareMeter\"].quantile(0.75)\n",
    "IQR = Q3 - Q1\n",
    "\n",
    "lower_bound = Q1 - 1.5 * IQR\n",
    "upper_bound = Q3 + 1.5 * IQR\n",
    "\n",
    "df_price_a = df_price_p[~((df_price_p[\"PricePerSquareMeter\"] < lower_bound) | (df_price_p[\"PricePerSquareMeter\"] > upper_bound))]\n"
   ]
  },
  {
   "cell_type": "code",
   "execution_count": null,
   "id": "82bb715e-9045-4468-839d-04570d568cf5",
   "metadata": {},
   "outputs": [],
   "source": [
    "Q1 = df_price_a[\"Area\"].quantile(0.25)\n",
    "Q3 = df_price_a[\"Area\"].quantile(0.75)\n",
    "IQR = Q3 - Q1\n",
    "\n",
    "lower_bound = Q1 - 1.5 * IQR\n",
    "upper_bound = Q3 + 1.5 * IQR\n",
    "\n",
    "df_price1 = df_price_a[~((df_price_a[\"Area\"] < lower_bound) | (df_price_a[\"Area\"] > upper_bound))]"
   ]
  },
  {
   "cell_type": "code",
   "execution_count": null,
   "id": "dd4d556c-b787-48c6-8de0-3d298e07a83c",
   "metadata": {},
   "outputs": [],
   "source": [
    "df_price1['BuiltYear'] = pd.to_datetime(df_price1['BuiltYear'], format='%Y', errors='coerce')"
   ]
  },
  {
   "cell_type": "code",
   "execution_count": null,
   "id": "2d05abb7-5763-4f40-8594-b930dc370514",
   "metadata": {},
   "outputs": [],
   "source": [
    "df_price1.head(20)"
   ]
  },
  {
   "cell_type": "code",
   "execution_count": null,
   "id": "1dd86da4-4114-429b-9b4f-8d05ddf5ed57",
   "metadata": {},
   "outputs": [],
   "source": [
    "df_price1.describe().T"
   ]
  },
  {
   "cell_type": "code",
   "execution_count": null,
   "id": "3b422403-0fc3-429c-b28a-f0de9cd28a9a",
   "metadata": {},
   "outputs": [],
   "source": [
    "df_price1[\"Price\"].value_counts(normalize=True)"
   ]
  },
  {
   "cell_type": "code",
   "execution_count": null,
   "id": "88701582-a74c-4593-bbc8-3215d8dcf296",
   "metadata": {},
   "outputs": [],
   "source": [
    "#df_price2 = df_price1.sort_values('Price').interpolate()"
   ]
  },
  {
   "cell_type": "code",
   "execution_count": null,
   "id": "06f0bf9f-434a-4504-9c0a-d6f5444bba58",
   "metadata": {},
   "outputs": [],
   "source": [
    "df_price1.nunique()"
   ]
  },
  {
   "cell_type": "code",
   "execution_count": null,
   "id": "2d4cd088-b4d4-43c7-92ba-6e84770f0632",
   "metadata": {},
   "outputs": [],
   "source": [
    "df_price1.head(10)"
   ]
  },
  {
   "cell_type": "code",
   "execution_count": null,
   "id": "55ce0af9-c359-420d-b448-044b286ab7f1",
   "metadata": {},
   "outputs": [],
   "source": [
    "unique_btype=df_price1['BuildingType'].unique()\n",
    "\n",
    "unique_btype"
   ]
  },
  {
   "cell_type": "code",
   "execution_count": null,
   "id": "282508be-ff69-476d-8e5f-9e597bd472fd",
   "metadata": {},
   "outputs": [],
   "source": [
    "print(df_price1['Price'].nunique())"
   ]
  },
  {
   "cell_type": "code",
   "execution_count": null,
   "id": "d7787c2d-080a-487f-bd7d-67ca08fcc7d3",
   "metadata": {},
   "outputs": [],
   "source": [
    "print(df_price1['Price'].value_counts())"
   ]
  },
  {
   "cell_type": "code",
   "execution_count": null,
   "id": "53116713-9a0a-4705-aff9-dfdec520520f",
   "metadata": {},
   "outputs": [],
   "source": [
    "df_price1.isnull().sum()"
   ]
  },
  {
   "cell_type": "code",
   "execution_count": null,
   "id": "9815cb8d-fb19-4de8-842b-2979639add95",
   "metadata": {},
   "outputs": [],
   "source": [
    "df_price2 = df_price1.dropna(subset=['Price'])"
   ]
  },
  {
   "cell_type": "code",
   "execution_count": null,
   "id": "506956f8-3cd5-4db3-adf7-9152dbe4c8b8",
   "metadata": {},
   "outputs": [],
   "source": [
    "df_price2.isnull().sum()"
   ]
  },
  {
   "cell_type": "markdown",
   "id": "74ef8a46-c455-41ad-9813-75d4ba30ea96",
   "metadata": {},
   "source": [
    "# Sprawdzenie braków - procentowo."
   ]
  },
  {
   "cell_type": "code",
   "execution_count": null,
   "id": "ae3c0492-b7f0-4065-8dff-b02650b481c1",
   "metadata": {},
   "outputs": [],
   "source": [
    "df_price2.isna().sum() / len(df) * 100"
   ]
  },
  {
   "cell_type": "code",
   "execution_count": null,
   "id": "1464a542-ea89-4ae1-a783-f4d3a39bae97",
   "metadata": {},
   "outputs": [],
   "source": [
    "# parametr thresh pozwala określić minimalną liczbę nie-NaN wartości, które muszą być w wierszu/kolumnie\n",
    "display(df_price2.head())\n",
    "df_price2.dropna(thresh=(0.4*len(df_price2)),axis=1).head()"
   ]
  },
  {
   "cell_type": "code",
   "execution_count": null,
   "id": "b115de06-df97-4fe0-b3eb-45e01d962771",
   "metadata": {},
   "outputs": [],
   "source": [
    "df_price2.isnull().sum()"
   ]
  },
  {
   "cell_type": "code",
   "execution_count": null,
   "id": "ac769d1f-b8f6-4bf6-8637-ba85c92ee59f",
   "metadata": {},
   "outputs": [],
   "source": [
    "df_price2.plot.scatter(x='Area', y='Price');"
   ]
  },
  {
   "cell_type": "code",
   "execution_count": null,
   "id": "b2750e9e-3545-451e-ae25-cd339493b2bc",
   "metadata": {},
   "outputs": [],
   "source": [
    "df_price2.plot.scatter(x='BuiltYear', y='Price');"
   ]
  },
  {
   "cell_type": "code",
   "execution_count": null,
   "id": "b5041d99-1427-43e6-b983-f2cbae14b595",
   "metadata": {},
   "outputs": [],
   "source": [
    "correlation_matrix = df_price2[['Area', 'Price', 'BuiltYear', 'Floor', 'Floors', 'CommunityScore', 'CountyNumber', 'CommunityNumber',\n",
    "                               'RegionNumber','KindNumber']].corr()\n",
    "\n",
    "plt.figure(figsize=(8, 6))\n",
    "sns.heatmap(correlation_matrix, annot=True, cmap='coolwarm', fmt=\".2f\")\n",
    "plt.title('Correlation Matrix of Price')"
   ]
  },
  {
   "cell_type": "code",
   "execution_count": null,
   "id": "67876229-de35-49eb-a894-523175e28632",
   "metadata": {},
   "outputs": [],
   "source": [
    "df_price2 = df_price2.dropna(subset=['Location'])"
   ]
  },
  {
   "cell_type": "code",
   "execution_count": null,
   "id": "c686a646-39ea-4f5e-bd31-6027ddeda4b0",
   "metadata": {},
   "outputs": [],
   "source": [
    "sale_ids = df_price2['SaleId'].reset_index(drop=True)"
   ]
  },
  {
   "cell_type": "code",
   "execution_count": null,
   "id": "869c2b5e-56ff-4f3f-9bbe-9c673566fd9a",
   "metadata": {},
   "outputs": [],
   "source": [
    "train_df = df_price2.sample(frac=0.9, random_state=42)\n",
    "holdout_df = df_price2.drop(train_df.index)"
   ]
  },
  {
   "cell_type": "code",
   "execution_count": null,
   "id": "2ca73890-ecb8-4767-91fa-bd6492c40ba1",
   "metadata": {},
   "outputs": [],
   "source": [
    "df_price2['VoivodeshipNumber'] = df_price2['VoivodeshipNumber'].astype(str)\n",
    "df_price2['CountyNumber'] = df_price2['CountyNumber'].astype(str)\n",
    "df_price2['CommunityNumber'] = df_price2['CommunityNumber'].astype(str)\n",
    "df_price2['KindNumber'] = df_price2['KindNumber'].astype(str)\n",
    "df_price2['RegionNumber'] = df_price2['RegionNumber'].astype(str)\n",
    "df_price2['BuiltYear'] = pd.to_datetime(df_price2['BuiltYear'], format='%Y', errors='coerce')\n",
    "if 'StreetNumber' in df_price2.columns:\n",
    "    df_price2['StreetNumber'] = df_price2['StreetNumber'].astype(str)"
   ]
  },
  {
   "cell_type": "code",
   "execution_count": null,
   "id": "c638eb3c-0c67-4f4e-a642-ea30a3d3c907",
   "metadata": {},
   "outputs": [],
   "source": [
    "from sklearn.feature_extraction.text import TfidfVectorizer # Zaimportuj TfidfVectorizer\n",
    "from pycaret.regression import setup, compare_models, pull\n",
    "\n",
    "# --- RĘCZNE PRZETWARZANIE KOLUMNY 'Location' ---\n",
    "if 'Location' in df_price2.columns:\n",
    "    print(\"Przetwarzanie ręczne kolumny 'Location'...\")\n",
    "    \n",
    "    # 1. Inicjalizacja wektoryzatora\n",
    "    location_vectorizer = TfidfVectorizer(\n",
    "        max_features=1000,  # Ustaw pożądaną liczbę cech (np. 1000)\n",
    "        stop_words=None,    # Rozważ dodanie polskich stop words, np. ['i', 'oraz', 'ul']\n",
    "        ngram_range=(1, 1), # Możesz eksperymentować, np. (1,2)\n",
    "        min_df=5,           # Opcjonalnie: ignoruj terminy rzadsze niż 5 wystąpień\n",
    "        max_df=0.95         # Opcjonalnie: ignoruj terminy częstsze niż 95% dokumentów\n",
    "    )\n"
   ]
  },
  {
   "cell_type": "code",
   "execution_count": null,
   "id": "65128688-e0ec-48d7-9354-6a712cfaa8b4",
   "metadata": {},
   "outputs": [],
   "source": [
    "    # 2. Dopasuj i przekształć kolumnę 'Location'\n",
    "    #    Upewnij się, że 'Location' nie ma NaN lub obsłuż je (np. .fillna(''))\n",
    "    #    .astype(str) jest dodane dla pewności, jeśli są tam inne typy niż string\n",
    "    df_price2['Location_Clean'] = df_price2['Location'].fillna('').astype(str)\n",
    "    location_tfidf_features = location_vectorizer.fit_transform(df_price2['Location_Clean'])"
   ]
  },
  {
   "cell_type": "code",
   "execution_count": null,
   "id": "b913ec27-396c-4749-8a46-375e005598d8",
   "metadata": {},
   "outputs": [],
   "source": [
    "    # 3. Konwertuj wynik do DataFrame\n",
    "    try:\n",
    "        # Preferowana metoda, jeśli wersja scikit-learn jest wystarczająco nowa\n",
    "        feature_names = location_vectorizer.get_feature_names_out()\n",
    "    except AttributeError:\n",
    "        # Starsza metoda\n",
    "        feature_names = location_vectorizer.get_feature_names()\n",
    "        \n",
    "    location_tfidf_df = pd.DataFrame(\n",
    "        location_tfidf_features.toarray(), # Konwertuj na gęstą macierz\n",
    "        columns=['loc_tfidf_' + name for name in feature_names],\n",
    "        index=df_price2.index # Zachowaj oryginalny indeks\n",
    "    )\n",
    "    print(f\"Utworzono {location_tfidf_df.shape[1]} cech TF-IDF z 'Location'.\")"
   ]
  },
  {
   "cell_type": "code",
   "execution_count": null,
   "id": "2f1f5945-bb91-4164-b139-baa5160f39cb",
   "metadata": {},
   "outputs": [],
   "source": [
    "    # 4. Połącz nowe cechy z oryginalnym DataFrame\n",
    "    df_price2_processed = pd.concat([df_price2.drop(columns=['Location_Clean']), location_tfidf_df], axis=1)\n",
    "\n",
    "    # 5. Usuń oryginalną kolumnę 'Location' z listy ignorowanych, jeśli tam była,\n",
    "    #    lub dodaj ją, aby PyCaret jej nie szukał.\n",
    "    #    Najlepiej po prostu usunąć ją z DataFrame, którego użyjesz.\n",
    "    if 'Location' in df_price2_processed.columns:\n",
    "        df_price2_processed = df_price2_processed.drop(columns=['Location'])\n",
    "    \n",
    "    # Dodaj 'Location' do listy ignorowanych, jeśli jeszcze tam nie jest,\n",
    "    # bo przetworzyliśmy ją ręcznie i nie chcemy, by PyCaret próbował ją przetwarzać ponownie.\n",
    "    if 'Location' not in ignore_features_list:\n",
    "        ignore_features_list.append('Location')\n",
    "    else:    \n",
    "        print(\"Kolumna 'Location' nie znaleziona. Pomijanie ręcznego przetwarzania.\")\n",
    "        df_price2_processed = df_price2.copy()"
   ]
  },
  {
   "cell_type": "code",
   "execution_count": null,
   "id": "5611682d-06d6-4193-a7b1-62b7b49da576",
   "metadata": {},
   "outputs": [],
   "source": [
    "categorical_features_initial = [\n",
    "    'BuildingType', 'BuildingCondition', 'TypeOfMarket', 'OwnerType', 'Type', 'OfferFrom',\n",
    "    'VoivodeshipNumber', 'CountyNumber', 'CommunityNumber', 'KindNumber',\n",
    "    'RegionNumber'\n",
    "    \n",
    "]\n",
    "numeric_features_initial = [\n",
    "    'Area', 'NumberOfRooms', 'Floor', 'Floors', 'CommunityScore'\n",
    "]\n",
    "date_features_initial = ['BuiltYear']\n",
    "\n",
    "\n",
    "# Filtruj cechy, które faktycznie istnieją w df_price3\n",
    "categorical_features_to_use = [col for col in categorical_features_initial if col in df_price2.columns]\n",
    "numeric_features_to_use = [col for col in numeric_features_initial if col in df_price2.columns]\n",
    "date_features_to_use = [col for col in date_features_initial if col in df_price2.columns]\n",
    "\n",
    "# Definicja cech ignorowanych\n",
    "ignore_features_list = [\n",
    "    'SaleId', 'OriginalId', 'PortalId', 'Title', 'Description',\n",
    "    'OfferPrice', 'RealPriceAfterRenovation', 'OriginalPrice',\n",
    "    'PricePerSquareMeter', 'DateAddedToDatabase', 'DateAdded',\n",
    "    'DateLastModification', 'DateLastRaises', 'NewestDate',\n",
    "    'AvailableFrom', 'Link', 'Phone', 'MainImage', 'OtherImages',\n",
    "    'NumberOfDuplicates', 'NumberOfRaises', 'NumberOfModifications',\n",
    "    'IsDuplicatePriceLower', 'IsDuplicatePrivateOwner', 'Score', 'ScorePrecision',\n",
    "    'NumberOfCommunityComments', 'NumberOfCommunityOpinions', 'Archive',\n",
    "    'SubRegionNumber', 'EncryptedId', \"Location\",\n",
    "    'StreetNumber' # Ignorujemy, bo może mieć zbyt wiele unikalnych wartości\n",
    "]\n",
    "# Filtruj ignorowane cechy, aby upewnić się, że są w DataFrame\n",
    "ignore_features_list = [col for col in ignore_features_list if col in df_price2.columns]\n",
    "\n",
    "transformed_exp = setup(\n",
    "    data=df_price2,\n",
    "    target='Price',\n",
    "    verbose=True, # Ustaw na True dla debugowania setup\n",
    "    session_id=123,\n",
    "    log_experiment=True,\n",
    "    experiment_name=MLFLOW_EXPERIMENT_NAME, \n",
    "    log_data=True, \n",
    "    log_plots=True, \n",
    "    categorical_features=categorical_features_to_use,\n",
    "    numeric_features=numeric_features_to_use,\n",
    "    date_features=date_features_to_use,\n",
    "    text_features=[], \n",
    "#    text_processor=custom_text_vectorizer,\n",
    "#    text_features_method=custom_text_vectorizer,\n",
    "    ignore_features=ignore_features_list,\n",
    "    ordinal_features={'BuildingType': ['Pozostałe', 'Blok', 'Apartamentowiec', 'Kamienica'],\n",
    "                      'BuildingCondition': ['For_Renovation', 'Good', 'After_Renovation', 'Developer_State']},\n",
    "    # Dla starszych wersji PyCaret, obsługa wysokiej kardynalności jest często domyślna    # lub można spróbować:\n",
    "    # high_cardinality_method = 'frequency' # jeśli 'Location' ma dużo kategorii\n",
    "    # lub zostawić domyślne zachowanie PyCaret dla cech kategorycznych\n",
    ")\n",
    "best_transformed_model = transformed_exp.compare_models()\n",
    "transformed_metrics_df = pull()"
   ]
  },
  {
   "cell_type": "code",
   "execution_count": null,
   "id": "3638861e-42df-4731-bc20-44dc11192760",
   "metadata": {},
   "outputs": [],
   "source": [
    "transformed_exp.X_train_transformed.info()"
   ]
  },
  {
   "cell_type": "code",
   "execution_count": null,
   "id": "17c34157-105f-475b-8632-168d899b6ccf",
   "metadata": {},
   "outputs": [],
   "source": [
    "transformed_exp.X_train_transformed.head()"
   ]
  },
  {
   "cell_type": "code",
   "execution_count": null,
   "id": "243e9266-8dbf-415e-898f-b787241c9057",
   "metadata": {},
   "outputs": [],
   "source": [
    "from pycaret.regression import get_config\n",
    "import matplotlib.pyplot as plt\n",
    "import seaborn as sns\n",
    "\n",
    "# Wyciągnij dane oryginalne i przetransformowane\n",
    "df_raw = df_price2.copy()\n",
    "df_transformed = get_config(\"X_train\").copy()\n",
    "df_transformed[\"Price\"] = get_config(\"y_train\")\n",
    "\n",
    "# Rysowanie wykresów\n",
    "fig, axes = plt.subplots(1, 2, figsize=(12, 6))\n",
    "\n",
    "sns.histplot(df_raw[\"Price\"], ax=axes[0])\n",
    "axes[0].set_title(\"Raw Data\")\n",
    "\n",
    "sns.histplot(df_transformed[\"Price\"], ax=axes[1])\n",
    "axes[1].set_title(\"Transformed Data\")\n",
    "\n",
    "plt.tight_layout()\n",
    "plt.show()"
   ]
  },
  {
   "cell_type": "code",
   "execution_count": null,
   "id": "e80462c2-5d5c-4523-9f20-634c227a6240",
   "metadata": {},
   "outputs": [],
   "source": [
    "transformed_exp.dataset.head()"
   ]
  },
  {
   "cell_type": "code",
   "execution_count": null,
   "id": "dfd74d03-a7c5-4c9c-ad6a-1c9d77554ca5",
   "metadata": {},
   "outputs": [],
   "source": [
    "transformed_exp.dataset_transformed.head()"
   ]
  },
  {
   "cell_type": "code",
   "execution_count": null,
   "id": "1fb1bb2b-ead0-4d05-aa01-08b58a74c761",
   "metadata": {},
   "outputs": [],
   "source": [
    "df_transformed.plot.scatter(x='Area', y='Price');"
   ]
  },
  {
   "cell_type": "code",
   "execution_count": null,
   "id": "cf7bc941-ec3e-4c43-8b8d-582a4987eef7",
   "metadata": {},
   "outputs": [],
   "source": [
    "df_transformed.plot.scatter(x='BuiltYear', y='Price');"
   ]
  },
  {
   "cell_type": "code",
   "execution_count": null,
   "id": "02ab2d4a-fb9f-40d4-b346-676d7b28de9f",
   "metadata": {},
   "outputs": [],
   "source": [
    "plt.figure(figsize=(12, 6))\n",
    "plt.barh(transformed_metrics_df['Model'], transformed_metrics_df['R2'], color='skyblue')\n",
    "plt.xlabel('R2')\n",
    "plt.title('Porównanie dokładności modeli')\n",
    "plt.gca().invert_yaxis()  # najlepszy model na górze\n",
    "plt.grid(True, linestyle='--', alpha=0.5)\n",
    "plt.tight_layout()\n",
    "plt.show()"
   ]
  },
  {
   "cell_type": "code",
   "execution_count": null,
   "id": "700d0e47-0304-48c0-9b02-de99b32118dd",
   "metadata": {},
   "outputs": [],
   "source": [
    "transformed_exp.plot_model(best_transformed_model, plot='error')"
   ]
  },
  {
   "cell_type": "code",
   "execution_count": null,
   "id": "e8be1d64-7d69-4809-a11b-c10d4ee63302",
   "metadata": {},
   "outputs": [],
   "source": [
    "transformed_exp.plot_model(best_transformed_model, plot='feature')"
   ]
  },
  {
   "cell_type": "code",
   "execution_count": null,
   "id": "19a2be0b-8d79-409b-9e8f-1ce0ed878a83",
   "metadata": {},
   "outputs": [],
   "source": [
    "tuned_model = transformed_exp.tune_model(best_transformed_model, n_iter=3, optimize='R2',choose_better=True)"
   ]
  },
  {
   "cell_type": "code",
   "execution_count": null,
   "id": "bf354fe2-0629-4a26-a945-4416d34105a2",
   "metadata": {},
   "outputs": [],
   "source": [
    "#RF nie posiada parametru tuned_model - pominąć w przypadku rf\n",
    "#tuned_best_models = [best_transformed_model.tune_model(m, optimize='R2') for m in tuned_model]"
   ]
  },
  {
   "cell_type": "code",
   "execution_count": null,
   "id": "142bb31a-18bf-4bbb-ac26-f564e4ef25ba",
   "metadata": {
    "scrolled": true
   },
   "outputs": [],
   "source": [
    "# pominąć dla rf\n",
    "#best_model = transformed_exp.compare_models([tuned_best_models, tuned_model],choose_better=True)"
   ]
  },
  {
   "cell_type": "code",
   "execution_count": null,
   "id": "113b84d3-424f-4244-aeec-46a4a69b9e49",
   "metadata": {},
   "outputs": [],
   "source": [
    "#best_model = transformed_exp.compare_models(tuned_model, sort='R2')"
   ]
  },
  {
   "cell_type": "code",
   "execution_count": null,
   "id": "79849ac6-4d36-4298-8c7c-d6fa6f04996a",
   "metadata": {},
   "outputs": [],
   "source": [
    "transformed_exp.predict_model(tuned_model)"
   ]
  },
  {
   "cell_type": "code",
   "execution_count": null,
   "id": "9b371b22-6e00-4309-bc48-ebf3c714211f",
   "metadata": {},
   "outputs": [],
   "source": [
    "transformed_exp.plot_model(tuned_model, plot='error')"
   ]
  },
  {
   "cell_type": "code",
   "execution_count": null,
   "id": "e618c478-53c5-4a12-9135-d94ffc936183",
   "metadata": {},
   "outputs": [],
   "source": [
    "transformed_exp.plot_model(tuned_model, plot='feature')"
   ]
  },
  {
   "cell_type": "code",
   "execution_count": null,
   "id": "a9a77363-b384-49e7-be2f-f184e18b096b",
   "metadata": {},
   "outputs": [],
   "source": [
    "transformed_exp.predict_model(tuned_model).head(10)"
   ]
  },
  {
   "cell_type": "code",
   "execution_count": null,
   "id": "c81108f4-b6e5-41f0-8e5f-497bb971dcf4",
   "metadata": {},
   "outputs": [],
   "source": [
    "best_final_model = transformed_exp.finalize_model(tuned_model, experiment_custom_tags={\"step\": \"final\"})\n",
    "best_final_model"
   ]
  },
  {
   "cell_type": "code",
   "execution_count": null,
   "id": "be0701e4-a5ba-4392-9229-2f5db3a0f2cc",
   "metadata": {},
   "outputs": [],
   "source": [
    "transformed_exp.save_model(best_final_model, '0_full-basic-model')"
   ]
  },
  {
   "cell_type": "code",
   "execution_count": null,
   "id": "41c89ec1-e90a-4c79-b6d9-6b8b0b058c94",
   "metadata": {},
   "outputs": [],
   "source": [
    "transformed_exp.predict_model(best_final_model, data=holdout_df)\n",
    "predict_holdout_df = transformed_exp.pull()"
   ]
  },
  {
   "cell_type": "code",
   "execution_count": null,
   "id": "9acac124-5bef-46dd-aa48-350d921af21e",
   "metadata": {},
   "outputs": [],
   "source": [
    "mlflow_exp = mlflow.get_experiment_by_name(MLFLOW_EXPERIMENT_NAME)\n",
    "runs_df = mlflow.search_runs([mlflow_exp.experiment_id], order_by=[\"start_time DESC\"])\n",
    "run_id = runs_df['run_id'].values[0]\n",
    "metrics = predict_holdout_df.drop(columns=[\"Model\"]).to_dict(orient='records')[0]\n",
    "\n",
    "with mlflow.start_run(run_id=run_id, nested=True):\n",
    "    for key, value in metrics.items():\n",
    "        mlflow.log_metric(key, value)"
   ]
  },
  {
   "cell_type": "code",
   "execution_count": null,
   "id": "042ec9e1-4d5e-45fc-984e-e6074eca27fb",
   "metadata": {},
   "outputs": [],
   "source": [
    "#predictions = transformed_exp.predict_model(best_final_model)\n",
    "holdout_predictions = transformed_exp.predict_model(best_final_model) # Zapisz wynik predykcji\n",
    "display(holdout_predictions.head()) # Wyświetl kilka pierwszych predykcji"
   ]
  },
  {
   "cell_type": "code",
   "execution_count": null,
   "id": "656a327c-8040-4a61-975d-1f078a58880c",
   "metadata": {},
   "outputs": [],
   "source": [
    "#predicted_column = predict_holdout_df['prediction_label']\n",
    "#print(predicted_column)\n",
    "holdout_metrics_df = transformed_exp.pull() # Teraz pobierz metryki z tej predykcji\n",
    "display(holdout_metrics_df)\n",
    "predicted_column = holdout_predictions['prediction_label'] # Jeśli chcesz samą kolumnę predykcji\n",
    "print(predicted_column)"
   ]
  },
  {
   "cell_type": "code",
   "execution_count": null,
   "id": "3d8706bb-9db2-4150-b45a-184b7bb15fb8",
   "metadata": {},
   "outputs": [],
   "source": [
    "print(holdout_predictions[['prediction_label']].applymap('{:,.0f}'.format))"
   ]
  },
  {
   "cell_type": "code",
   "execution_count": null,
   "id": "80d0bfce-3224-4922-8a07-7740b03c409e",
   "metadata": {},
   "outputs": [],
   "source": [
    "df_last=holdout_predictions[['prediction_label','Price', ]].applymap('{:,.0f}'.format)"
   ]
  },
  {
   "cell_type": "code",
   "execution_count": null,
   "id": "17d94b04-4d67-47de-995f-66adcfd58df2",
   "metadata": {},
   "outputs": [],
   "source": [
    "df_last.to_csv('0_new_prices.csv')"
   ]
  },
  {
   "cell_type": "code",
   "execution_count": null,
   "id": "53d2e029-5acf-4ad7-95d8-1b320eeaabb4",
   "metadata": {},
   "outputs": [],
   "source": [
    "print(df_last.columns)"
   ]
  },
  {
   "cell_type": "code",
   "execution_count": null,
   "id": "56a4afd9-dfd8-4b37-b4e4-e594d87df885",
   "metadata": {},
   "outputs": [],
   "source": [
    "print(df_last.head())"
   ]
  },
  {
   "cell_type": "code",
   "execution_count": null,
   "id": "af1bbbd1-7484-4e8f-b6cd-a04c0e78a391",
   "metadata": {},
   "outputs": [],
   "source": [
    "df_last = df_last.reset_index()  \n",
    "print(df_last.columns)  "
   ]
  },
  {
   "cell_type": "code",
   "execution_count": null,
   "id": "447fd9ee-233a-4bee-ae17-9c7126396166",
   "metadata": {},
   "outputs": [],
   "source": [
    "df_last.rename(columns={'index': 'SaleId'}, inplace=True)"
   ]
  },
  {
   "cell_type": "code",
   "execution_count": null,
   "id": "9f2a4578-d02d-445b-978f-014db91ca7f3",
   "metadata": {},
   "outputs": [],
   "source": [
    "saleflats_df = pd.read_csv('sale_2024_0.csv')"
   ]
  },
  {
   "cell_type": "code",
   "execution_count": null,
   "id": "38e65adb-3b28-48a7-a92e-6135d61477c9",
   "metadata": {},
   "outputs": [],
   "source": [
    "new_prices_df = pd.read_csv('0_new_prices.csv')"
   ]
  },
  {
   "cell_type": "code",
   "execution_count": null,
   "id": "a43bc76b-4776-40e9-b0f8-515f9d1c861e",
   "metadata": {},
   "outputs": [],
   "source": [
    "print(\"saleflats_df.columns:\", saleflats_df.columns.tolist())"
   ]
  },
  {
   "cell_type": "code",
   "execution_count": null,
   "id": "2971bf28-05c3-4593-968a-c2b3102c5961",
   "metadata": {},
   "outputs": [],
   "source": [
    "print(\"new_prices_df.columns:\", new_prices_df.columns.tolist())"
   ]
  },
  {
   "cell_type": "code",
   "execution_count": null,
   "id": "e6dbbf6e-d58e-4bda-b922-1629a7b0666f",
   "metadata": {},
   "outputs": [],
   "source": [
    "new_prices_df = new_prices_df.rename(columns={'Unnamed: 0': 'SaleId', 'Price': 'NewPrice'})"
   ]
  },
  {
   "cell_type": "code",
   "execution_count": null,
   "id": "383400cd-48ee-4091-a153-081412138e09",
   "metadata": {},
   "outputs": [],
   "source": [
    "print(\"new_prices_df.columns:\", new_prices_df.columns.tolist())"
   ]
  },
  {
   "cell_type": "code",
   "execution_count": null,
   "id": "2b5c1c33-adab-4af5-aba3-4983a16c237a",
   "metadata": {},
   "outputs": [],
   "source": [
    "print(new_prices_df.columns)"
   ]
  },
  {
   "cell_type": "code",
   "execution_count": null,
   "id": "050e3d13-d0bc-4ffb-bb85-9e797b7cfe6b",
   "metadata": {},
   "outputs": [],
   "source": [
    "print(saleflats_df.columns)"
   ]
  },
  {
   "cell_type": "code",
   "execution_count": null,
   "id": "7055aa7d-7f3b-4b28-9004-b59a4fde2312",
   "metadata": {},
   "outputs": [],
   "source": [
    "merged_df = pd.merge(\n",
    "    saleflats_df,\n",
    "    new_prices_df[['SaleId', 'NewPrice']],\n",
    "    left_on='SaleId',  # Kolumna w saleflats_df\n",
    "    right_on='SaleId',  # Kolumna w new_prices_df\n",
    "    how='left'\n",
    ")"
   ]
  },
  {
   "cell_type": "code",
   "execution_count": null,
   "id": "5e34f46f-4143-4228-89d2-4516fb0d0ed2",
   "metadata": {},
   "outputs": [],
   "source": [
    "merged_df"
   ]
  },
  {
   "cell_type": "code",
   "execution_count": null,
   "id": "44a06583-36da-4843-98c2-e6b69e5bc52f",
   "metadata": {},
   "outputs": [],
   "source": [
    "# Krok 2: usuwanie dodatkowej kolumny klucza (opcjonalnie, bo mamy już 'SaleId')\n",
    "#merged_df.drop(columns=['SaleID'], inplace=True)\n",
    "\n",
    "# Krok 3: przestawienie kolumny 'NewPrice' obok 'Price'\n",
    "cols = merged_df.columns.tolist()\n",
    "\n",
    "# znajdź indeks kolumny 'Price'\n",
    "price_index = cols.index('Price')\n",
    "\n",
    "# usuń NewPrice z listy i dodaj ją zaraz po Price\n",
    "cols.remove('NewPrice')\n",
    "cols.insert(price_index + 1, 'NewPrice')\n",
    "\n",
    "# ustaw nową kolejność kolumn\n",
    "merged_df = merged_df[cols]"
   ]
  },
  {
   "cell_type": "code",
   "execution_count": null,
   "id": "67626b40-aff8-498c-991c-7415b97f554d",
   "metadata": {},
   "outputs": [],
   "source": [
    "merged_df"
   ]
  },
  {
   "cell_type": "code",
   "execution_count": null,
   "id": "b4dabebe-4bd9-4e64-9d96-923745a91ea3",
   "metadata": {},
   "outputs": [],
   "source": [
    "merged_df[merged_df.duplicated()]"
   ]
  },
  {
   "cell_type": "code",
   "execution_count": null,
   "id": "7b8e66ce-8784-4df4-a4e6-614bf6280c40",
   "metadata": {},
   "outputs": [],
   "source": [
    "prediction_df = merged_df.copy()"
   ]
  },
  {
   "cell_type": "code",
   "execution_count": null,
   "id": "a19a274f-2818-42a7-ae76-86b8346366fa",
   "metadata": {},
   "outputs": [],
   "source": [
    "from pycaret.regression import predict_model"
   ]
  },
  {
   "cell_type": "code",
   "execution_count": null,
   "id": "62ce1a4b-3745-47d7-a08e-6de57ae493cc",
   "metadata": {},
   "outputs": [],
   "source": [
    "prediction_df['BuiltYear'] = pd.to_datetime(prediction_df['BuiltYear'], format='%Y', errors='coerce')"
   ]
  },
  {
   "cell_type": "code",
   "execution_count": null,
   "id": "a1719344-4861-4bf4-acd4-1c3c1dc0d8cd",
   "metadata": {},
   "outputs": [],
   "source": [
    "prediction_df_clean = prediction_df.drop(columns=['Price'], errors='ignore')\n",
    "predictions = predict_model(best_final_model, data=prediction_df_clean)"
   ]
  },
  {
   "cell_type": "code",
   "execution_count": null,
   "id": "1c65374e-01a4-4723-80b5-46328448c3a4",
   "metadata": {},
   "outputs": [],
   "source": [
    "predictions['RealPrice'] = prediction_df['Price']"
   ]
  },
  {
   "cell_type": "code",
   "execution_count": null,
   "id": "73096153-a470-44f1-a1d9-d15282755e36",
   "metadata": {},
   "outputs": [],
   "source": [
    "merged_df['PredictedPrice'] = predictions['prediction_label']"
   ]
  },
  {
   "cell_type": "code",
   "execution_count": null,
   "id": "3f5c3029-94fb-4181-8058-45c94fa3cd0a",
   "metadata": {},
   "outputs": [],
   "source": [
    "predictions=predictions[['prediction_label',]].applymap('{:,.0f}'.format)"
   ]
  },
  {
   "cell_type": "code",
   "execution_count": null,
   "id": "0bf4333e-dea5-4eea-87bd-6fa3e5379189",
   "metadata": {},
   "outputs": [],
   "source": [
    "# Przenieś kolumnę 'PredictedPrice' za 'NewPrice'\n",
    "cols = list(merged_df.columns)\n",
    "new_price_index = cols.index('NewPrice')\n",
    "# Usuń z listy kolumn\n",
    "cols.remove('PredictedPrice')\n",
    "# Dodaj w odpowiednie miejsce\n",
    "cols.insert(new_price_index + 1, 'PredictedPrice')\n",
    "# Przekształć DataFrame\n",
    "merged_df = merged_df[cols]"
   ]
  },
  {
   "cell_type": "code",
   "execution_count": null,
   "id": "6e8ac3f9-e63b-419f-9cf6-c365dacc9fe6",
   "metadata": {},
   "outputs": [],
   "source": [
    "merged_df.to_csv('0_new_prices_full.csv')"
   ]
  },
  {
   "cell_type": "code",
   "execution_count": null,
   "id": "5dca5b40-ae17-4dcc-af57-1a15183d088c",
   "metadata": {},
   "outputs": [],
   "source": [
    "merged_df = pd.read_csv('0_new_prices_full.csv')"
   ]
  },
  {
   "cell_type": "code",
   "execution_count": null,
   "id": "3b902a32-8580-49ba-b100-677b11ad3f2c",
   "metadata": {},
   "outputs": [],
   "source": [
    "merged_df"
   ]
  },
  {
   "cell_type": "code",
   "execution_count": null,
   "id": "5e6976c6-533d-4a9d-9147-59062de9f224",
   "metadata": {},
   "outputs": [],
   "source": [
    "merged_df2=merged_df[['PredictedPrice',]].applymap('{:,.0f}'.format)"
   ]
  },
  {
   "cell_type": "code",
   "execution_count": null,
   "id": "f86ebdd0-03a5-40aa-96f9-c955626a6ee6",
   "metadata": {},
   "outputs": [],
   "source": [
    "merged_df2"
   ]
  },
  {
   "cell_type": "code",
   "execution_count": null,
   "id": "64f99c5c-75f3-4c0e-9443-dcae2bfa0e5a",
   "metadata": {},
   "outputs": [],
   "source": [
    "merged_df['PredictedPrice'] = merged_df2['PredictedPrice']"
   ]
  },
  {
   "cell_type": "code",
   "execution_count": null,
   "id": "070c7590-0add-4f10-b2d3-49950431e2be",
   "metadata": {},
   "outputs": [],
   "source": [
    "merged_df.drop(columns=['NewPrice'], inplace=True)"
   ]
  },
  {
   "cell_type": "code",
   "execution_count": null,
   "id": "486a7677-13b3-4062-8090-1fecb2bef4c9",
   "metadata": {},
   "outputs": [],
   "source": [
    "merged_df"
   ]
  },
  {
   "cell_type": "code",
   "execution_count": null,
   "id": "9a826a49-2f51-4f43-8361-4980b7546e09",
   "metadata": {},
   "outputs": [],
   "source": [
    "merged_df.to_csv('full_uzup_mieszkania_ceny.csv')"
   ]
  },
  {
   "cell_type": "code",
   "execution_count": null,
   "id": "b2f8cd91-cd28-48e6-9cc7-8f08c819550c",
   "metadata": {},
   "outputs": [],
   "source": [
    "merged_df.head(20)\n"
   ]
  },
  {
   "cell_type": "code",
   "execution_count": null,
   "id": "4bc0105d-8b60-4d2b-b368-3466c2621b03",
   "metadata": {},
   "outputs": [],
   "source": []
  },
  {
   "cell_type": "code",
   "execution_count": null,
   "id": "9b081dbd-4f02-4b34-bfba-0115eb4ee4ce",
   "metadata": {},
   "outputs": [],
   "source": []
  }
 ],
 "metadata": {
  "kernelspec": {
   "display_name": "Python 3 (ipykernel)",
   "language": "python",
   "name": "python3"
  },
  "language_info": {
   "codemirror_mode": {
    "name": "ipython",
    "version": 3
   },
   "file_extension": ".py",
   "mimetype": "text/x-python",
   "name": "python",
   "nbconvert_exporter": "python",
   "pygments_lexer": "ipython3",
   "version": "3.11.11"
  }
 },
 "nbformat": 4,
 "nbformat_minor": 5
}
