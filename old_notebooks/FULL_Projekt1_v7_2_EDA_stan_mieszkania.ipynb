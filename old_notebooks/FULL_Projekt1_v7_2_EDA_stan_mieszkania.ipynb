{
 "cells": [
  {
   "cell_type": "markdown",
   "id": "192d345d-70ba-427a-8507-12da45ac4f7e",
   "metadata": {},
   "source": [
    "# PROJEKT MODELU KLASYFIKACYJNEGO PRZEWIDYWANIA STANU MIESZKAŃ NA PODSTAWIE #"
   ]
  },
  {
   "cell_type": "markdown",
   "id": "94e1019a-8f97-4563-89c8-75107b8f9b4f",
   "metadata": {},
   "source": [
    "## Extra Trees Classifier ##"
   ]
  },
  {
   "cell_type": "markdown",
   "id": "baaa0a1b-d8b1-440c-a0cd-90946f1bce76",
   "metadata": {},
   "source": [
    "### kwiecień 2025"
   ]
  },
  {
   "cell_type": "code",
   "execution_count": 18,
   "id": "12c8f983-8bfb-4166-838c-2fe501cf5159",
   "metadata": {},
   "outputs": [],
   "source": [
    "import pandas as pd\n",
    "from pycaret.classification import setup, create_model, tune_model, predict_model, evaluate_model, pull\n",
    "from sklearn.feature_extraction.text import CountVectorizer\n",
    "from sklearn.utils import resample\n",
    "import pymysql\n",
    "from sqlalchemy import create_engine\n",
    "import numpy as np\n",
    "from scipy.stats import skewnorm\n",
    "import matplotlib.pyplot as plt\n",
    "import seaborn as sns"
   ]
  },
  {
   "cell_type": "code",
   "execution_count": null,
   "id": "7287c082-2b81-45a1-80e9-11ad1567c936",
   "metadata": {},
   "outputs": [],
   "source": [
    "# tą komórkę uruchom jeżeli bazę danych bierzesz np. z DBeaver, oracle developer itp.\n",
    "\n",
    "#username = 'root'\n",
    "#password = '1234'\n",
    "#host = '127.0.0.1'\n",
    "#port = 3306  \n",
    "#database = 'projekt1'\n",
    "#engine = create_engine(f'mysql+pymysql://{username}:{password}@{host}:{port}/{database}')\n",
    "\n",
    "#df = pd.read_sql(\"SELECT * FROM saleflats\", con=engine)\n",
    "\n",
    "#engine.dispose()"
   ]
  },
  {
   "cell_type": "code",
   "execution_count": null,
   "id": "c88b2930-47ff-4b2e-8078-5425f225569d",
   "metadata": {},
   "outputs": [],
   "source": [
    "# tę komórkę uruchom jeśli czerpiesz dane z pliku .csv\n",
    "df = pd.read_csv('sale_2024_0.csv', sep=',')"
   ]
  },
  {
   "cell_type": "code",
   "execution_count": null,
   "id": "0da3fefb-e141-4286-b32b-c8949fa79236",
   "metadata": {
    "scrolled": true
   },
   "outputs": [],
   "source": [
    "df"
   ]
  },
  {
   "cell_type": "code",
   "execution_count": null,
   "id": "814ef4d5-cd26-4e17-8bdd-af9552c37869",
   "metadata": {},
   "outputs": [],
   "source": [
    "# pobranie próbki 10 losowych wierszy\n",
    "df.sample(10)"
   ]
  },
  {
   "cell_type": "code",
   "execution_count": null,
   "id": "e45406b7-1110-4830-9be1-c6090cb26253",
   "metadata": {},
   "outputs": [],
   "source": [
    "print(df.columns)"
   ]
  },
  {
   "cell_type": "code",
   "execution_count": null,
   "id": "9e317b03-5a8f-4e94-902d-62a72ffa49f3",
   "metadata": {},
   "outputs": [],
   "source": [
    "df['BuiltYear'] = pd.to_datetime(df['BuiltYear'], format='%Y', errors='coerce')"
   ]
  },
  {
   "cell_type": "code",
   "execution_count": null,
   "id": "fbf4d755-3f8a-4b13-8310-4249ca6cede7",
   "metadata": {},
   "outputs": [],
   "source": [
    "df_a = df.dropna(subset=['Description'])"
   ]
  },
  {
   "cell_type": "code",
   "execution_count": null,
   "id": "de094844-91f5-486d-92eb-b9f015b8b4ad",
   "metadata": {},
   "outputs": [],
   "source": [
    "df_a.isnull().sum()"
   ]
  },
  {
   "cell_type": "code",
   "execution_count": null,
   "id": "d86f9aad-555a-4c4b-9d41-6498813ae8eb",
   "metadata": {},
   "outputs": [],
   "source": [
    "df_b = df_a.dropna(subset=['Location'])"
   ]
  },
  {
   "cell_type": "code",
   "execution_count": null,
   "id": "fa8fee1b-44a3-4660-b441-9b904b7e05ca",
   "metadata": {},
   "outputs": [],
   "source": [
    "df_b.isnull().sum()"
   ]
  },
  {
   "cell_type": "code",
   "execution_count": null,
   "id": "85dac362-39eb-488c-86cb-e082f8db4bfe",
   "metadata": {},
   "outputs": [],
   "source": [
    "df_c = df_b.dropna(subset=['BuildingCondition'])"
   ]
  },
  {
   "cell_type": "code",
   "execution_count": null,
   "id": "0da67916-3d31-4490-bbdd-39486371aa5b",
   "metadata": {},
   "outputs": [],
   "source": [
    "df_c.isnull().sum()"
   ]
  },
  {
   "cell_type": "code",
   "execution_count": null,
   "id": "f9e66eb3-88ba-499a-8564-a689984af9e2",
   "metadata": {},
   "outputs": [],
   "source": [
    "df_c"
   ]
  },
  {
   "cell_type": "code",
   "execution_count": null,
   "id": "1d0c2fe0-87bf-4e11-b09a-ea2637b8a8ac",
   "metadata": {},
   "outputs": [],
   "source": [
    "df_c['Description'] = df_c['Description'].str.slice(0, 3000)"
   ]
  },
  {
   "cell_type": "code",
   "execution_count": null,
   "id": "925c407c-fc76-4039-ad15-2d7af5f8074b",
   "metadata": {},
   "outputs": [],
   "source": [
    "# Przygotuj wektorizer z limitem\n",
    "vectorizer = CountVectorizer(max_features=500)  # np. 500 najczęstszych słów\n",
    "X_bow = vectorizer.fit_transform(df_c[\"Description\"])\n",
    "\n",
    "# Konwertuj do DataFrame\n",
    "df_bow = pd.DataFrame(X_bow.toarray(), columns=vectorizer.get_feature_names_out())\n",
    "\n",
    "# Dołącz do oryginalnych danych (z wyjątkiem kolumny Description)\n",
    "df_c = df_c.drop(columns=['Description']).reset_index(drop=True)\n",
    "df_bow = df_bow.reset_index(drop=True)\n",
    "df_prepared = pd.concat([df_c, df_bow], axis=1)"
   ]
  },
  {
   "cell_type": "code",
   "execution_count": null,
   "id": "91e20afd-d2e6-44d2-b318-2a619491790e",
   "metadata": {},
   "outputs": [],
   "source": [
    "exp = setup(\n",
    "    data=df_prepared,\n",
    "    target='BuildingCondition',\n",
    "    session_id=1123,\n",
    "    categorical_features=['BuildingType', 'Location'],\n",
    "    keep_features=[ \n",
    "            'Description',\n",
    "            'SaleId',\n",
    "            'Score',\n",
    "            'Type',\n",
    "            'PricePerSquareMeter',\n",
    "            'Price', \n",
    "            'Area', \n",
    "            'TypeOfMarket'\n",
    "            ],\n",
    "#    text_features=['Title'],\n",
    "    date_features=['BuiltYear'],\n",
    "    ordinal_features={\n",
    "        'BuildingType': ['Pozostałe', 'Blok', 'Apartametowiec', 'Kamienica']\n",
    "    },\n",
    "    verbose=False\n",
    ")\n",
    "exp.dataset_transformed.sample(10)"
   ]
  },
  {
   "cell_type": "code",
   "execution_count": null,
   "id": "9390e2e9-3412-4569-9ea2-5e6e46b62692",
   "metadata": {},
   "outputs": [],
   "source": [
    "df_prepared.info"
   ]
  },
  {
   "cell_type": "code",
   "execution_count": null,
   "id": "5c288270-f208-4587-983e-1ca51a10c772",
   "metadata": {},
   "outputs": [],
   "source": [
    "df_prepared[df_prepared.duplicated()]"
   ]
  },
  {
   "cell_type": "code",
   "execution_count": null,
   "id": "d45a8a14-d944-446e-8aa7-5d59c7b50c8f",
   "metadata": {},
   "outputs": [],
   "source": [
    "df_prepared.nunique()"
   ]
  },
  {
   "cell_type": "code",
   "execution_count": null,
   "id": "f02ca319-ee3e-4753-bb1f-bdd817b88dc6",
   "metadata": {},
   "outputs": [],
   "source": [
    "df_prepared.isnull()"
   ]
  },
  {
   "cell_type": "code",
   "execution_count": null,
   "id": "a344a794-72c3-49f9-86cc-e0a17abfa73f",
   "metadata": {},
   "outputs": [],
   "source": [
    "df_prepared.isnull().sum()"
   ]
  },
  {
   "cell_type": "code",
   "execution_count": null,
   "id": "13fd1bc1-f0a4-47d7-8e5e-40fc0fe9842f",
   "metadata": {},
   "outputs": [],
   "source": [
    "Q1 = df_prepared[\"Price\"].quantile(0.25)\n",
    "Q3 = df_prepared[\"Price\"].quantile(0.75)\n",
    "IQR = Q3 - Q1\n",
    "\n",
    "lower_bound = Q1 - 1.5 * IQR\n",
    "upper_bound = Q3 + 1.5 * IQR\n",
    "\n",
    "df_prep_p = df_prepared[~((df_prepared[\"Price\"] < lower_bound) | (df_prepared[\"Price\"] > upper_bound))]"
   ]
  },
  {
   "cell_type": "code",
   "execution_count": null,
   "id": "80319d54-cf6a-48f0-b6b4-ed556cba8603",
   "metadata": {},
   "outputs": [],
   "source": [
    "Q1 = df_prep_p[\"PricePerSquareMeter\"].quantile(0.25)\n",
    "Q3 = df_prep_p[\"PricePerSquareMeter\"].quantile(0.75)\n",
    "IQR = Q3 - Q1\n",
    "\n",
    "lower_bound = Q1 - 1.5 * IQR\n",
    "upper_bound = Q3 + 1.5 * IQR\n",
    "\n",
    "df_prep_a = df_prep_p[~((df_prep_p[\"PricePerSquareMeter\"] < lower_bound) | (df_prep_p[\"PricePerSquareMeter\"] > upper_bound))]"
   ]
  },
  {
   "cell_type": "code",
   "execution_count": null,
   "id": "266868f5-271f-4cd1-86fe-ee35905d7a91",
   "metadata": {},
   "outputs": [],
   "source": [
    "Q1 = df_prep_a[\"Area\"].quantile(0.25)\n",
    "Q3 = df_prep_a[\"Area\"].quantile(0.75)\n",
    "IQR = Q3 - Q1\n",
    "\n",
    "lower_bound = Q1 - 1.5 * IQR\n",
    "upper_bound = Q3 + 1.5 * IQR\n",
    "\n",
    "df_prepared2 = df_prep_a[~((df_prep_a[\"Area\"] < lower_bound) | (df_prep_a[\"Area\"] > upper_bound))]"
   ]
  },
  {
   "cell_type": "code",
   "execution_count": null,
   "id": "4e8c548b-381b-46e5-9569-2f07cae56405",
   "metadata": {},
   "outputs": [],
   "source": [
    "df_prepared2[\"BuildingCondition\"].value_counts(normalize=True)"
   ]
  },
  {
   "cell_type": "code",
   "execution_count": null,
   "id": "9c937c8c-442e-47af-a295-917557fe749d",
   "metadata": {},
   "outputs": [],
   "source": [
    "df_prepared2.nunique()"
   ]
  },
  {
   "cell_type": "code",
   "execution_count": null,
   "id": "237c218b-5998-491f-af1b-8dd4e0ff63ca",
   "metadata": {},
   "outputs": [],
   "source": [
    "unique_btype=df_prepared2['BuildingType'].unique()\n",
    "\n",
    "unique_btype"
   ]
  },
  {
   "cell_type": "code",
   "execution_count": null,
   "id": "28de393c-7712-419e-9eeb-6a61c5f771bf",
   "metadata": {},
   "outputs": [],
   "source": [
    "print(df_prepared2['BuildingCondition'].nunique())"
   ]
  },
  {
   "cell_type": "code",
   "execution_count": null,
   "id": "14d942f2-3deb-4340-86c0-c04920675813",
   "metadata": {},
   "outputs": [],
   "source": [
    "df_prepared2.isnull().sum()"
   ]
  },
  {
   "cell_type": "code",
   "execution_count": null,
   "id": "18584f1a-876f-44c8-9e6f-6ce9cc70d946",
   "metadata": {},
   "outputs": [],
   "source": [
    "df_prepared3=df_prepared2.dropna(subset=['BuildingCondition'])"
   ]
  },
  {
   "cell_type": "code",
   "execution_count": null,
   "id": "6d78d4a2-80ea-4446-9944-6b37df4403fa",
   "metadata": {},
   "outputs": [],
   "source": [
    "df_prepared3.loc[df_prepared3['TypeOfMarket'] == 'pierwotny', 'BuildingCondition'] = 'DEVELOPER_STATE'"
   ]
  },
  {
   "cell_type": "code",
   "execution_count": null,
   "id": "8dfc7464-837f-4e16-9952-b30005b1690f",
   "metadata": {},
   "outputs": [],
   "source": [
    "df_prepared3['BuiltYear'] = pd.to_datetime(df_prepared3['BuiltYear'], format='%Y', errors='coerce')"
   ]
  },
  {
   "cell_type": "code",
   "execution_count": null,
   "id": "147e245c-c014-485b-a6f5-255c93ef7c79",
   "metadata": {},
   "outputs": [],
   "source": [
    "df_prepared3.loc[df_prepared3['BuiltYear'].dt.year >= 2025, 'BuildingCondition'] = 'DEVELOPER_STATE'"
   ]
  },
  {
   "cell_type": "code",
   "execution_count": null,
   "id": "6e86cee0-d48f-44e4-b641-2794dd4fad53",
   "metadata": {},
   "outputs": [],
   "source": [
    "df_prepared3 = df_prepared3[~((df_prepared3['Link'].str.contains('otodom', case=False, na=False)) & \n",
    "                              (df_prepared3['BuildingCondition'] == 'AFTER_RENOVATION'))]"
   ]
  },
  {
   "cell_type": "code",
   "execution_count": null,
   "id": "f0d898aa-72d5-45e4-ae5c-1e41a0eb54b8",
   "metadata": {},
   "outputs": [],
   "source": [
    "unique_ctype=df_prepared3['BuildingCondition'].unique()\n",
    "\n",
    "unique_ctype"
   ]
  },
  {
   "cell_type": "code",
   "execution_count": null,
   "id": "154331f7-4c6d-4696-afb5-abd8653f182e",
   "metadata": {},
   "outputs": [],
   "source": [
    "df_prepared3[\"BuildingCondition\"].value_counts(normalize=True)"
   ]
  },
  {
   "cell_type": "code",
   "execution_count": null,
   "id": "52ef5ce1-9539-4244-9085-e6aa86bff67d",
   "metadata": {},
   "outputs": [],
   "source": [
    "# DODANIE ZBALANSOWANIA\n",
    "# Sprawdź ile rekordów ma każda klasa\n",
    "class_counts = df_prepared3['BuildingCondition'].value_counts()\n",
    "min_count = class_counts.min()\n",
    "\n",
    "# Tworzymy zbalansowane próbki dla każdej klasy\n",
    "dfs = []\n",
    "for condition in class_counts.index:\n",
    "    df_condition = df_prepared3[df_prepared3['BuildingCondition'] == condition]\n",
    "    df_condition_downsampled = resample(df_condition, \n",
    "                                        replace=False, \n",
    "                                        n_samples=min_count, \n",
    "                                        random_state=42)\n",
    "    dfs.append(df_condition_downsampled)\n",
    "\n",
    "# Łączymy wszystkie klasy w jeden zbalansowany DataFrame\n",
    "df_balanced = pd.concat(dfs).reset_index(drop=True)"
   ]
  },
  {
   "cell_type": "code",
   "execution_count": null,
   "id": "4fa9e05e-7a75-41ce-a8bc-62aae9846393",
   "metadata": {},
   "outputs": [],
   "source": [
    "df_balanced[\"BuildingCondition\"].value_counts(normalize=True)"
   ]
  },
  {
   "cell_type": "code",
   "execution_count": null,
   "id": "5b1dc349-0ecd-4cd4-bed4-3ef32b01a5ec",
   "metadata": {},
   "outputs": [],
   "source": [
    "df_balanced"
   ]
  },
  {
   "cell_type": "code",
   "execution_count": null,
   "id": "e7b8e6fe-33e9-46de-a3e9-8e0087ce257d",
   "metadata": {},
   "outputs": [],
   "source": [
    "unbalanced_exp = setup(\n",
    "    data=df_balanced,\n",
    "    target='BuildingCondition',\n",
    "    session_id=1123,\n",
    "    keep_features=[ \n",
    "            'Description',\n",
    "            'SaleId',\n",
    "             'Score',\n",
    "             'Type',\n",
    "             'PricePerSquareMeter',\n",
    "             'Price', \n",
    "             'Area', \n",
    "             'TypeOfMarket',\n",
    "             'Title'\n",
    "            ],   \n",
    "    categorical_features=['BuildingType', 'Location'],\n",
    "    date_features=['BuiltYear'],\n",
    "    ordinal_features={\n",
    "#      'BuildingType': ['Pozostałe', 'Blok', 'Apartametowiec', 'Kamienica']\n",
    "        'BuildingCondition': ['FOR_RENOVATION', 'GOOD', 'AFTER_RENOVATION', 'DEVELOPER_STATE']\n",
    "    },\n",
    "    verbose=False,\n",
    "\n",
    "    ignore_features=[\n",
    "        'RealPriceAfterRenovation',\n",
    "#        'Title',\n",
    "#        'Area', \n",
    "#        'Price', \n",
    "#        'PricePerSquareMeter',\n",
    "#        'Type',\n",
    "#        'Score',\n",
    "#        'TypeOfMarket',\n",
    "        'OfferPrice',\n",
    "        'OriginalPrice',\n",
    "        'OriginalId',\n",
    "        'PortalId',\n",
    "        'OfferFrom',\n",
    "        'OwnerType',\n",
    "        'DateAddedToDatabase',\n",
    "        'DateAdded',\n",
    "        'DateLastModification',\n",
    "        'DateLastRaises',\n",
    "        'NewestDate',\n",
    "        'AvailableFrom',\n",
    "        'Link',\n",
    "        'Phone',\n",
    "        'MainImage',\n",
    "        'OtherImages',\n",
    "        'NumberOfDuplicates',\n",
    "        'NumberOfRaises',\n",
    "        'NumberOfModifications',\n",
    "        'IsDuplicatePriceLower',\n",
    "        'IsDuplicatePrivateOwner',\n",
    "        'ScorePrecision',\n",
    "        'CommunityScore',\n",
    "        'NumberOfCommunityComments',\n",
    "        'NumberOfCommunityOpinions',\n",
    "        'Archive',\n",
    "        'VoivodeshipNumber',\n",
    "        'CountyNumber',\n",
    "        'CommunityNumber',\n",
    "        'RegionNumber',\n",
    "        'KindNumber',\n",
    "        'SubRegionNumber',\n",
    "        'StreetNumber',\n",
    "        'EncryptedId',\n",
    "        ],\n",
    "         \n",
    "       \n",
    ")\n",
    "best_unbalanced_model = unbalanced_exp.compare_models()\n",
    "unbalanced_metrics_df = pull()"
   ]
  },
  {
   "cell_type": "code",
   "execution_count": null,
   "id": "b2ce38b6-6a75-4327-80f7-297464c4153a",
   "metadata": {},
   "outputs": [],
   "source": [
    "unbalanced_exp.plot_model(best_unbalanced_model, plot='error')"
   ]
  },
  {
   "cell_type": "code",
   "execution_count": null,
   "id": "f0e21f2a-3037-456e-a070-7519142b9ed1",
   "metadata": {},
   "outputs": [],
   "source": [
    "unbalanced_exp.plot_model(best_unbalanced_model, plot='feature')"
   ]
  },
  {
   "cell_type": "code",
   "execution_count": null,
   "id": "42a3c78c-cc16-4d5f-8286-926035a5abb9",
   "metadata": {},
   "outputs": [],
   "source": [
    "tuned_model = unbalanced_exp.tune_model(best_unbalanced_model, n_iter=3, optimize='F1')"
   ]
  },
  {
   "cell_type": "code",
   "execution_count": null,
   "id": "8a7d5dd7-ebe2-4709-bd82-791f87ee944c",
   "metadata": {},
   "outputs": [],
   "source": [
    "best_model = unbalanced_exp.compare_models([best_unbalanced_model, tuned_model])"
   ]
  },
  {
   "cell_type": "code",
   "execution_count": null,
   "id": "ba20501a-b312-4dab-89ec-9422315b560c",
   "metadata": {
    "scrolled": true
   },
   "outputs": [],
   "source": [
    "unbalanced_exp.predict_model(best_model)"
   ]
  },
  {
   "cell_type": "code",
   "execution_count": null,
   "id": "3582e316-52cb-4568-8d9f-79f1ee0a411f",
   "metadata": {},
   "outputs": [],
   "source": [
    "unbalanced_exp.plot_model(best_model, plot='error')"
   ]
  },
  {
   "cell_type": "code",
   "execution_count": null,
   "id": "bff681b0-73b8-4ea1-8a10-4632c4c404d3",
   "metadata": {},
   "outputs": [],
   "source": [
    "unbalanced_exp.plot_model(best_model, plot='feature')"
   ]
  },
  {
   "cell_type": "code",
   "execution_count": null,
   "id": "6ef41870-dd06-4559-aef1-1a950d479f98",
   "metadata": {},
   "outputs": [],
   "source": [
    "best_tuned_model = unbalanced_exp.tune_model(\n",
    "    best_model,\n",
    "    optimize=\"F1\",\n",
    "    choose_better=True,\n",
    "    fold=5,\n",
    ")"
   ]
  },
  {
   "cell_type": "code",
   "execution_count": null,
   "id": "f442cc06-faae-4f35-b6ab-40e5cf0e799b",
   "metadata": {},
   "outputs": [],
   "source": [
    "unbalanced_exp.predict_model(best_tuned_model).head(10)"
   ]
  },
  {
   "cell_type": "code",
   "execution_count": null,
   "id": "f77d7bbb-b462-40a2-9857-6c3a082f241b",
   "metadata": {},
   "outputs": [],
   "source": [
    "unbalanced_exp.plot_model(best_tuned_model, plot='error')"
   ]
  },
  {
   "cell_type": "code",
   "execution_count": null,
   "id": "60f0b233-7bb1-4f83-b405-654c55efc3a5",
   "metadata": {},
   "outputs": [],
   "source": [
    "unbalanced_exp.plot_model(best_tuned_model, plot='feature')"
   ]
  },
  {
   "cell_type": "code",
   "execution_count": null,
   "id": "ed6205cf-4e40-4635-be2e-9be8b8855043",
   "metadata": {},
   "outputs": [],
   "source": [
    "best_final_model = unbalanced_exp.finalize_model(best_tuned_model)\n",
    "best_final_model"
   ]
  },
  {
   "cell_type": "code",
   "execution_count": null,
   "id": "2c523b55-9ea9-489e-aa5c-5ac7c9b1571b",
   "metadata": {},
   "outputs": [],
   "source": [
    "unbalanced_exp.save_model(best_final_model, \"0_best_buildingCond_model\", verbose=False);"
   ]
  },
  {
   "cell_type": "code",
   "execution_count": null,
   "id": "f694dabe-61d4-4eda-9819-5d27c5623b81",
   "metadata": {},
   "outputs": [],
   "source": [
    "unbalanced_exp.predict_model(best_final_model).head(10)"
   ]
  },
  {
   "cell_type": "code",
   "execution_count": null,
   "id": "87a00568-eb27-4f05-b39c-f640aadbf901",
   "metadata": {},
   "outputs": [],
   "source": [
    "predictions = unbalanced_exp.predict_model(best_final_model)"
   ]
  },
  {
   "cell_type": "code",
   "execution_count": null,
   "id": "ac7ec496-df42-4085-8aa7-42c3f84fbc5e",
   "metadata": {},
   "outputs": [],
   "source": [
    "plot_model(best_final_model, plot=\"auc\")"
   ]
  },
  {
   "cell_type": "code",
   "execution_count": null,
   "id": "354f1683-0c53-463a-a396-a75455df25ea",
   "metadata": {},
   "outputs": [],
   "source": [
    "plot_model(best_final_model, plot=\"confusion_matrix\")\n",
    "# ile wartości z oryginalnego zbioru danych (True Class) algorytm zmienił na nową wartość po analizie(Predicted Class)\n",
    "# np. 7 wartości oryginalnych o ocenie 1 zostało zmienionych na 0"
   ]
  },
  {
   "cell_type": "markdown",
   "id": "e279c5f5-7dea-446b-9289-e3c8c3ec2715",
   "metadata": {},
   "source": [
    "## Confusion Matrix (Macierz pomyłek)\n",
    "\n",
    "Confusion Matrix to tabela, która przedstawia liczbę poprawnych i niepoprawnych klasyfikacji dla każdej klasy. Ułatwia analizę, gdzie model popełnia błędy.\n",
    "\n",
    "|               | Predicted Positive | Predicted Negative |\n",
    "|---------------|--------------------|--------------------|\n",
    "| Actual Positive | True Positive (TP)  | False Negative (FN) |\n",
    "| Actual Negative | False Positive (FP) | True Negative (TN)  |\n",
    " \n",
    "Analiza macierzy pomyłek pozwala zrozumieć, które klasy są mylone przez model oraz jaki jest balans między różnymi rodzajami błędów.\n",
    "\n",
    "<span style=\"color:red\">Idealny model miałby same wartości na przekątnej (TP i TN) oraz zera poza nią.</span>"
   ]
  },
  {
   "cell_type": "code",
   "execution_count": null,
   "id": "52ded6b3-13a6-4050-82fc-21dbc56b165c",
   "metadata": {},
   "outputs": [],
   "source": [
    "plt.figure(figsize=(12, 6))\n",
    "plt.barh(unbalanced_metrics_df['Model'], unbalanced_metrics_df['F1'], color='skyblue')\n",
    "plt.xlabel('F1')\n",
    "plt.title('Porównanie dokładności modeli wg. metryki F1')\n",
    "plt.gca().invert_yaxis()  # najlepszy model na górze\n",
    "plt.grid(True, linestyle='--', alpha=0.5)\n",
    "plt.tight_layout()\n",
    "plt.show()"
   ]
  },
  {
   "cell_type": "code",
   "execution_count": null,
   "id": "c97caa8a-b460-4519-9b11-c1c6a620d30e",
   "metadata": {},
   "outputs": [],
   "source": [
    "best_final_model.get_params()"
   ]
  },
  {
   "cell_type": "code",
   "execution_count": null,
   "id": "dc2c7705-1674-420b-acf8-318878542127",
   "metadata": {},
   "outputs": [],
   "source": [
    "predicted_column = predictions['prediction_label']\n",
    "print(predicted_column)"
   ]
  },
  {
   "cell_type": "code",
   "execution_count": null,
   "id": "f907a9e4-40d8-4618-b764-1960c5ee757d",
   "metadata": {},
   "outputs": [],
   "source": [
    "df_last=predictions[['prediction_label','BuildingCondition', ]]"
   ]
  },
  {
   "cell_type": "code",
   "execution_count": null,
   "id": "3901e80c-e3f6-46d8-9fce-df73f0b1a740",
   "metadata": {},
   "outputs": [],
   "source": [
    "#df_last = df_last.reset_index()  \n",
    "#print(df_last.columns) "
   ]
  },
  {
   "cell_type": "code",
   "execution_count": null,
   "id": "3ef5a816-b95f-47a3-9e5e-1bc999aa3cf0",
   "metadata": {},
   "outputs": [],
   "source": [
    "#df_last.rename(columns={'index': 'SaleId'}, inplace=True)"
   ]
  },
  {
   "cell_type": "code",
   "execution_count": null,
   "id": "f8145ee3-a416-4e51-a8f1-14679e5fc3e8",
   "metadata": {},
   "outputs": [],
   "source": [
    "df_last.to_csv('0_sale_2024_stan.csv')"
   ]
  },
  {
   "cell_type": "code",
   "execution_count": null,
   "id": "9ef560a9-2a15-4c31-8fc9-489f70684edd",
   "metadata": {},
   "outputs": [],
   "source": [
    "from pycaret.classification import load_model, predict_model"
   ]
  },
  {
   "cell_type": "code",
   "execution_count": null,
   "id": "afbc10fb-57e2-4c40-97bf-52ec670a9fce",
   "metadata": {},
   "outputs": [],
   "source": [
    "best_final_model = load_model(\"0_best_buildingCond_model\")"
   ]
  },
  {
   "cell_type": "code",
   "execution_count": null,
   "id": "a7826914-01bf-48ce-bae6-a23c928a5407",
   "metadata": {},
   "outputs": [],
   "source": [
    "df_last"
   ]
  },
  {
   "cell_type": "code",
   "execution_count": null,
   "id": "4d0c4e79-81d2-4cd3-9a47-8dbaa122e914",
   "metadata": {},
   "outputs": [],
   "source": [
    "# 1. Wczytaj dane\n",
    "df_raw = pd.read_csv(\"sale_2024_0.csv\")\n",
    "\n",
    "# 2. Zrób tymczasową kopię do predykcji — z placeholderami\n",
    "df_predict = df_raw.copy()\n",
    "df_predict[\"BuildingCondition\"] = df_predict[\"BuildingCondition\"].fillna(\" \")"
   ]
  },
  {
   "cell_type": "code",
   "execution_count": null,
   "id": "1cc2e33a-a9dc-4a2d-8c31-738b2bdccddc",
   "metadata": {},
   "outputs": [],
   "source": [
    "df_predict['BuiltYear'] = pd.to_datetime(df_predict['BuiltYear'], format='%Y', errors='coerce')"
   ]
  },
  {
   "cell_type": "code",
   "execution_count": null,
   "id": "3b521bab-7513-49d3-9aff-9222fa9fa68f",
   "metadata": {},
   "outputs": [],
   "source": [
    "df_predict[['Title', 'Description']] = df_predict[['Title', 'Description']].fillna('')"
   ]
  },
  {
   "cell_type": "code",
   "execution_count": null,
   "id": "9b14870c-a7df-4535-8835-8b172000c7b4",
   "metadata": {},
   "outputs": [],
   "source": [
    "# 3. Setup z text_features (ważne!)\n",
    "#exp = setup(\n",
    "#    data=df_predict,\n",
    "#    target='BuildingCondition',\n",
    "#    session_id=1123,\n",
    "#    categorical_features=['BuildingType', 'Location'],\n",
    "#    text_features=['Title', 'Description'],\n",
    "#    text_features_method='bow',\n",
    "#    keep_features=['SaleId'],\n",
    "#    date_features=['BuiltYear'],\n",
    "#    ordinal_features={\n",
    "#        'BuildingType': ['Pozostałe', 'Blok', 'Apartametowiec', 'Kamienica']\n",
    "#    },\n",
    "#    verbose=False\n",
    "#)"
   ]
  },
  {
   "cell_type": "code",
   "execution_count": null,
   "id": "1ab2024c-eb03-42f6-a035-4650d421e6fa",
   "metadata": {},
   "outputs": [],
   "source": [
    "# 1. Wyciągnij kolumny, które model zna\n",
    "expected_cols = best_final_model.feature_names_in_\n",
    "\n",
    "#  Napraw BuiltYear\n",
    "df_raw['BuiltYear'] = pd.to_datetime(df_raw['BuiltYear'], errors='coerce')\n",
    "\n",
    "# 2. Funkcja dopasowująca df_raw\n",
    "def align_dataframe(df_raw, expected_cols):\n",
    "    # Usuń 'BuildingCondition' z listy expected_cols\n",
    "    expected_cols = [col for col in expected_cols if col != 'BuildingCondition']\n",
    "\n",
    "    # Dodaj brakujące kolumny\n",
    "    for col in expected_cols:\n",
    "        if col not in df_raw.columns:\n",
    "            df_raw[col] = 0  # albo NaN\n",
    "\n",
    "    # Usuń BuildingCondition jeśli jest\n",
    "    if 'BuildingCondition' in df_raw.columns:\n",
    "        df_raw = df_raw.drop(columns=['BuildingCondition'])\n",
    "    \n",
    "    # Ustaw kolejność kolumn\n",
    "    df_aligned = df_raw[expected_cols]\n",
    "\n",
    "    return df_aligned\n",
    "\n",
    "# 3. Użycie\n",
    "df_aligned = align_dataframe(df_raw, expected_cols)\n",
    "\n",
    "# 4. Predykcja\n",
    "predictions = predict_model(best_final_model, data=df_aligned)"
   ]
  },
  {
   "cell_type": "code",
   "execution_count": null,
   "id": "aa551c99-64d6-4817-bb4e-8335f9702e2d",
   "metadata": {},
   "outputs": [],
   "source": [
    "result = df_aligned.copy()\n",
    "result['Prediction_State'] = predictions['prediction_label']\n",
    "\n",
    "# 5. Wyświetl\n",
    "print(result)"
   ]
  },
  {
   "cell_type": "code",
   "execution_count": null,
   "id": "6e09eb90-cb25-4b50-97bc-0ad7d69548b3",
   "metadata": {},
   "outputs": [],
   "source": [
    "# 1. Skopiuj oryginalne dane\n",
    "final_result = df_raw.copy()\n",
    "\n",
    "# 2. Usuń starą kolumnę BuildingCondition\n",
    "if 'BuildingCondition' in final_result.columns:\n",
    "    final_result = final_result.drop(columns=['BuildingCondition'])\n",
    "\n",
    "# 3. Dodaj nową kolumnę z predykcją\n",
    "final_result['Predicted_State'] = predictions['prediction_label']\n",
    "\n",
    "# 4. Wyświetl efekt\n",
    "final_result"
   ]
  },
  {
   "cell_type": "code",
   "execution_count": null,
   "id": "e6d3635b-192b-4d8a-af7b-6eb4d4b0c827",
   "metadata": {},
   "outputs": [],
   "source": [
    "# 1. Wczytaj dane z pliku\n",
    "df_raw = pd.read_csv(\"sale_2024_0.csv\")\n",
    "\n",
    "# 2. Dodaj kolumnę z predykcją do oryginalnego df_raw\n",
    "df_raw['Predicted_State'] = predictions['prediction_label']\n",
    "\n",
    "# 3. Wyświetl efekt\n",
    "df_raw"
   ]
  },
  {
   "cell_type": "code",
   "execution_count": null,
   "id": "5699d9f4-920a-4737-86fb-d16c7d80e9b1",
   "metadata": {},
   "outputs": [],
   "source": [
    "df_raw = df_raw[~((df_raw['Link'].str.contains('otodom', case=False, na=False)) & \n",
    "                              (df_raw['BuildingCondition'] == 'AFTER_RENOVATION'))]"
   ]
  },
  {
   "cell_type": "code",
   "execution_count": null,
   "id": "83c38bc3-083f-4bf9-9297-412b0067ffd7",
   "metadata": {},
   "outputs": [],
   "source": [
    "df_raw[\"Predicted_State\"].value_counts(normalize=True)"
   ]
  },
  {
   "cell_type": "code",
   "execution_count": null,
   "id": "b07e990f-79f6-4e80-8d0e-08d9cbf986ad",
   "metadata": {},
   "outputs": [],
   "source": [
    "df_raw"
   ]
  },
  {
   "cell_type": "code",
   "execution_count": null,
   "id": "ce684113-7af3-4077-a30f-2d4f35f359ab",
   "metadata": {},
   "outputs": [],
   "source": [
    "df_raw.to_csv('0_sale_2024_stan_final.csv')"
   ]
  },
  {
   "cell_type": "code",
   "execution_count": null,
   "id": "b579a442-dae4-456b-8ddf-143552aaa376",
   "metadata": {},
   "outputs": [],
   "source": [
    "df1=pd.read_csv(\"0_sale_2024_stan_final.csv\")"
   ]
  },
  {
   "cell_type": "code",
   "execution_count": null,
   "id": "b5611407-da28-4c15-8310-b330927d5a26",
   "metadata": {},
   "outputs": [],
   "source": [
    "df2=df1.sample(10)"
   ]
  },
  {
   "cell_type": "code",
   "execution_count": null,
   "id": "4cbe46ac-9222-4625-b080-211f4b7832bd",
   "metadata": {},
   "outputs": [],
   "source": [
    "df2"
   ]
  },
  {
   "cell_type": "code",
   "execution_count": null,
   "id": "36003c58-8b94-4d00-9b59-2533476b4c3b",
   "metadata": {},
   "outputs": [],
   "source": [
    "df2.to_csv('01_sample10.csv')"
   ]
  },
  {
   "cell_type": "code",
   "execution_count": null,
   "id": "83cd942b-eb00-4348-bee2-6a65e273de23",
   "metadata": {},
   "outputs": [],
   "source": []
  },
  {
   "cell_type": "code",
   "execution_count": null,
   "id": "4a94ced2-bfe0-41cb-8bd9-23f6573efa69",
   "metadata": {},
   "outputs": [],
   "source": []
  },
  {
   "cell_type": "markdown",
   "id": "3f33f9a7-2c0f-4716-b00c-19d4bbba6d0a",
   "metadata": {},
   "source": [
    "# Blok z metodą OvR uruchamiać z tego miejsca"
   ]
  },
  {
   "cell_type": "markdown",
   "id": "9c1bcdb2-bf30-4605-ad8f-eca55506f936",
   "metadata": {},
   "source": [
    "## Uwaga nie zapomnieć o imporcie z pierwszej linijki"
   ]
  },
  {
   "cell_type": "code",
   "execution_count": 2,
   "id": "02698c4a-2525-4842-8723-7e8b44207560",
   "metadata": {},
   "outputs": [],
   "source": [
    "df=pd.read_csv(\"sale_2024_0.csv\")"
   ]
  },
  {
   "cell_type": "code",
   "execution_count": 3,
   "id": "c00f0519-662c-4fb7-a276-16ae331e30b2",
   "metadata": {},
   "outputs": [],
   "source": [
    "df_2 = df[~((df['Link'].str.contains('otodom', case=False, na=False)) & \n",
    "                              (df['BuildingCondition'] == 'AFTER_RENOVATION'))]"
   ]
  },
  {
   "cell_type": "code",
   "execution_count": 4,
   "id": "eef36ed8-2d6a-4037-9475-a40a7cc8668f",
   "metadata": {},
   "outputs": [],
   "source": [
    "Q1 = df_2[\"Price\"].quantile(0.25)\n",
    "Q3 = df_2[\"Price\"].quantile(0.75)\n",
    "IQR = Q3 - Q1\n",
    "\n",
    "lower_bound = Q1 - 1.5 * IQR\n",
    "upper_bound = Q3 + 1.5 * IQR\n",
    "\n",
    "df_prep_p = df_2[~((df_2[\"Price\"] < lower_bound) | (df_2[\"Price\"] > upper_bound))]"
   ]
  },
  {
   "cell_type": "code",
   "execution_count": 5,
   "id": "20cef52c-88d7-4db2-8ae8-c98e0306ccfe",
   "metadata": {},
   "outputs": [],
   "source": [
    "Q1 = df_prep_p[\"PricePerSquareMeter\"].quantile(0.25)\n",
    "Q3 = df_prep_p[\"PricePerSquareMeter\"].quantile(0.75)\n",
    "IQR = Q3 - Q1\n",
    "\n",
    "lower_bound = Q1 - 1.5 * IQR\n",
    "upper_bound = Q3 + 1.5 * IQR\n",
    "\n",
    "df_prep_a = df_prep_p[~((df_prep_p[\"PricePerSquareMeter\"] < lower_bound) | (df_prep_p[\"PricePerSquareMeter\"] > upper_bound))]"
   ]
  },
  {
   "cell_type": "code",
   "execution_count": 6,
   "id": "dc905c52-a7a4-4609-80d4-3d3923de281d",
   "metadata": {},
   "outputs": [],
   "source": [
    "Q1 = df_prep_a[\"Area\"].quantile(0.25)\n",
    "Q3 = df_prep_a[\"Area\"].quantile(0.75)\n",
    "IQR = Q3 - Q1\n",
    "\n",
    "lower_bound = Q1 - 1.5 * IQR\n",
    "upper_bound = Q3 + 1.5 * IQR\n",
    "\n",
    "df_prepared2 = df_prep_a[~((df_prep_a[\"Area\"] < lower_bound) | (df_prep_a[\"Area\"] > upper_bound))]"
   ]
  },
  {
   "cell_type": "code",
   "execution_count": 7,
   "id": "4be14842-41b1-4a12-af54-65c7b3227f91",
   "metadata": {},
   "outputs": [],
   "source": [
    "df_prepared3=df_prepared2.dropna(subset=['BuildingCondition'])"
   ]
  },
  {
   "cell_type": "code",
   "execution_count": 8,
   "id": "d58565b7-5c2d-4cb8-bdf4-18b5a652ebf1",
   "metadata": {},
   "outputs": [],
   "source": [
    "df_prepared3.loc[df_prepared3['TypeOfMarket'] == 'pierwotny', 'BuildingCondition'] = 'DEVELOPER_STATE'"
   ]
  },
  {
   "cell_type": "code",
   "execution_count": 9,
   "id": "cfeed590-e840-4e44-a590-9c251c50645c",
   "metadata": {},
   "outputs": [],
   "source": [
    "df_prepared3['BuiltYear'] = pd.to_datetime(df_prepared3['BuiltYear'], format='%Y', errors='coerce')"
   ]
  },
  {
   "cell_type": "code",
   "execution_count": 10,
   "id": "3cd1de14-1165-410f-9ece-9ff3a28833f4",
   "metadata": {},
   "outputs": [],
   "source": [
    "df_prepared3.loc[df_prepared3['BuiltYear'].dt.year >= 2025, 'BuildingCondition'] = 'DEVELOPER_STATE'"
   ]
  },
  {
   "cell_type": "code",
   "execution_count": 11,
   "id": "ef1a58a7-65b2-4abb-a3f2-2e8f4debea18",
   "metadata": {},
   "outputs": [],
   "source": [
    "df_prepared3['BuiltYear'] = pd.to_datetime(df_prepared3['BuiltYear'], format='%Y', errors='coerce')"
   ]
  },
  {
   "cell_type": "code",
   "execution_count": 12,
   "id": "085251da-3d14-4cf5-be99-89f6f3c939e2",
   "metadata": {},
   "outputs": [
    {
     "data": {
      "text/plain": [
       "array(['DEVELOPER_STATE', 'AFTER_RENOVATION', 'GOOD', 'FOR_RENOVATION'],\n",
       "      dtype=object)"
      ]
     },
     "execution_count": 12,
     "metadata": {},
     "output_type": "execute_result"
    }
   ],
   "source": [
    "unique_ctype=df_prepared3['BuildingCondition'].unique()\n",
    "\n",
    "unique_ctype"
   ]
  },
  {
   "cell_type": "code",
   "execution_count": 13,
   "id": "9949c70b-3b30-4746-b4df-8e3ef873550d",
   "metadata": {},
   "outputs": [
    {
     "data": {
      "text/plain": [
       "BuildingCondition\n",
       "DEVELOPER_STATE     0.606077\n",
       "AFTER_RENOVATION    0.183006\n",
       "FOR_RENOVATION      0.108469\n",
       "GOOD                0.102449\n",
       "Name: proportion, dtype: float64"
      ]
     },
     "execution_count": 13,
     "metadata": {},
     "output_type": "execute_result"
    }
   ],
   "source": [
    "df_prepared3[\"BuildingCondition\"].value_counts(normalize=True)"
   ]
  },
  {
   "cell_type": "code",
   "execution_count": 14,
   "id": "29ac9438-00f7-4bf0-94ab-271dc7616a94",
   "metadata": {},
   "outputs": [],
   "source": [
    "# DODANIE ZBALANSOWANIA\n",
    "# Sprawdź ile rekordów ma każda klasa\n",
    "class_counts = df_prepared3['BuildingCondition'].value_counts()\n",
    "min_count = class_counts.min()\n",
    "\n",
    "# Tworzymy zbalansowane próbki dla każdej klasy\n",
    "dfs = []\n",
    "for condition in class_counts.index:\n",
    "    df_condition = df_prepared3[df_prepared3['BuildingCondition'] == condition]\n",
    "    df_condition_downsampled = resample(df_condition, \n",
    "                                        replace=False, \n",
    "                                        n_samples=min_count, \n",
    "                                        random_state=42)\n",
    "    dfs.append(df_condition_downsampled)\n",
    "\n",
    "# Łączymy wszystkie klasy w jeden zbalansowany DataFrame\n",
    "df_balanced = pd.concat(dfs).reset_index(drop=True)"
   ]
  },
  {
   "cell_type": "code",
   "execution_count": 15,
   "id": "4bfe88fa-73c5-49a3-a498-ed55faac2165",
   "metadata": {},
   "outputs": [
    {
     "data": {
      "text/plain": [
       "BuildingCondition\n",
       "DEVELOPER_STATE     0.25\n",
       "AFTER_RENOVATION    0.25\n",
       "FOR_RENOVATION      0.25\n",
       "GOOD                0.25\n",
       "Name: proportion, dtype: float64"
      ]
     },
     "execution_count": 15,
     "metadata": {},
     "output_type": "execute_result"
    }
   ],
   "source": [
    "df_balanced[\"BuildingCondition\"].value_counts(normalize=True)"
   ]
  },
  {
   "cell_type": "code",
   "execution_count": 16,
   "id": "b853c700-89dd-4222-9d03-185602bcdd6c",
   "metadata": {},
   "outputs": [
    {
     "data": {
      "text/html": [
       "<div>\n",
       "<style scoped>\n",
       "    .dataframe tbody tr th:only-of-type {\n",
       "        vertical-align: middle;\n",
       "    }\n",
       "\n",
       "    .dataframe tbody tr th {\n",
       "        vertical-align: top;\n",
       "    }\n",
       "\n",
       "    .dataframe thead th {\n",
       "        text-align: right;\n",
       "    }\n",
       "</style>\n",
       "<table border=\"1\" class=\"dataframe\">\n",
       "  <thead>\n",
       "    <tr style=\"text-align: right;\">\n",
       "      <th></th>\n",
       "      <th>SaleId</th>\n",
       "      <th>OriginalId</th>\n",
       "      <th>PortalId</th>\n",
       "      <th>Title</th>\n",
       "      <th>Description</th>\n",
       "      <th>Area</th>\n",
       "      <th>Price</th>\n",
       "      <th>OfferPrice</th>\n",
       "      <th>RealPriceAfterRenovation</th>\n",
       "      <th>OriginalPrice</th>\n",
       "      <th>...</th>\n",
       "      <th>Archive</th>\n",
       "      <th>Location</th>\n",
       "      <th>VoivodeshipNumber</th>\n",
       "      <th>CountyNumber</th>\n",
       "      <th>CommunityNumber</th>\n",
       "      <th>KindNumber</th>\n",
       "      <th>RegionNumber</th>\n",
       "      <th>SubRegionNumber</th>\n",
       "      <th>StreetNumber</th>\n",
       "      <th>EncryptedId</th>\n",
       "    </tr>\n",
       "  </thead>\n",
       "  <tbody>\n",
       "    <tr>\n",
       "      <th>0</th>\n",
       "      <td>4266367</td>\n",
       "      <td>NaN</td>\n",
       "      <td>3</td>\n",
       "      <td>Nowoczesne mieszkania w sercu Łodzi Manufaktura</td>\n",
       "      <td>Kup mieszkanie bezpośrednio od Dewelopera! Pra...</td>\n",
       "      <td>52.00</td>\n",
       "      <td>459000.0</td>\n",
       "      <td>553361.0</td>\n",
       "      <td>575637.67</td>\n",
       "      <td>NaN</td>\n",
       "      <td>...</td>\n",
       "      <td>NaN</td>\n",
       "      <td>Łódzkie, Łódź, Łódź-śródmieście, Śródmieście</td>\n",
       "      <td>10.0</td>\n",
       "      <td>61.0</td>\n",
       "      <td>5.0</td>\n",
       "      <td>9.0</td>\n",
       "      <td>958447.0</td>\n",
       "      <td>NaN</td>\n",
       "      <td>NaN</td>\n",
       "      <td>dKKXZ1uFQJTb8QJJOLnifO8e0oyGIwz8-GAUcMCH2_k=</td>\n",
       "    </tr>\n",
       "    <tr>\n",
       "      <th>1</th>\n",
       "      <td>4390394</td>\n",
       "      <td>NaN</td>\n",
       "      <td>3</td>\n",
       "      <td>3-pokojowe mieszkanie 60m2 + loggia</td>\n",
       "      <td>3-pokojowe mieszkanie numer 8-A008 na 2. piętr...</td>\n",
       "      <td>60.29</td>\n",
       "      <td>NaN</td>\n",
       "      <td>NaN</td>\n",
       "      <td>NaN</td>\n",
       "      <td>NaN</td>\n",
       "      <td>...</td>\n",
       "      <td>NaN</td>\n",
       "      <td>Mazowieckie, Warszawa, Ursus, Gołąbki, Ul. Kaz...</td>\n",
       "      <td>14.0</td>\n",
       "      <td>65.0</td>\n",
       "      <td>12.0</td>\n",
       "      <td>8.0</td>\n",
       "      <td>918666.0</td>\n",
       "      <td>NaN</td>\n",
       "      <td>32907.0</td>\n",
       "      <td>oydtk6bW4a5uEscrvIRGJ2DSFhxJitH2UJuyXKHVWIY=</td>\n",
       "    </tr>\n",
       "    <tr>\n",
       "      <th>2</th>\n",
       "      <td>4378127</td>\n",
       "      <td>NaN</td>\n",
       "      <td>3</td>\n",
       "      <td>1 pokojowe (możliwość wydzielenia 2) |Czyżyny</td>\n",
       "      <td>Nowe mieszkanie z balkonem - Kraków Czyżyny Na...</td>\n",
       "      <td>32.62</td>\n",
       "      <td>515409.0</td>\n",
       "      <td>490700.0</td>\n",
       "      <td>707000.00</td>\n",
       "      <td>NaN</td>\n",
       "      <td>...</td>\n",
       "      <td>NaN</td>\n",
       "      <td>Małopolskie, Kraków, Kraków-nowa Huta, Łęg, Ul...</td>\n",
       "      <td>12.0</td>\n",
       "      <td>61.0</td>\n",
       "      <td>3.0</td>\n",
       "      <td>9.0</td>\n",
       "      <td>950813.0</td>\n",
       "      <td>NaN</td>\n",
       "      <td>60055.0</td>\n",
       "      <td>xGLchc43KA01zKcK3z0v4oaCdEfvBnZExzKfPS9GXW0=</td>\n",
       "    </tr>\n",
       "    <tr>\n",
       "      <th>3</th>\n",
       "      <td>4346014</td>\n",
       "      <td>NaN</td>\n",
       "      <td>3</td>\n",
       "      <td>‼️Odbierz dziś duży Rabat -&gt; 2 pok + Garaż‼️</td>\n",
       "      <td>Nowe mieszkania, od dewelopera, bez podatku PC...</td>\n",
       "      <td>40.24</td>\n",
       "      <td>431156.0</td>\n",
       "      <td>428409.0</td>\n",
       "      <td>431459.00</td>\n",
       "      <td>428020.0</td>\n",
       "      <td>...</td>\n",
       "      <td>NaN</td>\n",
       "      <td>Pomorskie, Gdynia, Wiczlino</td>\n",
       "      <td>22.0</td>\n",
       "      <td>62.0</td>\n",
       "      <td>1.0</td>\n",
       "      <td>1.0</td>\n",
       "      <td>934429.0</td>\n",
       "      <td>NaN</td>\n",
       "      <td>NaN</td>\n",
       "      <td>5sT4Ar2swa4Sj0jt-GLT-zY_qkdVfWyqsbDtbsFdaZc=</td>\n",
       "    </tr>\n",
       "    <tr>\n",
       "      <th>4</th>\n",
       "      <td>4407014</td>\n",
       "      <td>NaN</td>\n",
       "      <td>3</td>\n",
       "      <td>Mieszkanie Staroniwska Ogród</td>\n",
       "      <td>Zapraszamy do odkrycia naszej najnowszej inwes...</td>\n",
       "      <td>54.66</td>\n",
       "      <td>577300.0</td>\n",
       "      <td>624750.0</td>\n",
       "      <td>702500.00</td>\n",
       "      <td>NaN</td>\n",
       "      <td>...</td>\n",
       "      <td>NaN</td>\n",
       "      <td>Podkarpackie, Rzeszów, Staroniwa</td>\n",
       "      <td>18.0</td>\n",
       "      <td>63.0</td>\n",
       "      <td>1.0</td>\n",
       "      <td>1.0</td>\n",
       "      <td>974245.0</td>\n",
       "      <td>NaN</td>\n",
       "      <td>NaN</td>\n",
       "      <td>0K6mgKFRS_FZAHJ2o8bTsjY_qkdVfWyqsbDtbsFdaZc=</td>\n",
       "    </tr>\n",
       "    <tr>\n",
       "      <th>...</th>\n",
       "      <td>...</td>\n",
       "      <td>...</td>\n",
       "      <td>...</td>\n",
       "      <td>...</td>\n",
       "      <td>...</td>\n",
       "      <td>...</td>\n",
       "      <td>...</td>\n",
       "      <td>...</td>\n",
       "      <td>...</td>\n",
       "      <td>...</td>\n",
       "      <td>...</td>\n",
       "      <td>...</td>\n",
       "      <td>...</td>\n",
       "      <td>...</td>\n",
       "      <td>...</td>\n",
       "      <td>...</td>\n",
       "      <td>...</td>\n",
       "      <td>...</td>\n",
       "      <td>...</td>\n",
       "      <td>...</td>\n",
       "      <td>...</td>\n",
       "    </tr>\n",
       "    <tr>\n",
       "      <th>23207</th>\n",
       "      <td>4365731</td>\n",
       "      <td>NaN</td>\n",
       "      <td>17</td>\n",
       "      <td>Apartament, ul. Saperska</td>\n",
       "      <td>LEGNICA, ULICA SAPERSKA 1. 2 pokoje, balkon, p...</td>\n",
       "      <td>41.25</td>\n",
       "      <td>395000.0</td>\n",
       "      <td>NaN</td>\n",
       "      <td>NaN</td>\n",
       "      <td>NaN</td>\n",
       "      <td>...</td>\n",
       "      <td>NaN</td>\n",
       "      <td>Dolnośląskie, Legnica, Tarninów, Ul. Saperska</td>\n",
       "      <td>2.0</td>\n",
       "      <td>62.0</td>\n",
       "      <td>1.0</td>\n",
       "      <td>1.0</td>\n",
       "      <td>1067598.0</td>\n",
       "      <td>NaN</td>\n",
       "      <td>19509.0</td>\n",
       "      <td>30wxJBw-tetEqvu_DkzJj0m9CVG6yYs9U2KBME0Psic=</td>\n",
       "    </tr>\n",
       "    <tr>\n",
       "      <th>23208</th>\n",
       "      <td>4402007</td>\n",
       "      <td>NaN</td>\n",
       "      <td>17</td>\n",
       "      <td>Mieszkanie, ul. Modzelewskiego</td>\n",
       "      <td>Fenomenalnie wykończone, po remoncie mieszkani...</td>\n",
       "      <td>57.00</td>\n",
       "      <td>945000.0</td>\n",
       "      <td>829000.0</td>\n",
       "      <td>916000.00</td>\n",
       "      <td>NaN</td>\n",
       "      <td>...</td>\n",
       "      <td>NaN</td>\n",
       "      <td>Mazowieckie, Warszawa, Mokotów, Wierzbno, Ul. ...</td>\n",
       "      <td>14.0</td>\n",
       "      <td>65.0</td>\n",
       "      <td>5.0</td>\n",
       "      <td>8.0</td>\n",
       "      <td>918577.0</td>\n",
       "      <td>NaN</td>\n",
       "      <td>13192.0</td>\n",
       "      <td>adVPXWEdw4iBsck2kiqyTSxEZaoqZA0WSjJKH4A5guQ=</td>\n",
       "    </tr>\n",
       "    <tr>\n",
       "      <th>23209</th>\n",
       "      <td>4402899</td>\n",
       "      <td>NaN</td>\n",
       "      <td>17</td>\n",
       "      <td>Mieszkanie, ul. Sępa-Szarzyńskiego</td>\n",
       "      <td>Oferta na wyłączność! Nie znajdziecie jej pańs...</td>\n",
       "      <td>67.00</td>\n",
       "      <td>703500.0</td>\n",
       "      <td>849999.0</td>\n",
       "      <td>1114000.00</td>\n",
       "      <td>NaN</td>\n",
       "      <td>...</td>\n",
       "      <td>NaN</td>\n",
       "      <td>Dolnośląskie, Wrocław, Wrocław-śródmieście, Pl...</td>\n",
       "      <td>2.0</td>\n",
       "      <td>64.0</td>\n",
       "      <td>6.0</td>\n",
       "      <td>9.0</td>\n",
       "      <td>986998.0</td>\n",
       "      <td>NaN</td>\n",
       "      <td>19733.0</td>\n",
       "      <td>tAmtgaq_mFTFs4A7O3FG0JgtwTGeq42piasdfG4vjEE=</td>\n",
       "    </tr>\n",
       "    <tr>\n",
       "      <th>23210</th>\n",
       "      <td>4408927</td>\n",
       "      <td>NaN</td>\n",
       "      <td>32</td>\n",
       "      <td>Sprzedam mieszkanie Jasło Jasło</td>\n",
       "      <td>Sprzedam mieszkanie do remontu w centrum Jasła...</td>\n",
       "      <td>49.00</td>\n",
       "      <td>250.0</td>\n",
       "      <td>265000.0</td>\n",
       "      <td>359966.67</td>\n",
       "      <td>NaN</td>\n",
       "      <td>...</td>\n",
       "      <td>NaN</td>\n",
       "      <td>Podkarpackie, Jasielski, Jasło, Ul. Adama Mick...</td>\n",
       "      <td>18.0</td>\n",
       "      <td>5.0</td>\n",
       "      <td>1.0</td>\n",
       "      <td>1.0</td>\n",
       "      <td>953059.0</td>\n",
       "      <td>NaN</td>\n",
       "      <td>12740.0</td>\n",
       "      <td>WTInZhDcqXMSLo2DspXxioaCdEfvBnZExzKfPS9GXW0=</td>\n",
       "    </tr>\n",
       "    <tr>\n",
       "      <th>23211</th>\n",
       "      <td>4266638</td>\n",
       "      <td>NaN</td>\n",
       "      <td>4</td>\n",
       "      <td>2-pokojowe mieszkanie na sprzedaż</td>\n",
       "      <td>Na sprzedaż przytulne, 2-pokojowe mieszkanie o...</td>\n",
       "      <td>42.50</td>\n",
       "      <td>245000.0</td>\n",
       "      <td>NaN</td>\n",
       "      <td>NaN</td>\n",
       "      <td>NaN</td>\n",
       "      <td>...</td>\n",
       "      <td>NaN</td>\n",
       "      <td>Dolnośląskie, Złotoryjski, Złotoryja, Ul. Podwale</td>\n",
       "      <td>2.0</td>\n",
       "      <td>26.0</td>\n",
       "      <td>2.0</td>\n",
       "      <td>1.0</td>\n",
       "      <td>954219.0</td>\n",
       "      <td>NaN</td>\n",
       "      <td>16874.0</td>\n",
       "      <td>fg3M-z_wsQgBioAKxQXK9z4_dpxrDGt-7ptnSFX67Aw=</td>\n",
       "    </tr>\n",
       "  </tbody>\n",
       "</table>\n",
       "<p>23212 rows × 51 columns</p>\n",
       "</div>"
      ],
      "text/plain": [
       "        SaleId  OriginalId  PortalId  \\\n",
       "0      4266367         NaN         3   \n",
       "1      4390394         NaN         3   \n",
       "2      4378127         NaN         3   \n",
       "3      4346014         NaN         3   \n",
       "4      4407014         NaN         3   \n",
       "...        ...         ...       ...   \n",
       "23207  4365731         NaN        17   \n",
       "23208  4402007         NaN        17   \n",
       "23209  4402899         NaN        17   \n",
       "23210  4408927         NaN        32   \n",
       "23211  4266638         NaN         4   \n",
       "\n",
       "                                                 Title  \\\n",
       "0      Nowoczesne mieszkania w sercu Łodzi Manufaktura   \n",
       "1                  3-pokojowe mieszkanie 60m2 + loggia   \n",
       "2        1 pokojowe (możliwość wydzielenia 2) |Czyżyny   \n",
       "3         ‼️Odbierz dziś duży Rabat -> 2 pok + Garaż‼️   \n",
       "4                         Mieszkanie Staroniwska Ogród   \n",
       "...                                                ...   \n",
       "23207                         Apartament, ul. Saperska   \n",
       "23208                   Mieszkanie, ul. Modzelewskiego   \n",
       "23209               Mieszkanie, ul. Sępa-Szarzyńskiego   \n",
       "23210                  Sprzedam mieszkanie Jasło Jasło   \n",
       "23211                2-pokojowe mieszkanie na sprzedaż   \n",
       "\n",
       "                                             Description   Area     Price  \\\n",
       "0      Kup mieszkanie bezpośrednio od Dewelopera! Pra...  52.00  459000.0   \n",
       "1      3-pokojowe mieszkanie numer 8-A008 na 2. piętr...  60.29       NaN   \n",
       "2      Nowe mieszkanie z balkonem - Kraków Czyżyny Na...  32.62  515409.0   \n",
       "3      Nowe mieszkania, od dewelopera, bez podatku PC...  40.24  431156.0   \n",
       "4      Zapraszamy do odkrycia naszej najnowszej inwes...  54.66  577300.0   \n",
       "...                                                  ...    ...       ...   \n",
       "23207  LEGNICA, ULICA SAPERSKA 1. 2 pokoje, balkon, p...  41.25  395000.0   \n",
       "23208  Fenomenalnie wykończone, po remoncie mieszkani...  57.00  945000.0   \n",
       "23209  Oferta na wyłączność! Nie znajdziecie jej pańs...  67.00  703500.0   \n",
       "23210  Sprzedam mieszkanie do remontu w centrum Jasła...  49.00     250.0   \n",
       "23211  Na sprzedaż przytulne, 2-pokojowe mieszkanie o...  42.50  245000.0   \n",
       "\n",
       "       OfferPrice  RealPriceAfterRenovation  OriginalPrice  ...  Archive  \\\n",
       "0        553361.0                 575637.67            NaN  ...      NaN   \n",
       "1             NaN                       NaN            NaN  ...      NaN   \n",
       "2        490700.0                 707000.00            NaN  ...      NaN   \n",
       "3        428409.0                 431459.00       428020.0  ...      NaN   \n",
       "4        624750.0                 702500.00            NaN  ...      NaN   \n",
       "...           ...                       ...            ...  ...      ...   \n",
       "23207         NaN                       NaN            NaN  ...      NaN   \n",
       "23208    829000.0                 916000.00            NaN  ...      NaN   \n",
       "23209    849999.0                1114000.00            NaN  ...      NaN   \n",
       "23210    265000.0                 359966.67            NaN  ...      NaN   \n",
       "23211         NaN                       NaN            NaN  ...      NaN   \n",
       "\n",
       "                                                Location VoivodeshipNumber  \\\n",
       "0           Łódzkie, Łódź, Łódź-śródmieście, Śródmieście              10.0   \n",
       "1      Mazowieckie, Warszawa, Ursus, Gołąbki, Ul. Kaz...              14.0   \n",
       "2      Małopolskie, Kraków, Kraków-nowa Huta, Łęg, Ul...              12.0   \n",
       "3                            Pomorskie, Gdynia, Wiczlino              22.0   \n",
       "4                       Podkarpackie, Rzeszów, Staroniwa              18.0   \n",
       "...                                                  ...               ...   \n",
       "23207      Dolnośląskie, Legnica, Tarninów, Ul. Saperska               2.0   \n",
       "23208  Mazowieckie, Warszawa, Mokotów, Wierzbno, Ul. ...              14.0   \n",
       "23209  Dolnośląskie, Wrocław, Wrocław-śródmieście, Pl...               2.0   \n",
       "23210  Podkarpackie, Jasielski, Jasło, Ul. Adama Mick...              18.0   \n",
       "23211  Dolnośląskie, Złotoryjski, Złotoryja, Ul. Podwale               2.0   \n",
       "\n",
       "      CountyNumber CommunityNumber KindNumber RegionNumber  SubRegionNumber  \\\n",
       "0             61.0             5.0        9.0     958447.0              NaN   \n",
       "1             65.0            12.0        8.0     918666.0              NaN   \n",
       "2             61.0             3.0        9.0     950813.0              NaN   \n",
       "3             62.0             1.0        1.0     934429.0              NaN   \n",
       "4             63.0             1.0        1.0     974245.0              NaN   \n",
       "...            ...             ...        ...          ...              ...   \n",
       "23207         62.0             1.0        1.0    1067598.0              NaN   \n",
       "23208         65.0             5.0        8.0     918577.0              NaN   \n",
       "23209         64.0             6.0        9.0     986998.0              NaN   \n",
       "23210          5.0             1.0        1.0     953059.0              NaN   \n",
       "23211         26.0             2.0        1.0     954219.0              NaN   \n",
       "\n",
       "       StreetNumber                                   EncryptedId  \n",
       "0               NaN  dKKXZ1uFQJTb8QJJOLnifO8e0oyGIwz8-GAUcMCH2_k=  \n",
       "1           32907.0  oydtk6bW4a5uEscrvIRGJ2DSFhxJitH2UJuyXKHVWIY=  \n",
       "2           60055.0  xGLchc43KA01zKcK3z0v4oaCdEfvBnZExzKfPS9GXW0=  \n",
       "3               NaN  5sT4Ar2swa4Sj0jt-GLT-zY_qkdVfWyqsbDtbsFdaZc=  \n",
       "4               NaN  0K6mgKFRS_FZAHJ2o8bTsjY_qkdVfWyqsbDtbsFdaZc=  \n",
       "...             ...                                           ...  \n",
       "23207       19509.0  30wxJBw-tetEqvu_DkzJj0m9CVG6yYs9U2KBME0Psic=  \n",
       "23208       13192.0  adVPXWEdw4iBsck2kiqyTSxEZaoqZA0WSjJKH4A5guQ=  \n",
       "23209       19733.0  tAmtgaq_mFTFs4A7O3FG0JgtwTGeq42piasdfG4vjEE=  \n",
       "23210       12740.0  WTInZhDcqXMSLo2DspXxioaCdEfvBnZExzKfPS9GXW0=  \n",
       "23211       16874.0  fg3M-z_wsQgBioAKxQXK9z4_dpxrDGt-7ptnSFX67Aw=  \n",
       "\n",
       "[23212 rows x 51 columns]"
      ]
     },
     "execution_count": 16,
     "metadata": {},
     "output_type": "execute_result"
    }
   ],
   "source": [
    "df_balanced"
   ]
  },
  {
   "cell_type": "code",
   "execution_count": 39,
   "id": "16818e0d-5a34-48fa-8480-1e4c1e2a5b50",
   "metadata": {},
   "outputs": [],
   "source": [
    "polish_stopwords = [\n",
    "    'i', 'oraz', 'a', 'ale', 'czy', 'więc', 'lecz', 'że', 'to', 'z', 'na', 'do', 'po', 'przez',\n",
    "    'dla', 'bez', 'od', 'pod', 'nad', 'u', 'o', 'w', 'jak', 'tak', 'nie', 'jest', 'są', 'być',\n",
    "    'był', 'była', 'było', 'byli', 'się', 'też', 'ten', 'ta', 'to', 'ci', 'co', 'który', 'która',\n",
    "    'które', 'którzy', 'kto', 'kogo', 'czego', 'dlaczego', 'dlatego', 'tam', 'tu', 'tutaj',\n",
    "    'teraz', 'już', 'jeszcze', 'bardzo', 'może', 'muszę', 'musisz', 'można', 'trzeba', 'będzie',\n",
    "    'będą', 'by', 'aby', 'gdy', 'gdyby', 'mimo', 'choć', 'chociaż', 'nawet', 'ani', 'żeby', 'czyli'\n",
    "]"
   ]
  },
  {
   "cell_type": "code",
   "execution_count": 40,
   "id": "61016749-41ee-4505-9799-80018e01a32a",
   "metadata": {},
   "outputs": [
    {
     "name": "stdout",
     "output_type": "stream",
     "text": [
      "🧪 Stan: DEVELOPER_STATE — Target count:\n",
      "target\n",
      "0    17409\n",
      "1     5803\n",
      "Name: count, dtype: int64\n"
     ]
    },
    {
     "name": "stderr",
     "output_type": "stream",
     "text": [
      "\n",
      "                                                                                                                       "
     ]
    },
    {
     "name": "stdout",
     "output_type": "stream",
     "text": [
      "            tfidf_0       tfidf_1       tfidf_2       tfidf_3       tfidf_4  \\\n",
      "count  23212.000000  23212.000000  23212.000000  23212.000000  23212.000000   \n",
      "mean       0.011340      0.015096      0.003257      0.002044      0.001859   \n",
      "std        0.040914      0.031982      0.024132      0.014771      0.014461   \n",
      "min        0.000000      0.000000      0.000000      0.000000      0.000000   \n",
      "25%        0.000000      0.000000      0.000000      0.000000      0.000000   \n",
      "50%        0.000000      0.000000      0.000000      0.000000      0.000000   \n",
      "75%        0.000000      0.000000      0.000000      0.000000      0.000000   \n",
      "max        0.567200      0.401486      0.654289      0.376434      0.561324   \n",
      "\n",
      "            tfidf_5       tfidf_6       tfidf_7       tfidf_8       tfidf_9  \\\n",
      "count  23212.000000  23212.000000  23212.000000  23212.000000  23212.000000   \n",
      "mean       0.002279      0.002761      0.001671      0.001371      0.001397   \n",
      "std        0.014818      0.016426      0.013991      0.013332      0.013305   \n",
      "min        0.000000      0.000000      0.000000      0.000000      0.000000   \n",
      "25%        0.000000      0.000000      0.000000      0.000000      0.000000   \n",
      "50%        0.000000      0.000000      0.000000      0.000000      0.000000   \n",
      "75%        0.000000      0.000000      0.000000      0.000000      0.000000   \n",
      "max        0.287581      0.377328      0.354919      0.337535      0.375008   \n",
      "\n",
      "       ...    tfidf_2990    tfidf_2991    tfidf_2992    tfidf_2993  \\\n",
      "count  ...  23212.000000  23212.000000  23212.000000  23212.000000   \n",
      "mean   ...      0.003845      0.002475      0.010336      0.002656   \n",
      "std    ...      0.017069      0.015488      0.026995      0.015401   \n",
      "min    ...      0.000000      0.000000      0.000000      0.000000   \n",
      "25%    ...      0.000000      0.000000      0.000000      0.000000   \n",
      "50%    ...      0.000000      0.000000      0.000000      0.000000   \n",
      "75%    ...      0.000000      0.000000      0.000000      0.000000   \n",
      "max    ...      0.239616      0.319401      0.237034      0.255944   \n",
      "\n",
      "         tfidf_2994    tfidf_2995    tfidf_2996    tfidf_2997    tfidf_2998  \\\n",
      "count  23212.000000  23212.000000  23212.000000  23212.000000  23212.000000   \n",
      "mean       0.001505      0.001502      0.001879      0.004437      0.002851   \n",
      "std        0.012036      0.012842      0.016096      0.019274      0.015797   \n",
      "min        0.000000      0.000000      0.000000      0.000000      0.000000   \n",
      "25%        0.000000      0.000000      0.000000      0.000000      0.000000   \n",
      "50%        0.000000      0.000000      0.000000      0.000000      0.000000   \n",
      "75%        0.000000      0.000000      0.000000      0.000000      0.000000   \n",
      "max        0.220577      0.388942      0.419093      0.449272      0.238082   \n",
      "\n",
      "         tfidf_2999  \n",
      "count  23212.000000  \n",
      "mean       0.000561  \n",
      "std        0.017150  \n",
      "min        0.000000  \n",
      "25%        0.000000  \n",
      "50%        0.000000  \n",
      "75%        0.000000  \n",
      "max        0.817719  \n",
      "\n",
      "[8 rows x 3000 columns]\n"
     ]
    },
    {
     "name": "stderr",
     "output_type": "stream",
     "text": [
      "                                                                                                                       "
     ]
    },
    {
     "name": "stdout",
     "output_type": "stream",
     "text": [
      "      Accuracy     AUC  Recall  Prec.   F1  Kappa  MCC\n",
      "Fold                                                  \n",
      "0       0.7502  0.5616     0.0    0.0  0.0    0.0  0.0\n",
      "1       0.7502  0.6244     0.0    0.0  0.0    0.0  0.0\n",
      "2       0.7502  0.5149     0.0    0.0  0.0    0.0  0.0\n",
      "3       0.7502  0.5784     0.0    0.0  0.0    0.0  0.0\n",
      "4       0.7502  0.5663     0.0    0.0  0.0    0.0  0.0\n",
      "5       0.7502  0.4886     0.0    0.0  0.0    0.0  0.0\n",
      "6       0.7495  0.5665     0.0    0.0  0.0    0.0  0.0\n",
      "7       0.7495  0.7776     0.0    0.0  0.0    0.0  0.0\n",
      "8       0.7500  0.5239     0.0    0.0  0.0    0.0  0.0\n",
      "9       0.7500  0.5613     0.0    0.0  0.0    0.0  0.0\n",
      "Mean    0.7500  0.5763     0.0    0.0  0.0    0.0  0.0\n",
      "Std     0.0002  0.0760     0.0    0.0  0.0    0.0  0.0\n"
     ]
    },
    {
     "name": "stderr",
     "output_type": "stream",
     "text": [
      "Processing:  14%|██████████▎                                                             | 1/7 [00:06<00:38,  6.49s/it]"
     ]
    },
    {
     "name": "stdout",
     "output_type": "stream",
     "text": [
      "Fitting 10 folds for each of 10 candidates, totalling 100 fits\n"
     ]
    },
    {
     "name": "stderr",
     "output_type": "stream",
     "text": [
      "                                                                                                                       "
     ]
    },
    {
     "name": "stdout",
     "output_type": "stream",
     "text": [
      "Original model was better than the tuned model, hence it will be returned. NOTE: The display metrics are for the tuned model (not the original one).\n",
      "      Accuracy     AUC  Recall  Prec.   F1  Kappa  MCC\n",
      "Fold                                                  \n",
      "0       0.7502  0.5066     0.0    0.0  0.0    0.0  0.0\n",
      "1       0.7502  0.5099     0.0    0.0  0.0    0.0  0.0\n",
      "2       0.7502  0.5099     0.0    0.0  0.0    0.0  0.0\n",
      "3       0.7502  0.5119     0.0    0.0  0.0    0.0  0.0\n",
      "4       0.7502  0.5004     0.0    0.0  0.0    0.0  0.0\n",
      "5       0.7502  0.5041     0.0    0.0  0.0    0.0  0.0\n",
      "6       0.7495  0.5012     0.0    0.0  0.0    0.0  0.0\n",
      "7       0.7495  0.5098     0.0    0.0  0.0    0.0  0.0\n",
      "8       0.7500  0.5033     0.0    0.0  0.0    0.0  0.0\n",
      "9       0.7500  0.5058     0.0    0.0  0.0    0.0  0.0\n",
      "Mean    0.7500  0.5063     0.0    0.0  0.0    0.0  0.0\n",
      "Std     0.0002  0.0038     0.0    0.0  0.0    0.0  0.0\n",
      "\n",
      "📊 Ewaluacja modelu dla klasy: DEVELOPER_STATE\n",
      "      Accuracy     AUC  Recall  Prec.   F1  Kappa  MCC\n",
      "Fold                                                  \n",
      "0       0.7502  0.5066     0.0    0.0  0.0    0.0  0.0\n",
      "1       0.7502  0.5099     0.0    0.0  0.0    0.0  0.0\n",
      "2       0.7502  0.5099     0.0    0.0  0.0    0.0  0.0\n",
      "3       0.7502  0.5119     0.0    0.0  0.0    0.0  0.0\n",
      "4       0.7502  0.5004     0.0    0.0  0.0    0.0  0.0\n",
      "5       0.7502  0.5041     0.0    0.0  0.0    0.0  0.0\n",
      "6       0.7495  0.5012     0.0    0.0  0.0    0.0  0.0\n",
      "7       0.7495  0.5098     0.0    0.0  0.0    0.0  0.0\n",
      "8       0.7500  0.5033     0.0    0.0  0.0    0.0  0.0\n",
      "9       0.7500  0.5058     0.0    0.0  0.0    0.0  0.0\n",
      "Mean    0.7500  0.5063     0.0    0.0  0.0    0.0  0.0\n",
      "Std     0.0002  0.0038     0.0    0.0  0.0    0.0  0.0\n"
     ]
    },
    {
     "data": {
      "application/vnd.jupyter.widget-view+json": {
       "model_id": "1087e551912746c89983bb7c839017d0",
       "version_major": 2,
       "version_minor": 0
      },
      "text/plain": [
       "interactive(children=(ToggleButtons(description='Plot Type:', icons=('',), options=(('Pipeline Plot', 'pipelin…"
      ]
     },
     "metadata": {},
     "output_type": "display_data"
    },
    {
     "name": "stdout",
     "output_type": "stream",
     "text": [
      "🧪 Stan: AFTER_RENOVATION — Target count:\n",
      "target\n",
      "0    17409\n",
      "1     5803\n",
      "Name: count, dtype: int64\n",
      "            tfidf_0       tfidf_1       tfidf_2       tfidf_3       tfidf_4  \\\n",
      "count  23212.000000  23212.000000  23212.000000  23212.000000  23212.000000   \n",
      "mean       0.011340      0.015096      0.003257      0.002044      0.001859   \n",
      "std        0.040914      0.031982      0.024132      0.014771      0.014461   \n",
      "min        0.000000      0.000000      0.000000      0.000000      0.000000   \n",
      "25%        0.000000      0.000000      0.000000      0.000000      0.000000   \n",
      "50%        0.000000      0.000000      0.000000      0.000000      0.000000   \n",
      "75%        0.000000      0.000000      0.000000      0.000000      0.000000   \n",
      "max        0.567200      0.401486      0.654289      0.376434      0.561324   \n",
      "\n",
      "            tfidf_5       tfidf_6       tfidf_7       tfidf_8       tfidf_9  \\\n",
      "count  23212.000000  23212.000000  23212.000000  23212.000000  23212.000000   \n",
      "mean       0.002279      0.002761      0.001671      0.001371      0.001397   \n",
      "std        0.014818      0.016426      0.013991      0.013332      0.013305   \n",
      "min        0.000000      0.000000      0.000000      0.000000      0.000000   \n",
      "25%        0.000000      0.000000      0.000000      0.000000      0.000000   \n",
      "50%        0.000000      0.000000      0.000000      0.000000      0.000000   \n",
      "75%        0.000000      0.000000      0.000000      0.000000      0.000000   \n",
      "max        0.287581      0.377328      0.354919      0.337535      0.375008   \n",
      "\n",
      "       ...    tfidf_2990    tfidf_2991    tfidf_2992    tfidf_2993  \\\n",
      "count  ...  23212.000000  23212.000000  23212.000000  23212.000000   \n",
      "mean   ...      0.003845      0.002475      0.010336      0.002656   \n",
      "std    ...      0.017069      0.015488      0.026995      0.015401   \n",
      "min    ...      0.000000      0.000000      0.000000      0.000000   \n",
      "25%    ...      0.000000      0.000000      0.000000      0.000000   \n",
      "50%    ...      0.000000      0.000000      0.000000      0.000000   \n",
      "75%    ...      0.000000      0.000000      0.000000      0.000000   \n",
      "max    ...      0.239616      0.319401      0.237034      0.255944   \n",
      "\n",
      "         tfidf_2994    tfidf_2995    tfidf_2996    tfidf_2997    tfidf_2998  \\\n",
      "count  23212.000000  23212.000000  23212.000000  23212.000000  23212.000000   \n",
      "mean       0.001505      0.001502      0.001879      0.004437      0.002851   \n",
      "std        0.012036      0.012842      0.016096      0.019274      0.015797   \n",
      "min        0.000000      0.000000      0.000000      0.000000      0.000000   \n",
      "25%        0.000000      0.000000      0.000000      0.000000      0.000000   \n",
      "50%        0.000000      0.000000      0.000000      0.000000      0.000000   \n",
      "75%        0.000000      0.000000      0.000000      0.000000      0.000000   \n",
      "max        0.220577      0.388942      0.419093      0.449272      0.238082   \n",
      "\n",
      "         tfidf_2999  \n",
      "count  23212.000000  \n",
      "mean       0.000561  \n",
      "std        0.017150  \n",
      "min        0.000000  \n",
      "25%        0.000000  \n",
      "50%        0.000000  \n",
      "75%        0.000000  \n",
      "max        0.817719  \n",
      "\n",
      "[8 rows x 3000 columns]\n"
     ]
    },
    {
     "name": "stderr",
     "output_type": "stream",
     "text": [
      "                                                                                                                       "
     ]
    },
    {
     "name": "stdout",
     "output_type": "stream",
     "text": [
      "      Accuracy     AUC  Recall  Prec.   F1  Kappa  MCC\n",
      "Fold                                                  \n",
      "0       0.7502  0.4847     0.0    0.0  0.0    0.0  0.0\n",
      "1       0.7502  0.4962     0.0    0.0  0.0    0.0  0.0\n",
      "2       0.7502  0.5347     0.0    0.0  0.0    0.0  0.0\n",
      "3       0.7502  0.5338     0.0    0.0  0.0    0.0  0.0\n",
      "4       0.7502  0.5182     0.0    0.0  0.0    0.0  0.0\n",
      "5       0.7502  0.5105     0.0    0.0  0.0    0.0  0.0\n",
      "6       0.7495  0.5143     0.0    0.0  0.0    0.0  0.0\n",
      "7       0.7495  0.5070     0.0    0.0  0.0    0.0  0.0\n",
      "8       0.7500  0.4984     0.0    0.0  0.0    0.0  0.0\n",
      "9       0.7500  0.5523     0.0    0.0  0.0    0.0  0.0\n",
      "Mean    0.7500  0.5150     0.0    0.0  0.0    0.0  0.0\n",
      "Std     0.0002  0.0194     0.0    0.0  0.0    0.0  0.0\n"
     ]
    },
    {
     "name": "stderr",
     "output_type": "stream",
     "text": [
      "Processing:  14%|██████████▎                                                             | 1/7 [00:07<00:43,  7.30s/it]"
     ]
    },
    {
     "name": "stdout",
     "output_type": "stream",
     "text": [
      "Fitting 10 folds for each of 10 candidates, totalling 100 fits\n"
     ]
    },
    {
     "name": "stderr",
     "output_type": "stream",
     "text": [
      "                                                                                                                       "
     ]
    },
    {
     "name": "stdout",
     "output_type": "stream",
     "text": [
      "Original model was better than the tuned model, hence it will be returned. NOTE: The display metrics are for the tuned model (not the original one).\n",
      "      Accuracy     AUC  Recall  Prec.   F1  Kappa  MCC\n",
      "Fold                                                  \n",
      "0       0.7502  0.5016     0.0    0.0  0.0    0.0  0.0\n",
      "1       0.7502  0.5094     0.0    0.0  0.0    0.0  0.0\n",
      "2       0.7502  0.5004     0.0    0.0  0.0    0.0  0.0\n",
      "3       0.7502  0.5000     0.0    0.0  0.0    0.0  0.0\n",
      "4       0.7502  0.5000     0.0    0.0  0.0    0.0  0.0\n",
      "5       0.7502  0.5000     0.0    0.0  0.0    0.0  0.0\n",
      "6       0.7495  0.5000     0.0    0.0  0.0    0.0  0.0\n",
      "7       0.7495  0.5000     0.0    0.0  0.0    0.0  0.0\n",
      "8       0.7500  0.5000     0.0    0.0  0.0    0.0  0.0\n",
      "9       0.7500  0.5033     0.0    0.0  0.0    0.0  0.0\n",
      "Mean    0.7500  0.5015     0.0    0.0  0.0    0.0  0.0\n",
      "Std     0.0002  0.0028     0.0    0.0  0.0    0.0  0.0\n",
      "\n",
      "📊 Ewaluacja modelu dla klasy: AFTER_RENOVATION\n",
      "      Accuracy     AUC  Recall  Prec.   F1  Kappa  MCC\n",
      "Fold                                                  \n",
      "0       0.7502  0.5016     0.0    0.0  0.0    0.0  0.0\n",
      "1       0.7502  0.5094     0.0    0.0  0.0    0.0  0.0\n",
      "2       0.7502  0.5004     0.0    0.0  0.0    0.0  0.0\n",
      "3       0.7502  0.5000     0.0    0.0  0.0    0.0  0.0\n",
      "4       0.7502  0.5000     0.0    0.0  0.0    0.0  0.0\n",
      "5       0.7502  0.5000     0.0    0.0  0.0    0.0  0.0\n",
      "6       0.7495  0.5000     0.0    0.0  0.0    0.0  0.0\n",
      "7       0.7495  0.5000     0.0    0.0  0.0    0.0  0.0\n",
      "8       0.7500  0.5000     0.0    0.0  0.0    0.0  0.0\n",
      "9       0.7500  0.5033     0.0    0.0  0.0    0.0  0.0\n",
      "Mean    0.7500  0.5015     0.0    0.0  0.0    0.0  0.0\n",
      "Std     0.0002  0.0028     0.0    0.0  0.0    0.0  0.0\n"
     ]
    },
    {
     "data": {
      "application/vnd.jupyter.widget-view+json": {
       "model_id": "134d9fd392294839961e8b7fe02cd152",
       "version_major": 2,
       "version_minor": 0
      },
      "text/plain": [
       "interactive(children=(ToggleButtons(description='Plot Type:', icons=('',), options=(('Pipeline Plot', 'pipelin…"
      ]
     },
     "metadata": {},
     "output_type": "display_data"
    },
    {
     "name": "stdout",
     "output_type": "stream",
     "text": [
      "🧪 Stan: FOR_RENOVATION — Target count:\n",
      "target\n",
      "0    17409\n",
      "1     5803\n",
      "Name: count, dtype: int64\n",
      "            tfidf_0       tfidf_1       tfidf_2       tfidf_3       tfidf_4  \\\n",
      "count  23212.000000  23212.000000  23212.000000  23212.000000  23212.000000   \n",
      "mean       0.011340      0.015096      0.003257      0.002044      0.001859   \n",
      "std        0.040914      0.031982      0.024132      0.014771      0.014461   \n",
      "min        0.000000      0.000000      0.000000      0.000000      0.000000   \n",
      "25%        0.000000      0.000000      0.000000      0.000000      0.000000   \n",
      "50%        0.000000      0.000000      0.000000      0.000000      0.000000   \n",
      "75%        0.000000      0.000000      0.000000      0.000000      0.000000   \n",
      "max        0.567200      0.401486      0.654289      0.376434      0.561324   \n",
      "\n",
      "            tfidf_5       tfidf_6       tfidf_7       tfidf_8       tfidf_9  \\\n",
      "count  23212.000000  23212.000000  23212.000000  23212.000000  23212.000000   \n",
      "mean       0.002279      0.002761      0.001671      0.001371      0.001397   \n",
      "std        0.014818      0.016426      0.013991      0.013332      0.013305   \n",
      "min        0.000000      0.000000      0.000000      0.000000      0.000000   \n",
      "25%        0.000000      0.000000      0.000000      0.000000      0.000000   \n",
      "50%        0.000000      0.000000      0.000000      0.000000      0.000000   \n",
      "75%        0.000000      0.000000      0.000000      0.000000      0.000000   \n",
      "max        0.287581      0.377328      0.354919      0.337535      0.375008   \n",
      "\n",
      "       ...    tfidf_2990    tfidf_2991    tfidf_2992    tfidf_2993  \\\n",
      "count  ...  23212.000000  23212.000000  23212.000000  23212.000000   \n",
      "mean   ...      0.003845      0.002475      0.010336      0.002656   \n",
      "std    ...      0.017069      0.015488      0.026995      0.015401   \n",
      "min    ...      0.000000      0.000000      0.000000      0.000000   \n",
      "25%    ...      0.000000      0.000000      0.000000      0.000000   \n",
      "50%    ...      0.000000      0.000000      0.000000      0.000000   \n",
      "75%    ...      0.000000      0.000000      0.000000      0.000000   \n",
      "max    ...      0.239616      0.319401      0.237034      0.255944   \n",
      "\n",
      "         tfidf_2994    tfidf_2995    tfidf_2996    tfidf_2997    tfidf_2998  \\\n",
      "count  23212.000000  23212.000000  23212.000000  23212.000000  23212.000000   \n",
      "mean       0.001505      0.001502      0.001879      0.004437      0.002851   \n",
      "std        0.012036      0.012842      0.016096      0.019274      0.015797   \n",
      "min        0.000000      0.000000      0.000000      0.000000      0.000000   \n",
      "25%        0.000000      0.000000      0.000000      0.000000      0.000000   \n",
      "50%        0.000000      0.000000      0.000000      0.000000      0.000000   \n",
      "75%        0.000000      0.000000      0.000000      0.000000      0.000000   \n",
      "max        0.220577      0.388942      0.419093      0.449272      0.238082   \n",
      "\n",
      "         tfidf_2999  \n",
      "count  23212.000000  \n",
      "mean       0.000561  \n",
      "std        0.017150  \n",
      "min        0.000000  \n",
      "25%        0.000000  \n",
      "50%        0.000000  \n",
      "75%        0.000000  \n",
      "max        0.817719  \n",
      "\n",
      "[8 rows x 3000 columns]\n"
     ]
    },
    {
     "name": "stderr",
     "output_type": "stream",
     "text": [
      "                                                                                                                       "
     ]
    },
    {
     "name": "stdout",
     "output_type": "stream",
     "text": [
      "      Accuracy     AUC  Recall  Prec.   F1  Kappa  MCC\n",
      "Fold                                                  \n",
      "0       0.7502  0.5930     0.0    0.0  0.0    0.0  0.0\n",
      "1       0.7502  0.5664     0.0    0.0  0.0    0.0  0.0\n",
      "2       0.7502  0.5084     0.0    0.0  0.0    0.0  0.0\n",
      "3       0.7502  0.5210     0.0    0.0  0.0    0.0  0.0\n",
      "4       0.7502  0.5178     0.0    0.0  0.0    0.0  0.0\n",
      "5       0.7502  0.5616     0.0    0.0  0.0    0.0  0.0\n",
      "6       0.7495  0.6010     0.0    0.0  0.0    0.0  0.0\n",
      "7       0.7495  0.5377     0.0    0.0  0.0    0.0  0.0\n",
      "8       0.7500  0.5635     0.0    0.0  0.0    0.0  0.0\n",
      "9       0.7500  0.6120     0.0    0.0  0.0    0.0  0.0\n",
      "Mean    0.7500  0.5582     0.0    0.0  0.0    0.0  0.0\n",
      "Std     0.0002  0.0346     0.0    0.0  0.0    0.0  0.0\n"
     ]
    },
    {
     "name": "stderr",
     "output_type": "stream",
     "text": [
      "Processing:  14%|██████████▎                                                             | 1/7 [00:08<00:51,  8.66s/it]"
     ]
    },
    {
     "name": "stdout",
     "output_type": "stream",
     "text": [
      "Fitting 10 folds for each of 10 candidates, totalling 100 fits\n"
     ]
    },
    {
     "name": "stderr",
     "output_type": "stream",
     "text": [
      "                                                                                                                       "
     ]
    },
    {
     "name": "stdout",
     "output_type": "stream",
     "text": [
      "Original model was better than the tuned model, hence it will be returned. NOTE: The display metrics are for the tuned model (not the original one).\n",
      "      Accuracy     AUC  Recall  Prec.   F1  Kappa  MCC\n",
      "Fold                                                  \n",
      "0       0.7502  0.5053     0.0    0.0  0.0    0.0  0.0\n",
      "1       0.7502  0.5000     0.0    0.0  0.0    0.0  0.0\n",
      "2       0.7502  0.5033     0.0    0.0  0.0    0.0  0.0\n",
      "3       0.7502  0.4988     0.0    0.0  0.0    0.0  0.0\n",
      "4       0.7502  0.5033     0.0    0.0  0.0    0.0  0.0\n",
      "5       0.7502  0.5004     0.0    0.0  0.0    0.0  0.0\n",
      "6       0.7495  0.5000     0.0    0.0  0.0    0.0  0.0\n",
      "7       0.7495  0.5000     0.0    0.0  0.0    0.0  0.0\n",
      "8       0.7500  0.5016     0.0    0.0  0.0    0.0  0.0\n",
      "9       0.7500  0.5000     0.0    0.0  0.0    0.0  0.0\n",
      "Mean    0.7500  0.5013     0.0    0.0  0.0    0.0  0.0\n",
      "Std     0.0002  0.0020     0.0    0.0  0.0    0.0  0.0\n",
      "\n",
      "📊 Ewaluacja modelu dla klasy: FOR_RENOVATION\n",
      "      Accuracy     AUC  Recall  Prec.   F1  Kappa  MCC\n",
      "Fold                                                  \n",
      "0       0.7502  0.5053     0.0    0.0  0.0    0.0  0.0\n",
      "1       0.7502  0.5000     0.0    0.0  0.0    0.0  0.0\n",
      "2       0.7502  0.5033     0.0    0.0  0.0    0.0  0.0\n",
      "3       0.7502  0.4988     0.0    0.0  0.0    0.0  0.0\n",
      "4       0.7502  0.5033     0.0    0.0  0.0    0.0  0.0\n",
      "5       0.7502  0.5004     0.0    0.0  0.0    0.0  0.0\n",
      "6       0.7495  0.5000     0.0    0.0  0.0    0.0  0.0\n",
      "7       0.7495  0.5000     0.0    0.0  0.0    0.0  0.0\n",
      "8       0.7500  0.5016     0.0    0.0  0.0    0.0  0.0\n",
      "9       0.7500  0.5000     0.0    0.0  0.0    0.0  0.0\n",
      "Mean    0.7500  0.5013     0.0    0.0  0.0    0.0  0.0\n",
      "Std     0.0002  0.0020     0.0    0.0  0.0    0.0  0.0\n"
     ]
    },
    {
     "data": {
      "application/vnd.jupyter.widget-view+json": {
       "model_id": "fec0001da2614ea493392c8b2388e857",
       "version_major": 2,
       "version_minor": 0
      },
      "text/plain": [
       "interactive(children=(ToggleButtons(description='Plot Type:', icons=('',), options=(('Pipeline Plot', 'pipelin…"
      ]
     },
     "metadata": {},
     "output_type": "display_data"
    },
    {
     "name": "stdout",
     "output_type": "stream",
     "text": [
      "🧪 Stan: GOOD — Target count:\n",
      "target\n",
      "0    17409\n",
      "1     5803\n",
      "Name: count, dtype: int64\n",
      "            tfidf_0       tfidf_1       tfidf_2       tfidf_3       tfidf_4  \\\n",
      "count  23212.000000  23212.000000  23212.000000  23212.000000  23212.000000   \n",
      "mean       0.011340      0.015096      0.003257      0.002044      0.001859   \n",
      "std        0.040914      0.031982      0.024132      0.014771      0.014461   \n",
      "min        0.000000      0.000000      0.000000      0.000000      0.000000   \n",
      "25%        0.000000      0.000000      0.000000      0.000000      0.000000   \n",
      "50%        0.000000      0.000000      0.000000      0.000000      0.000000   \n",
      "75%        0.000000      0.000000      0.000000      0.000000      0.000000   \n",
      "max        0.567200      0.401486      0.654289      0.376434      0.561324   \n",
      "\n",
      "            tfidf_5       tfidf_6       tfidf_7       tfidf_8       tfidf_9  \\\n",
      "count  23212.000000  23212.000000  23212.000000  23212.000000  23212.000000   \n",
      "mean       0.002279      0.002761      0.001671      0.001371      0.001397   \n",
      "std        0.014818      0.016426      0.013991      0.013332      0.013305   \n",
      "min        0.000000      0.000000      0.000000      0.000000      0.000000   \n",
      "25%        0.000000      0.000000      0.000000      0.000000      0.000000   \n",
      "50%        0.000000      0.000000      0.000000      0.000000      0.000000   \n",
      "75%        0.000000      0.000000      0.000000      0.000000      0.000000   \n",
      "max        0.287581      0.377328      0.354919      0.337535      0.375008   \n",
      "\n",
      "       ...    tfidf_2990    tfidf_2991    tfidf_2992    tfidf_2993  \\\n",
      "count  ...  23212.000000  23212.000000  23212.000000  23212.000000   \n",
      "mean   ...      0.003845      0.002475      0.010336      0.002656   \n",
      "std    ...      0.017069      0.015488      0.026995      0.015401   \n",
      "min    ...      0.000000      0.000000      0.000000      0.000000   \n",
      "25%    ...      0.000000      0.000000      0.000000      0.000000   \n",
      "50%    ...      0.000000      0.000000      0.000000      0.000000   \n",
      "75%    ...      0.000000      0.000000      0.000000      0.000000   \n",
      "max    ...      0.239616      0.319401      0.237034      0.255944   \n",
      "\n",
      "         tfidf_2994    tfidf_2995    tfidf_2996    tfidf_2997    tfidf_2998  \\\n",
      "count  23212.000000  23212.000000  23212.000000  23212.000000  23212.000000   \n",
      "mean       0.001505      0.001502      0.001879      0.004437      0.002851   \n",
      "std        0.012036      0.012842      0.016096      0.019274      0.015797   \n",
      "min        0.000000      0.000000      0.000000      0.000000      0.000000   \n",
      "25%        0.000000      0.000000      0.000000      0.000000      0.000000   \n",
      "50%        0.000000      0.000000      0.000000      0.000000      0.000000   \n",
      "75%        0.000000      0.000000      0.000000      0.000000      0.000000   \n",
      "max        0.220577      0.388942      0.419093      0.449272      0.238082   \n",
      "\n",
      "         tfidf_2999  \n",
      "count  23212.000000  \n",
      "mean       0.000561  \n",
      "std        0.017150  \n",
      "min        0.000000  \n",
      "25%        0.000000  \n",
      "50%        0.000000  \n",
      "75%        0.000000  \n",
      "max        0.817719  \n",
      "\n",
      "[8 rows x 3000 columns]\n"
     ]
    },
    {
     "name": "stderr",
     "output_type": "stream",
     "text": [
      "                                                                                                                       "
     ]
    },
    {
     "name": "stdout",
     "output_type": "stream",
     "text": [
      "      Accuracy     AUC  Recall  Prec.   F1  Kappa  MCC\n",
      "Fold                                                  \n",
      "0       0.7502  0.5254     0.0    0.0  0.0    0.0  0.0\n",
      "1       0.7502  0.5456     0.0    0.0  0.0    0.0  0.0\n",
      "2       0.7502  0.5265     0.0    0.0  0.0    0.0  0.0\n",
      "3       0.7502  0.5362     0.0    0.0  0.0    0.0  0.0\n",
      "4       0.7502  0.5410     0.0    0.0  0.0    0.0  0.0\n",
      "5       0.7502  0.5271     0.0    0.0  0.0    0.0  0.0\n",
      "6       0.7495  0.6071     0.0    0.0  0.0    0.0  0.0\n",
      "7       0.7495  0.5665     0.0    0.0  0.0    0.0  0.0\n",
      "8       0.7500  0.5398     0.0    0.0  0.0    0.0  0.0\n",
      "9       0.7500  0.5536     0.0    0.0  0.0    0.0  0.0\n",
      "Mean    0.7500  0.5469     0.0    0.0  0.0    0.0  0.0\n",
      "Std     0.0002  0.0235     0.0    0.0  0.0    0.0  0.0\n"
     ]
    },
    {
     "name": "stderr",
     "output_type": "stream",
     "text": [
      "Processing:  14%|██████████▎                                                             | 1/7 [00:08<00:52,  8.75s/it]"
     ]
    },
    {
     "name": "stdout",
     "output_type": "stream",
     "text": [
      "Fitting 10 folds for each of 10 candidates, totalling 100 fits\n"
     ]
    },
    {
     "name": "stderr",
     "output_type": "stream",
     "text": [
      "                                                                                                                       "
     ]
    },
    {
     "name": "stdout",
     "output_type": "stream",
     "text": [
      "Original model was better than the tuned model, hence it will be returned. NOTE: The display metrics are for the tuned model (not the original one).\n",
      "      Accuracy     AUC  Recall  Prec.   F1  Kappa  MCC\n",
      "Fold                                                  \n",
      "0       0.7502  0.5000     0.0    0.0  0.0    0.0  0.0\n",
      "1       0.7502  0.5074     0.0    0.0  0.0    0.0  0.0\n",
      "2       0.7502  0.5000     0.0    0.0  0.0    0.0  0.0\n",
      "3       0.7502  0.5037     0.0    0.0  0.0    0.0  0.0\n",
      "4       0.7502  0.5185     0.0    0.0  0.0    0.0  0.0\n",
      "5       0.7502  0.4996     0.0    0.0  0.0    0.0  0.0\n",
      "6       0.7495  0.5000     0.0    0.0  0.0    0.0  0.0\n",
      "7       0.7495  0.5000     0.0    0.0  0.0    0.0  0.0\n",
      "8       0.7500  0.5127     0.0    0.0  0.0    0.0  0.0\n",
      "9       0.7500  0.5000     0.0    0.0  0.0    0.0  0.0\n",
      "Mean    0.7500  0.5042     0.0    0.0  0.0    0.0  0.0\n",
      "Std     0.0002  0.0063     0.0    0.0  0.0    0.0  0.0\n",
      "\n",
      "📊 Ewaluacja modelu dla klasy: GOOD\n",
      "      Accuracy     AUC  Recall  Prec.   F1  Kappa  MCC\n",
      "Fold                                                  \n",
      "0       0.7502  0.5000     0.0    0.0  0.0    0.0  0.0\n",
      "1       0.7502  0.5074     0.0    0.0  0.0    0.0  0.0\n",
      "2       0.7502  0.5000     0.0    0.0  0.0    0.0  0.0\n",
      "3       0.7502  0.5037     0.0    0.0  0.0    0.0  0.0\n",
      "4       0.7502  0.5185     0.0    0.0  0.0    0.0  0.0\n",
      "5       0.7502  0.4996     0.0    0.0  0.0    0.0  0.0\n",
      "6       0.7495  0.5000     0.0    0.0  0.0    0.0  0.0\n",
      "7       0.7495  0.5000     0.0    0.0  0.0    0.0  0.0\n",
      "8       0.7500  0.5127     0.0    0.0  0.0    0.0  0.0\n",
      "9       0.7500  0.5000     0.0    0.0  0.0    0.0  0.0\n",
      "Mean    0.7500  0.5042     0.0    0.0  0.0    0.0  0.0\n",
      "Std     0.0002  0.0063     0.0    0.0  0.0    0.0  0.0\n"
     ]
    },
    {
     "data": {
      "application/vnd.jupyter.widget-view+json": {
       "model_id": "071de05302ee4002a845ada1081c2d6d",
       "version_major": 2,
       "version_minor": 0
      },
      "text/plain": [
       "interactive(children=(ToggleButtons(description='Plot Type:', icons=('',), options=(('Pipeline Plot', 'pipelin…"
      ]
     },
     "metadata": {},
     "output_type": "display_data"
    },
    {
     "name": "stdout",
     "output_type": "stream",
     "text": [
      "✅ Uzupełniono brakujące wartości w kolumnie 'BuildingCondition' na podstawie modeli OvR.\n",
      "💾 Zapisano do: uzupelnione_mieszkania.csv\n",
      "💾 Zapisano do: uzupelnione_mieszkania.db (tabela: mieszkania)\n"
     ]
    }
   ],
   "source": [
    "# === OvR: One-vs-Rest podejście do klasyfikacji stanu mieszkania + zapis ===\n",
    "\n",
    "from pycaret.classification import setup, create_model, tune_model, predict_model\n",
    "from sklearn.feature_extraction.text import TfidfVectorizer\n",
    "import pandas as pd\n",
    "import sqlite3\n",
    "\n",
    "# 1. Przygotowanie danych bez nulli\n",
    "df_clean = df_balanced.copy()\n",
    "df_clean = df_clean[df_clean['BuildingCondition'].notna()].reset_index(drop=True)\n",
    "\n",
    "# 2. Przekształcenie opisu na wektory TF-IDF\n",
    "vectorizer = TfidfVectorizer(\n",
    "    max_features=3000,\n",
    "    min_df=2,\n",
    "    stop_words=polish_stopwords\n",
    ")\n",
    "X_text = vectorizer.fit_transform(df_clean['Description'].fillna('')).toarray()\n",
    "df_tfidf = pd.DataFrame(X_text, columns=[f'tfidf_{i}' for i in range(X_text.shape[1])])\n",
    "df_clean = pd.concat([df_clean.reset_index(drop=True), df_tfidf], axis=1)\n",
    "df_clean.drop(columns=['Description'], inplace=True)\n",
    "\n",
    "# 3. Lista klas do przewidywania\n",
    "unique_stany = df_clean['BuildingCondition'].unique()\n",
    "models = {}\n",
    "results_list = []\n",
    "\n",
    "for stan in unique_stany:\n",
    "    df_temp = df_clean.copy()\n",
    "    df_temp['target'] = df_temp['BuildingCondition'].apply(lambda x: 1 if x == stan else 0)\n",
    "    print(f\"🧪 Stan: {stan} — Target count:\\n{df_temp['target'].value_counts()}\")\n",
    "    print(df_temp.filter(like='tfidf_').describe())\n",
    "    \n",
    "    clf_setup = setup(\n",
    "        data=df_temp.drop(columns=['BuildingCondition']),\n",
    "        target='target',\n",
    "        session_id=123,\n",
    "        verbose=False,\n",
    "        html=False,\n",
    "        fix_imbalance=True,\n",
    "        fix_imbalance_method='smote'  # lub 'random'\n",
    "    )\n",
    "    model = create_model('lightgbm')\n",
    "    tuned_model = tune_model(model)\n",
    "    models[stan] = tuned_model\n",
    "\n",
    "# ✳️ WYDRUKUJ metryki tego modelu\n",
    "    print(f\"\\n📊 Ewaluacja modelu dla klasy: {stan}\")\n",
    "    print(pull())  # wyciąga ostatnie metryki z tune_model()\n",
    "    evaluate_model(tuned_model)\n",
    "\n",
    "# 📝 ZAPISZ metryki do listy\n",
    "    model_results = pull()\n",
    "    model_results['target_class'] = stan\n",
    "    results_list.append(model_results)\n",
    "\n",
    "# 4. Predykcja na danych z brakującym 'BuildingCondition'\n",
    "df_nulls = df[df['BuildingCondition'].isna()].copy()\n",
    "X_null_text = vectorizer.transform(df_nulls['Description'].fillna('')).toarray()\n",
    "df_null_vec = pd.DataFrame(X_null_text, columns=[f'tfidf_{i}' for i in range(X_null_text.shape[1])])\n",
    "df_nulls = pd.concat([df_nulls.reset_index(drop=True), df_null_vec], axis=1)\n",
    "df_nulls.drop(columns=['Description'], inplace=True)\n",
    "\n",
    "# 5. Przewidzenie prawdopodobieństw i przypisanie klasy o najwyższej pewności\n",
    "df_nulls[\"BuiltYear\"] = pd.to_datetime(df_nulls[\"BuiltYear\"], errors=\"coerce\")\n",
    "probabilities = {}\n",
    "\n",
    "for stan, model in models.items():\n",
    "    preds = predict_model(model, data=df_nulls, raw_score=False)\n",
    "    probabilities[stan] = preds['Score']\n",
    "\n",
    "# 6. Wybranie klasy z najwyższym Score\n",
    "probs_df = pd.DataFrame(probabilities)\n",
    "df_nulls['predicted_standard'] = probs_df.idxmax(axis=1)\n",
    "df.loc[df_nulls.index, 'BuildingCondition'] = df_nulls['predicted_standard']\n",
    "\n",
    "print(\"✅ Uzupełniono brakujące wartości w kolumnie 'BuildingCondition' na podstawie modeli OvR.\")\n",
    "\n",
    "# 7. Zapis do pliku CSV\n",
    "df.to_csv(\"uzupelnione_mieszkania.csv\", index=False)\n",
    "print(\"💾 Zapisano do: uzupelnione_mieszkania.csv\")\n",
    "\n",
    "# 8. Zapis do bazy danych SQLite\n",
    "conn = sqlite3.connect(\"uzupelnione_mieszkania.db\")\n",
    "df.to_sql(\"mieszkania\", conn, if_exists=\"replace\", index=False)\n",
    "conn.close()\n",
    "print(\"💾 Zapisano do: uzupelnione_mieszkania.db (tabela: mieszkania)\")"
   ]
  },
  {
   "cell_type": "code",
   "execution_count": 20,
   "id": "eafc5ef5-5940-4253-87ad-4fa9eb70185c",
   "metadata": {},
   "outputs": [
    {
     "name": "stdout",
     "output_type": "stream",
     "text": [
      "💾 Zapisano metryki OvR do pliku: ovr_results.csv\n"
     ]
    }
   ],
   "source": [
    "results_df = pd.concat(results_list)\n",
    "results_df.to_csv(\"ovr_results.csv\", index=False)\n",
    "print(\"💾 Zapisano metryki OvR do pliku: ovr_results.csv\")"
   ]
  },
  {
   "cell_type": "code",
   "execution_count": 21,
   "id": "2baebc16-2ea3-40fb-9d08-8de7fb4fd6bd",
   "metadata": {},
   "outputs": [],
   "source": [
    "metryki=pd.read_csv(\"ovr_results.csv\")"
   ]
  },
  {
   "cell_type": "code",
   "execution_count": 22,
   "id": "937b2280-e3ac-4cb3-abbf-b2ed523f7d5d",
   "metadata": {},
   "outputs": [
    {
     "data": {
      "text/html": [
       "<div>\n",
       "<style scoped>\n",
       "    .dataframe tbody tr th:only-of-type {\n",
       "        vertical-align: middle;\n",
       "    }\n",
       "\n",
       "    .dataframe tbody tr th {\n",
       "        vertical-align: top;\n",
       "    }\n",
       "\n",
       "    .dataframe thead th {\n",
       "        text-align: right;\n",
       "    }\n",
       "</style>\n",
       "<table border=\"1\" class=\"dataframe\">\n",
       "  <thead>\n",
       "    <tr style=\"text-align: right;\">\n",
       "      <th></th>\n",
       "      <th>Accuracy</th>\n",
       "      <th>AUC</th>\n",
       "      <th>Recall</th>\n",
       "      <th>Prec.</th>\n",
       "      <th>F1</th>\n",
       "      <th>Kappa</th>\n",
       "      <th>MCC</th>\n",
       "      <th>target_class</th>\n",
       "    </tr>\n",
       "  </thead>\n",
       "  <tbody>\n",
       "    <tr>\n",
       "      <th>0</th>\n",
       "      <td>0.7502</td>\n",
       "      <td>0.5000</td>\n",
       "      <td>0.0</td>\n",
       "      <td>0.0</td>\n",
       "      <td>0.0</td>\n",
       "      <td>0.0</td>\n",
       "      <td>0.0</td>\n",
       "      <td>DEVELOPER_STATE</td>\n",
       "    </tr>\n",
       "    <tr>\n",
       "      <th>1</th>\n",
       "      <td>0.7502</td>\n",
       "      <td>0.5000</td>\n",
       "      <td>0.0</td>\n",
       "      <td>0.0</td>\n",
       "      <td>0.0</td>\n",
       "      <td>0.0</td>\n",
       "      <td>0.0</td>\n",
       "      <td>DEVELOPER_STATE</td>\n",
       "    </tr>\n",
       "    <tr>\n",
       "      <th>2</th>\n",
       "      <td>0.7502</td>\n",
       "      <td>0.5000</td>\n",
       "      <td>0.0</td>\n",
       "      <td>0.0</td>\n",
       "      <td>0.0</td>\n",
       "      <td>0.0</td>\n",
       "      <td>0.0</td>\n",
       "      <td>DEVELOPER_STATE</td>\n",
       "    </tr>\n",
       "    <tr>\n",
       "      <th>3</th>\n",
       "      <td>0.7502</td>\n",
       "      <td>0.5000</td>\n",
       "      <td>0.0</td>\n",
       "      <td>0.0</td>\n",
       "      <td>0.0</td>\n",
       "      <td>0.0</td>\n",
       "      <td>0.0</td>\n",
       "      <td>DEVELOPER_STATE</td>\n",
       "    </tr>\n",
       "    <tr>\n",
       "      <th>4</th>\n",
       "      <td>0.7502</td>\n",
       "      <td>0.5000</td>\n",
       "      <td>0.0</td>\n",
       "      <td>0.0</td>\n",
       "      <td>0.0</td>\n",
       "      <td>0.0</td>\n",
       "      <td>0.0</td>\n",
       "      <td>DEVELOPER_STATE</td>\n",
       "    </tr>\n",
       "    <tr>\n",
       "      <th>5</th>\n",
       "      <td>0.7502</td>\n",
       "      <td>0.5000</td>\n",
       "      <td>0.0</td>\n",
       "      <td>0.0</td>\n",
       "      <td>0.0</td>\n",
       "      <td>0.0</td>\n",
       "      <td>0.0</td>\n",
       "      <td>DEVELOPER_STATE</td>\n",
       "    </tr>\n",
       "    <tr>\n",
       "      <th>6</th>\n",
       "      <td>0.7495</td>\n",
       "      <td>0.5000</td>\n",
       "      <td>0.0</td>\n",
       "      <td>0.0</td>\n",
       "      <td>0.0</td>\n",
       "      <td>0.0</td>\n",
       "      <td>0.0</td>\n",
       "      <td>DEVELOPER_STATE</td>\n",
       "    </tr>\n",
       "    <tr>\n",
       "      <th>7</th>\n",
       "      <td>0.7495</td>\n",
       "      <td>0.5000</td>\n",
       "      <td>0.0</td>\n",
       "      <td>0.0</td>\n",
       "      <td>0.0</td>\n",
       "      <td>0.0</td>\n",
       "      <td>0.0</td>\n",
       "      <td>DEVELOPER_STATE</td>\n",
       "    </tr>\n",
       "    <tr>\n",
       "      <th>8</th>\n",
       "      <td>0.7500</td>\n",
       "      <td>0.5000</td>\n",
       "      <td>0.0</td>\n",
       "      <td>0.0</td>\n",
       "      <td>0.0</td>\n",
       "      <td>0.0</td>\n",
       "      <td>0.0</td>\n",
       "      <td>DEVELOPER_STATE</td>\n",
       "    </tr>\n",
       "    <tr>\n",
       "      <th>9</th>\n",
       "      <td>0.7500</td>\n",
       "      <td>0.5000</td>\n",
       "      <td>0.0</td>\n",
       "      <td>0.0</td>\n",
       "      <td>0.0</td>\n",
       "      <td>0.0</td>\n",
       "      <td>0.0</td>\n",
       "      <td>DEVELOPER_STATE</td>\n",
       "    </tr>\n",
       "    <tr>\n",
       "      <th>10</th>\n",
       "      <td>0.7500</td>\n",
       "      <td>0.5000</td>\n",
       "      <td>0.0</td>\n",
       "      <td>0.0</td>\n",
       "      <td>0.0</td>\n",
       "      <td>0.0</td>\n",
       "      <td>0.0</td>\n",
       "      <td>DEVELOPER_STATE</td>\n",
       "    </tr>\n",
       "    <tr>\n",
       "      <th>11</th>\n",
       "      <td>0.0002</td>\n",
       "      <td>0.0000</td>\n",
       "      <td>0.0</td>\n",
       "      <td>0.0</td>\n",
       "      <td>0.0</td>\n",
       "      <td>0.0</td>\n",
       "      <td>0.0</td>\n",
       "      <td>DEVELOPER_STATE</td>\n",
       "    </tr>\n",
       "    <tr>\n",
       "      <th>12</th>\n",
       "      <td>0.7502</td>\n",
       "      <td>0.5000</td>\n",
       "      <td>0.0</td>\n",
       "      <td>0.0</td>\n",
       "      <td>0.0</td>\n",
       "      <td>0.0</td>\n",
       "      <td>0.0</td>\n",
       "      <td>AFTER_RENOVATION</td>\n",
       "    </tr>\n",
       "    <tr>\n",
       "      <th>13</th>\n",
       "      <td>0.7502</td>\n",
       "      <td>0.5000</td>\n",
       "      <td>0.0</td>\n",
       "      <td>0.0</td>\n",
       "      <td>0.0</td>\n",
       "      <td>0.0</td>\n",
       "      <td>0.0</td>\n",
       "      <td>AFTER_RENOVATION</td>\n",
       "    </tr>\n",
       "    <tr>\n",
       "      <th>14</th>\n",
       "      <td>0.7502</td>\n",
       "      <td>0.5000</td>\n",
       "      <td>0.0</td>\n",
       "      <td>0.0</td>\n",
       "      <td>0.0</td>\n",
       "      <td>0.0</td>\n",
       "      <td>0.0</td>\n",
       "      <td>AFTER_RENOVATION</td>\n",
       "    </tr>\n",
       "    <tr>\n",
       "      <th>15</th>\n",
       "      <td>0.7502</td>\n",
       "      <td>0.5000</td>\n",
       "      <td>0.0</td>\n",
       "      <td>0.0</td>\n",
       "      <td>0.0</td>\n",
       "      <td>0.0</td>\n",
       "      <td>0.0</td>\n",
       "      <td>AFTER_RENOVATION</td>\n",
       "    </tr>\n",
       "    <tr>\n",
       "      <th>16</th>\n",
       "      <td>0.7502</td>\n",
       "      <td>0.5000</td>\n",
       "      <td>0.0</td>\n",
       "      <td>0.0</td>\n",
       "      <td>0.0</td>\n",
       "      <td>0.0</td>\n",
       "      <td>0.0</td>\n",
       "      <td>AFTER_RENOVATION</td>\n",
       "    </tr>\n",
       "    <tr>\n",
       "      <th>17</th>\n",
       "      <td>0.7502</td>\n",
       "      <td>0.5000</td>\n",
       "      <td>0.0</td>\n",
       "      <td>0.0</td>\n",
       "      <td>0.0</td>\n",
       "      <td>0.0</td>\n",
       "      <td>0.0</td>\n",
       "      <td>AFTER_RENOVATION</td>\n",
       "    </tr>\n",
       "    <tr>\n",
       "      <th>18</th>\n",
       "      <td>0.7495</td>\n",
       "      <td>0.5000</td>\n",
       "      <td>0.0</td>\n",
       "      <td>0.0</td>\n",
       "      <td>0.0</td>\n",
       "      <td>0.0</td>\n",
       "      <td>0.0</td>\n",
       "      <td>AFTER_RENOVATION</td>\n",
       "    </tr>\n",
       "    <tr>\n",
       "      <th>19</th>\n",
       "      <td>0.7495</td>\n",
       "      <td>0.5000</td>\n",
       "      <td>0.0</td>\n",
       "      <td>0.0</td>\n",
       "      <td>0.0</td>\n",
       "      <td>0.0</td>\n",
       "      <td>0.0</td>\n",
       "      <td>AFTER_RENOVATION</td>\n",
       "    </tr>\n",
       "    <tr>\n",
       "      <th>20</th>\n",
       "      <td>0.7500</td>\n",
       "      <td>0.5000</td>\n",
       "      <td>0.0</td>\n",
       "      <td>0.0</td>\n",
       "      <td>0.0</td>\n",
       "      <td>0.0</td>\n",
       "      <td>0.0</td>\n",
       "      <td>AFTER_RENOVATION</td>\n",
       "    </tr>\n",
       "    <tr>\n",
       "      <th>21</th>\n",
       "      <td>0.7500</td>\n",
       "      <td>0.5000</td>\n",
       "      <td>0.0</td>\n",
       "      <td>0.0</td>\n",
       "      <td>0.0</td>\n",
       "      <td>0.0</td>\n",
       "      <td>0.0</td>\n",
       "      <td>AFTER_RENOVATION</td>\n",
       "    </tr>\n",
       "    <tr>\n",
       "      <th>22</th>\n",
       "      <td>0.7500</td>\n",
       "      <td>0.5000</td>\n",
       "      <td>0.0</td>\n",
       "      <td>0.0</td>\n",
       "      <td>0.0</td>\n",
       "      <td>0.0</td>\n",
       "      <td>0.0</td>\n",
       "      <td>AFTER_RENOVATION</td>\n",
       "    </tr>\n",
       "    <tr>\n",
       "      <th>23</th>\n",
       "      <td>0.0002</td>\n",
       "      <td>0.0000</td>\n",
       "      <td>0.0</td>\n",
       "      <td>0.0</td>\n",
       "      <td>0.0</td>\n",
       "      <td>0.0</td>\n",
       "      <td>0.0</td>\n",
       "      <td>AFTER_RENOVATION</td>\n",
       "    </tr>\n",
       "    <tr>\n",
       "      <th>24</th>\n",
       "      <td>0.7502</td>\n",
       "      <td>0.5000</td>\n",
       "      <td>0.0</td>\n",
       "      <td>0.0</td>\n",
       "      <td>0.0</td>\n",
       "      <td>0.0</td>\n",
       "      <td>0.0</td>\n",
       "      <td>FOR_RENOVATION</td>\n",
       "    </tr>\n",
       "    <tr>\n",
       "      <th>25</th>\n",
       "      <td>0.7502</td>\n",
       "      <td>0.5000</td>\n",
       "      <td>0.0</td>\n",
       "      <td>0.0</td>\n",
       "      <td>0.0</td>\n",
       "      <td>0.0</td>\n",
       "      <td>0.0</td>\n",
       "      <td>FOR_RENOVATION</td>\n",
       "    </tr>\n",
       "    <tr>\n",
       "      <th>26</th>\n",
       "      <td>0.7502</td>\n",
       "      <td>0.5000</td>\n",
       "      <td>0.0</td>\n",
       "      <td>0.0</td>\n",
       "      <td>0.0</td>\n",
       "      <td>0.0</td>\n",
       "      <td>0.0</td>\n",
       "      <td>FOR_RENOVATION</td>\n",
       "    </tr>\n",
       "    <tr>\n",
       "      <th>27</th>\n",
       "      <td>0.7502</td>\n",
       "      <td>0.5000</td>\n",
       "      <td>0.0</td>\n",
       "      <td>0.0</td>\n",
       "      <td>0.0</td>\n",
       "      <td>0.0</td>\n",
       "      <td>0.0</td>\n",
       "      <td>FOR_RENOVATION</td>\n",
       "    </tr>\n",
       "    <tr>\n",
       "      <th>28</th>\n",
       "      <td>0.7502</td>\n",
       "      <td>0.5000</td>\n",
       "      <td>0.0</td>\n",
       "      <td>0.0</td>\n",
       "      <td>0.0</td>\n",
       "      <td>0.0</td>\n",
       "      <td>0.0</td>\n",
       "      <td>FOR_RENOVATION</td>\n",
       "    </tr>\n",
       "    <tr>\n",
       "      <th>29</th>\n",
       "      <td>0.7502</td>\n",
       "      <td>0.5000</td>\n",
       "      <td>0.0</td>\n",
       "      <td>0.0</td>\n",
       "      <td>0.0</td>\n",
       "      <td>0.0</td>\n",
       "      <td>0.0</td>\n",
       "      <td>FOR_RENOVATION</td>\n",
       "    </tr>\n",
       "    <tr>\n",
       "      <th>30</th>\n",
       "      <td>0.7495</td>\n",
       "      <td>0.5000</td>\n",
       "      <td>0.0</td>\n",
       "      <td>0.0</td>\n",
       "      <td>0.0</td>\n",
       "      <td>0.0</td>\n",
       "      <td>0.0</td>\n",
       "      <td>FOR_RENOVATION</td>\n",
       "    </tr>\n",
       "    <tr>\n",
       "      <th>31</th>\n",
       "      <td>0.7495</td>\n",
       "      <td>0.5000</td>\n",
       "      <td>0.0</td>\n",
       "      <td>0.0</td>\n",
       "      <td>0.0</td>\n",
       "      <td>0.0</td>\n",
       "      <td>0.0</td>\n",
       "      <td>FOR_RENOVATION</td>\n",
       "    </tr>\n",
       "    <tr>\n",
       "      <th>32</th>\n",
       "      <td>0.7500</td>\n",
       "      <td>0.5000</td>\n",
       "      <td>0.0</td>\n",
       "      <td>0.0</td>\n",
       "      <td>0.0</td>\n",
       "      <td>0.0</td>\n",
       "      <td>0.0</td>\n",
       "      <td>FOR_RENOVATION</td>\n",
       "    </tr>\n",
       "    <tr>\n",
       "      <th>33</th>\n",
       "      <td>0.7500</td>\n",
       "      <td>0.5000</td>\n",
       "      <td>0.0</td>\n",
       "      <td>0.0</td>\n",
       "      <td>0.0</td>\n",
       "      <td>0.0</td>\n",
       "      <td>0.0</td>\n",
       "      <td>FOR_RENOVATION</td>\n",
       "    </tr>\n",
       "    <tr>\n",
       "      <th>34</th>\n",
       "      <td>0.7500</td>\n",
       "      <td>0.5000</td>\n",
       "      <td>0.0</td>\n",
       "      <td>0.0</td>\n",
       "      <td>0.0</td>\n",
       "      <td>0.0</td>\n",
       "      <td>0.0</td>\n",
       "      <td>FOR_RENOVATION</td>\n",
       "    </tr>\n",
       "    <tr>\n",
       "      <th>35</th>\n",
       "      <td>0.0002</td>\n",
       "      <td>0.0000</td>\n",
       "      <td>0.0</td>\n",
       "      <td>0.0</td>\n",
       "      <td>0.0</td>\n",
       "      <td>0.0</td>\n",
       "      <td>0.0</td>\n",
       "      <td>FOR_RENOVATION</td>\n",
       "    </tr>\n",
       "    <tr>\n",
       "      <th>36</th>\n",
       "      <td>0.7502</td>\n",
       "      <td>0.5000</td>\n",
       "      <td>0.0</td>\n",
       "      <td>0.0</td>\n",
       "      <td>0.0</td>\n",
       "      <td>0.0</td>\n",
       "      <td>0.0</td>\n",
       "      <td>GOOD</td>\n",
       "    </tr>\n",
       "    <tr>\n",
       "      <th>37</th>\n",
       "      <td>0.7502</td>\n",
       "      <td>0.5000</td>\n",
       "      <td>0.0</td>\n",
       "      <td>0.0</td>\n",
       "      <td>0.0</td>\n",
       "      <td>0.0</td>\n",
       "      <td>0.0</td>\n",
       "      <td>GOOD</td>\n",
       "    </tr>\n",
       "    <tr>\n",
       "      <th>38</th>\n",
       "      <td>0.7502</td>\n",
       "      <td>0.5000</td>\n",
       "      <td>0.0</td>\n",
       "      <td>0.0</td>\n",
       "      <td>0.0</td>\n",
       "      <td>0.0</td>\n",
       "      <td>0.0</td>\n",
       "      <td>GOOD</td>\n",
       "    </tr>\n",
       "    <tr>\n",
       "      <th>39</th>\n",
       "      <td>0.7502</td>\n",
       "      <td>0.5000</td>\n",
       "      <td>0.0</td>\n",
       "      <td>0.0</td>\n",
       "      <td>0.0</td>\n",
       "      <td>0.0</td>\n",
       "      <td>0.0</td>\n",
       "      <td>GOOD</td>\n",
       "    </tr>\n",
       "    <tr>\n",
       "      <th>40</th>\n",
       "      <td>0.7502</td>\n",
       "      <td>0.5000</td>\n",
       "      <td>0.0</td>\n",
       "      <td>0.0</td>\n",
       "      <td>0.0</td>\n",
       "      <td>0.0</td>\n",
       "      <td>0.0</td>\n",
       "      <td>GOOD</td>\n",
       "    </tr>\n",
       "    <tr>\n",
       "      <th>41</th>\n",
       "      <td>0.7502</td>\n",
       "      <td>0.4996</td>\n",
       "      <td>0.0</td>\n",
       "      <td>0.0</td>\n",
       "      <td>0.0</td>\n",
       "      <td>0.0</td>\n",
       "      <td>0.0</td>\n",
       "      <td>GOOD</td>\n",
       "    </tr>\n",
       "    <tr>\n",
       "      <th>42</th>\n",
       "      <td>0.7495</td>\n",
       "      <td>0.5000</td>\n",
       "      <td>0.0</td>\n",
       "      <td>0.0</td>\n",
       "      <td>0.0</td>\n",
       "      <td>0.0</td>\n",
       "      <td>0.0</td>\n",
       "      <td>GOOD</td>\n",
       "    </tr>\n",
       "    <tr>\n",
       "      <th>43</th>\n",
       "      <td>0.7495</td>\n",
       "      <td>0.5000</td>\n",
       "      <td>0.0</td>\n",
       "      <td>0.0</td>\n",
       "      <td>0.0</td>\n",
       "      <td>0.0</td>\n",
       "      <td>0.0</td>\n",
       "      <td>GOOD</td>\n",
       "    </tr>\n",
       "    <tr>\n",
       "      <th>44</th>\n",
       "      <td>0.7500</td>\n",
       "      <td>0.5000</td>\n",
       "      <td>0.0</td>\n",
       "      <td>0.0</td>\n",
       "      <td>0.0</td>\n",
       "      <td>0.0</td>\n",
       "      <td>0.0</td>\n",
       "      <td>GOOD</td>\n",
       "    </tr>\n",
       "    <tr>\n",
       "      <th>45</th>\n",
       "      <td>0.7500</td>\n",
       "      <td>0.5000</td>\n",
       "      <td>0.0</td>\n",
       "      <td>0.0</td>\n",
       "      <td>0.0</td>\n",
       "      <td>0.0</td>\n",
       "      <td>0.0</td>\n",
       "      <td>GOOD</td>\n",
       "    </tr>\n",
       "    <tr>\n",
       "      <th>46</th>\n",
       "      <td>0.7500</td>\n",
       "      <td>0.5000</td>\n",
       "      <td>0.0</td>\n",
       "      <td>0.0</td>\n",
       "      <td>0.0</td>\n",
       "      <td>0.0</td>\n",
       "      <td>0.0</td>\n",
       "      <td>GOOD</td>\n",
       "    </tr>\n",
       "    <tr>\n",
       "      <th>47</th>\n",
       "      <td>0.0002</td>\n",
       "      <td>0.0001</td>\n",
       "      <td>0.0</td>\n",
       "      <td>0.0</td>\n",
       "      <td>0.0</td>\n",
       "      <td>0.0</td>\n",
       "      <td>0.0</td>\n",
       "      <td>GOOD</td>\n",
       "    </tr>\n",
       "  </tbody>\n",
       "</table>\n",
       "</div>"
      ],
      "text/plain": [
       "    Accuracy     AUC  Recall  Prec.   F1  Kappa  MCC      target_class\n",
       "0     0.7502  0.5000     0.0    0.0  0.0    0.0  0.0   DEVELOPER_STATE\n",
       "1     0.7502  0.5000     0.0    0.0  0.0    0.0  0.0   DEVELOPER_STATE\n",
       "2     0.7502  0.5000     0.0    0.0  0.0    0.0  0.0   DEVELOPER_STATE\n",
       "3     0.7502  0.5000     0.0    0.0  0.0    0.0  0.0   DEVELOPER_STATE\n",
       "4     0.7502  0.5000     0.0    0.0  0.0    0.0  0.0   DEVELOPER_STATE\n",
       "5     0.7502  0.5000     0.0    0.0  0.0    0.0  0.0   DEVELOPER_STATE\n",
       "6     0.7495  0.5000     0.0    0.0  0.0    0.0  0.0   DEVELOPER_STATE\n",
       "7     0.7495  0.5000     0.0    0.0  0.0    0.0  0.0   DEVELOPER_STATE\n",
       "8     0.7500  0.5000     0.0    0.0  0.0    0.0  0.0   DEVELOPER_STATE\n",
       "9     0.7500  0.5000     0.0    0.0  0.0    0.0  0.0   DEVELOPER_STATE\n",
       "10    0.7500  0.5000     0.0    0.0  0.0    0.0  0.0   DEVELOPER_STATE\n",
       "11    0.0002  0.0000     0.0    0.0  0.0    0.0  0.0   DEVELOPER_STATE\n",
       "12    0.7502  0.5000     0.0    0.0  0.0    0.0  0.0  AFTER_RENOVATION\n",
       "13    0.7502  0.5000     0.0    0.0  0.0    0.0  0.0  AFTER_RENOVATION\n",
       "14    0.7502  0.5000     0.0    0.0  0.0    0.0  0.0  AFTER_RENOVATION\n",
       "15    0.7502  0.5000     0.0    0.0  0.0    0.0  0.0  AFTER_RENOVATION\n",
       "16    0.7502  0.5000     0.0    0.0  0.0    0.0  0.0  AFTER_RENOVATION\n",
       "17    0.7502  0.5000     0.0    0.0  0.0    0.0  0.0  AFTER_RENOVATION\n",
       "18    0.7495  0.5000     0.0    0.0  0.0    0.0  0.0  AFTER_RENOVATION\n",
       "19    0.7495  0.5000     0.0    0.0  0.0    0.0  0.0  AFTER_RENOVATION\n",
       "20    0.7500  0.5000     0.0    0.0  0.0    0.0  0.0  AFTER_RENOVATION\n",
       "21    0.7500  0.5000     0.0    0.0  0.0    0.0  0.0  AFTER_RENOVATION\n",
       "22    0.7500  0.5000     0.0    0.0  0.0    0.0  0.0  AFTER_RENOVATION\n",
       "23    0.0002  0.0000     0.0    0.0  0.0    0.0  0.0  AFTER_RENOVATION\n",
       "24    0.7502  0.5000     0.0    0.0  0.0    0.0  0.0    FOR_RENOVATION\n",
       "25    0.7502  0.5000     0.0    0.0  0.0    0.0  0.0    FOR_RENOVATION\n",
       "26    0.7502  0.5000     0.0    0.0  0.0    0.0  0.0    FOR_RENOVATION\n",
       "27    0.7502  0.5000     0.0    0.0  0.0    0.0  0.0    FOR_RENOVATION\n",
       "28    0.7502  0.5000     0.0    0.0  0.0    0.0  0.0    FOR_RENOVATION\n",
       "29    0.7502  0.5000     0.0    0.0  0.0    0.0  0.0    FOR_RENOVATION\n",
       "30    0.7495  0.5000     0.0    0.0  0.0    0.0  0.0    FOR_RENOVATION\n",
       "31    0.7495  0.5000     0.0    0.0  0.0    0.0  0.0    FOR_RENOVATION\n",
       "32    0.7500  0.5000     0.0    0.0  0.0    0.0  0.0    FOR_RENOVATION\n",
       "33    0.7500  0.5000     0.0    0.0  0.0    0.0  0.0    FOR_RENOVATION\n",
       "34    0.7500  0.5000     0.0    0.0  0.0    0.0  0.0    FOR_RENOVATION\n",
       "35    0.0002  0.0000     0.0    0.0  0.0    0.0  0.0    FOR_RENOVATION\n",
       "36    0.7502  0.5000     0.0    0.0  0.0    0.0  0.0              GOOD\n",
       "37    0.7502  0.5000     0.0    0.0  0.0    0.0  0.0              GOOD\n",
       "38    0.7502  0.5000     0.0    0.0  0.0    0.0  0.0              GOOD\n",
       "39    0.7502  0.5000     0.0    0.0  0.0    0.0  0.0              GOOD\n",
       "40    0.7502  0.5000     0.0    0.0  0.0    0.0  0.0              GOOD\n",
       "41    0.7502  0.4996     0.0    0.0  0.0    0.0  0.0              GOOD\n",
       "42    0.7495  0.5000     0.0    0.0  0.0    0.0  0.0              GOOD\n",
       "43    0.7495  0.5000     0.0    0.0  0.0    0.0  0.0              GOOD\n",
       "44    0.7500  0.5000     0.0    0.0  0.0    0.0  0.0              GOOD\n",
       "45    0.7500  0.5000     0.0    0.0  0.0    0.0  0.0              GOOD\n",
       "46    0.7500  0.5000     0.0    0.0  0.0    0.0  0.0              GOOD\n",
       "47    0.0002  0.0001     0.0    0.0  0.0    0.0  0.0              GOOD"
      ]
     },
     "execution_count": 22,
     "metadata": {},
     "output_type": "execute_result"
    }
   ],
   "source": [
    "metryki"
   ]
  },
  {
   "cell_type": "code",
   "execution_count": 23,
   "id": "b73d7024-8315-4a74-b63f-c56d2776599c",
   "metadata": {},
   "outputs": [],
   "source": [
    "df2=df.sample(10)\n",
    "df2.to_csv(\"uzup_mieszkania_sample.csv\", index=False)"
   ]
  },
  {
   "cell_type": "code",
   "execution_count": 24,
   "id": "154661ae-a87e-406d-ab81-9c7fb5c3a70a",
   "metadata": {},
   "outputs": [
    {
     "data": {
      "text/plain": [
       "BuildingCondition\n",
       "DEVELOPER_STATE     0.970245\n",
       "AFTER_RENOVATION    0.020038\n",
       "GOOD                0.004998\n",
       "FOR_RENOVATION      0.004719\n",
       "Name: proportion, dtype: float64"
      ]
     },
     "execution_count": 24,
     "metadata": {},
     "output_type": "execute_result"
    }
   ],
   "source": [
    "df[\"BuildingCondition\"].value_counts(normalize=True)"
   ]
  },
  {
   "cell_type": "code",
   "execution_count": null,
   "id": "83719240-2759-4718-b466-db9724f46de5",
   "metadata": {},
   "outputs": [],
   "source": [
    "# Fatalny balans, mimo iż baza wstępna została zbalansowana, tutaj wyniki są trudne do zaakceptowania\n",
    "# wartoć stanu Developer_State to aż 97% wszystkich predykcji. Aż trudno w to uwierzyć. Do sprawdzenia szczegółowego."
   ]
  },
  {
   "cell_type": "code",
   "execution_count": null,
   "id": "250da6dc-8f58-4d81-9a6d-e561366e56e5",
   "metadata": {},
   "outputs": [],
   "source": []
  }
 ],
 "metadata": {
  "kernelspec": {
   "display_name": "Python 3 (ipykernel)",
   "language": "python",
   "name": "python3"
  },
  "language_info": {
   "codemirror_mode": {
    "name": "ipython",
    "version": 3
   },
   "file_extension": ".py",
   "mimetype": "text/x-python",
   "name": "python",
   "nbconvert_exporter": "python",
   "pygments_lexer": "ipython3",
   "version": "3.11.11"
  }
 },
 "nbformat": 4,
 "nbformat_minor": 5
}
