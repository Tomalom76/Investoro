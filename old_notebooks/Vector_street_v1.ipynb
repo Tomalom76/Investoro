{
 "cells": [
  {
   "cell_type": "code",
   "execution_count": 1,
   "id": "a63f6c59-f208-42bc-bcfc-b7e6f0b3b9c9",
   "metadata": {},
   "outputs": [
    {
     "name": "stdout",
     "output_type": "stream",
     "text": [
      "Wczytywanie danych...\n"
     ]
    },
    {
     "name": "stderr",
     "output_type": "stream",
     "text": [
      "C:\\Users\\Ai\\AppData\\Local\\Temp\\ipykernel_1056\\1474917639.py:17: DtypeWarning: Columns (15,28) have mixed types. Specify dtype option on import or set low_memory=False.\n",
      "  df_main = pd.read_csv('data.csv', sep=',')\n"
     ]
    },
    {
     "name": "stdout",
     "output_type": "stream",
     "text": [
      "Wszystkie pliki wczytane.\n"
     ]
    }
   ],
   "source": [
    "# === SEKCJA 1: IMPORT I KONFIGURACJA ===\n",
    "import pandas as pd; import numpy as np; import re;\n",
    "from tensorflow.keras.models import Model\n",
    "from tensorflow.keras.layers import Input, Embedding, Flatten, Concatenate, Dense, Dropout, BatchNormalization\n",
    "from tensorflow.keras.preprocessing.text import Tokenizer\n",
    "from tensorflow.keras.preprocessing.sequence import pad_sequences\n",
    "from tensorflow.keras.callbacks import EarlyStopping\n",
    "from sklearn.model_selection import train_test_split\n",
    "from sklearn.preprocessing import LabelEncoder, StandardScaler, OneHotEncoder\n",
    "from sklearn.pipeline import Pipeline\n",
    "from sklearn.impute import SimpleImputer\n",
    "from IPython.display import display\n",
    "import matplotlib.pyplot as plt\n",
    "from gensim.models import KeyedVectors # Ważny import\n",
    "\n",
    "print(\"Wczytywanie danych...\")\n",
    "df_main = pd.read_csv('data.csv', sep=',')\n",
    "df_ulic = pd.read_csv('Ulic.csv', sep=',')\n",
    "print(\"Wszystkie pliki wczytane.\")"
   ]
  },
  {
   "cell_type": "code",
   "execution_count": 2,
   "id": "f405f9fd-af8d-4f40-be53-9bdac60bb5f5",
   "metadata": {},
   "outputs": [
    {
     "name": "stdout",
     "output_type": "stream",
     "text": [
      "Wczytywanie danych...\n"
     ]
    },
    {
     "name": "stderr",
     "output_type": "stream",
     "text": [
      "C:\\Users\\Ai\\AppData\\Local\\Temp\\ipykernel_1056\\677810587.py:4: DtypeWarning: Columns (15,28) have mixed types. Specify dtype option on import or set low_memory=False.\n",
      "  df_main = pd.read_csv('data.csv', sep=',')\n"
     ]
    },
    {
     "name": "stdout",
     "output_type": "stream",
     "text": [
      "Pliki wczytane.\n",
      "Utworzono słownik z 47823 unikalnymi ulicami.\n",
      "Finalny zbiór danych gotowy. Liczba wierszy: 52543, Liczba unikalnych ulic: 682\n"
     ]
    }
   ],
   "source": [
    "# === SEKCJA 2: WCZYTANIE I PRZYGOTOWANIE DANYCH ===\n",
    "\n",
    "print(\"Wczytywanie danych...\")\n",
    "df_main = pd.read_csv('data.csv', sep=',')\n",
    "df_ulic = pd.read_csv('Ulic.csv', sep=',')\n",
    "print(\"Pliki wczytane.\")\n",
    "\n",
    "# --- Krok 2a: Stworzenie słownika ulic ---\n",
    "df_ulic.rename(columns={'Name': 'NAZWA_ULICY'}, inplace=True)\n",
    "df_ulic.dropna(subset=['SymUl', 'NAZWA_ULICY'], inplace=True)\n",
    "street_dictionary = pd.Series(df_ulic.NAZWA_ULICY.values, index=df_ulic.SymUl).to_dict()\n",
    "print(f\"Utworzono słownik z {len(street_dictionary)} unikalnymi ulicami.\")\n",
    "\n",
    "# --- Krok 2b: Wzbogacanie i czyszczenie ---\n",
    "df_processed = df_main.copy()\n",
    "df_processed.dropna(subset=['Area', 'Price', 'Description', 'Location', 'StreetNumber'], inplace=True)\n",
    "\n",
    "def process_location(row):\n",
    "    location_str = row['Location']\n",
    "    district, street = np.nan, np.nan\n",
    "    if isinstance(location_str, str):\n",
    "        parts = [p.strip() for p in location_str.split(',')]\n",
    "        if len(parts) >= 3 and 'warszawa' in parts[1].lower():\n",
    "            district = parts[2]\n",
    "    if pd.notna(row['StreetNumber']):\n",
    "        try:\n",
    "            street_sym = int(row['StreetNumber'])\n",
    "            if street_sym in street_dictionary:\n",
    "                street = street_dictionary[street_sym]\n",
    "        except (ValueError, TypeError): pass\n",
    "    if pd.isna(street) and isinstance(location_str, str) and len(location_str.split(',')) >= 4:\n",
    "        street = location_str.split(',')[3].strip()\n",
    "    if isinstance(street, str):\n",
    "        street = re.sub(r'^(ul\\.|al\\.|pl\\.)\\s*', '', street, flags=re.IGNORECASE).lower()\n",
    "        if len(street) < 3: street = np.nan\n",
    "    return pd.Series([district, street])\n",
    "\n",
    "df_processed[['District', 'Ulica_clean']] = df_processed.apply(process_location, axis=1)\n",
    "df_processed.dropna(subset=['Ulica_clean', 'District'], inplace=True)\n",
    "\n",
    "# --- Krok 2c: Filtrowanie rzadkich ulic ---\n",
    "MIN_SAMPLES_PER_STREET = 25\n",
    "street_counts = df_processed['Ulica_clean'].value_counts()\n",
    "streets_to_remove = street_counts[street_counts < MIN_SAMPLES_PER_STREET].index\n",
    "df_model_ready = df_processed[~df_processed['Ulica_clean'].isin(streets_to_remove)].copy()\n",
    "print(f\"Finalny zbiór danych gotowy. Liczba wierszy: {len(df_model_ready)}, Liczba unikalnych ulic: {df_model_ready['Ulica_clean'].nunique()}\")"
   ]
  },
  {
   "cell_type": "code",
   "execution_count": 3,
   "id": "737cf47c-6489-494c-b995-be2cdd85f606",
   "metadata": {},
   "outputs": [
    {
     "name": "stdout",
     "output_type": "stream",
     "text": [
      "\n",
      "Wczytywanie modelu Word2Vec z pliku: nkjp+wiki-forms-all-100-cbow-hs.txt...\n",
      "Model wczytany pomyślnie.\n",
      "\n",
      "Przygotowano macierz embeddingów. Znaleziono 18013 na 20000 słów.\n",
      "\n",
      "Gotowe do treningu. Liczba klas: 682\n"
     ]
    }
   ],
   "source": [
    "# === SEKCJA 3: INŻYNIERIA CECH I WSTĘPNIE TRENOWANE EMBEDDINGI ===\n",
    "\n",
    "# --- 3a. Przygotowanie danych tekstowych ---\n",
    "def clean_text(text):\n",
    "    return re.sub(r'[^a-ząęółśżźćń ]', '', str(text).lower())\n",
    "df_model_ready['description_clean'] = df_model_ready['Description'].apply(clean_text)\n",
    "\n",
    "MAX_WORDS = 20000 # Zwiększamy słownik, aby lepiej wykorzystać model nkjp\n",
    "tokenizer = Tokenizer(num_words=MAX_WORDS)\n",
    "tokenizer.fit_on_texts(df_model_ready['description_clean'])\n",
    "sequences = tokenizer.texts_to_sequences(df_model_ready['description_clean'])\n",
    "MAX_LEN = 200 # Dłuższe sekwencje\n",
    "X_text = pad_sequences(sequences, maxlen=MAX_LEN)\n",
    "\n",
    "# --- 3b. Wczytanie modelu NKJP i tworzenie macierzy embeddingów ---\n",
    "model_path = 'nkjp+wiki-forms-all-100-cbow-hs.txt'\n",
    "print(f\"\\nWczytywanie modelu Word2Vec z pliku: {model_path}...\")\n",
    "wv = KeyedVectors.load_word2vec_format(model_path, binary=False)\n",
    "print(\"Model wczytany pomyślnie.\")\n",
    "\n",
    "embedding_dim = 100 # Ten model ma wektory o wymiarze 100\n",
    "embedding_matrix = np.zeros((MAX_WORDS, embedding_dim))\n",
    "words_found = 0\n",
    "for word, i in tokenizer.word_index.items():\n",
    "    if i < MAX_WORDS:\n",
    "        if word in wv:\n",
    "            embedding_matrix[i] = wv[word]\n",
    "            words_found += 1\n",
    "print(f\"\\nPrzygotowano macierz embeddingów. Znaleziono {words_found} na {min(MAX_WORDS, len(tokenizer.word_index))} słów.\")\n",
    "\n",
    "# --- 3c. Przygotowanie danych numerycznych i kategorycznych (bez zmian) ---\n",
    "numeric_features = ['Area', 'Price', 'NumberOfRooms', 'Floor', 'Floors']\n",
    "numeric_pipeline = Pipeline([('imputer', SimpleImputer(strategy='median')), ('scaler', StandardScaler())])\n",
    "X_numeric = numeric_pipeline.fit_transform(df_model_ready[numeric_features])\n",
    "\n",
    "categorical_features = ['District', 'BuildingType']\n",
    "cat_pipeline = Pipeline([('imputer', SimpleImputer(strategy='constant', fill_value='missing')), ('encoder', OneHotEncoder(handle_unknown='ignore', sparse_output=False))])\n",
    "X_categorical = cat_pipeline.fit_transform(df_model_ready[categorical_features])\n",
    "\n",
    "# --- 3d. Przygotowanie celu (target) ---\n",
    "label_encoder = LabelEncoder()\n",
    "y_encoded = label_encoder.fit_transform(df_model_ready['Ulica_clean'])\n",
    "num_classes = len(label_encoder.classes_)\n",
    "print(f\"\\nGotowe do treningu. Liczba klas: {num_classes}\")"
   ]
  },
  {
   "cell_type": "code",
   "execution_count": 4,
   "id": "6b8ff531-0878-462f-9977-bc9ad7dc62a0",
   "metadata": {},
   "outputs": [
    {
     "data": {
      "text/html": [
       "<pre style=\"white-space:pre;overflow-x:auto;line-height:normal;font-family:Menlo,'DejaVu Sans Mono',consolas,'Courier New',monospace\"><span style=\"font-weight: bold\">Model: \"functional\"</span>\n",
       "</pre>\n"
      ],
      "text/plain": [
       "\u001b[1mModel: \"functional\"\u001b[0m\n"
      ]
     },
     "metadata": {},
     "output_type": "display_data"
    },
    {
     "data": {
      "text/html": [
       "<pre style=\"white-space:pre;overflow-x:auto;line-height:normal;font-family:Menlo,'DejaVu Sans Mono',consolas,'Courier New',monospace\">┏━━━━━━━━━━━━━━━━━━━━━━━━━━━━━━━┳━━━━━━━━━━━━━━━━━━━━━━━━━━━┳━━━━━━━━━━━━━━━━━┳━━━━━━━━━━━━━━━━━━━━━━━━━━━━┓\n",
       "┃<span style=\"font-weight: bold\"> Layer (type)                  </span>┃<span style=\"font-weight: bold\"> Output Shape              </span>┃<span style=\"font-weight: bold\">         Param # </span>┃<span style=\"font-weight: bold\"> Connected to               </span>┃\n",
       "┡━━━━━━━━━━━━━━━━━━━━━━━━━━━━━━━╇━━━━━━━━━━━━━━━━━━━━━━━━━━━╇━━━━━━━━━━━━━━━━━╇━━━━━━━━━━━━━━━━━━━━━━━━━━━━┩\n",
       "│ text_input (<span style=\"color: #0087ff; text-decoration-color: #0087ff\">InputLayer</span>)       │ (<span style=\"color: #00d7ff; text-decoration-color: #00d7ff\">None</span>, <span style=\"color: #00af00; text-decoration-color: #00af00\">200</span>)               │               <span style=\"color: #00af00; text-decoration-color: #00af00\">0</span> │ -                          │\n",
       "├───────────────────────────────┼───────────────────────────┼─────────────────┼────────────────────────────┤\n",
       "│ embedding (<span style=\"color: #0087ff; text-decoration-color: #0087ff\">Embedding</span>)         │ (<span style=\"color: #00d7ff; text-decoration-color: #00d7ff\">None</span>, <span style=\"color: #00af00; text-decoration-color: #00af00\">200</span>, <span style=\"color: #00af00; text-decoration-color: #00af00\">256</span>)          │       <span style=\"color: #00af00; text-decoration-color: #00af00\">5,120,000</span> │ text_input[<span style=\"color: #00af00; text-decoration-color: #00af00\">0</span>][<span style=\"color: #00af00; text-decoration-color: #00af00\">0</span>]           │\n",
       "├───────────────────────────────┼───────────────────────────┼─────────────────┼────────────────────────────┤\n",
       "│ flatten (<span style=\"color: #0087ff; text-decoration-color: #0087ff\">Flatten</span>)             │ (<span style=\"color: #00d7ff; text-decoration-color: #00d7ff\">None</span>, <span style=\"color: #00af00; text-decoration-color: #00af00\">51200</span>)             │               <span style=\"color: #00af00; text-decoration-color: #00af00\">0</span> │ embedding[<span style=\"color: #00af00; text-decoration-color: #00af00\">0</span>][<span style=\"color: #00af00; text-decoration-color: #00af00\">0</span>]            │\n",
       "├───────────────────────────────┼───────────────────────────┼─────────────────┼────────────────────────────┤\n",
       "│ numeric_input (<span style=\"color: #0087ff; text-decoration-color: #0087ff\">InputLayer</span>)    │ (<span style=\"color: #00d7ff; text-decoration-color: #00d7ff\">None</span>, <span style=\"color: #00af00; text-decoration-color: #00af00\">5</span>)                 │               <span style=\"color: #00af00; text-decoration-color: #00af00\">0</span> │ -                          │\n",
       "├───────────────────────────────┼───────────────────────────┼─────────────────┼────────────────────────────┤\n",
       "│ categorical_input             │ (<span style=\"color: #00d7ff; text-decoration-color: #00d7ff\">None</span>, <span style=\"color: #00af00; text-decoration-color: #00af00\">37</span>)                │               <span style=\"color: #00af00; text-decoration-color: #00af00\">0</span> │ -                          │\n",
       "│ (<span style=\"color: #0087ff; text-decoration-color: #0087ff\">InputLayer</span>)                  │                           │                 │                            │\n",
       "├───────────────────────────────┼───────────────────────────┼─────────────────┼────────────────────────────┤\n",
       "│ concatenate (<span style=\"color: #0087ff; text-decoration-color: #0087ff\">Concatenate</span>)     │ (<span style=\"color: #00d7ff; text-decoration-color: #00d7ff\">None</span>, <span style=\"color: #00af00; text-decoration-color: #00af00\">51242</span>)             │               <span style=\"color: #00af00; text-decoration-color: #00af00\">0</span> │ flatten[<span style=\"color: #00af00; text-decoration-color: #00af00\">0</span>][<span style=\"color: #00af00; text-decoration-color: #00af00\">0</span>],             │\n",
       "│                               │                           │                 │ numeric_input[<span style=\"color: #00af00; text-decoration-color: #00af00\">0</span>][<span style=\"color: #00af00; text-decoration-color: #00af00\">0</span>],       │\n",
       "│                               │                           │                 │ categorical_input[<span style=\"color: #00af00; text-decoration-color: #00af00\">0</span>][<span style=\"color: #00af00; text-decoration-color: #00af00\">0</span>]    │\n",
       "├───────────────────────────────┼───────────────────────────┼─────────────────┼────────────────────────────┤\n",
       "│ dense (<span style=\"color: #0087ff; text-decoration-color: #0087ff\">Dense</span>)                 │ (<span style=\"color: #00d7ff; text-decoration-color: #00d7ff\">None</span>, <span style=\"color: #00af00; text-decoration-color: #00af00\">1024</span>)              │      <span style=\"color: #00af00; text-decoration-color: #00af00\">52,472,832</span> │ concatenate[<span style=\"color: #00af00; text-decoration-color: #00af00\">0</span>][<span style=\"color: #00af00; text-decoration-color: #00af00\">0</span>]          │\n",
       "├───────────────────────────────┼───────────────────────────┼─────────────────┼────────────────────────────┤\n",
       "│ batch_normalization           │ (<span style=\"color: #00d7ff; text-decoration-color: #00d7ff\">None</span>, <span style=\"color: #00af00; text-decoration-color: #00af00\">1024</span>)              │           <span style=\"color: #00af00; text-decoration-color: #00af00\">4,096</span> │ dense[<span style=\"color: #00af00; text-decoration-color: #00af00\">0</span>][<span style=\"color: #00af00; text-decoration-color: #00af00\">0</span>]                │\n",
       "│ (<span style=\"color: #0087ff; text-decoration-color: #0087ff\">BatchNormalization</span>)          │                           │                 │                            │\n",
       "├───────────────────────────────┼───────────────────────────┼─────────────────┼────────────────────────────┤\n",
       "│ dropout (<span style=\"color: #0087ff; text-decoration-color: #0087ff\">Dropout</span>)             │ (<span style=\"color: #00d7ff; text-decoration-color: #00d7ff\">None</span>, <span style=\"color: #00af00; text-decoration-color: #00af00\">1024</span>)              │               <span style=\"color: #00af00; text-decoration-color: #00af00\">0</span> │ batch_normalization[<span style=\"color: #00af00; text-decoration-color: #00af00\">0</span>][<span style=\"color: #00af00; text-decoration-color: #00af00\">0</span>]  │\n",
       "├───────────────────────────────┼───────────────────────────┼─────────────────┼────────────────────────────┤\n",
       "│ dense_1 (<span style=\"color: #0087ff; text-decoration-color: #0087ff\">Dense</span>)               │ (<span style=\"color: #00d7ff; text-decoration-color: #00d7ff\">None</span>, <span style=\"color: #00af00; text-decoration-color: #00af00\">512</span>)               │         <span style=\"color: #00af00; text-decoration-color: #00af00\">524,800</span> │ dropout[<span style=\"color: #00af00; text-decoration-color: #00af00\">0</span>][<span style=\"color: #00af00; text-decoration-color: #00af00\">0</span>]              │\n",
       "├───────────────────────────────┼───────────────────────────┼─────────────────┼────────────────────────────┤\n",
       "│ batch_normalization_1         │ (<span style=\"color: #00d7ff; text-decoration-color: #00d7ff\">None</span>, <span style=\"color: #00af00; text-decoration-color: #00af00\">512</span>)               │           <span style=\"color: #00af00; text-decoration-color: #00af00\">2,048</span> │ dense_1[<span style=\"color: #00af00; text-decoration-color: #00af00\">0</span>][<span style=\"color: #00af00; text-decoration-color: #00af00\">0</span>]              │\n",
       "│ (<span style=\"color: #0087ff; text-decoration-color: #0087ff\">BatchNormalization</span>)          │                           │                 │                            │\n",
       "├───────────────────────────────┼───────────────────────────┼─────────────────┼────────────────────────────┤\n",
       "│ dropout_1 (<span style=\"color: #0087ff; text-decoration-color: #0087ff\">Dropout</span>)           │ (<span style=\"color: #00d7ff; text-decoration-color: #00d7ff\">None</span>, <span style=\"color: #00af00; text-decoration-color: #00af00\">512</span>)               │               <span style=\"color: #00af00; text-decoration-color: #00af00\">0</span> │ batch_normalization_1[<span style=\"color: #00af00; text-decoration-color: #00af00\">0</span>][<span style=\"color: #00af00; text-decoration-color: #00af00\">…</span> │\n",
       "├───────────────────────────────┼───────────────────────────┼─────────────────┼────────────────────────────┤\n",
       "│ dense_2 (<span style=\"color: #0087ff; text-decoration-color: #0087ff\">Dense</span>)               │ (<span style=\"color: #00d7ff; text-decoration-color: #00d7ff\">None</span>, <span style=\"color: #00af00; text-decoration-color: #00af00\">256</span>)               │         <span style=\"color: #00af00; text-decoration-color: #00af00\">131,328</span> │ dropout_1[<span style=\"color: #00af00; text-decoration-color: #00af00\">0</span>][<span style=\"color: #00af00; text-decoration-color: #00af00\">0</span>]            │\n",
       "├───────────────────────────────┼───────────────────────────┼─────────────────┼────────────────────────────┤\n",
       "│ batch_normalization_2         │ (<span style=\"color: #00d7ff; text-decoration-color: #00d7ff\">None</span>, <span style=\"color: #00af00; text-decoration-color: #00af00\">256</span>)               │           <span style=\"color: #00af00; text-decoration-color: #00af00\">1,024</span> │ dense_2[<span style=\"color: #00af00; text-decoration-color: #00af00\">0</span>][<span style=\"color: #00af00; text-decoration-color: #00af00\">0</span>]              │\n",
       "│ (<span style=\"color: #0087ff; text-decoration-color: #0087ff\">BatchNormalization</span>)          │                           │                 │                            │\n",
       "├───────────────────────────────┼───────────────────────────┼─────────────────┼────────────────────────────┤\n",
       "│ dropout_2 (<span style=\"color: #0087ff; text-decoration-color: #0087ff\">Dropout</span>)           │ (<span style=\"color: #00d7ff; text-decoration-color: #00d7ff\">None</span>, <span style=\"color: #00af00; text-decoration-color: #00af00\">256</span>)               │               <span style=\"color: #00af00; text-decoration-color: #00af00\">0</span> │ batch_normalization_2[<span style=\"color: #00af00; text-decoration-color: #00af00\">0</span>][<span style=\"color: #00af00; text-decoration-color: #00af00\">…</span> │\n",
       "├───────────────────────────────┼───────────────────────────┼─────────────────┼────────────────────────────┤\n",
       "│ dense_3 (<span style=\"color: #0087ff; text-decoration-color: #0087ff\">Dense</span>)               │ (<span style=\"color: #00d7ff; text-decoration-color: #00d7ff\">None</span>, <span style=\"color: #00af00; text-decoration-color: #00af00\">682</span>)               │         <span style=\"color: #00af00; text-decoration-color: #00af00\">175,274</span> │ dropout_2[<span style=\"color: #00af00; text-decoration-color: #00af00\">0</span>][<span style=\"color: #00af00; text-decoration-color: #00af00\">0</span>]            │\n",
       "└───────────────────────────────┴───────────────────────────┴─────────────────┴────────────────────────────┘\n",
       "</pre>\n"
      ],
      "text/plain": [
       "┏━━━━━━━━━━━━━━━━━━━━━━━━━━━━━━━┳━━━━━━━━━━━━━━━━━━━━━━━━━━━┳━━━━━━━━━━━━━━━━━┳━━━━━━━━━━━━━━━━━━━━━━━━━━━━┓\n",
       "┃\u001b[1m \u001b[0m\u001b[1mLayer (type)                 \u001b[0m\u001b[1m \u001b[0m┃\u001b[1m \u001b[0m\u001b[1mOutput Shape             \u001b[0m\u001b[1m \u001b[0m┃\u001b[1m \u001b[0m\u001b[1m        Param #\u001b[0m\u001b[1m \u001b[0m┃\u001b[1m \u001b[0m\u001b[1mConnected to              \u001b[0m\u001b[1m \u001b[0m┃\n",
       "┡━━━━━━━━━━━━━━━━━━━━━━━━━━━━━━━╇━━━━━━━━━━━━━━━━━━━━━━━━━━━╇━━━━━━━━━━━━━━━━━╇━━━━━━━━━━━━━━━━━━━━━━━━━━━━┩\n",
       "│ text_input (\u001b[38;5;33mInputLayer\u001b[0m)       │ (\u001b[38;5;45mNone\u001b[0m, \u001b[38;5;34m200\u001b[0m)               │               \u001b[38;5;34m0\u001b[0m │ -                          │\n",
       "├───────────────────────────────┼───────────────────────────┼─────────────────┼────────────────────────────┤\n",
       "│ embedding (\u001b[38;5;33mEmbedding\u001b[0m)         │ (\u001b[38;5;45mNone\u001b[0m, \u001b[38;5;34m200\u001b[0m, \u001b[38;5;34m256\u001b[0m)          │       \u001b[38;5;34m5,120,000\u001b[0m │ text_input[\u001b[38;5;34m0\u001b[0m][\u001b[38;5;34m0\u001b[0m]           │\n",
       "├───────────────────────────────┼───────────────────────────┼─────────────────┼────────────────────────────┤\n",
       "│ flatten (\u001b[38;5;33mFlatten\u001b[0m)             │ (\u001b[38;5;45mNone\u001b[0m, \u001b[38;5;34m51200\u001b[0m)             │               \u001b[38;5;34m0\u001b[0m │ embedding[\u001b[38;5;34m0\u001b[0m][\u001b[38;5;34m0\u001b[0m]            │\n",
       "├───────────────────────────────┼───────────────────────────┼─────────────────┼────────────────────────────┤\n",
       "│ numeric_input (\u001b[38;5;33mInputLayer\u001b[0m)    │ (\u001b[38;5;45mNone\u001b[0m, \u001b[38;5;34m5\u001b[0m)                 │               \u001b[38;5;34m0\u001b[0m │ -                          │\n",
       "├───────────────────────────────┼───────────────────────────┼─────────────────┼────────────────────────────┤\n",
       "│ categorical_input             │ (\u001b[38;5;45mNone\u001b[0m, \u001b[38;5;34m37\u001b[0m)                │               \u001b[38;5;34m0\u001b[0m │ -                          │\n",
       "│ (\u001b[38;5;33mInputLayer\u001b[0m)                  │                           │                 │                            │\n",
       "├───────────────────────────────┼───────────────────────────┼─────────────────┼────────────────────────────┤\n",
       "│ concatenate (\u001b[38;5;33mConcatenate\u001b[0m)     │ (\u001b[38;5;45mNone\u001b[0m, \u001b[38;5;34m51242\u001b[0m)             │               \u001b[38;5;34m0\u001b[0m │ flatten[\u001b[38;5;34m0\u001b[0m][\u001b[38;5;34m0\u001b[0m],             │\n",
       "│                               │                           │                 │ numeric_input[\u001b[38;5;34m0\u001b[0m][\u001b[38;5;34m0\u001b[0m],       │\n",
       "│                               │                           │                 │ categorical_input[\u001b[38;5;34m0\u001b[0m][\u001b[38;5;34m0\u001b[0m]    │\n",
       "├───────────────────────────────┼───────────────────────────┼─────────────────┼────────────────────────────┤\n",
       "│ dense (\u001b[38;5;33mDense\u001b[0m)                 │ (\u001b[38;5;45mNone\u001b[0m, \u001b[38;5;34m1024\u001b[0m)              │      \u001b[38;5;34m52,472,832\u001b[0m │ concatenate[\u001b[38;5;34m0\u001b[0m][\u001b[38;5;34m0\u001b[0m]          │\n",
       "├───────────────────────────────┼───────────────────────────┼─────────────────┼────────────────────────────┤\n",
       "│ batch_normalization           │ (\u001b[38;5;45mNone\u001b[0m, \u001b[38;5;34m1024\u001b[0m)              │           \u001b[38;5;34m4,096\u001b[0m │ dense[\u001b[38;5;34m0\u001b[0m][\u001b[38;5;34m0\u001b[0m]                │\n",
       "│ (\u001b[38;5;33mBatchNormalization\u001b[0m)          │                           │                 │                            │\n",
       "├───────────────────────────────┼───────────────────────────┼─────────────────┼────────────────────────────┤\n",
       "│ dropout (\u001b[38;5;33mDropout\u001b[0m)             │ (\u001b[38;5;45mNone\u001b[0m, \u001b[38;5;34m1024\u001b[0m)              │               \u001b[38;5;34m0\u001b[0m │ batch_normalization[\u001b[38;5;34m0\u001b[0m][\u001b[38;5;34m0\u001b[0m]  │\n",
       "├───────────────────────────────┼───────────────────────────┼─────────────────┼────────────────────────────┤\n",
       "│ dense_1 (\u001b[38;5;33mDense\u001b[0m)               │ (\u001b[38;5;45mNone\u001b[0m, \u001b[38;5;34m512\u001b[0m)               │         \u001b[38;5;34m524,800\u001b[0m │ dropout[\u001b[38;5;34m0\u001b[0m][\u001b[38;5;34m0\u001b[0m]              │\n",
       "├───────────────────────────────┼───────────────────────────┼─────────────────┼────────────────────────────┤\n",
       "│ batch_normalization_1         │ (\u001b[38;5;45mNone\u001b[0m, \u001b[38;5;34m512\u001b[0m)               │           \u001b[38;5;34m2,048\u001b[0m │ dense_1[\u001b[38;5;34m0\u001b[0m][\u001b[38;5;34m0\u001b[0m]              │\n",
       "│ (\u001b[38;5;33mBatchNormalization\u001b[0m)          │                           │                 │                            │\n",
       "├───────────────────────────────┼───────────────────────────┼─────────────────┼────────────────────────────┤\n",
       "│ dropout_1 (\u001b[38;5;33mDropout\u001b[0m)           │ (\u001b[38;5;45mNone\u001b[0m, \u001b[38;5;34m512\u001b[0m)               │               \u001b[38;5;34m0\u001b[0m │ batch_normalization_1[\u001b[38;5;34m0\u001b[0m][\u001b[38;5;34m…\u001b[0m │\n",
       "├───────────────────────────────┼───────────────────────────┼─────────────────┼────────────────────────────┤\n",
       "│ dense_2 (\u001b[38;5;33mDense\u001b[0m)               │ (\u001b[38;5;45mNone\u001b[0m, \u001b[38;5;34m256\u001b[0m)               │         \u001b[38;5;34m131,328\u001b[0m │ dropout_1[\u001b[38;5;34m0\u001b[0m][\u001b[38;5;34m0\u001b[0m]            │\n",
       "├───────────────────────────────┼───────────────────────────┼─────────────────┼────────────────────────────┤\n",
       "│ batch_normalization_2         │ (\u001b[38;5;45mNone\u001b[0m, \u001b[38;5;34m256\u001b[0m)               │           \u001b[38;5;34m1,024\u001b[0m │ dense_2[\u001b[38;5;34m0\u001b[0m][\u001b[38;5;34m0\u001b[0m]              │\n",
       "│ (\u001b[38;5;33mBatchNormalization\u001b[0m)          │                           │                 │                            │\n",
       "├───────────────────────────────┼───────────────────────────┼─────────────────┼────────────────────────────┤\n",
       "│ dropout_2 (\u001b[38;5;33mDropout\u001b[0m)           │ (\u001b[38;5;45mNone\u001b[0m, \u001b[38;5;34m256\u001b[0m)               │               \u001b[38;5;34m0\u001b[0m │ batch_normalization_2[\u001b[38;5;34m0\u001b[0m][\u001b[38;5;34m…\u001b[0m │\n",
       "├───────────────────────────────┼───────────────────────────┼─────────────────┼────────────────────────────┤\n",
       "│ dense_3 (\u001b[38;5;33mDense\u001b[0m)               │ (\u001b[38;5;45mNone\u001b[0m, \u001b[38;5;34m682\u001b[0m)               │         \u001b[38;5;34m175,274\u001b[0m │ dropout_2[\u001b[38;5;34m0\u001b[0m][\u001b[38;5;34m0\u001b[0m]            │\n",
       "└───────────────────────────────┴───────────────────────────┴─────────────────┴────────────────────────────┘\n"
      ]
     },
     "metadata": {},
     "output_type": "display_data"
    },
    {
     "data": {
      "text/html": [
       "<pre style=\"white-space:pre;overflow-x:auto;line-height:normal;font-family:Menlo,'DejaVu Sans Mono',consolas,'Courier New',monospace\"><span style=\"font-weight: bold\"> Total params: </span><span style=\"color: #00af00; text-decoration-color: #00af00\">58,431,402</span> (222.90 MB)\n",
       "</pre>\n"
      ],
      "text/plain": [
       "\u001b[1m Total params: \u001b[0m\u001b[38;5;34m58,431,402\u001b[0m (222.90 MB)\n"
      ]
     },
     "metadata": {},
     "output_type": "display_data"
    },
    {
     "data": {
      "text/html": [
       "<pre style=\"white-space:pre;overflow-x:auto;line-height:normal;font-family:Menlo,'DejaVu Sans Mono',consolas,'Courier New',monospace\"><span style=\"font-weight: bold\"> Trainable params: </span><span style=\"color: #00af00; text-decoration-color: #00af00\">58,427,818</span> (222.88 MB)\n",
       "</pre>\n"
      ],
      "text/plain": [
       "\u001b[1m Trainable params: \u001b[0m\u001b[38;5;34m58,427,818\u001b[0m (222.88 MB)\n"
      ]
     },
     "metadata": {},
     "output_type": "display_data"
    },
    {
     "data": {
      "text/html": [
       "<pre style=\"white-space:pre;overflow-x:auto;line-height:normal;font-family:Menlo,'DejaVu Sans Mono',consolas,'Courier New',monospace\"><span style=\"font-weight: bold\"> Non-trainable params: </span><span style=\"color: #00af00; text-decoration-color: #00af00\">3,584</span> (14.00 KB)\n",
       "</pre>\n"
      ],
      "text/plain": [
       "\u001b[1m Non-trainable params: \u001b[0m\u001b[38;5;34m3,584\u001b[0m (14.00 KB)\n"
      ]
     },
     "metadata": {},
     "output_type": "display_data"
    },
    {
     "name": "stdout",
     "output_type": "stream",
     "text": [
      "\n",
      "Rozpoczynam zaawansowany trening ulepszonej sieci...\n",
      "Epoch 1/30\n",
      "\u001b[1m329/329\u001b[0m \u001b[32m━━━━━━━━━━━━━━━━━━━━\u001b[0m\u001b[37m\u001b[0m \u001b[1m56s\u001b[0m 164ms/step - accuracy: 0.0298 - loss: 6.6319 - val_accuracy: 0.1153 - val_loss: 5.7274 - learning_rate: 5.0000e-04\n",
      "Epoch 2/30\n",
      "\u001b[1m329/329\u001b[0m \u001b[32m━━━━━━━━━━━━━━━━━━━━\u001b[0m\u001b[37m\u001b[0m \u001b[1m53s\u001b[0m 162ms/step - accuracy: 0.1364 - loss: 5.3294 - val_accuracy: 0.2290 - val_loss: 4.1681 - learning_rate: 5.0000e-04\n",
      "Epoch 3/30\n",
      "\u001b[1m329/329\u001b[0m \u001b[32m━━━━━━━━━━━━━━━━━━━━\u001b[0m\u001b[37m\u001b[0m \u001b[1m54s\u001b[0m 163ms/step - accuracy: 0.2728 - loss: 3.8302 - val_accuracy: 0.3023 - val_loss: 3.1973 - learning_rate: 5.0000e-04\n",
      "Epoch 4/30\n",
      "\u001b[1m329/329\u001b[0m \u001b[32m━━━━━━━━━━━━━━━━━━━━\u001b[0m\u001b[37m\u001b[0m \u001b[1m53s\u001b[0m 162ms/step - accuracy: 0.4211 - loss: 2.7016 - val_accuracy: 0.3614 - val_loss: 2.7977 - learning_rate: 5.0000e-04\n",
      "Epoch 5/30\n",
      "\u001b[1m329/329\u001b[0m \u001b[32m━━━━━━━━━━━━━━━━━━━━\u001b[0m\u001b[37m\u001b[0m \u001b[1m53s\u001b[0m 162ms/step - accuracy: 0.5739 - loss: 1.9268 - val_accuracy: 0.3999 - val_loss: 2.6633 - learning_rate: 5.0000e-04\n",
      "Epoch 6/30\n",
      "\u001b[1m329/329\u001b[0m \u001b[32m━━━━━━━━━━━━━━━━━━━━\u001b[0m\u001b[37m\u001b[0m \u001b[1m53s\u001b[0m 162ms/step - accuracy: 0.7114 - loss: 1.3339 - val_accuracy: 0.4116 - val_loss: 2.6491 - learning_rate: 5.0000e-04\n",
      "Epoch 7/30\n",
      "\u001b[1m329/329\u001b[0m \u001b[32m━━━━━━━━━━━━━━━━━━━━\u001b[0m\u001b[37m\u001b[0m \u001b[1m53s\u001b[0m 162ms/step - accuracy: 0.8137 - loss: 0.8966 - val_accuracy: 0.4181 - val_loss: 2.6918 - learning_rate: 5.0000e-04\n",
      "Epoch 8/30\n",
      "\u001b[1m329/329\u001b[0m \u001b[32m━━━━━━━━━━━━━━━━━━━━\u001b[0m\u001b[37m\u001b[0m \u001b[1m0s\u001b[0m 154ms/step - accuracy: 0.8737 - loss: 0.6416 \n",
      "Epoch 8: ReduceLROnPlateau reducing learning rate to 0.00010000000474974513.\n",
      "\u001b[1m329/329\u001b[0m \u001b[32m━━━━━━━━━━━━━━━━━━━━\u001b[0m\u001b[37m\u001b[0m \u001b[1m53s\u001b[0m 161ms/step - accuracy: 0.8736 - loss: 0.6416 - val_accuracy: 0.4178 - val_loss: 2.7622 - learning_rate: 5.0000e-04\n",
      "Epoch 9/30\n",
      "\u001b[1m329/329\u001b[0m \u001b[32m━━━━━━━━━━━━━━━━━━━━\u001b[0m\u001b[37m\u001b[0m \u001b[1m53s\u001b[0m 162ms/step - accuracy: 0.9131 - loss: 0.4595 - val_accuracy: 0.4266 - val_loss: 2.6890 - learning_rate: 1.0000e-04\n",
      "Epoch 10/30\n",
      "\u001b[1m329/329\u001b[0m \u001b[32m━━━━━━━━━━━━━━━━━━━━\u001b[0m\u001b[37m\u001b[0m \u001b[1m0s\u001b[0m 155ms/step - accuracy: 0.9282 - loss: 0.3906 \n",
      "Epoch 10: ReduceLROnPlateau reducing learning rate to 2.0000000949949027e-05.\n",
      "\u001b[1m329/329\u001b[0m \u001b[32m━━━━━━━━━━━━━━━━━━━━\u001b[0m\u001b[37m\u001b[0m \u001b[1m53s\u001b[0m 162ms/step - accuracy: 0.9282 - loss: 0.3906 - val_accuracy: 0.4253 - val_loss: 2.6854 - learning_rate: 1.0000e-04\n",
      "Epoch 11/30\n",
      "\u001b[1m329/329\u001b[0m \u001b[32m━━━━━━━━━━━━━━━━━━━━\u001b[0m\u001b[37m\u001b[0m \u001b[1m53s\u001b[0m 162ms/step - accuracy: 0.9377 - loss: 0.3425 - val_accuracy: 0.4272 - val_loss: 2.6833 - learning_rate: 2.0000e-05\n",
      "Epoch 12/30\n",
      "\u001b[1m329/329\u001b[0m \u001b[32m━━━━━━━━━━━━━━━━━━━━\u001b[0m\u001b[37m\u001b[0m \u001b[1m0s\u001b[0m 155ms/step - accuracy: 0.9332 - loss: 0.3482 \n",
      "Epoch 12: ReduceLROnPlateau reducing learning rate to 1e-05.\n",
      "\u001b[1m329/329\u001b[0m \u001b[32m━━━━━━━━━━━━━━━━━━━━\u001b[0m\u001b[37m\u001b[0m \u001b[1m53s\u001b[0m 162ms/step - accuracy: 0.9332 - loss: 0.3481 - val_accuracy: 0.4279 - val_loss: 2.6820 - learning_rate: 2.0000e-05\n",
      "Epoch 13/30\n",
      "\u001b[1m329/329\u001b[0m \u001b[32m━━━━━━━━━━━━━━━━━━━━\u001b[0m\u001b[37m\u001b[0m \u001b[1m53s\u001b[0m 162ms/step - accuracy: 0.9395 - loss: 0.3269 - val_accuracy: 0.4287 - val_loss: 2.6819 - learning_rate: 1.0000e-05\n",
      "Epoch 14/30\n",
      "\u001b[1m329/329\u001b[0m \u001b[32m━━━━━━━━━━━━━━━━━━━━\u001b[0m\u001b[37m\u001b[0m \u001b[1m53s\u001b[0m 162ms/step - accuracy: 0.9416 - loss: 0.3154 - val_accuracy: 0.4289 - val_loss: 2.6836 - learning_rate: 1.0000e-05\n",
      "Epoch 15/30\n",
      "\u001b[1m329/329\u001b[0m \u001b[32m━━━━━━━━━━━━━━━━━━━━\u001b[0m\u001b[37m\u001b[0m \u001b[1m53s\u001b[0m 162ms/step - accuracy: 0.9415 - loss: 0.3135 - val_accuracy: 0.4290 - val_loss: 2.6843 - learning_rate: 1.0000e-05\n",
      "Epoch 16/30\n",
      "\u001b[1m329/329\u001b[0m \u001b[32m━━━━━━━━━━━━━━━━━━━━\u001b[0m\u001b[37m\u001b[0m \u001b[1m53s\u001b[0m 162ms/step - accuracy: 0.9440 - loss: 0.3019 - val_accuracy: 0.4293 - val_loss: 2.6832 - learning_rate: 1.0000e-05\n",
      "Epoch 17/30\n",
      "\u001b[1m329/329\u001b[0m \u001b[32m━━━━━━━━━━━━━━━━━━━━\u001b[0m\u001b[37m\u001b[0m \u001b[1m53s\u001b[0m 162ms/step - accuracy: 0.9455 - loss: 0.2960 - val_accuracy: 0.4293 - val_loss: 2.6862 - learning_rate: 1.0000e-05\n",
      "Epoch 18/30\n",
      "\u001b[1m329/329\u001b[0m \u001b[32m━━━━━━━━━━━━━━━━━━━━\u001b[0m\u001b[37m\u001b[0m \u001b[1m53s\u001b[0m 162ms/step - accuracy: 0.9421 - loss: 0.3050 - val_accuracy: 0.4296 - val_loss: 2.6821 - learning_rate: 1.0000e-05\n",
      "Epoch 19/30\n",
      "\u001b[1m329/329\u001b[0m \u001b[32m━━━━━━━━━━━━━━━━━━━━\u001b[0m\u001b[37m\u001b[0m \u001b[1m53s\u001b[0m 162ms/step - accuracy: 0.9440 - loss: 0.2944 - val_accuracy: 0.4288 - val_loss: 2.6888 - learning_rate: 1.0000e-05\n",
      "Epoch 20/30\n",
      "\u001b[1m329/329\u001b[0m \u001b[32m━━━━━━━━━━━━━━━━━━━━\u001b[0m\u001b[37m\u001b[0m \u001b[1m53s\u001b[0m 162ms/step - accuracy: 0.9446 - loss: 0.2931 - val_accuracy: 0.4298 - val_loss: 2.6894 - learning_rate: 1.0000e-05\n",
      "Epoch 21/30\n",
      "\u001b[1m329/329\u001b[0m \u001b[32m━━━━━━━━━━━━━━━━━━━━\u001b[0m\u001b[37m\u001b[0m \u001b[1m53s\u001b[0m 162ms/step - accuracy: 0.9483 - loss: 0.2831 - val_accuracy: 0.4290 - val_loss: 2.6870 - learning_rate: 1.0000e-05\n",
      "Epoch 22/30\n",
      "\u001b[1m329/329\u001b[0m \u001b[32m━━━━━━━━━━━━━━━━━━━━\u001b[0m\u001b[37m\u001b[0m \u001b[1m54s\u001b[0m 163ms/step - accuracy: 0.9479 - loss: 0.2769 - val_accuracy: 0.4302 - val_loss: 2.6954 - learning_rate: 1.0000e-05\n",
      "Epoch 23/30\n",
      "\u001b[1m329/329\u001b[0m \u001b[32m━━━━━━━━━━━━━━━━━━━━\u001b[0m\u001b[37m\u001b[0m \u001b[1m53s\u001b[0m 162ms/step - accuracy: 0.9468 - loss: 0.2819 - val_accuracy: 0.4299 - val_loss: 2.6978 - learning_rate: 1.0000e-05\n",
      "Epoch 24/30\n",
      "\u001b[1m329/329\u001b[0m \u001b[32m━━━━━━━━━━━━━━━━━━━━\u001b[0m\u001b[37m\u001b[0m \u001b[1m53s\u001b[0m 162ms/step - accuracy: 0.9484 - loss: 0.2727 - val_accuracy: 0.4297 - val_loss: 2.6940 - learning_rate: 1.0000e-05\n",
      "Epoch 25/30\n",
      "\u001b[1m329/329\u001b[0m \u001b[32m━━━━━━━━━━━━━━━━━━━━\u001b[0m\u001b[37m\u001b[0m \u001b[1m53s\u001b[0m 162ms/step - accuracy: 0.9497 - loss: 0.2682 - val_accuracy: 0.4295 - val_loss: 2.6934 - learning_rate: 1.0000e-05\n",
      "Epoch 26/30\n",
      "\u001b[1m329/329\u001b[0m \u001b[32m━━━━━━━━━━━━━━━━━━━━\u001b[0m\u001b[37m\u001b[0m \u001b[1m53s\u001b[0m 162ms/step - accuracy: 0.9503 - loss: 0.2651 - val_accuracy: 0.4293 - val_loss: 2.6995 - learning_rate: 1.0000e-05\n",
      "Epoch 27/30\n",
      "\u001b[1m329/329\u001b[0m \u001b[32m━━━━━━━━━━━━━━━━━━━━\u001b[0m\u001b[37m\u001b[0m \u001b[1m53s\u001b[0m 162ms/step - accuracy: 0.9516 - loss: 0.2646 - val_accuracy: 0.4300 - val_loss: 2.6963 - learning_rate: 1.0000e-05\n",
      "Epoch 27: early stopping\n",
      "Restoring model weights from the end of the best epoch: 22.\n",
      "\n",
      "Ulepszony model został zapisany.\n"
     ]
    }
   ],
   "source": [
    "# === SEKCJA 4: BUDOWA I TRENING ULEPSZONEJ SIECI NEURONOWEJ ===\n",
    "from tensorflow.keras.layers import Input, Embedding, Flatten, Concatenate, Dense, Dropout, BatchNormalization\n",
    "from tensorflow.keras.models import Model\n",
    "from tensorflow.keras.callbacks import EarlyStopping, ReduceLROnPlateau\n",
    "from tensorflow.keras.optimizers import Adam\n",
    "from sklearn.model_selection import train_test_split\n",
    "\n",
    "# --- Krok 4a: Definicja Ulepszonej Architektury ---\n",
    "input_text = Input(shape=(MAX_LEN,), name='text_input')\n",
    "input_numeric = Input(shape=(X_numeric.shape[1],), name='numeric_input')\n",
    "input_categorical = Input(shape=(X_categorical.shape[1],), name='categorical_input')\n",
    "\n",
    "# Warstwa Embedding trenowana od zera, ale z większą pojemnością\n",
    "embedding_layer = Embedding(input_dim=MAX_WORDS, output_dim=256, name='embedding')(input_text)\n",
    "flatten_layer = Flatten()(embedding_layer)\n",
    "\n",
    "# Połączenie wszystkich trzech ścieżek\n",
    "concatenated = Concatenate()([flatten_layer, input_numeric, input_categorical])\n",
    "\n",
    "# Głębsza i bardziej \"pojemna\" sieć\n",
    "x = Dense(1024, activation='relu')(concatenated)\n",
    "x = BatchNormalization()(x)\n",
    "x = Dropout(0.5)(x)\n",
    "x = Dense(512, activation='relu')(x)\n",
    "x = BatchNormalization()(x)\n",
    "x = Dropout(0.5)(x)\n",
    "x = Dense(256, activation='relu')(x)\n",
    "x = BatchNormalization()(x)\n",
    "x = Dropout(0.5)(x)\n",
    "output_layer = Dense(num_classes, activation='softmax')(x)\n",
    "\n",
    "model_v3 = Model(inputs=[input_text, input_numeric, input_categorical], outputs=output_layer)\n",
    "\n",
    "# --- Krok 4b: Ulepszony Optymalizator i Kompilacja ---\n",
    "# Używamy Adama z niższym współczynnikiem uczenia dla stabilniejszego treningu\n",
    "optimizer = Adam(learning_rate=0.0005)\n",
    "model_v3.compile(optimizer=optimizer, loss='sparse_categorical_crossentropy', metrics=['accuracy'])\n",
    "model_v3.summary()\n",
    "\n",
    "# --- Krok 4c: Podział na zbiory ---\n",
    "X_train_text, X_val_text, X_train_num, X_val_num, X_train_cat, X_val_cat, y_train, y_val = train_test_split(\n",
    "    X_text, X_numeric, X_categorical, y_encoded, test_size=0.2, random_state=42, stratify=y_encoded\n",
    ")\n",
    "\n",
    "# --- Krok 4d: Trening z dodatkowym callbackiem ---\n",
    "early_stopping = EarlyStopping(monitor='val_accuracy', patience=5, restore_best_weights=True, verbose=1)\n",
    "# Zmniejszaj współczynnik uczenia, jeśli model utknie w miejscu\n",
    "reduce_lr = ReduceLROnPlateau(monitor='val_loss', factor=0.2, patience=2, min_lr=0.00001, verbose=1)\n",
    "\n",
    "print(\"\\nRozpoczynam zaawansowany trening ulepszonej sieci...\")\n",
    "history = model_v3.fit(\n",
    "    [X_train_text, X_train_num, X_train_cat], y_train,\n",
    "    validation_data=([X_val_text, X_val_num, X_val_cat], y_val),\n",
    "    epochs=30, # Dajemy więcej czasu\n",
    "    batch_size=128, # Mniejszy batch size\n",
    "    callbacks=[early_stopping, reduce_lr]\n",
    ")\n",
    "\n",
    "model_v3.save('street_predictor_v3_optimized.keras')\n",
    "print(\"\\nUlepszony model został zapisany.\")"
   ]
  },
  {
   "cell_type": "code",
   "execution_count": 5,
   "id": "a366dce0-3822-403b-bda9-5ce6e2440f07",
   "metadata": {},
   "outputs": [
    {
     "data": {
      "image/png": "[encoded data removed]",
      "text/plain": [
       "<Figure size 1200x500 with 2 Axes>"
      ]
     },
     "metadata": {},
     "output_type": "display_data"
    }
   ],
   "source": [
    "# === SEKCJA 5: WIZUALIZACJA WYNIKÓW TRENINGU ===\n",
    "\n",
    "# Wykres dokładności\n",
    "plt.figure(figsize=(12, 5))\n",
    "plt.subplot(1, 2, 1)\n",
    "plt.plot(history.history['accuracy'], label='Dokładność treningowa')\n",
    "plt.plot(history.history['val_accuracy'], label='Dokładność walidacyjna')\n",
    "plt.title('Dokładność modelu')\n",
    "plt.xlabel('Epoka')\n",
    "plt.ylabel('Dokładność')\n",
    "plt.legend()\n",
    "\n",
    "# Wykres straty\n",
    "plt.subplot(1, 2, 2)\n",
    "plt.plot(history.history['loss'], label='Strata treningowa')\n",
    "plt.plot(history.history['val_loss'], label='Strata walidacyjna')\n",
    "plt.title('Strata modelu')\n",
    "plt.xlabel('Epoka')\n",
    "plt.ylabel('Strata')\n",
    "plt.legend()\n",
    "\n",
    "plt.tight_layout()\n",
    "plt.show()"
   ]
  },
  {
   "cell_type": "code",
   "execution_count": null,
   "id": "b4abc504-7079-43c1-aa6d-ac865db24646",
   "metadata": {},
   "outputs": [],
   "source": []
  },
  {
   "cell_type": "code",
   "execution_count": null,
   "id": "87fea7ca-e237-45d5-8fa2-901b843acbd1",
   "metadata": {},
   "outputs": [],
   "source": []
  },
  {
   "cell_type": "code",
   "execution_count": null,
   "id": "7a0fceaf-6ca4-49da-b737-739991e8b4f3",
   "metadata": {},
   "outputs": [],
   "source": []
  }
 ],
 "metadata": {
  "kernelspec": {
   "display_name": "Python 3 (ipykernel)",
   "language": "python",
   "name": "python3"
  },
  "language_info": {
   "codemirror_mode": {
    "name": "ipython",
    "version": 3
   },
   "file_extension": ".py",
   "mimetype": "text/x-python",
   "name": "python",
   "nbconvert_exporter": "python",
   "pygments_lexer": "ipython3",
   "version": "3.11.11"
  }
 },
 "nbformat": 4,
 "nbformat_minor": 5
}
