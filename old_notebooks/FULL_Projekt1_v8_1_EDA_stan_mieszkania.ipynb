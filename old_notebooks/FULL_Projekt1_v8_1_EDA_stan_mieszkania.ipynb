{
 "cells": [
  {
   "cell_type": "markdown",
   "id": "192d345d-70ba-427a-8507-12da45ac4f7e",
   "metadata": {},
   "source": [
    "# PROJEKT MODELU KLASYFIKACYJNEGO PRZEWIDYWANIA STANU MIESZKAŃ NA PODSTAWIE #"
   ]
  },
  {
   "cell_type": "markdown",
   "id": "94e1019a-8f97-4563-89c8-75107b8f9b4f",
   "metadata": {},
   "source": [
    "## Extra Trees Classifier ##"
   ]
  },
  {
   "cell_type": "markdown",
   "id": "baaa0a1b-d8b1-440c-a0cd-90946f1bce76",
   "metadata": {},
   "source": [
    "### kwiecień 2025"
   ]
  },
  {
   "cell_type": "code",
   "execution_count": 58,
   "id": "12c8f983-8bfb-4166-838c-2fe501cf5159",
   "metadata": {},
   "outputs": [],
   "source": [
    "import pandas as pd\n",
    "import os\n",
    "from pycaret.classification import setup, create_model, tune_model, predict_model, evaluate_model, pull\n",
    "from pycaret.classification import *\n",
    "from sklearn.feature_extraction.text import CountVectorizer\n",
    "from sklearn.utils import resample\n",
    "from sklearn.metrics import classification_report, confusion_matrix, f1_score, recall_score\n",
    "from imblearn.over_sampling import SMOTE\n",
    "import pymysql\n",
    "from sqlalchemy import create_engine\n",
    "import numpy as np\n",
    "from scipy.stats import skewnorm\n",
    "import matplotlib.pyplot as plt\n",
    "import seaborn as sns\n",
    "from sklearn.feature_extraction.text import TfidfVectorizer\n",
    "import sqlite3"
   ]
  },
  {
   "cell_type": "code",
   "execution_count": null,
   "id": "4a94ced2-bfe0-41cb-8bd9-23f6573efa69",
   "metadata": {},
   "outputs": [],
   "source": []
  },
  {
   "cell_type": "markdown",
   "id": "3f33f9a7-2c0f-4716-b00c-19d4bbba6d0a",
   "metadata": {},
   "source": [
    "# Blok z metodą OvR uruchamiać z tego miejsca"
   ]
  },
  {
   "cell_type": "markdown",
   "id": "9c1bcdb2-bf30-4605-ad8f-eca55506f936",
   "metadata": {},
   "source": [
    "## Uwaga nie zapomnieć o imporcie z pierwszej linijki"
   ]
  },
  {
   "cell_type": "code",
   "execution_count": 27,
   "id": "02698c4a-2525-4842-8723-7e8b44207560",
   "metadata": {},
   "outputs": [],
   "source": [
    "df=pd.read_csv(\"sale_2024_0.csv\")"
   ]
  },
  {
   "cell_type": "code",
   "execution_count": 28,
   "id": "c00f0519-662c-4fb7-a276-16ae331e30b2",
   "metadata": {},
   "outputs": [],
   "source": [
    "df_2 = df[~((df['Link'].str.contains('otodom', case=False, na=False)) & \n",
    "                              (df['BuildingCondition'] == 'AFTER_RENOVATION'))]"
   ]
  },
  {
   "cell_type": "code",
   "execution_count": 29,
   "id": "eef36ed8-2d6a-4037-9475-a40a7cc8668f",
   "metadata": {},
   "outputs": [],
   "source": [
    "Q1 = df_2[\"Price\"].quantile(0.25)\n",
    "Q3 = df_2[\"Price\"].quantile(0.75)\n",
    "IQR = Q3 - Q1\n",
    "\n",
    "lower_bound = Q1 - 1.5 * IQR\n",
    "upper_bound = Q3 + 1.5 * IQR\n",
    "\n",
    "df_prep_p = df_2[~((df_2[\"Price\"] < lower_bound) | (df_2[\"Price\"] > upper_bound))]"
   ]
  },
  {
   "cell_type": "code",
   "execution_count": 30,
   "id": "20cef52c-88d7-4db2-8ae8-c98e0306ccfe",
   "metadata": {},
   "outputs": [],
   "source": [
    "Q1 = df_prep_p[\"PricePerSquareMeter\"].quantile(0.25)\n",
    "Q3 = df_prep_p[\"PricePerSquareMeter\"].quantile(0.75)\n",
    "IQR = Q3 - Q1\n",
    "\n",
    "lower_bound = Q1 - 1.5 * IQR\n",
    "upper_bound = Q3 + 1.5 * IQR\n",
    "\n",
    "df_prep_a = df_prep_p[~((df_prep_p[\"PricePerSquareMeter\"] < lower_bound) | (df_prep_p[\"PricePerSquareMeter\"] > upper_bound))]"
   ]
  },
  {
   "cell_type": "code",
   "execution_count": 31,
   "id": "dc905c52-a7a4-4609-80d4-3d3923de281d",
   "metadata": {},
   "outputs": [],
   "source": [
    "Q1 = df_prep_a[\"Area\"].quantile(0.25)\n",
    "Q3 = df_prep_a[\"Area\"].quantile(0.75)\n",
    "IQR = Q3 - Q1\n",
    "\n",
    "lower_bound = Q1 - 1.5 * IQR\n",
    "upper_bound = Q3 + 1.5 * IQR\n",
    "\n",
    "df_prepared2 = df_prep_a[~((df_prep_a[\"Area\"] < lower_bound) | (df_prep_a[\"Area\"] > upper_bound))]"
   ]
  },
  {
   "cell_type": "code",
   "execution_count": 32,
   "id": "4be14842-41b1-4a12-af54-65c7b3227f91",
   "metadata": {},
   "outputs": [],
   "source": [
    "df_prepared3=df_prepared2.dropna(subset=['BuildingCondition'])"
   ]
  },
  {
   "cell_type": "code",
   "execution_count": 33,
   "id": "d58565b7-5c2d-4cb8-bdf4-18b5a652ebf1",
   "metadata": {},
   "outputs": [],
   "source": [
    "df_prepared3.loc[df_prepared3['TypeOfMarket'] == 'pierwotny', 'BuildingCondition'] = 'DEVELOPER_STATE'"
   ]
  },
  {
   "cell_type": "code",
   "execution_count": 34,
   "id": "cfeed590-e840-4e44-a590-9c251c50645c",
   "metadata": {},
   "outputs": [],
   "source": [
    "df_prepared3['BuiltYear'] = pd.to_datetime(df_prepared3['BuiltYear'], format='%Y', errors='coerce')"
   ]
  },
  {
   "cell_type": "code",
   "execution_count": 35,
   "id": "3cd1de14-1165-410f-9ece-9ff3a28833f4",
   "metadata": {},
   "outputs": [],
   "source": [
    "df_prepared3.loc[df_prepared3['BuiltYear'].dt.year >= 2025, 'BuildingCondition'] = 'DEVELOPER_STATE'"
   ]
  },
  {
   "cell_type": "code",
   "execution_count": 36,
   "id": "ef1a58a7-65b2-4abb-a3f2-2e8f4debea18",
   "metadata": {},
   "outputs": [],
   "source": [
    "df_prepared3['BuiltYear'] = pd.to_datetime(df_prepared3['BuiltYear'], format='%Y', errors='coerce')"
   ]
  },
  {
   "cell_type": "code",
   "execution_count": 37,
   "id": "085251da-3d14-4cf5-be99-89f6f3c939e2",
   "metadata": {},
   "outputs": [
    {
     "data": {
      "text/plain": [
       "array(['DEVELOPER_STATE', 'AFTER_RENOVATION', 'GOOD', 'FOR_RENOVATION'],\n",
       "      dtype=object)"
      ]
     },
     "execution_count": 37,
     "metadata": {},
     "output_type": "execute_result"
    }
   ],
   "source": [
    "unique_ctype=df_prepared3['BuildingCondition'].unique()\n",
    "\n",
    "unique_ctype"
   ]
  },
  {
   "cell_type": "code",
   "execution_count": 38,
   "id": "9949c70b-3b30-4746-b4df-8e3ef873550d",
   "metadata": {},
   "outputs": [
    {
     "data": {
      "text/plain": [
       "BuildingCondition\n",
       "DEVELOPER_STATE     0.606077\n",
       "AFTER_RENOVATION    0.183006\n",
       "FOR_RENOVATION      0.108469\n",
       "GOOD                0.102449\n",
       "Name: proportion, dtype: float64"
      ]
     },
     "execution_count": 38,
     "metadata": {},
     "output_type": "execute_result"
    }
   ],
   "source": [
    "df_prepared3[\"BuildingCondition\"].value_counts(normalize=True)"
   ]
  },
  {
   "cell_type": "code",
   "execution_count": 39,
   "id": "29ac9438-00f7-4bf0-94ab-271dc7616a94",
   "metadata": {},
   "outputs": [],
   "source": [
    "# DODANIE ZBALANSOWANIA\n",
    "# Sprawdź ile rekordów ma każda klasa\n",
    "class_counts = df_prepared3['BuildingCondition'].value_counts()\n",
    "min_count = class_counts.min()\n",
    "\n",
    "# Tworzymy zbalansowane próbki dla każdej klasy\n",
    "dfs = []\n",
    "for condition in class_counts.index:\n",
    "    df_condition = df_prepared3[df_prepared3['BuildingCondition'] == condition]\n",
    "    df_condition_downsampled = resample(df_condition, \n",
    "                                        replace=False, \n",
    "                                        n_samples=min_count, \n",
    "                                        random_state=42)\n",
    "    dfs.append(df_condition_downsampled)\n",
    "\n",
    "# Łączymy wszystkie klasy w jeden zbalansowany DataFrame\n",
    "df_balanced = pd.concat(dfs).reset_index(drop=True)"
   ]
  },
  {
   "cell_type": "code",
   "execution_count": 40,
   "id": "4bfe88fa-73c5-49a3-a498-ed55faac2165",
   "metadata": {},
   "outputs": [
    {
     "data": {
      "text/plain": [
       "BuildingCondition\n",
       "DEVELOPER_STATE     0.25\n",
       "AFTER_RENOVATION    0.25\n",
       "FOR_RENOVATION      0.25\n",
       "GOOD                0.25\n",
       "Name: proportion, dtype: float64"
      ]
     },
     "execution_count": 40,
     "metadata": {},
     "output_type": "execute_result"
    }
   ],
   "source": [
    "df_balanced[\"BuildingCondition\"].value_counts(normalize=True)"
   ]
  },
  {
   "cell_type": "code",
   "execution_count": 41,
   "id": "b853c700-89dd-4222-9d03-185602bcdd6c",
   "metadata": {},
   "outputs": [
    {
     "data": {
      "text/html": [
       "<div>\n",
       "<style scoped>\n",
       "    .dataframe tbody tr th:only-of-type {\n",
       "        vertical-align: middle;\n",
       "    }\n",
       "\n",
       "    .dataframe tbody tr th {\n",
       "        vertical-align: top;\n",
       "    }\n",
       "\n",
       "    .dataframe thead th {\n",
       "        text-align: right;\n",
       "    }\n",
       "</style>\n",
       "<table border=\"1\" class=\"dataframe\">\n",
       "  <thead>\n",
       "    <tr style=\"text-align: right;\">\n",
       "      <th></th>\n",
       "      <th>SaleId</th>\n",
       "      <th>OriginalId</th>\n",
       "      <th>PortalId</th>\n",
       "      <th>Title</th>\n",
       "      <th>Description</th>\n",
       "      <th>Area</th>\n",
       "      <th>Price</th>\n",
       "      <th>OfferPrice</th>\n",
       "      <th>RealPriceAfterRenovation</th>\n",
       "      <th>OriginalPrice</th>\n",
       "      <th>...</th>\n",
       "      <th>Archive</th>\n",
       "      <th>Location</th>\n",
       "      <th>VoivodeshipNumber</th>\n",
       "      <th>CountyNumber</th>\n",
       "      <th>CommunityNumber</th>\n",
       "      <th>KindNumber</th>\n",
       "      <th>RegionNumber</th>\n",
       "      <th>SubRegionNumber</th>\n",
       "      <th>StreetNumber</th>\n",
       "      <th>EncryptedId</th>\n",
       "    </tr>\n",
       "  </thead>\n",
       "  <tbody>\n",
       "    <tr>\n",
       "      <th>0</th>\n",
       "      <td>4266367</td>\n",
       "      <td>NaN</td>\n",
       "      <td>3</td>\n",
       "      <td>Nowoczesne mieszkania w sercu Łodzi Manufaktura</td>\n",
       "      <td>Kup mieszkanie bezpośrednio od Dewelopera! Pra...</td>\n",
       "      <td>52.00</td>\n",
       "      <td>459000.0</td>\n",
       "      <td>553361.0</td>\n",
       "      <td>575637.67</td>\n",
       "      <td>NaN</td>\n",
       "      <td>...</td>\n",
       "      <td>NaN</td>\n",
       "      <td>Łódzkie, Łódź, Łódź-śródmieście, Śródmieście</td>\n",
       "      <td>10.0</td>\n",
       "      <td>61.0</td>\n",
       "      <td>5.0</td>\n",
       "      <td>9.0</td>\n",
       "      <td>958447.0</td>\n",
       "      <td>NaN</td>\n",
       "      <td>NaN</td>\n",
       "      <td>dKKXZ1uFQJTb8QJJOLnifO8e0oyGIwz8-GAUcMCH2_k=</td>\n",
       "    </tr>\n",
       "    <tr>\n",
       "      <th>1</th>\n",
       "      <td>4390394</td>\n",
       "      <td>NaN</td>\n",
       "      <td>3</td>\n",
       "      <td>3-pokojowe mieszkanie 60m2 + loggia</td>\n",
       "      <td>3-pokojowe mieszkanie numer 8-A008 na 2. piętr...</td>\n",
       "      <td>60.29</td>\n",
       "      <td>NaN</td>\n",
       "      <td>NaN</td>\n",
       "      <td>NaN</td>\n",
       "      <td>NaN</td>\n",
       "      <td>...</td>\n",
       "      <td>NaN</td>\n",
       "      <td>Mazowieckie, Warszawa, Ursus, Gołąbki, Ul. Kaz...</td>\n",
       "      <td>14.0</td>\n",
       "      <td>65.0</td>\n",
       "      <td>12.0</td>\n",
       "      <td>8.0</td>\n",
       "      <td>918666.0</td>\n",
       "      <td>NaN</td>\n",
       "      <td>32907.0</td>\n",
       "      <td>oydtk6bW4a5uEscrvIRGJ2DSFhxJitH2UJuyXKHVWIY=</td>\n",
       "    </tr>\n",
       "    <tr>\n",
       "      <th>2</th>\n",
       "      <td>4378127</td>\n",
       "      <td>NaN</td>\n",
       "      <td>3</td>\n",
       "      <td>1 pokojowe (możliwość wydzielenia 2) |Czyżyny</td>\n",
       "      <td>Nowe mieszkanie z balkonem - Kraków Czyżyny Na...</td>\n",
       "      <td>32.62</td>\n",
       "      <td>515409.0</td>\n",
       "      <td>490700.0</td>\n",
       "      <td>707000.00</td>\n",
       "      <td>NaN</td>\n",
       "      <td>...</td>\n",
       "      <td>NaN</td>\n",
       "      <td>Małopolskie, Kraków, Kraków-nowa Huta, Łęg, Ul...</td>\n",
       "      <td>12.0</td>\n",
       "      <td>61.0</td>\n",
       "      <td>3.0</td>\n",
       "      <td>9.0</td>\n",
       "      <td>950813.0</td>\n",
       "      <td>NaN</td>\n",
       "      <td>60055.0</td>\n",
       "      <td>xGLchc43KA01zKcK3z0v4oaCdEfvBnZExzKfPS9GXW0=</td>\n",
       "    </tr>\n",
       "    <tr>\n",
       "      <th>3</th>\n",
       "      <td>4346014</td>\n",
       "      <td>NaN</td>\n",
       "      <td>3</td>\n",
       "      <td>‼️Odbierz dziś duży Rabat -&gt; 2 pok + Garaż‼️</td>\n",
       "      <td>Nowe mieszkania, od dewelopera, bez podatku PC...</td>\n",
       "      <td>40.24</td>\n",
       "      <td>431156.0</td>\n",
       "      <td>428409.0</td>\n",
       "      <td>431459.00</td>\n",
       "      <td>428020.0</td>\n",
       "      <td>...</td>\n",
       "      <td>NaN</td>\n",
       "      <td>Pomorskie, Gdynia, Wiczlino</td>\n",
       "      <td>22.0</td>\n",
       "      <td>62.0</td>\n",
       "      <td>1.0</td>\n",
       "      <td>1.0</td>\n",
       "      <td>934429.0</td>\n",
       "      <td>NaN</td>\n",
       "      <td>NaN</td>\n",
       "      <td>5sT4Ar2swa4Sj0jt-GLT-zY_qkdVfWyqsbDtbsFdaZc=</td>\n",
       "    </tr>\n",
       "    <tr>\n",
       "      <th>4</th>\n",
       "      <td>4407014</td>\n",
       "      <td>NaN</td>\n",
       "      <td>3</td>\n",
       "      <td>Mieszkanie Staroniwska Ogród</td>\n",
       "      <td>Zapraszamy do odkrycia naszej najnowszej inwes...</td>\n",
       "      <td>54.66</td>\n",
       "      <td>577300.0</td>\n",
       "      <td>624750.0</td>\n",
       "      <td>702500.00</td>\n",
       "      <td>NaN</td>\n",
       "      <td>...</td>\n",
       "      <td>NaN</td>\n",
       "      <td>Podkarpackie, Rzeszów, Staroniwa</td>\n",
       "      <td>18.0</td>\n",
       "      <td>63.0</td>\n",
       "      <td>1.0</td>\n",
       "      <td>1.0</td>\n",
       "      <td>974245.0</td>\n",
       "      <td>NaN</td>\n",
       "      <td>NaN</td>\n",
       "      <td>0K6mgKFRS_FZAHJ2o8bTsjY_qkdVfWyqsbDtbsFdaZc=</td>\n",
       "    </tr>\n",
       "    <tr>\n",
       "      <th>...</th>\n",
       "      <td>...</td>\n",
       "      <td>...</td>\n",
       "      <td>...</td>\n",
       "      <td>...</td>\n",
       "      <td>...</td>\n",
       "      <td>...</td>\n",
       "      <td>...</td>\n",
       "      <td>...</td>\n",
       "      <td>...</td>\n",
       "      <td>...</td>\n",
       "      <td>...</td>\n",
       "      <td>...</td>\n",
       "      <td>...</td>\n",
       "      <td>...</td>\n",
       "      <td>...</td>\n",
       "      <td>...</td>\n",
       "      <td>...</td>\n",
       "      <td>...</td>\n",
       "      <td>...</td>\n",
       "      <td>...</td>\n",
       "      <td>...</td>\n",
       "    </tr>\n",
       "    <tr>\n",
       "      <th>23207</th>\n",
       "      <td>4365731</td>\n",
       "      <td>NaN</td>\n",
       "      <td>17</td>\n",
       "      <td>Apartament, ul. Saperska</td>\n",
       "      <td>LEGNICA, ULICA SAPERSKA 1. 2 pokoje, balkon, p...</td>\n",
       "      <td>41.25</td>\n",
       "      <td>395000.0</td>\n",
       "      <td>NaN</td>\n",
       "      <td>NaN</td>\n",
       "      <td>NaN</td>\n",
       "      <td>...</td>\n",
       "      <td>NaN</td>\n",
       "      <td>Dolnośląskie, Legnica, Tarninów, Ul. Saperska</td>\n",
       "      <td>2.0</td>\n",
       "      <td>62.0</td>\n",
       "      <td>1.0</td>\n",
       "      <td>1.0</td>\n",
       "      <td>1067598.0</td>\n",
       "      <td>NaN</td>\n",
       "      <td>19509.0</td>\n",
       "      <td>30wxJBw-tetEqvu_DkzJj0m9CVG6yYs9U2KBME0Psic=</td>\n",
       "    </tr>\n",
       "    <tr>\n",
       "      <th>23208</th>\n",
       "      <td>4402007</td>\n",
       "      <td>NaN</td>\n",
       "      <td>17</td>\n",
       "      <td>Mieszkanie, ul. Modzelewskiego</td>\n",
       "      <td>Fenomenalnie wykończone, po remoncie mieszkani...</td>\n",
       "      <td>57.00</td>\n",
       "      <td>945000.0</td>\n",
       "      <td>829000.0</td>\n",
       "      <td>916000.00</td>\n",
       "      <td>NaN</td>\n",
       "      <td>...</td>\n",
       "      <td>NaN</td>\n",
       "      <td>Mazowieckie, Warszawa, Mokotów, Wierzbno, Ul. ...</td>\n",
       "      <td>14.0</td>\n",
       "      <td>65.0</td>\n",
       "      <td>5.0</td>\n",
       "      <td>8.0</td>\n",
       "      <td>918577.0</td>\n",
       "      <td>NaN</td>\n",
       "      <td>13192.0</td>\n",
       "      <td>adVPXWEdw4iBsck2kiqyTSxEZaoqZA0WSjJKH4A5guQ=</td>\n",
       "    </tr>\n",
       "    <tr>\n",
       "      <th>23209</th>\n",
       "      <td>4402899</td>\n",
       "      <td>NaN</td>\n",
       "      <td>17</td>\n",
       "      <td>Mieszkanie, ul. Sępa-Szarzyńskiego</td>\n",
       "      <td>Oferta na wyłączność! Nie znajdziecie jej pańs...</td>\n",
       "      <td>67.00</td>\n",
       "      <td>703500.0</td>\n",
       "      <td>849999.0</td>\n",
       "      <td>1114000.00</td>\n",
       "      <td>NaN</td>\n",
       "      <td>...</td>\n",
       "      <td>NaN</td>\n",
       "      <td>Dolnośląskie, Wrocław, Wrocław-śródmieście, Pl...</td>\n",
       "      <td>2.0</td>\n",
       "      <td>64.0</td>\n",
       "      <td>6.0</td>\n",
       "      <td>9.0</td>\n",
       "      <td>986998.0</td>\n",
       "      <td>NaN</td>\n",
       "      <td>19733.0</td>\n",
       "      <td>tAmtgaq_mFTFs4A7O3FG0JgtwTGeq42piasdfG4vjEE=</td>\n",
       "    </tr>\n",
       "    <tr>\n",
       "      <th>23210</th>\n",
       "      <td>4408927</td>\n",
       "      <td>NaN</td>\n",
       "      <td>32</td>\n",
       "      <td>Sprzedam mieszkanie Jasło Jasło</td>\n",
       "      <td>Sprzedam mieszkanie do remontu w centrum Jasła...</td>\n",
       "      <td>49.00</td>\n",
       "      <td>250.0</td>\n",
       "      <td>265000.0</td>\n",
       "      <td>359966.67</td>\n",
       "      <td>NaN</td>\n",
       "      <td>...</td>\n",
       "      <td>NaN</td>\n",
       "      <td>Podkarpackie, Jasielski, Jasło, Ul. Adama Mick...</td>\n",
       "      <td>18.0</td>\n",
       "      <td>5.0</td>\n",
       "      <td>1.0</td>\n",
       "      <td>1.0</td>\n",
       "      <td>953059.0</td>\n",
       "      <td>NaN</td>\n",
       "      <td>12740.0</td>\n",
       "      <td>WTInZhDcqXMSLo2DspXxioaCdEfvBnZExzKfPS9GXW0=</td>\n",
       "    </tr>\n",
       "    <tr>\n",
       "      <th>23211</th>\n",
       "      <td>4266638</td>\n",
       "      <td>NaN</td>\n",
       "      <td>4</td>\n",
       "      <td>2-pokojowe mieszkanie na sprzedaż</td>\n",
       "      <td>Na sprzedaż przytulne, 2-pokojowe mieszkanie o...</td>\n",
       "      <td>42.50</td>\n",
       "      <td>245000.0</td>\n",
       "      <td>NaN</td>\n",
       "      <td>NaN</td>\n",
       "      <td>NaN</td>\n",
       "      <td>...</td>\n",
       "      <td>NaN</td>\n",
       "      <td>Dolnośląskie, Złotoryjski, Złotoryja, Ul. Podwale</td>\n",
       "      <td>2.0</td>\n",
       "      <td>26.0</td>\n",
       "      <td>2.0</td>\n",
       "      <td>1.0</td>\n",
       "      <td>954219.0</td>\n",
       "      <td>NaN</td>\n",
       "      <td>16874.0</td>\n",
       "      <td>fg3M-z_wsQgBioAKxQXK9z4_dpxrDGt-7ptnSFX67Aw=</td>\n",
       "    </tr>\n",
       "  </tbody>\n",
       "</table>\n",
       "<p>23212 rows × 51 columns</p>\n",
       "</div>"
      ],
      "text/plain": [
       "        SaleId  OriginalId  PortalId  \\\n",
       "0      4266367         NaN         3   \n",
       "1      4390394         NaN         3   \n",
       "2      4378127         NaN         3   \n",
       "3      4346014         NaN         3   \n",
       "4      4407014         NaN         3   \n",
       "...        ...         ...       ...   \n",
       "23207  4365731         NaN        17   \n",
       "23208  4402007         NaN        17   \n",
       "23209  4402899         NaN        17   \n",
       "23210  4408927         NaN        32   \n",
       "23211  4266638         NaN         4   \n",
       "\n",
       "                                                 Title  \\\n",
       "0      Nowoczesne mieszkania w sercu Łodzi Manufaktura   \n",
       "1                  3-pokojowe mieszkanie 60m2 + loggia   \n",
       "2        1 pokojowe (możliwość wydzielenia 2) |Czyżyny   \n",
       "3         ‼️Odbierz dziś duży Rabat -> 2 pok + Garaż‼️   \n",
       "4                         Mieszkanie Staroniwska Ogród   \n",
       "...                                                ...   \n",
       "23207                         Apartament, ul. Saperska   \n",
       "23208                   Mieszkanie, ul. Modzelewskiego   \n",
       "23209               Mieszkanie, ul. Sępa-Szarzyńskiego   \n",
       "23210                  Sprzedam mieszkanie Jasło Jasło   \n",
       "23211                2-pokojowe mieszkanie na sprzedaż   \n",
       "\n",
       "                                             Description   Area     Price  \\\n",
       "0      Kup mieszkanie bezpośrednio od Dewelopera! Pra...  52.00  459000.0   \n",
       "1      3-pokojowe mieszkanie numer 8-A008 na 2. piętr...  60.29       NaN   \n",
       "2      Nowe mieszkanie z balkonem - Kraków Czyżyny Na...  32.62  515409.0   \n",
       "3      Nowe mieszkania, od dewelopera, bez podatku PC...  40.24  431156.0   \n",
       "4      Zapraszamy do odkrycia naszej najnowszej inwes...  54.66  577300.0   \n",
       "...                                                  ...    ...       ...   \n",
       "23207  LEGNICA, ULICA SAPERSKA 1. 2 pokoje, balkon, p...  41.25  395000.0   \n",
       "23208  Fenomenalnie wykończone, po remoncie mieszkani...  57.00  945000.0   \n",
       "23209  Oferta na wyłączność! Nie znajdziecie jej pańs...  67.00  703500.0   \n",
       "23210  Sprzedam mieszkanie do remontu w centrum Jasła...  49.00     250.0   \n",
       "23211  Na sprzedaż przytulne, 2-pokojowe mieszkanie o...  42.50  245000.0   \n",
       "\n",
       "       OfferPrice  RealPriceAfterRenovation  OriginalPrice  ...  Archive  \\\n",
       "0        553361.0                 575637.67            NaN  ...      NaN   \n",
       "1             NaN                       NaN            NaN  ...      NaN   \n",
       "2        490700.0                 707000.00            NaN  ...      NaN   \n",
       "3        428409.0                 431459.00       428020.0  ...      NaN   \n",
       "4        624750.0                 702500.00            NaN  ...      NaN   \n",
       "...           ...                       ...            ...  ...      ...   \n",
       "23207         NaN                       NaN            NaN  ...      NaN   \n",
       "23208    829000.0                 916000.00            NaN  ...      NaN   \n",
       "23209    849999.0                1114000.00            NaN  ...      NaN   \n",
       "23210    265000.0                 359966.67            NaN  ...      NaN   \n",
       "23211         NaN                       NaN            NaN  ...      NaN   \n",
       "\n",
       "                                                Location VoivodeshipNumber  \\\n",
       "0           Łódzkie, Łódź, Łódź-śródmieście, Śródmieście              10.0   \n",
       "1      Mazowieckie, Warszawa, Ursus, Gołąbki, Ul. Kaz...              14.0   \n",
       "2      Małopolskie, Kraków, Kraków-nowa Huta, Łęg, Ul...              12.0   \n",
       "3                            Pomorskie, Gdynia, Wiczlino              22.0   \n",
       "4                       Podkarpackie, Rzeszów, Staroniwa              18.0   \n",
       "...                                                  ...               ...   \n",
       "23207      Dolnośląskie, Legnica, Tarninów, Ul. Saperska               2.0   \n",
       "23208  Mazowieckie, Warszawa, Mokotów, Wierzbno, Ul. ...              14.0   \n",
       "23209  Dolnośląskie, Wrocław, Wrocław-śródmieście, Pl...               2.0   \n",
       "23210  Podkarpackie, Jasielski, Jasło, Ul. Adama Mick...              18.0   \n",
       "23211  Dolnośląskie, Złotoryjski, Złotoryja, Ul. Podwale               2.0   \n",
       "\n",
       "      CountyNumber CommunityNumber KindNumber RegionNumber  SubRegionNumber  \\\n",
       "0             61.0             5.0        9.0     958447.0              NaN   \n",
       "1             65.0            12.0        8.0     918666.0              NaN   \n",
       "2             61.0             3.0        9.0     950813.0              NaN   \n",
       "3             62.0             1.0        1.0     934429.0              NaN   \n",
       "4             63.0             1.0        1.0     974245.0              NaN   \n",
       "...            ...             ...        ...          ...              ...   \n",
       "23207         62.0             1.0        1.0    1067598.0              NaN   \n",
       "23208         65.0             5.0        8.0     918577.0              NaN   \n",
       "23209         64.0             6.0        9.0     986998.0              NaN   \n",
       "23210          5.0             1.0        1.0     953059.0              NaN   \n",
       "23211         26.0             2.0        1.0     954219.0              NaN   \n",
       "\n",
       "       StreetNumber                                   EncryptedId  \n",
       "0               NaN  dKKXZ1uFQJTb8QJJOLnifO8e0oyGIwz8-GAUcMCH2_k=  \n",
       "1           32907.0  oydtk6bW4a5uEscrvIRGJ2DSFhxJitH2UJuyXKHVWIY=  \n",
       "2           60055.0  xGLchc43KA01zKcK3z0v4oaCdEfvBnZExzKfPS9GXW0=  \n",
       "3               NaN  5sT4Ar2swa4Sj0jt-GLT-zY_qkdVfWyqsbDtbsFdaZc=  \n",
       "4               NaN  0K6mgKFRS_FZAHJ2o8bTsjY_qkdVfWyqsbDtbsFdaZc=  \n",
       "...             ...                                           ...  \n",
       "23207       19509.0  30wxJBw-tetEqvu_DkzJj0m9CVG6yYs9U2KBME0Psic=  \n",
       "23208       13192.0  adVPXWEdw4iBsck2kiqyTSxEZaoqZA0WSjJKH4A5guQ=  \n",
       "23209       19733.0  tAmtgaq_mFTFs4A7O3FG0JgtwTGeq42piasdfG4vjEE=  \n",
       "23210       12740.0  WTInZhDcqXMSLo2DspXxioaCdEfvBnZExzKfPS9GXW0=  \n",
       "23211       16874.0  fg3M-z_wsQgBioAKxQXK9z4_dpxrDGt-7ptnSFX67Aw=  \n",
       "\n",
       "[23212 rows x 51 columns]"
      ]
     },
     "execution_count": 41,
     "metadata": {},
     "output_type": "execute_result"
    }
   ],
   "source": [
    "df_balanced"
   ]
  },
  {
   "cell_type": "code",
   "execution_count": 42,
   "id": "16818e0d-5a34-48fa-8480-1e4c1e2a5b50",
   "metadata": {},
   "outputs": [],
   "source": [
    "polish_stopwords = [\n",
    "    'i', 'oraz', 'a', 'ale', 'czy', 'więc', 'lecz', 'że', 'to', 'z', 'na', 'do', 'po', 'przez',\n",
    "    'dla', 'bez', 'od', 'pod', 'nad', 'u', 'o', 'w', 'jak', 'tak', 'nie', 'jest', 'są', 'być',\n",
    "    'był', 'była', 'było', 'byli', 'się', 'też', 'ten', 'ta', 'to', 'ci', 'co', 'który', 'która',\n",
    "    'które', 'którzy', 'kto', 'kogo', 'czego', 'dlaczego', 'dlatego', 'tam', 'tu', 'tutaj',\n",
    "    'teraz', 'już', 'jeszcze', 'bardzo', 'może', 'muszę', 'musisz', 'można', 'trzeba', 'będzie',\n",
    "    'będą', 'by', 'aby', 'gdy', 'gdyby', 'mimo', 'choć', 'chociaż', 'nawet', 'ani', 'żeby', 'czyli'\n",
    "]"
   ]
  },
  {
   "cell_type": "code",
   "execution_count": 65,
   "id": "17c4a03b-0ec3-4d2e-8b81-c3df572cda42",
   "metadata": {},
   "outputs": [
    {
     "name": "stdout",
     "output_type": "stream",
     "text": [
      "Index(['SaleId', 'OriginalId', 'PortalId', 'Title', 'Area', 'Price',\n",
      "       'OfferPrice', 'RealPriceAfterRenovation', 'OriginalPrice',\n",
      "       'PricePerSquareMeter',\n",
      "       ...\n",
      "       'tfidf_993', 'tfidf_994', 'tfidf_995', 'tfidf_996', 'tfidf_997',\n",
      "       'tfidf_998', 'tfidf_999', 'target', 'prediction_label',\n",
      "       'prediction_score'],\n",
      "      dtype='object', length=9316)\n"
     ]
    }
   ],
   "source": [
    "print(preds.columns)"
   ]
  },
  {
   "cell_type": "code",
   "execution_count": 66,
   "id": "61016749-41ee-4505-9799-80018e01a32a",
   "metadata": {},
   "outputs": [
    {
     "name": "stdout",
     "output_type": "stream",
     "text": [
      "🧪 Stan: DEVELOPER_STATE — Target count:\n",
      "target\n",
      "0    17409\n",
      "1     5803\n",
      "Name: count, dtype: int64\n",
      "                    Description             Value\n",
      "0                    Session id              1122\n",
      "1                        Target            target\n",
      "2                   Target type            Binary\n",
      "3           Original data shape     (23212, 9314)\n",
      "4        Transformed data shape     (31336, 9312)\n",
      "5   Transformed train set shape     (24372, 9312)\n",
      "6    Transformed test set shape      (6964, 9312)\n",
      "7              Numeric features              1032\n",
      "8                 Date features                 1\n",
      "9          Categorical features                17\n",
      "10     Rows with missing values            100.0%\n",
      "11                   Preprocess              True\n",
      "12              Imputation type            simple\n",
      "13           Numeric imputation              mean\n",
      "14       Categorical imputation              mode\n",
      "15     Maximum one-hot encoding                25\n",
      "16              Encoding method              None\n",
      "17                Fix imbalance              True\n",
      "18         Fix imbalance method             SMOTE\n",
      "19               Fold Generator   StratifiedKFold\n",
      "20                  Fold Number                10\n",
      "21                     CPU Jobs                -1\n",
      "22                      Use GPU             False\n",
      "23               Log Experiment             False\n",
      "24              Experiment Name  clf-default-name\n",
      "25                          USI              c148\n"
     ]
    },
    {
     "name": "stderr",
     "output_type": "stream",
     "text": [
      "                                                                                                                       "
     ]
    },
    {
     "name": "stdout",
     "output_type": "stream",
     "text": [
      "      Accuracy     AUC  Recall  Prec.   F1  Kappa  MCC\n",
      "Fold                                                  \n",
      "0       0.7495  0.5735     0.0    0.0  0.0    0.0  0.0\n",
      "1       0.7495  0.5472     0.0    0.0  0.0    0.0  0.0\n",
      "2       0.7502  0.5947     0.0    0.0  0.0    0.0  0.0\n",
      "3       0.7502  0.5907     0.0    0.0  0.0    0.0  0.0\n",
      "4       0.0000  0.0000     0.0    0.0  0.0    0.0  0.0\n",
      "5       0.7502  0.5941     0.0    0.0  0.0    0.0  0.0\n",
      "6       0.7502  0.6369     0.0    0.0  0.0    0.0  0.0\n",
      "7       0.7502  0.6230     0.0    0.0  0.0    0.0  0.0\n",
      "8       0.7500  0.6165     0.0    0.0  0.0    0.0  0.0\n",
      "9       0.7500  0.5626     0.0    0.0  0.0    0.0  0.0\n",
      "Mean    0.6750  0.5339     0.0    0.0  0.0    0.0  0.0\n",
      "Std     0.2250  0.1799     0.0    0.0  0.0    0.0  0.0\n"
     ]
    },
    {
     "name": "stderr",
     "output_type": "stream",
     "text": [
      "Processing:  14%|██████████▎                                                             | 1/7 [00:10<01:03, 10.64s/it]"
     ]
    },
    {
     "name": "stdout",
     "output_type": "stream",
     "text": [
      "Fitting 10 folds for each of 10 candidates, totalling 100 fits\n"
     ]
    },
    {
     "name": "stderr",
     "output_type": "stream",
     "text": [
      "                                                                                                                       "
     ]
    },
    {
     "name": "stdout",
     "output_type": "stream",
     "text": [
      "Original model was better than the tuned model, hence it will be returned. NOTE: The display metrics are for the tuned model (not the original one).\n",
      "      Accuracy     AUC  Recall  Prec.   F1  Kappa  MCC\n",
      "Fold                                                  \n",
      "0       0.7495  0.9683     0.0    0.0  0.0    0.0  0.0\n",
      "1       0.7495  0.6703     0.0    0.0  0.0    0.0  0.0\n",
      "2       0.7502  0.5253     0.0    0.0  0.0    0.0  0.0\n",
      "3       0.7502  0.5172     0.0    0.0  0.0    0.0  0.0\n",
      "4       0.0000  0.0000     0.0    0.0  0.0    0.0  0.0\n",
      "5       0.7502  0.5024     0.0    0.0  0.0    0.0  0.0\n",
      "6       0.7502  0.6108     0.0    0.0  0.0    0.0  0.0\n",
      "7       0.7502  0.5160     0.0    0.0  0.0    0.0  0.0\n",
      "8       0.7500  0.9726     0.0    0.0  0.0    0.0  0.0\n",
      "9       0.7500  0.7631     0.0    0.0  0.0    0.0  0.0\n",
      "Mean    0.6750  0.6046     0.0    0.0  0.0    0.0  0.0\n",
      "Std     0.2250  0.2636     0.0    0.0  0.0    0.0  0.0\n",
      "\n",
      "📊 Ewaluacja modelu dla klasy: DEVELOPER_STATE\n",
      "                             Model  Accuracy     AUC  Recall  Prec.   F1  \\\n",
      "0  Light Gradient Boosting Machine      0.75  0.6172     0.0    0.0  0.0   \n",
      "\n",
      "   Kappa  MCC  \n",
      "0    0.0  0.0  \n",
      "Confusion Matrix:\n",
      "[[5223    0]\n",
      " [1741    0]]\n",
      "F1 Score (class=1): 0.000\n",
      "Recall (class=1): 0.000\n",
      "              precision    recall  f1-score   support\n",
      "\n",
      "           0      0.750     1.000     0.857      5223\n",
      "           1      0.000     0.000     0.000      1741\n",
      "\n",
      "    accuracy                          0.750      6964\n",
      "   macro avg      0.375     0.500     0.429      6964\n",
      "weighted avg      0.562     0.750     0.643      6964\n",
      "\n",
      "\n",
      "📊 Ewaluacja modelu dla klasy: DEVELOPER_STATE\n",
      "                             Model  Accuracy     AUC  Recall  Prec.   F1  \\\n",
      "0  Light Gradient Boosting Machine      0.75  0.6172     0.0    0.0  0.0   \n",
      "\n",
      "   Kappa  MCC  \n",
      "0    0.0  0.0  \n"
     ]
    },
    {
     "data": {
      "application/vnd.jupyter.widget-view+json": {
       "model_id": "3020350f3f2c44c28e2ba171dee51a0d",
       "version_major": 2,
       "version_minor": 0
      },
      "text/plain": [
       "interactive(children=(ToggleButtons(description='Plot Type:', icons=('',), options=(('Pipeline Plot', 'pipelin…"
      ]
     },
     "metadata": {},
     "output_type": "display_data"
    },
    {
     "name": "stdout",
     "output_type": "stream",
     "text": [
      "🧪 Stan: AFTER_RENOVATION — Target count:\n",
      "target\n",
      "0    17409\n",
      "1     5803\n",
      "Name: count, dtype: int64\n",
      "                    Description             Value\n",
      "0                    Session id              1122\n",
      "1                        Target            target\n",
      "2                   Target type            Binary\n",
      "3           Original data shape     (23212, 9314)\n",
      "4        Transformed data shape     (31336, 9312)\n",
      "5   Transformed train set shape     (24372, 9312)\n",
      "6    Transformed test set shape      (6964, 9312)\n",
      "7              Numeric features              1032\n",
      "8                 Date features                 1\n",
      "9          Categorical features                17\n",
      "10     Rows with missing values            100.0%\n",
      "11                   Preprocess              True\n",
      "12              Imputation type            simple\n",
      "13           Numeric imputation              mean\n",
      "14       Categorical imputation              mode\n",
      "15     Maximum one-hot encoding                25\n",
      "16              Encoding method              None\n",
      "17                Fix imbalance              True\n",
      "18         Fix imbalance method             SMOTE\n",
      "19               Fold Generator   StratifiedKFold\n",
      "20                  Fold Number                10\n",
      "21                     CPU Jobs                -1\n",
      "22                      Use GPU             False\n",
      "23               Log Experiment             False\n",
      "24              Experiment Name  clf-default-name\n",
      "25                          USI              8a58\n"
     ]
    },
    {
     "name": "stderr",
     "output_type": "stream",
     "text": [
      "                                                                                                                       "
     ]
    },
    {
     "name": "stdout",
     "output_type": "stream",
     "text": [
      "      Accuracy     AUC  Recall  Prec.   F1  Kappa  MCC\n",
      "Fold                                                  \n",
      "0       0.7495  0.5311     0.0    0.0  0.0    0.0  0.0\n",
      "1       0.7495  0.5175     0.0    0.0  0.0    0.0  0.0\n",
      "2       0.7502  0.5134     0.0    0.0  0.0    0.0  0.0\n",
      "3       0.7502  0.5344     0.0    0.0  0.0    0.0  0.0\n",
      "4       0.7502  0.5078     0.0    0.0  0.0    0.0  0.0\n",
      "5       0.7502  0.5064     0.0    0.0  0.0    0.0  0.0\n",
      "6       0.7502  0.5422     0.0    0.0  0.0    0.0  0.0\n",
      "7       0.7502  0.5062     0.0    0.0  0.0    0.0  0.0\n",
      "8       0.7500  0.5045     0.0    0.0  0.0    0.0  0.0\n",
      "9       0.7500  0.5018     0.0    0.0  0.0    0.0  0.0\n",
      "Mean    0.7500  0.5165     0.0    0.0  0.0    0.0  0.0\n",
      "Std     0.0002  0.0136     0.0    0.0  0.0    0.0  0.0\n"
     ]
    },
    {
     "name": "stderr",
     "output_type": "stream",
     "text": [
      "Processing:  14%|██████████▎                                                             | 1/7 [00:10<01:01, 10.25s/it]"
     ]
    },
    {
     "name": "stdout",
     "output_type": "stream",
     "text": [
      "Fitting 10 folds for each of 10 candidates, totalling 100 fits\n"
     ]
    },
    {
     "name": "stderr",
     "output_type": "stream",
     "text": [
      "                                                                                                                       "
     ]
    },
    {
     "name": "stdout",
     "output_type": "stream",
     "text": [
      "      Accuracy     AUC  Recall  Prec.      F1   Kappa     MCC\n",
      "Fold                                                         \n",
      "0       0.7495  0.6990  0.0000    0.0  0.0000  0.0000  0.0000\n",
      "1       0.7495  0.5162  0.0000    0.0  0.0000  0.0000  0.0000\n",
      "2       0.7508  0.7973  0.0025    1.0  0.0049  0.0037  0.0430\n",
      "3       0.7502  0.6759  0.0000    0.0  0.0000  0.0000  0.0000\n",
      "4       0.7502  0.5168  0.0000    0.0  0.0000  0.0000  0.0000\n",
      "5       0.7508  0.8018  0.0025    1.0  0.0049  0.0037  0.0430\n",
      "6       0.7502  0.5115  0.0000    0.0  0.0000  0.0000  0.0000\n",
      "7       0.7502  0.5034  0.0000    0.0  0.0000  0.0000  0.0000\n",
      "8       0.7500  0.5343  0.0000    0.0  0.0000  0.0000  0.0000\n",
      "9       0.7500  0.5449  0.0000    0.0  0.0000  0.0000  0.0000\n",
      "Mean    0.7501  0.6101  0.0005    0.2  0.0010  0.0007  0.0086\n",
      "Std     0.0004  0.1152  0.0010    0.4  0.0020  0.0015  0.0172\n",
      "\n",
      "📊 Ewaluacja modelu dla klasy: AFTER_RENOVATION\n",
      "[LightGBM] [Warning] feature_fraction is set=0.4, colsample_bytree=1.0 will be ignored. Current value: feature_fraction=0.4\n",
      "[LightGBM] [Warning] bagging_fraction is set=0.5, subsample=1.0 will be ignored. Current value: bagging_fraction=0.5\n",
      "[LightGBM] [Warning] bagging_freq is set=1, subsample_freq=0 will be ignored. Current value: bagging_freq=1\n",
      "[LightGBM] [Warning] feature_fraction is set=0.4, colsample_bytree=1.0 will be ignored. Current value: feature_fraction=0.4\n",
      "[LightGBM] [Warning] bagging_fraction is set=0.5, subsample=1.0 will be ignored. Current value: bagging_fraction=0.5\n",
      "[LightGBM] [Warning] bagging_freq is set=1, subsample_freq=0 will be ignored. Current value: bagging_freq=1\n",
      "                             Model  Accuracy     AUC  Recall  Prec.   F1  \\\n",
      "0  Light Gradient Boosting Machine      0.75  0.8812     0.0    0.0  0.0   \n",
      "\n",
      "   Kappa  MCC  \n",
      "0    0.0  0.0  \n",
      "Confusion Matrix:\n",
      "[[5223    0]\n",
      " [1741    0]]\n",
      "F1 Score (class=1): 0.000\n",
      "Recall (class=1): 0.000\n",
      "              precision    recall  f1-score   support\n",
      "\n",
      "           0      0.750     1.000     0.857      5223\n",
      "           1      0.000     0.000     0.000      1741\n",
      "\n",
      "    accuracy                          0.750      6964\n",
      "   macro avg      0.375     0.500     0.429      6964\n",
      "weighted avg      0.562     0.750     0.643      6964\n",
      "\n",
      "\n",
      "📊 Ewaluacja modelu dla klasy: AFTER_RENOVATION\n",
      "                             Model  Accuracy     AUC  Recall  Prec.   F1  \\\n",
      "0  Light Gradient Boosting Machine      0.75  0.8812     0.0    0.0  0.0   \n",
      "\n",
      "   Kappa  MCC  \n",
      "0    0.0  0.0  \n"
     ]
    },
    {
     "data": {
      "application/vnd.jupyter.widget-view+json": {
       "model_id": "7cafda60fc324d2e81b9d7150ace2fba",
       "version_major": 2,
       "version_minor": 0
      },
      "text/plain": [
       "interactive(children=(ToggleButtons(description='Plot Type:', icons=('',), options=(('Pipeline Plot', 'pipelin…"
      ]
     },
     "metadata": {},
     "output_type": "display_data"
    },
    {
     "name": "stdout",
     "output_type": "stream",
     "text": [
      "🧪 Stan: FOR_RENOVATION — Target count:\n",
      "target\n",
      "0    17409\n",
      "1     5803\n",
      "Name: count, dtype: int64\n",
      "                    Description             Value\n",
      "0                    Session id              1122\n",
      "1                        Target            target\n",
      "2                   Target type            Binary\n",
      "3           Original data shape     (23212, 9314)\n",
      "4        Transformed data shape     (31336, 9312)\n",
      "5   Transformed train set shape     (24372, 9312)\n",
      "6    Transformed test set shape      (6964, 9312)\n",
      "7              Numeric features              1032\n",
      "8                 Date features                 1\n",
      "9          Categorical features                17\n",
      "10     Rows with missing values            100.0%\n",
      "11                   Preprocess              True\n",
      "12              Imputation type            simple\n",
      "13           Numeric imputation              mean\n",
      "14       Categorical imputation              mode\n",
      "15     Maximum one-hot encoding                25\n",
      "16              Encoding method              None\n",
      "17                Fix imbalance              True\n",
      "18         Fix imbalance method             SMOTE\n",
      "19               Fold Generator   StratifiedKFold\n",
      "20                  Fold Number                10\n",
      "21                     CPU Jobs                -1\n",
      "22                      Use GPU             False\n",
      "23               Log Experiment             False\n",
      "24              Experiment Name  clf-default-name\n",
      "25                          USI              07ee\n"
     ]
    },
    {
     "name": "stderr",
     "output_type": "stream",
     "text": [
      "                                                                                                                       "
     ]
    },
    {
     "name": "stdout",
     "output_type": "stream",
     "text": [
      "      Accuracy     AUC  Recall  Prec.   F1  Kappa  MCC\n",
      "Fold                                                  \n",
      "0       0.7495  0.6149     0.0    0.0  0.0    0.0  0.0\n",
      "1       0.7495  0.5859     0.0    0.0  0.0    0.0  0.0\n",
      "2       0.7502  0.5109     0.0    0.0  0.0    0.0  0.0\n",
      "3       0.7502  0.5328     0.0    0.0  0.0    0.0  0.0\n",
      "4       0.7502  0.5815     0.0    0.0  0.0    0.0  0.0\n",
      "5       0.7502  0.5256     0.0    0.0  0.0    0.0  0.0\n",
      "6       0.7502  0.5270     0.0    0.0  0.0    0.0  0.0\n",
      "7       0.7502  0.5670     0.0    0.0  0.0    0.0  0.0\n",
      "8       0.7500  0.5782     0.0    0.0  0.0    0.0  0.0\n",
      "9       0.7500  0.6517     0.0    0.0  0.0    0.0  0.0\n",
      "Mean    0.7500  0.5676     0.0    0.0  0.0    0.0  0.0\n",
      "Std     0.0002  0.0422     0.0    0.0  0.0    0.0  0.0\n"
     ]
    },
    {
     "name": "stderr",
     "output_type": "stream",
     "text": [
      "Processing:  14%|██████████▎                                                             | 1/7 [00:10<01:01, 10.18s/it]"
     ]
    },
    {
     "name": "stdout",
     "output_type": "stream",
     "text": [
      "Fitting 10 folds for each of 10 candidates, totalling 100 fits\n"
     ]
    },
    {
     "name": "stderr",
     "output_type": "stream",
     "text": [
      "                                                                                                                       "
     ]
    },
    {
     "name": "stdout",
     "output_type": "stream",
     "text": [
      "Original model was better than the tuned model, hence it will be returned. NOTE: The display metrics are for the tuned model (not the original one).\n",
      "      Accuracy     AUC  Recall  Prec.   F1  Kappa  MCC\n",
      "Fold                                                  \n",
      "0       0.7495  0.5384     0.0    0.0  0.0    0.0  0.0\n",
      "1       0.7495  0.5640     0.0    0.0  0.0    0.0  0.0\n",
      "2       0.7502  0.5447     0.0    0.0  0.0    0.0  0.0\n",
      "3       0.7502  0.7741     0.0    0.0  0.0    0.0  0.0\n",
      "4       0.7502  0.5003     0.0    0.0  0.0    0.0  0.0\n",
      "5       0.7502  0.5247     0.0    0.0  0.0    0.0  0.0\n",
      "6       0.7502  0.5173     0.0    0.0  0.0    0.0  0.0\n",
      "7       0.7502  0.4958     0.0    0.0  0.0    0.0  0.0\n",
      "8       0.7500  0.5029     0.0    0.0  0.0    0.0  0.0\n",
      "9       0.7500  0.5288     0.0    0.0  0.0    0.0  0.0\n",
      "Mean    0.7500  0.5491     0.0    0.0  0.0    0.0  0.0\n",
      "Std     0.0002  0.0777     0.0    0.0  0.0    0.0  0.0\n",
      "\n",
      "📊 Ewaluacja modelu dla klasy: FOR_RENOVATION\n",
      "                             Model  Accuracy     AUC  Recall  Prec.   F1  \\\n",
      "0  Light Gradient Boosting Machine      0.75  0.4927     0.0    0.0  0.0   \n",
      "\n",
      "   Kappa  MCC  \n",
      "0    0.0  0.0  \n",
      "Confusion Matrix:\n",
      "[[5223    0]\n",
      " [1741    0]]\n",
      "F1 Score (class=1): 0.000\n",
      "Recall (class=1): 0.000\n",
      "              precision    recall  f1-score   support\n",
      "\n",
      "           0      0.750     1.000     0.857      5223\n",
      "           1      0.000     0.000     0.000      1741\n",
      "\n",
      "    accuracy                          0.750      6964\n",
      "   macro avg      0.375     0.500     0.429      6964\n",
      "weighted avg      0.562     0.750     0.643      6964\n",
      "\n",
      "\n",
      "📊 Ewaluacja modelu dla klasy: FOR_RENOVATION\n",
      "                             Model  Accuracy     AUC  Recall  Prec.   F1  \\\n",
      "0  Light Gradient Boosting Machine      0.75  0.4927     0.0    0.0  0.0   \n",
      "\n",
      "   Kappa  MCC  \n",
      "0    0.0  0.0  \n"
     ]
    },
    {
     "data": {
      "application/vnd.jupyter.widget-view+json": {
       "model_id": "6da899ed586d45e087716f7d540acc82",
       "version_major": 2,
       "version_minor": 0
      },
      "text/plain": [
       "interactive(children=(ToggleButtons(description='Plot Type:', icons=('',), options=(('Pipeline Plot', 'pipelin…"
      ]
     },
     "metadata": {},
     "output_type": "display_data"
    },
    {
     "name": "stdout",
     "output_type": "stream",
     "text": [
      "🧪 Stan: GOOD — Target count:\n",
      "target\n",
      "0    17409\n",
      "1     5803\n",
      "Name: count, dtype: int64\n",
      "                    Description             Value\n",
      "0                    Session id              1122\n",
      "1                        Target            target\n",
      "2                   Target type            Binary\n",
      "3           Original data shape     (23212, 9314)\n",
      "4        Transformed data shape     (31336, 9312)\n",
      "5   Transformed train set shape     (24372, 9312)\n",
      "6    Transformed test set shape      (6964, 9312)\n",
      "7              Numeric features              1032\n",
      "8                 Date features                 1\n",
      "9          Categorical features                17\n",
      "10     Rows with missing values            100.0%\n",
      "11                   Preprocess              True\n",
      "12              Imputation type            simple\n",
      "13           Numeric imputation              mean\n",
      "14       Categorical imputation              mode\n",
      "15     Maximum one-hot encoding                25\n",
      "16              Encoding method              None\n",
      "17                Fix imbalance              True\n",
      "18         Fix imbalance method             SMOTE\n",
      "19               Fold Generator   StratifiedKFold\n",
      "20                  Fold Number                10\n",
      "21                     CPU Jobs                -1\n",
      "22                      Use GPU             False\n",
      "23               Log Experiment             False\n",
      "24              Experiment Name  clf-default-name\n",
      "25                          USI              49bf\n"
     ]
    },
    {
     "name": "stderr",
     "output_type": "stream",
     "text": [
      "                                                                                                                       "
     ]
    },
    {
     "name": "stdout",
     "output_type": "stream",
     "text": [
      "      Accuracy     AUC  Recall  Prec.   F1  Kappa  MCC\n",
      "Fold                                                  \n",
      "0       0.7495  0.5645     0.0    0.0  0.0    0.0  0.0\n",
      "1       0.7495  0.5345     0.0    0.0  0.0    0.0  0.0\n",
      "2       0.7502  0.5186     0.0    0.0  0.0    0.0  0.0\n",
      "3       0.7502  0.5193     0.0    0.0  0.0    0.0  0.0\n",
      "4       0.7502  0.5774     0.0    0.0  0.0    0.0  0.0\n",
      "5       0.7502  0.5313     0.0    0.0  0.0    0.0  0.0\n",
      "6       0.7502  0.5440     0.0    0.0  0.0    0.0  0.0\n",
      "7       0.7502  0.5008     0.0    0.0  0.0    0.0  0.0\n",
      "8       0.7500  0.5423     0.0    0.0  0.0    0.0  0.0\n",
      "9       0.7500  0.5590     0.0    0.0  0.0    0.0  0.0\n",
      "Mean    0.7500  0.5392     0.0    0.0  0.0    0.0  0.0\n",
      "Std     0.0002  0.0221     0.0    0.0  0.0    0.0  0.0\n"
     ]
    },
    {
     "name": "stderr",
     "output_type": "stream",
     "text": [
      "Processing:  14%|██████████▎                                                             | 1/7 [00:11<01:08, 11.47s/it]"
     ]
    },
    {
     "name": "stdout",
     "output_type": "stream",
     "text": [
      "Fitting 10 folds for each of 10 candidates, totalling 100 fits\n"
     ]
    },
    {
     "name": "stderr",
     "output_type": "stream",
     "text": [
      "                                                                                                                       "
     ]
    },
    {
     "name": "stdout",
     "output_type": "stream",
     "text": [
      "Original model was better than the tuned model, hence it will be returned. NOTE: The display metrics are for the tuned model (not the original one).\n",
      "      Accuracy     AUC  Recall  Prec.   F1  Kappa  MCC\n",
      "Fold                                                  \n",
      "0       0.7495  0.5127     0.0    0.0  0.0    0.0  0.0\n",
      "1       0.7495  0.5085     0.0    0.0  0.0    0.0  0.0\n",
      "2       0.7502  0.6199     0.0    0.0  0.0    0.0  0.0\n",
      "3       0.7502  0.5094     0.0    0.0  0.0    0.0  0.0\n",
      "4       0.7502  0.5097     0.0    0.0  0.0    0.0  0.0\n",
      "5       0.7502  0.6254     0.0    0.0  0.0    0.0  0.0\n",
      "6       0.7502  0.5149     0.0    0.0  0.0    0.0  0.0\n",
      "7       0.7502  0.5068     0.0    0.0  0.0    0.0  0.0\n",
      "8       0.7500  0.5037     0.0    0.0  0.0    0.0  0.0\n",
      "9       0.7500  0.6032     0.0    0.0  0.0    0.0  0.0\n",
      "Mean    0.7500  0.5414     0.0    0.0  0.0    0.0  0.0\n",
      "Std     0.0002  0.0493     0.0    0.0  0.0    0.0  0.0\n",
      "\n",
      "📊 Ewaluacja modelu dla klasy: GOOD\n",
      "                             Model  Accuracy     AUC  Recall  Prec.   F1  \\\n",
      "0  Light Gradient Boosting Machine      0.75  0.5507     0.0    0.0  0.0   \n",
      "\n",
      "   Kappa  MCC  \n",
      "0    0.0  0.0  \n",
      "Confusion Matrix:\n",
      "[[5223    0]\n",
      " [1741    0]]\n",
      "F1 Score (class=1): 0.000\n",
      "Recall (class=1): 0.000\n",
      "              precision    recall  f1-score   support\n",
      "\n",
      "           0      0.750     1.000     0.857      5223\n",
      "           1      0.000     0.000     0.000      1741\n",
      "\n",
      "    accuracy                          0.750      6964\n",
      "   macro avg      0.375     0.500     0.429      6964\n",
      "weighted avg      0.562     0.750     0.643      6964\n",
      "\n",
      "\n",
      "📊 Ewaluacja modelu dla klasy: GOOD\n",
      "                             Model  Accuracy     AUC  Recall  Prec.   F1  \\\n",
      "0  Light Gradient Boosting Machine      0.75  0.5507     0.0    0.0  0.0   \n",
      "\n",
      "   Kappa  MCC  \n",
      "0    0.0  0.0  \n"
     ]
    },
    {
     "data": {
      "application/vnd.jupyter.widget-view+json": {
       "model_id": "db6da5aacf934af6922af5ad0f5dc1fd",
       "version_major": 2,
       "version_minor": 0
      },
      "text/plain": [
       "interactive(children=(ToggleButtons(description='Plot Type:', icons=('',), options=(('Pipeline Plot', 'pipelin…"
      ]
     },
     "metadata": {},
     "output_type": "display_data"
    },
    {
     "ename": "KeyError",
     "evalue": "\"['Description'] not found in axis\"",
     "output_type": "error",
     "traceback": [
      "\u001b[1;31m---------------------------------------------------------------------------\u001b[0m",
      "\u001b[1;31mKeyError\u001b[0m                                  Traceback (most recent call last)",
      "Cell \u001b[1;32mIn[66], line 91\u001b[0m\n\u001b[0;32m     89\u001b[0m df_null_vec \u001b[38;5;241m=\u001b[39m pd\u001b[38;5;241m.\u001b[39mDataFrame(X_null_text, columns\u001b[38;5;241m=\u001b[39m[\u001b[38;5;124mf\u001b[39m\u001b[38;5;124m'\u001b[39m\u001b[38;5;124mtfidf_\u001b[39m\u001b[38;5;132;01m{\u001b[39;00mi\u001b[38;5;132;01m}\u001b[39;00m\u001b[38;5;124m'\u001b[39m \u001b[38;5;28;01mfor\u001b[39;00m i \u001b[38;5;129;01min\u001b[39;00m \u001b[38;5;28mrange\u001b[39m(X_null_text\u001b[38;5;241m.\u001b[39mshape[\u001b[38;5;241m1\u001b[39m])])\n\u001b[0;32m     90\u001b[0m df_nulls \u001b[38;5;241m=\u001b[39m pd\u001b[38;5;241m.\u001b[39mconcat([df_nulls\u001b[38;5;241m.\u001b[39mreset_index(drop\u001b[38;5;241m=\u001b[39m\u001b[38;5;28;01mTrue\u001b[39;00m), df_null_vec], axis\u001b[38;5;241m=\u001b[39m\u001b[38;5;241m1\u001b[39m)\n\u001b[1;32m---> 91\u001b[0m df_clean\u001b[38;5;241m.\u001b[39mdrop(columns\u001b[38;5;241m=\u001b[39m[\u001b[38;5;124m'\u001b[39m\u001b[38;5;124mDescription\u001b[39m\u001b[38;5;124m'\u001b[39m, \u001b[38;5;124m'\u001b[39m\u001b[38;5;124mLocation\u001b[39m\u001b[38;5;124m'\u001b[39m, \u001b[38;5;124m'\u001b[39m\u001b[38;5;124mPrice\u001b[39m\u001b[38;5;124m'\u001b[39m], inplace\u001b[38;5;241m=\u001b[39m\u001b[38;5;28;01mTrue\u001b[39;00m)\n\u001b[0;32m     93\u001b[0m \u001b[38;5;66;03m# 5. Przewidzenie prawdopodobieństw i przypisanie klasy o najwyższej pewności\u001b[39;00m\n\u001b[0;32m     94\u001b[0m df_nulls[\u001b[38;5;124m\"\u001b[39m\u001b[38;5;124mBuiltYear\u001b[39m\u001b[38;5;124m\"\u001b[39m] \u001b[38;5;241m=\u001b[39m pd\u001b[38;5;241m.\u001b[39mto_datetime(df_nulls[\u001b[38;5;124m\"\u001b[39m\u001b[38;5;124mBuiltYear\u001b[39m\u001b[38;5;124m\"\u001b[39m], errors\u001b[38;5;241m=\u001b[39m\u001b[38;5;124m\"\u001b[39m\u001b[38;5;124mcoerce\u001b[39m\u001b[38;5;124m\"\u001b[39m)\n",
      "File \u001b[1;32m~\\AppData\\Local\\miniconda3\\envs\\projekt1\\Lib\\site-packages\\pandas\\core\\frame.py:5344\u001b[0m, in \u001b[0;36mDataFrame.drop\u001b[1;34m(self, labels, axis, index, columns, level, inplace, errors)\u001b[0m\n\u001b[0;32m   5196\u001b[0m \u001b[38;5;28;01mdef\u001b[39;00m \u001b[38;5;21mdrop\u001b[39m(\n\u001b[0;32m   5197\u001b[0m     \u001b[38;5;28mself\u001b[39m,\n\u001b[0;32m   5198\u001b[0m     labels: IndexLabel \u001b[38;5;241m|\u001b[39m \u001b[38;5;28;01mNone\u001b[39;00m \u001b[38;5;241m=\u001b[39m \u001b[38;5;28;01mNone\u001b[39;00m,\n\u001b[1;32m   (...)\u001b[0m\n\u001b[0;32m   5205\u001b[0m     errors: IgnoreRaise \u001b[38;5;241m=\u001b[39m \u001b[38;5;124m\"\u001b[39m\u001b[38;5;124mraise\u001b[39m\u001b[38;5;124m\"\u001b[39m,\n\u001b[0;32m   5206\u001b[0m ) \u001b[38;5;241m-\u001b[39m\u001b[38;5;241m>\u001b[39m DataFrame \u001b[38;5;241m|\u001b[39m \u001b[38;5;28;01mNone\u001b[39;00m:\n\u001b[0;32m   5207\u001b[0m \u001b[38;5;250m    \u001b[39m\u001b[38;5;124;03m\"\"\"\u001b[39;00m\n\u001b[0;32m   5208\u001b[0m \u001b[38;5;124;03m    Drop specified labels from rows or columns.\u001b[39;00m\n\u001b[0;32m   5209\u001b[0m \n\u001b[1;32m   (...)\u001b[0m\n\u001b[0;32m   5342\u001b[0m \u001b[38;5;124;03m            weight  1.0     0.8\u001b[39;00m\n\u001b[0;32m   5343\u001b[0m \u001b[38;5;124;03m    \"\"\"\u001b[39;00m\n\u001b[1;32m-> 5344\u001b[0m     \u001b[38;5;28;01mreturn\u001b[39;00m \u001b[38;5;28msuper\u001b[39m()\u001b[38;5;241m.\u001b[39mdrop(\n\u001b[0;32m   5345\u001b[0m         labels\u001b[38;5;241m=\u001b[39mlabels,\n\u001b[0;32m   5346\u001b[0m         axis\u001b[38;5;241m=\u001b[39maxis,\n\u001b[0;32m   5347\u001b[0m         index\u001b[38;5;241m=\u001b[39mindex,\n\u001b[0;32m   5348\u001b[0m         columns\u001b[38;5;241m=\u001b[39mcolumns,\n\u001b[0;32m   5349\u001b[0m         level\u001b[38;5;241m=\u001b[39mlevel,\n\u001b[0;32m   5350\u001b[0m         inplace\u001b[38;5;241m=\u001b[39minplace,\n\u001b[0;32m   5351\u001b[0m         errors\u001b[38;5;241m=\u001b[39merrors,\n\u001b[0;32m   5352\u001b[0m     )\n",
      "File \u001b[1;32m~\\AppData\\Local\\miniconda3\\envs\\projekt1\\Lib\\site-packages\\pandas\\core\\generic.py:4711\u001b[0m, in \u001b[0;36mNDFrame.drop\u001b[1;34m(self, labels, axis, index, columns, level, inplace, errors)\u001b[0m\n\u001b[0;32m   4709\u001b[0m \u001b[38;5;28;01mfor\u001b[39;00m axis, labels \u001b[38;5;129;01min\u001b[39;00m axes\u001b[38;5;241m.\u001b[39mitems():\n\u001b[0;32m   4710\u001b[0m     \u001b[38;5;28;01mif\u001b[39;00m labels \u001b[38;5;129;01mis\u001b[39;00m \u001b[38;5;129;01mnot\u001b[39;00m \u001b[38;5;28;01mNone\u001b[39;00m:\n\u001b[1;32m-> 4711\u001b[0m         obj \u001b[38;5;241m=\u001b[39m obj\u001b[38;5;241m.\u001b[39m_drop_axis(labels, axis, level\u001b[38;5;241m=\u001b[39mlevel, errors\u001b[38;5;241m=\u001b[39merrors)\n\u001b[0;32m   4713\u001b[0m \u001b[38;5;28;01mif\u001b[39;00m inplace:\n\u001b[0;32m   4714\u001b[0m     \u001b[38;5;28mself\u001b[39m\u001b[38;5;241m.\u001b[39m_update_inplace(obj)\n",
      "File \u001b[1;32m~\\AppData\\Local\\miniconda3\\envs\\projekt1\\Lib\\site-packages\\pandas\\core\\generic.py:4753\u001b[0m, in \u001b[0;36mNDFrame._drop_axis\u001b[1;34m(self, labels, axis, level, errors, only_slice)\u001b[0m\n\u001b[0;32m   4751\u001b[0m         new_axis \u001b[38;5;241m=\u001b[39m axis\u001b[38;5;241m.\u001b[39mdrop(labels, level\u001b[38;5;241m=\u001b[39mlevel, errors\u001b[38;5;241m=\u001b[39merrors)\n\u001b[0;32m   4752\u001b[0m     \u001b[38;5;28;01melse\u001b[39;00m:\n\u001b[1;32m-> 4753\u001b[0m         new_axis \u001b[38;5;241m=\u001b[39m axis\u001b[38;5;241m.\u001b[39mdrop(labels, errors\u001b[38;5;241m=\u001b[39merrors)\n\u001b[0;32m   4754\u001b[0m     indexer \u001b[38;5;241m=\u001b[39m axis\u001b[38;5;241m.\u001b[39mget_indexer(new_axis)\n\u001b[0;32m   4756\u001b[0m \u001b[38;5;66;03m# Case for non-unique axis\u001b[39;00m\n\u001b[0;32m   4757\u001b[0m \u001b[38;5;28;01melse\u001b[39;00m:\n",
      "File \u001b[1;32m~\\AppData\\Local\\miniconda3\\envs\\projekt1\\Lib\\site-packages\\pandas\\core\\indexes\\base.py:7000\u001b[0m, in \u001b[0;36mIndex.drop\u001b[1;34m(self, labels, errors)\u001b[0m\n\u001b[0;32m   6998\u001b[0m \u001b[38;5;28;01mif\u001b[39;00m mask\u001b[38;5;241m.\u001b[39many():\n\u001b[0;32m   6999\u001b[0m     \u001b[38;5;28;01mif\u001b[39;00m errors \u001b[38;5;241m!=\u001b[39m \u001b[38;5;124m\"\u001b[39m\u001b[38;5;124mignore\u001b[39m\u001b[38;5;124m\"\u001b[39m:\n\u001b[1;32m-> 7000\u001b[0m         \u001b[38;5;28;01mraise\u001b[39;00m \u001b[38;5;167;01mKeyError\u001b[39;00m(\u001b[38;5;124mf\u001b[39m\u001b[38;5;124m\"\u001b[39m\u001b[38;5;132;01m{\u001b[39;00mlabels[mask]\u001b[38;5;241m.\u001b[39mtolist()\u001b[38;5;132;01m}\u001b[39;00m\u001b[38;5;124m not found in axis\u001b[39m\u001b[38;5;124m\"\u001b[39m)\n\u001b[0;32m   7001\u001b[0m     indexer \u001b[38;5;241m=\u001b[39m indexer[\u001b[38;5;241m~\u001b[39mmask]\n\u001b[0;32m   7002\u001b[0m \u001b[38;5;28;01mreturn\u001b[39;00m \u001b[38;5;28mself\u001b[39m\u001b[38;5;241m.\u001b[39mdelete(indexer)\n",
      "\u001b[1;31mKeyError\u001b[0m: \"['Description'] not found in axis\""
     ]
    }
   ],
   "source": [
    "# === OvR: One-vs-Rest podejście do klasyfikacji stanu mieszkania + zapis ===\n",
    "\n",
    "# 1. Przygotowanie danych bez nulli\n",
    "df_clean = df_balanced.copy()\n",
    "\n",
    "# --- Dodanie cech: cena i lokalizacja ---\n",
    "\n",
    "assert 'Price' in df_clean.columns, \"Brakuje kolumny 'Price'\"\n",
    "assert 'Location' in df_clean.columns, \"Brakuje kolumny 'Location'\"\n",
    "# Przekształcenie kolumny 'Location' na wektory (one-hot encoding)\n",
    "df_location_dummies = pd.get_dummies(df_clean['Location'], prefix='loc', drop_first=True)\n",
    "# Skalowanie ceny (opcjonalne, ale zalecane)\n",
    "from sklearn.preprocessing import StandardScaler\n",
    "scaler = StandardScaler()\n",
    "df_clean['Price_scaled'] = scaler.fit_transform(df_clean[['Price']])\n",
    "# Dołączenie nowych cech\n",
    "df_clean = pd.concat([df_clean.reset_index(drop=True), df_location_dummies.reset_index(drop=True)], axis=1)\n",
    "# Usunięcie oryginalnych kolumn tekstowych (opcjonalnie)\n",
    "df_clean = df_clean[df_clean['BuildingCondition'].notna()].reset_index(drop=True)\n",
    "\n",
    "# 2. Przekształcenie opisu na wektory TF-IDF\n",
    "vectorizer = TfidfVectorizer(\n",
    "    max_features=1000,\n",
    "    min_df=2,\n",
    "    stop_words=polish_stopwords\n",
    ")\n",
    "X_text = vectorizer.fit_transform(df_clean['Description'].fillna('')).toarray()\n",
    "df_tfidf = pd.DataFrame(X_text, columns=[f'tfidf_{i}' for i in range(X_text.shape[1])])\n",
    "df_clean = pd.concat([df_clean.reset_index(drop=True), df_tfidf], axis=1)\n",
    "df_clean.drop(columns=['Description'], inplace=True)\n",
    "\n",
    "# 3. Lista klas do przewidywania\n",
    "unique_stany = df_clean['BuildingCondition'].unique()\n",
    "models = {}\n",
    "results_list = []\n",
    "\n",
    "for stan in unique_stany:\n",
    "    df_temp = df_clean.copy()\n",
    "    df_temp['target'] = df_temp['BuildingCondition'].apply(lambda x: 1 if x == stan else 0)\n",
    "    print(f\"🧪 Stan: {stan} — Target count:\\n{df_temp['target'].value_counts()}\")\n",
    "\n",
    "    clf_setup = setup(\n",
    "        data=df_temp.drop(columns=['BuildingCondition']),\n",
    "        target='target',\n",
    "        session_id=1122,\n",
    "       # text_features=['Description'], \n",
    "       # encoding_method='one_hot',  \n",
    "       # max_encoding_ohe=10,\n",
    "        html=False,\n",
    "        fix_imbalance=True,\n",
    "        fix_imbalance_method='SMOTE',  # lub ADASYN/RUS/BorderlineSMOTE\n",
    "        verbose=True  # ważne, pokaże rozkład po SMOTE\n",
    "    )\n",
    "    model = create_model('lightgbm')\n",
    "    tuned_model = tune_model(model, n_iter=10, optimize='F1', search_library='scikit-learn', search_algorithm='random')\n",
    "    models[stan] = tuned_model\n",
    "\n",
    "    print(f\"\\n📊 Ewaluacja modelu dla klasy: {stan}\")\n",
    "    model_results = pull()\n",
    "    model_results['target_class'] = stan\n",
    "\n",
    "    # ⬇️ NOWE: predykcja + metryki ręczne\n",
    "    preds = predict_model(tuned_model)\n",
    "    y_true = preds['target']\n",
    "    y_pred = preds['prediction_label']\n",
    "\n",
    "    cm = confusion_matrix(y_true, y_pred)\n",
    "    f1 = f1_score(y_true, y_pred, pos_label=1)\n",
    "    recall = recall_score(y_true, y_pred, pos_label=1)\n",
    "\n",
    "    print(f\"Confusion Matrix:\\n{cm}\")\n",
    "    print(f\"F1 Score (class=1): {f1:.3f}\")\n",
    "    print(f\"Recall (class=1): {recall:.3f}\")\n",
    "    print(classification_report(y_true, y_pred, digits=3))\n",
    "\n",
    "    model_results['F1_score_class_1'] = f1\n",
    "    model_results['Recall_class_1'] = recall\n",
    "    results_list.append(model_results)\n",
    "\n",
    "# ✳️ WYDRUKUJ metryki tego modelu\n",
    "    print(f\"\\n📊 Ewaluacja modelu dla klasy: {stan}\")\n",
    "    print(pull())  # wyciąga ostatnie metryki z tune_model()\n",
    "    evaluate_model(tuned_model)\n",
    "\n",
    "\n",
    "# 4. Predykcja na danych z brakującym 'BuildingCondition'\n",
    "df_nulls = df[df['BuildingCondition'].isna()].copy()\n",
    "X_null_text = vectorizer.transform(df_nulls['Description'].fillna('')).toarray()\n",
    "df_null_vec = pd.DataFrame(X_null_text, columns=[f'tfidf_{i}' for i in range(X_null_text.shape[1])])\n",
    "df_nulls = pd.concat([df_nulls.reset_index(drop=True), df_null_vec], axis=1)\n",
    "df_clean.drop(columns=['Description', 'Location', 'Price'], inplace=True)\n",
    "\n",
    "# 5. Przewidzenie prawdopodobieństw i przypisanie klasy o najwyższej pewności\n",
    "df_nulls[\"BuiltYear\"] = pd.to_datetime(df_nulls[\"BuiltYear\"], errors=\"coerce\")\n",
    "probabilities = {}\n",
    "\n",
    "for stan, model in models.items():\n",
    "        preds = predict_model(model, data=df_nulls, raw_score=True)\n",
    "        probabilities[stan] = preds['Score_1'] \n",
    "\n",
    "# 6. Wybranie klasy z najwyższym Score\n",
    "probs_df = pd.DataFrame(probabilities)\n",
    "df_nulls['predicted_standard'] = probs_df.idxmax(axis=1)\n",
    "df.loc[df_nulls.index, 'BuildingCondition'] = df_nulls['predicted_standard']\n",
    "\n",
    "print(\"✅ Uzupełniono brakujące wartości w kolumnie 'BuildingCondition' na podstawie modeli OvR.\")\n",
    "\n",
    "# 7. Zapis do pliku CSV\n",
    "df.to_csv(\"uzupelnione_mieszkania.csv\", index=False)\n",
    "print(\"💾 Zapisano do: uzupelnione_mieszkania.csv\")\n",
    "\n",
    "# 8. Zapis do bazy danych SQLite\n",
    "conn = sqlite3.connect(\"uzupelnione_mieszkania.db\")\n",
    "df.to_sql(\"mieszkania\", conn, if_exists=\"replace\", index=False)\n",
    "conn.close()\n",
    "print(\"💾 Zapisano do: uzupelnione_mieszkania.db (tabela: mieszkania)\")"
   ]
  },
  {
   "cell_type": "code",
   "execution_count": null,
   "id": "eafc5ef5-5940-4253-87ad-4fa9eb70185c",
   "metadata": {},
   "outputs": [],
   "source": [
    "results_df = pd.concat(results_list)\n",
    "results_df.to_csv(\"ovr_results.csv\", index=False)\n",
    "print(\"💾 Zapisano metryki OvR do pliku: ovr_results.csv\")"
   ]
  },
  {
   "cell_type": "code",
   "execution_count": null,
   "id": "2baebc16-2ea3-40fb-9d08-8de7fb4fd6bd",
   "metadata": {},
   "outputs": [],
   "source": [
    "metryki=pd.read_csv(\"ovr_results.csv\")"
   ]
  },
  {
   "cell_type": "code",
   "execution_count": null,
   "id": "937b2280-e3ac-4cb3-abbf-b2ed523f7d5d",
   "metadata": {},
   "outputs": [],
   "source": [
    "metryki"
   ]
  },
  {
   "cell_type": "code",
   "execution_count": null,
   "id": "b73d7024-8315-4a74-b63f-c56d2776599c",
   "metadata": {},
   "outputs": [],
   "source": [
    "df2=df.sample(10)\n",
    "df2.to_csv(\"uzup_mieszkania_sample.csv\", index=False)"
   ]
  },
  {
   "cell_type": "code",
   "execution_count": null,
   "id": "154661ae-a87e-406d-ab81-9c7fb5c3a70a",
   "metadata": {},
   "outputs": [],
   "source": [
    "df[\"BuildingCondition\"].value_counts(normalize=True)"
   ]
  },
  {
   "cell_type": "code",
   "execution_count": null,
   "id": "83719240-2759-4718-b466-db9724f46de5",
   "metadata": {},
   "outputs": [],
   "source": [
    "# Fatalny balans, mimo iż baza wstępna została zbalansowana, tutaj wyniki są trudne do zaakceptowania\n",
    "# wartoć stanu Developer_State to aż 97% wszystkich predykcji. Aż trudno w to uwierzyć. Do sprawdzenia szczegółowego."
   ]
  },
  {
   "cell_type": "code",
   "execution_count": null,
   "id": "250da6dc-8f58-4d81-9a6d-e561366e56e5",
   "metadata": {},
   "outputs": [],
   "source": []
  }
 ],
 "metadata": {
  "kernelspec": {
   "display_name": "Python 3 (ipykernel)",
   "language": "python",
   "name": "python3"
  },
  "language_info": {
   "codemirror_mode": {
    "name": "ipython",
    "version": 3
   },
   "file_extension": ".py",
   "mimetype": "text/x-python",
   "name": "python",
   "nbconvert_exporter": "python",
   "pygments_lexer": "ipython3",
   "version": "3.11.11"
  }
 },
 "nbformat": 4,
 "nbformat_minor": 5
}
