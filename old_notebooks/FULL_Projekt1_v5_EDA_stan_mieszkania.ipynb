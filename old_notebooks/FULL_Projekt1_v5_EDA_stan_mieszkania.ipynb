{
 "cells": [
  {
   "cell_type": "markdown",
   "id": "192d345d-70ba-427a-8507-12da45ac4f7e",
   "metadata": {},
   "source": [
    "# PROJEKT MODELU KLASYFIKACYJNEGO PRZEWIDYWANIA STANU MIESZKAŃ NA PODSTAWIE #"
   ]
  },
  {
   "cell_type": "markdown",
   "id": "94e1019a-8f97-4563-89c8-75107b8f9b4f",
   "metadata": {},
   "source": [
    "## Extra Trees Classifier ##"
   ]
  },
  {
   "cell_type": "markdown",
   "id": "baaa0a1b-d8b1-440c-a0cd-90946f1bce76",
   "metadata": {},
   "source": [
    "### kwiecień 2025"
   ]
  },
  {
   "cell_type": "code",
   "execution_count": null,
   "id": "12c8f983-8bfb-4166-838c-2fe501cf5159",
   "metadata": {},
   "outputs": [],
   "source": [
    "import pandas as pd\n",
    "from tqdm import tqdm  # Do importu tqdm\n",
    "from pycaret.classification import setup, pull, compare_models, plot_model\n",
    "from sklearn.feature_extraction.text import CountVectorizer\n",
    "import pymysql\n",
    "from sqlalchemy import create_engine\n",
    "import numpy as np\n",
    "from scipy.stats import skewnorm\n",
    "import matplotlib.pyplot as plt\n",
    "import seaborn as sns"
   ]
  },
  {
   "cell_type": "code",
   "execution_count": null,
   "id": "7287c082-2b81-45a1-80e9-11ad1567c936",
   "metadata": {},
   "outputs": [],
   "source": [
    "# tą komórkę uruchom jeżeli bazę danych bierzesz np. z DBeaver, oracle developer itp.\n",
    "\n",
    "#username = 'root'\n",
    "#password = '1234'\n",
    "#host = '127.0.0.1'\n",
    "#port = 3306  \n",
    "#database = 'projekt1'\n",
    "#engine = create_engine(f'mysql+pymysql://{username}:{password}@{host}:{port}/{database}')\n",
    "\n",
    "#df = pd.read_sql(\"SELECT * FROM saleflats\", con=engine)\n",
    "\n",
    "#engine.dispose()"
   ]
  },
  {
   "cell_type": "code",
   "execution_count": null,
   "id": "c88b2930-47ff-4b2e-8078-5425f225569d",
   "metadata": {},
   "outputs": [],
   "source": [
    "# tę komórkę uruchom jeśli czerpiesz dane z pliku .csv\n",
    "df = pd.read_csv('sale_2024_0.csv', sep=',')"
   ]
  },
  {
   "cell_type": "code",
   "execution_count": null,
   "id": "0da3fefb-e141-4286-b32b-c8949fa79236",
   "metadata": {
    "scrolled": true
   },
   "outputs": [],
   "source": [
    "df"
   ]
  },
  {
   "cell_type": "code",
   "execution_count": null,
   "id": "814ef4d5-cd26-4e17-8bdd-af9552c37869",
   "metadata": {},
   "outputs": [],
   "source": [
    "# pobranie próbki 10 losowych wierszy\n",
    "df.sample(10)"
   ]
  },
  {
   "cell_type": "code",
   "execution_count": null,
   "id": "e45406b7-1110-4830-9be1-c6090cb26253",
   "metadata": {},
   "outputs": [],
   "source": [
    "print(df.columns)"
   ]
  },
  {
   "cell_type": "code",
   "execution_count": null,
   "id": "9e317b03-5a8f-4e94-902d-62a72ffa49f3",
   "metadata": {},
   "outputs": [],
   "source": [
    "df['BuiltYear'] = pd.to_datetime(df['BuiltYear'], format='%Y', errors='coerce')"
   ]
  },
  {
   "cell_type": "code",
   "execution_count": null,
   "id": "fbf4d755-3f8a-4b13-8310-4249ca6cede7",
   "metadata": {},
   "outputs": [],
   "source": [
    "df_a = df.dropna(subset=['Description'])"
   ]
  },
  {
   "cell_type": "code",
   "execution_count": null,
   "id": "de094844-91f5-486d-92eb-b9f015b8b4ad",
   "metadata": {},
   "outputs": [],
   "source": [
    "df_a.isnull().sum()"
   ]
  },
  {
   "cell_type": "code",
   "execution_count": null,
   "id": "d86f9aad-555a-4c4b-9d41-6498813ae8eb",
   "metadata": {},
   "outputs": [],
   "source": [
    "df_b = df_a.dropna(subset=['Location'])"
   ]
  },
  {
   "cell_type": "code",
   "execution_count": null,
   "id": "fa8fee1b-44a3-4660-b441-9b904b7e05ca",
   "metadata": {},
   "outputs": [],
   "source": [
    "df_b.isnull().sum()"
   ]
  },
  {
   "cell_type": "code",
   "execution_count": null,
   "id": "85dac362-39eb-488c-86cb-e082f8db4bfe",
   "metadata": {},
   "outputs": [],
   "source": [
    "df_c = df_b.dropna(subset=['BuildingCondition'])"
   ]
  },
  {
   "cell_type": "code",
   "execution_count": null,
   "id": "0da67916-3d31-4490-bbdd-39486371aa5b",
   "metadata": {},
   "outputs": [],
   "source": [
    "df_c.isnull().sum()"
   ]
  },
  {
   "cell_type": "code",
   "execution_count": null,
   "id": "f9e66eb3-88ba-499a-8564-a689984af9e2",
   "metadata": {},
   "outputs": [],
   "source": [
    "df_c"
   ]
  },
  {
   "cell_type": "code",
   "execution_count": null,
   "id": "1d0c2fe0-87bf-4e11-b09a-ea2637b8a8ac",
   "metadata": {},
   "outputs": [],
   "source": [
    "df_c['Description'] = df_c['Description'].str.slice(0, 300)"
   ]
  },
  {
   "cell_type": "code",
   "execution_count": null,
   "id": "925c407c-fc76-4039-ad15-2d7af5f8074b",
   "metadata": {},
   "outputs": [],
   "source": [
    "# Przygotuj wektorizer z limitem\n",
    "vectorizer = CountVectorizer(max_features=500)  # np. 500 najczęstszych słów\n",
    "X_bow = vectorizer.fit_transform(df_c[\"Description\"])\n",
    "\n",
    "# Konwertuj do DataFrame\n",
    "df_bow = pd.DataFrame(X_bow.toarray(), columns=vectorizer.get_feature_names_out())\n",
    "\n",
    "# Dołącz do oryginalnych danych (z wyjątkiem kolumny Description)\n",
    "df_c = df_c.drop(columns=['Description']).reset_index(drop=True)\n",
    "df_bow = df_bow.reset_index(drop=True)\n",
    "df_prepared = pd.concat([df_c, df_bow], axis=1)"
   ]
  },
  {
   "cell_type": "code",
   "execution_count": null,
   "id": "91e20afd-d2e6-44d2-b318-2a619491790e",
   "metadata": {},
   "outputs": [],
   "source": [
    "exp = setup(\n",
    "    data=df_prepared,\n",
    "    target='BuildingCondition',\n",
    "    session_id=1123,\n",
    "    categorical_features=['BuildingType', 'Location'],\n",
    "    keep_features=[ \n",
    "            'Description',\n",
    "            'SaleId',\n",
    "            'Score',\n",
    "            'Type'\n",
    "            ],\n",
    "     text_features=['Title'],\n",
    "    date_features=['BuiltYear'],\n",
    "    ordinal_features={\n",
    "        'BuildingType': ['Pozostałe', 'Blok', 'Apartametowiec', 'Kamienica']\n",
    "    },\n",
    "    verbose=False\n",
    ")\n",
    "exp.dataset_transformed.sample(10)"
   ]
  },
  {
   "cell_type": "code",
   "execution_count": null,
   "id": "9390e2e9-3412-4569-9ea2-5e6e46b62692",
   "metadata": {},
   "outputs": [],
   "source": [
    "df_prepared.info"
   ]
  },
  {
   "cell_type": "code",
   "execution_count": null,
   "id": "5c288270-f208-4587-983e-1ca51a10c772",
   "metadata": {},
   "outputs": [],
   "source": [
    "df_prepared[df_prepared.duplicated()]"
   ]
  },
  {
   "cell_type": "code",
   "execution_count": null,
   "id": "d45a8a14-d944-446e-8aa7-5d59c7b50c8f",
   "metadata": {},
   "outputs": [],
   "source": [
    "df_prepared.nunique()"
   ]
  },
  {
   "cell_type": "code",
   "execution_count": null,
   "id": "f02ca319-ee3e-4753-bb1f-bdd817b88dc6",
   "metadata": {
    "scrolled": true
   },
   "outputs": [],
   "source": [
    "df_prepared.isnull()"
   ]
  },
  {
   "cell_type": "code",
   "execution_count": null,
   "id": "a344a794-72c3-49f9-86cc-e0a17abfa73f",
   "metadata": {},
   "outputs": [],
   "source": [
    "df_prepared.isnull().sum()"
   ]
  },
  {
   "cell_type": "code",
   "execution_count": null,
   "id": "13fd1bc1-f0a4-47d7-8e5e-40fc0fe9842f",
   "metadata": {},
   "outputs": [],
   "source": [
    "Q1 = df_prepared[\"Price\"].quantile(0.25)\n",
    "Q3 = df_prepared[\"Price\"].quantile(0.75)\n",
    "IQR = Q3 - Q1\n",
    "\n",
    "lower_bound = Q1 - 1.5 * IQR\n",
    "upper_bound = Q3 + 1.5 * IQR\n",
    "\n",
    "df_prep_p = df_prepared[~((df_prepared[\"Price\"] < lower_bound) | (df_prepared[\"Price\"] > upper_bound))]"
   ]
  },
  {
   "cell_type": "code",
   "execution_count": null,
   "id": "80319d54-cf6a-48f0-b6b4-ed556cba8603",
   "metadata": {},
   "outputs": [],
   "source": [
    "Q1 = df_prep_p[\"PricePerSquareMeter\"].quantile(0.25)\n",
    "Q3 = df_prep_p[\"PricePerSquareMeter\"].quantile(0.75)\n",
    "IQR = Q3 - Q1\n",
    "\n",
    "lower_bound = Q1 - 1.5 * IQR\n",
    "upper_bound = Q3 + 1.5 * IQR\n",
    "\n",
    "df_prep_a = df_prep_p[~((df_prep_p[\"PricePerSquareMeter\"] < lower_bound) | (df_prep_p[\"PricePerSquareMeter\"] > upper_bound))]"
   ]
  },
  {
   "cell_type": "code",
   "execution_count": null,
   "id": "266868f5-271f-4cd1-86fe-ee35905d7a91",
   "metadata": {},
   "outputs": [],
   "source": [
    "Q1 = df_prep_a[\"Area\"].quantile(0.25)\n",
    "Q3 = df_prep_a[\"Area\"].quantile(0.75)\n",
    "IQR = Q3 - Q1\n",
    "\n",
    "lower_bound = Q1 - 1.5 * IQR\n",
    "upper_bound = Q3 + 1.5 * IQR\n",
    "\n",
    "df_prepared2 = df_prep_a[~((df_prep_a[\"Area\"] < lower_bound) | (df_prep_a[\"Area\"] > upper_bound))]"
   ]
  },
  {
   "cell_type": "code",
   "execution_count": null,
   "id": "4e8c548b-381b-46e5-9569-2f07cae56405",
   "metadata": {},
   "outputs": [],
   "source": [
    "df_prepared2[\"BuildingCondition\"].value_counts(normalize=True)"
   ]
  },
  {
   "cell_type": "code",
   "execution_count": null,
   "id": "9c937c8c-442e-47af-a295-917557fe749d",
   "metadata": {},
   "outputs": [],
   "source": [
    "df_prepared2.nunique()"
   ]
  },
  {
   "cell_type": "code",
   "execution_count": null,
   "id": "237c218b-5998-491f-af1b-8dd4e0ff63ca",
   "metadata": {},
   "outputs": [],
   "source": [
    "unique_btype=df_prepared2['BuildingType'].unique()\n",
    "\n",
    "unique_btype"
   ]
  },
  {
   "cell_type": "code",
   "execution_count": null,
   "id": "28de393c-7712-419e-9eeb-6a61c5f771bf",
   "metadata": {},
   "outputs": [],
   "source": [
    "print(df_prepared2['BuildingCondition'].nunique())"
   ]
  },
  {
   "cell_type": "code",
   "execution_count": null,
   "id": "f0d898aa-72d5-45e4-ae5c-1e41a0eb54b8",
   "metadata": {},
   "outputs": [],
   "source": [
    "unique_ctype=df_prepared2['BuildingCondition'].unique()\n",
    "\n",
    "unique_ctype"
   ]
  },
  {
   "cell_type": "code",
   "execution_count": null,
   "id": "db157807-01d8-442f-b550-26d604b2ebef",
   "metadata": {},
   "outputs": [],
   "source": [
    "df_prepared2['Type'].unique()"
   ]
  },
  {
   "cell_type": "code",
   "execution_count": null,
   "id": "14d942f2-3deb-4340-86c0-c04920675813",
   "metadata": {},
   "outputs": [],
   "source": [
    "df_prepared2.isnull().sum()"
   ]
  },
  {
   "cell_type": "code",
   "execution_count": null,
   "id": "18584f1a-876f-44c8-9e6f-6ce9cc70d946",
   "metadata": {},
   "outputs": [],
   "source": [
    "df_prepared3=df_prepared2.dropna(subset=['BuildingCondition'])"
   ]
  },
  {
   "cell_type": "code",
   "execution_count": null,
   "id": "e7b8e6fe-33e9-46de-a3e9-8e0087ce257d",
   "metadata": {},
   "outputs": [],
   "source": [
    "unbalanced_exp = setup(\n",
    "    data=df_prepared3,\n",
    "    target='BuildingCondition',\n",
    "    session_id=1123,\n",
    "    keep_features=[ \n",
    "            'Description',\n",
    "            'SaleId',\n",
    "            'Score',\n",
    "            'Type'\n",
    "            ],\n",
    "    text_features=[             \n",
    "                'Title'],\n",
    "        \n",
    "    categorical_features=['BuildingType', 'Location', 'PricePerSquareMeter','Price', 'Area', 'TypeOfMarket'],\n",
    "    date_features=['BuiltYear'],\n",
    "    verbose=False,\n",
    "\n",
    "    ignore_features=[\n",
    "        'RealPriceAfterRenovation',\n",
    "        'OfferPrice',\n",
    "        'OriginalPrice',\n",
    "        'OriginalId',\n",
    "        'PortalId',\n",
    "        'OfferFrom',\n",
    "        'OwnerType',\n",
    "        'DateAddedToDatabase',\n",
    "        'DateAdded',\n",
    "        'DateLastModification',\n",
    "        'DateLastRaises',\n",
    "        'NewestDate',\n",
    "        'AvailableFrom',\n",
    "        'Link',\n",
    "        'Phone',\n",
    "        'MainImage',\n",
    "        'OtherImages',\n",
    "        'NumberOfDuplicates',\n",
    "        'NumberOfRaises',\n",
    "        'NumberOfModifications',\n",
    "        'IsDuplicatePriceLower',\n",
    "        'IsDuplicatePrivateOwner',\n",
    "        'ScorePrecision',\n",
    "        'CommunityScore',\n",
    "        'NumberOfCommunityComments',\n",
    "        'NumberOfCommunityOpinions',\n",
    "        'Archive',\n",
    "        'VoivodeshipNumber',\n",
    "        'CountyNumber',\n",
    "        'CommunityNumber',\n",
    "        'RegionNumber',\n",
    "        'KindNumber',\n",
    "        'SubRegionNumber',\n",
    "        'StreetNumber',\n",
    "        'EncryptedId',\n",
    "        ],\n",
    "         \n",
    "       \n",
    ")\n",
    "best_unbalanced_model = unbalanced_exp.compare_models()\n",
    "unbalanced_metrics_df = pull()"
   ]
  },
  {
   "cell_type": "code",
   "execution_count": null,
   "id": "b2ce38b6-6a75-4327-80f7-297464c4153a",
   "metadata": {},
   "outputs": [],
   "source": [
    "unbalanced_exp.plot_model(best_unbalanced_model, plot='error')"
   ]
  },
  {
   "cell_type": "code",
   "execution_count": null,
   "id": "f0e21f2a-3037-456e-a070-7519142b9ed1",
   "metadata": {},
   "outputs": [],
   "source": [
    "unbalanced_exp.plot_model(best_unbalanced_model, plot='feature')"
   ]
  },
  {
   "cell_type": "code",
   "execution_count": null,
   "id": "42a3c78c-cc16-4d5f-8286-926035a5abb9",
   "metadata": {},
   "outputs": [],
   "source": [
    "tuned_model = unbalanced_exp.tune_model(best_unbalanced_model, n_iter=3, optimize='F1')"
   ]
  },
  {
   "cell_type": "code",
   "execution_count": null,
   "id": "8a7d5dd7-ebe2-4709-bd82-791f87ee944c",
   "metadata": {},
   "outputs": [],
   "source": [
    "best_model = unbalanced_exp.compare_models([best_unbalanced_model, tuned_model])"
   ]
  },
  {
   "cell_type": "code",
   "execution_count": null,
   "id": "ba20501a-b312-4dab-89ec-9422315b560c",
   "metadata": {
    "scrolled": true
   },
   "outputs": [],
   "source": [
    "unbalanced_exp.predict_model(best_model)"
   ]
  },
  {
   "cell_type": "code",
   "execution_count": null,
   "id": "3582e316-52cb-4568-8d9f-79f1ee0a411f",
   "metadata": {},
   "outputs": [],
   "source": [
    "unbalanced_exp.plot_model(best_model, plot='error')"
   ]
  },
  {
   "cell_type": "code",
   "execution_count": null,
   "id": "bff681b0-73b8-4ea1-8a10-4632c4c404d3",
   "metadata": {},
   "outputs": [],
   "source": [
    "unbalanced_exp.plot_model(best_model, plot='feature')"
   ]
  },
  {
   "cell_type": "code",
   "execution_count": null,
   "id": "6ef41870-dd06-4559-aef1-1a950d479f98",
   "metadata": {},
   "outputs": [],
   "source": [
    "best_tuned_model = unbalanced_exp.tune_model(\n",
    "    best_model,\n",
    "    optimize=\"F1\",\n",
    "    choose_better=True,\n",
    "    fold=5,\n",
    ")"
   ]
  },
  {
   "cell_type": "code",
   "execution_count": null,
   "id": "f442cc06-faae-4f35-b6ab-40e5cf0e799b",
   "metadata": {},
   "outputs": [],
   "source": [
    "unbalanced_exp.predict_model(best_tuned_model).head(10)"
   ]
  },
  {
   "cell_type": "code",
   "execution_count": null,
   "id": "f77d7bbb-b462-40a2-9857-6c3a082f241b",
   "metadata": {},
   "outputs": [],
   "source": [
    "unbalanced_exp.plot_model(best_tuned_model, plot='error')"
   ]
  },
  {
   "cell_type": "code",
   "execution_count": null,
   "id": "60f0b233-7bb1-4f83-b405-654c55efc3a5",
   "metadata": {},
   "outputs": [],
   "source": [
    "unbalanced_exp.plot_model(best_tuned_model, plot='feature')"
   ]
  },
  {
   "cell_type": "code",
   "execution_count": null,
   "id": "ed6205cf-4e40-4635-be2e-9be8b8855043",
   "metadata": {},
   "outputs": [],
   "source": [
    "best_final_model = unbalanced_exp.finalize_model(best_tuned_model)\n",
    "best_final_model"
   ]
  },
  {
   "cell_type": "code",
   "execution_count": null,
   "id": "2c523b55-9ea9-489e-aa5c-5ac7c9b1571b",
   "metadata": {},
   "outputs": [],
   "source": [
    "unbalanced_exp.save_model(best_final_model, \"0_best_buildingCond_model\", verbose=False);"
   ]
  },
  {
   "cell_type": "code",
   "execution_count": null,
   "id": "f694dabe-61d4-4eda-9819-5d27c5623b81",
   "metadata": {},
   "outputs": [],
   "source": [
    "unbalanced_exp.predict_model(best_final_model).head(10)"
   ]
  },
  {
   "cell_type": "code",
   "execution_count": null,
   "id": "87a00568-eb27-4f05-b39c-f640aadbf901",
   "metadata": {},
   "outputs": [],
   "source": [
    "predictions = unbalanced_exp.predict_model(best_final_model)"
   ]
  },
  {
   "cell_type": "code",
   "execution_count": null,
   "id": "ac7ec496-df42-4085-8aa7-42c3f84fbc5e",
   "metadata": {},
   "outputs": [],
   "source": [
    "plot_model(best_final_model, plot=\"auc\")"
   ]
  },
  {
   "cell_type": "code",
   "execution_count": null,
   "id": "354f1683-0c53-463a-a396-a75455df25ea",
   "metadata": {},
   "outputs": [],
   "source": [
    "plot_model(best_final_model, plot=\"confusion_matrix\")\n",
    "# ile wartości z oryginalnego zbioru danych (True Class) algorytm zmienił na nową wartość po analizie(Predicted Class)\n",
    "# np. 7 wartości oryginalnych o ocenie 1 zostało zmienionych na 0"
   ]
  },
  {
   "cell_type": "markdown",
   "id": "e279c5f5-7dea-446b-9289-e3c8c3ec2715",
   "metadata": {},
   "source": [
    "## Confusion Matrix (Macierz pomyłek)\n",
    "\n",
    "Confusion Matrix to tabela, która przedstawia liczbę poprawnych i niepoprawnych klasyfikacji dla każdej klasy. Ułatwia analizę, gdzie model popełnia błędy.\n",
    "\n",
    "|               | Predicted Positive | Predicted Negative |\n",
    "|---------------|--------------------|--------------------|\n",
    "| Actual Positive | True Positive (TP)  | False Negative (FN) |\n",
    "| Actual Negative | False Positive (FP) | True Negative (TN)  |\n",
    " \n",
    "Analiza macierzy pomyłek pozwala zrozumieć, które klasy są mylone przez model oraz jaki jest balans między różnymi rodzajami błędów.\n",
    "\n",
    "<span style=\"color:red\">Idealny model miałby same wartości na przekątnej (TP i TN) oraz zera poza nią.</span>"
   ]
  },
  {
   "cell_type": "code",
   "execution_count": null,
   "id": "52ded6b3-13a6-4050-82fc-21dbc56b165c",
   "metadata": {},
   "outputs": [],
   "source": [
    "plt.figure(figsize=(12, 6))\n",
    "plt.barh(unbalanced_metrics_df['Model'], unbalanced_metrics_df['F1'], color='skyblue')\n",
    "plt.xlabel('F1')\n",
    "plt.title('Porównanie dokładności modeli wg. metryki F1')\n",
    "plt.gca().invert_yaxis()  # najlepszy model na górze\n",
    "plt.grid(True, linestyle='--', alpha=0.5)\n",
    "plt.tight_layout()\n",
    "plt.show()"
   ]
  },
  {
   "cell_type": "code",
   "execution_count": null,
   "id": "c97caa8a-b460-4519-9b11-c1c6a620d30e",
   "metadata": {},
   "outputs": [],
   "source": [
    "best_final_model.get_params()"
   ]
  },
  {
   "cell_type": "code",
   "execution_count": null,
   "id": "dc2c7705-1674-420b-acf8-318878542127",
   "metadata": {},
   "outputs": [],
   "source": [
    "predicted_column = predictions['prediction_label']\n",
    "print(predicted_column)"
   ]
  },
  {
   "cell_type": "code",
   "execution_count": null,
   "id": "f907a9e4-40d8-4618-b764-1960c5ee757d",
   "metadata": {},
   "outputs": [],
   "source": [
    "df_last=predictions[['prediction_label','BuildingCondition', ]]"
   ]
  },
  {
   "cell_type": "code",
   "execution_count": null,
   "id": "3901e80c-e3f6-46d8-9fce-df73f0b1a740",
   "metadata": {},
   "outputs": [],
   "source": [
    "#df_last = df_last.reset_index()  \n",
    "#print(df_last.columns) "
   ]
  },
  {
   "cell_type": "code",
   "execution_count": null,
   "id": "3ef5a816-b95f-47a3-9e5e-1bc999aa3cf0",
   "metadata": {},
   "outputs": [],
   "source": [
    "#df_last.rename(columns={'index': 'SaleId'}, inplace=True)"
   ]
  },
  {
   "cell_type": "code",
   "execution_count": null,
   "id": "f8145ee3-a416-4e51-a8f1-14679e5fc3e8",
   "metadata": {},
   "outputs": [],
   "source": [
    "df_last.to_csv('sale_2024_stan.csv')"
   ]
  },
  {
   "cell_type": "code",
   "execution_count": null,
   "id": "9ef560a9-2a15-4c31-8fc9-489f70684edd",
   "metadata": {},
   "outputs": [],
   "source": [
    "from pycaret.classification import load_model, predict_model"
   ]
  },
  {
   "cell_type": "code",
   "execution_count": null,
   "id": "afbc10fb-57e2-4c40-97bf-52ec670a9fce",
   "metadata": {},
   "outputs": [],
   "source": [
    "best_final_model = load_model(\"0_best_buildingCond_model\")"
   ]
  },
  {
   "cell_type": "code",
   "execution_count": null,
   "id": "a7826914-01bf-48ce-bae6-a23c928a5407",
   "metadata": {},
   "outputs": [],
   "source": [
    "df_last"
   ]
  },
  {
   "cell_type": "code",
   "execution_count": null,
   "id": "4d0c4e79-81d2-4cd3-9a47-8dbaa122e914",
   "metadata": {},
   "outputs": [],
   "source": [
    "# 1. Wczytaj dane\n",
    "chunk_iterator = pd.read_csv(\"sale_2024_0.csv\", chunksize=50000)\n",
    "\n",
    "# 2. Zrób tymczasową kopię do predykcji — z placeholderami\n",
    "# df_predict = df_raw.copy()"
   ]
  },
  {
   "cell_type": "code",
   "execution_count": null,
   "id": "f7495e2b-a395-42e3-ac13-b77ff83578fd",
   "metadata": {},
   "outputs": [],
   "source": [
    "def align_dataframe(df_raw, expected_cols):\n",
    "    expected_cols = [col for col in expected_cols if col != 'BuildingCondition']\n",
    "    for col in expected_cols:\n",
    "        if col not in df_raw.columns:\n",
    "            df_raw[col] = 0\n",
    "    if 'BuildingCondition' in df_raw.columns:\n",
    "        df_raw = df_raw.drop(columns=['BuildingCondition'])\n",
    "        df_aligned = df_raw[expected_cols]\n",
    "    return df_aligned"
   ]
  },
  {
   "cell_type": "code",
   "execution_count": null,
   "id": "ca03ee6f-1d94-4690-ab31-52f513faab37",
   "metadata": {},
   "outputs": [],
   "source": [
    "# Przed pętlą chunkującą\n",
    "expected_cols = best_final_model.feature_names_in_\n",
    "\n",
    "# Lista do przechowywania wyników\n",
    "all_chunks = []\n",
    "\n",
    "for df_raw in pd.read_csv(\"sale_2024_0.csv\", chunksize=50000):\n",
    "    df_raw[\"BuildingCondition\"] = df_raw[\"BuildingCondition\"].fillna(\" \")\n",
    "    df_raw['BuiltYear'] = pd.to_datetime(df_raw['BuiltYear'], format='%Y', errors='coerce')\n",
    "    df_raw[['Title', 'Description']] = df_raw[['Title', 'Description']].fillna('')\n",
    "\n",
    "    df_aligned = align_dataframe(df_raw, expected_cols)\n",
    "    predictions = predict_model(best_final_model, data=df_aligned)\n",
    "\n",
    "    final_result = df_raw.copy()\n",
    "    if 'BuildingCondition' in final_result.columns:\n",
    "        final_result = final_result.drop(columns=['BuildingCondition'])\n",
    "    final_result['Predicted_State'] = predictions['prediction_label']\n",
    "\n",
    "    all_chunks.append(final_result)"
   ]
  },
  {
   "cell_type": "code",
   "execution_count": null,
   "id": "5e4b0510-3116-4657-8ef8-c5e437eab875",
   "metadata": {},
   "outputs": [],
   "source": [
    "final_df = pd.concat(all_chunks, ignore_index=True)\n",
    "final_df.to_csv('0_sale_2024_stan.csv', index=False)"
   ]
  },
  {
   "cell_type": "code",
   "execution_count": null,
   "id": "f1ac94fa-f7d6-4f5c-830a-eb60c868ddd7",
   "metadata": {},
   "outputs": [],
   "source": [
    "print(\"Gotowe! Zapisano plik 0_sale_2024_stan.csv\")"
   ]
  },
  {
   "cell_type": "code",
   "execution_count": null,
   "id": "e0616e7b-35a7-41f9-9fea-ad56a536a5f6",
   "metadata": {},
   "outputs": [],
   "source": [
    "final_df"
   ]
  },
  {
   "cell_type": "code",
   "execution_count": null,
   "id": "862a1fce-15bc-4391-b3ba-8b45594b712d",
   "metadata": {},
   "outputs": [],
   "source": []
  }
 ],
 "metadata": {
  "kernelspec": {
   "display_name": "Python 3 (ipykernel)",
   "language": "python",
   "name": "python3"
  },
  "language_info": {
   "codemirror_mode": {
    "name": "ipython",
    "version": 3
   },
   "file_extension": ".py",
   "mimetype": "text/x-python",
   "name": "python",
   "nbconvert_exporter": "python",
   "pygments_lexer": "ipython3",
   "version": "3.11.11"
  }
 },
 "nbformat": 4,
 "nbformat_minor": 5
}
